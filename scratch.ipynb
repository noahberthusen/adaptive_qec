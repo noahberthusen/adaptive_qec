{
 "cells": [
  {
   "cell_type": "code",
   "execution_count": 1,
   "metadata": {},
   "outputs": [],
   "source": [
    "import numpy as np\n",
    "import matplotlib.pyplot as plt\n",
    "import galois\n",
    "import itertools\n",
    "from classical_code import *\n",
    "from utils import get_logicals\n",
    "import stim\n",
    "from scipy.sparse import lil_matrix\n",
    "from tqdm import tqdm\n",
    "from ldpc import bposd_decoder, bp_decoder\n",
    "# %load_ext snakeviz"
   ]
  },
  {
   "cell_type": "code",
   "execution_count": 2,
   "metadata": {},
   "outputs": [
    {
     "name": "stdout",
     "output_type": "stream",
     "text": [
      "[[0 0 1 0 0 0 0 1 1 0 0 0 0 0 0 1]\n",
      " [0 0 0 1 0 0 0 0 0 0 1 0 1 0 0 1]\n",
      " [1 0 0 1 0 1 0 0 0 0 0 0 1 0 0 0]\n",
      " [1 0 0 0 0 0 1 0 1 0 0 0 0 1 0 0]\n",
      " [0 1 0 0 0 1 0 0 0 1 0 0 0 1 0 0]\n",
      " [0 0 0 0 0 0 1 1 0 0 0 0 1 0 1 0]\n",
      " [0 1 0 0 0 1 0 0 0 1 0 0 0 0 0 1]\n",
      " [0 0 0 0 1 0 0 0 1 0 1 1 0 0 0 0]\n",
      " [0 0 1 1 0 0 1 0 0 1 0 0 0 0 0 0]\n",
      " [1 0 1 0 1 0 0 0 0 0 1 0 0 0 0 0]\n",
      " [0 1 0 0 0 0 0 1 0 0 0 1 0 0 1 0]\n",
      " [0 0 0 0 1 0 0 0 0 0 0 1 0 1 1 0]]\n",
      "4\n"
     ]
    }
   ],
   "source": [
    "GF = galois.GF(2)\n",
    "ccode = read_code(\"./codes/16_12_3_4.code\")\n",
    "H = np.zeros((ccode.m, ccode.n), dtype=int)\n",
    "for i in range(ccode.m):\n",
    "    for j in range(ccode.n):\n",
    "        if (j in ccode.check_nbhd[i]):\n",
    "            H[i][j] = 1\n",
    "dim0, dim1 = H.shape\n",
    "print(H)\n",
    "print(dim1 - np.linalg.matrix_rank(GF(H)))"
   ]
  },
  {
   "cell_type": "code",
   "execution_count": 3,
   "metadata": {},
   "outputs": [
    {
     "name": "stdout",
     "output_type": "stream",
     "text": [
      "(192, 400)\n"
     ]
    },
    {
     "data": {
      "text/plain": [
       "<matplotlib.image.AxesImage at 0x22c264ed670>"
      ]
     },
     "execution_count": 3,
     "metadata": {},
     "output_type": "execute_result"
    },
    {
     "data": {
      "image/png": "[encoded data removed]",
      "text/plain": [
       "<Figure size 1000x480 with 1 Axes>"
      ]
     },
     "metadata": {},
     "output_type": "display_data"
    }
   ],
   "source": [
    "I1 = np.eye(dim1, dtype=int)\n",
    "I0 = np.eye(dim0, dtype=int)\n",
    "\n",
    "dE21 = np.kron(H, I0)\n",
    "dE22 = np.kron(I1, H.T)\n",
    "dE2 = np.vstack([dE21, dE22])\n",
    "Hz = dE2.T\n",
    "\n",
    "dE11 = np.kron(I0, H.T)\n",
    "dE12 = np.kron(H, I1)\n",
    "dE1 = np.hstack([dE11, dE12])\n",
    "Hx = dE1\n",
    "\n",
    "print(Hz.shape)\n",
    "plt.matshow(Hz)"
   ]
  },
  {
   "cell_type": "code",
   "execution_count": 4,
   "metadata": {},
   "outputs": [
    {
     "name": "stdout",
     "output_type": "stream",
     "text": [
      "16\n"
     ]
    }
   ],
   "source": [
    "zL = get_logicals(Hx, Hz, False)\n",
    "xL = get_logicals(Hx, Hz, True)\n",
    "print(len(zL))"
   ]
  },
  {
   "cell_type": "code",
   "execution_count": 5,
   "metadata": {},
   "outputs": [],
   "source": [
    "# iceberg642Xlogicals = np.array([\n",
    "#     [0,1],\n",
    "#     [0,2],\n",
    "#     [0,3],\n",
    "#     [0,4],\n",
    "# ])\n",
    "\n",
    "# iceberg642Zlogicals = np.array([\n",
    "#     [1,5],\n",
    "#     [2,5],\n",
    "#     [3,5],\n",
    "#     [4,5]\n",
    "# ])\n",
    "\n",
    "iceberg642Xlogicals = np.array([\n",
    "    [1,2],\n",
    "    [0,1],\n",
    "    [4,5],\n",
    "    [3,4],\n",
    "])\n",
    "\n",
    "iceberg642Zlogicals = np.array([\n",
    "    [0,1],\n",
    "    [1,2],\n",
    "    [3,4],\n",
    "    [4,5]\n",
    "])\n",
    "\n",
    "\n",
    "iceberg422Xlogicals = np.array([\n",
    "    [0,1],\n",
    "    [0,2]\n",
    "])\n",
    "\n",
    "iceberg422Zlogicals = np.array([\n",
    "    [1,3],\n",
    "    [2,3]\n",
    "])"
   ]
  },
  {
   "cell_type": "code",
   "execution_count": 6,
   "metadata": {},
   "outputs": [
    {
     "name": "stdout",
     "output_type": "stream",
     "text": [
      "(100, 600)\n"
     ]
    },
    {
     "data": {
      "text/plain": [
       "<matplotlib.image.AxesImage at 0x22c2675f220>"
      ]
     },
     "execution_count": 6,
     "metadata": {},
     "output_type": "execute_result"
    },
    {
     "data": {
      "image/png": "[encoded data removed]",
      "text/plain": [
       "<Figure size 1600x266.667 with 1 Axes>"
      ]
     },
     "metadata": {},
     "output_type": "display_data"
    }
   ],
   "source": [
    "n = 6\n",
    "k = n-2\n",
    "icebergX = np.ones(n, dtype=int)\n",
    "icebergZ = np.ones(n, dtype=int)\n",
    "icebergXlogicals = iceberg422Xlogicals if n == 4 else iceberg642Xlogicals\n",
    "icebergZlogicals = iceberg422Zlogicals if n == 4 else iceberg642Zlogicals\n",
    "\n",
    "concatenatedStabilizersQED = np.kron(np.eye(int(np.ceil(Hx.shape[1]/(n-2))), dtype=int), icebergX)\n",
    "print(concatenatedStabilizersQED.shape)\n",
    "plt.matshow(concatenatedStabilizersQED)"
   ]
  },
  {
   "cell_type": "code",
   "execution_count": 7,
   "metadata": {},
   "outputs": [],
   "source": [
    "concatenatedStabilizersXQEC = np.zeros(shape=(Hx.shape[0], concatenatedStabilizersQED.shape[1]), dtype=int)\n",
    "concatenatedStabilizersZQEC = np.zeros(shape=(Hz.shape[0], concatenatedStabilizersQED.shape[1]), dtype=int)\n",
    "\n",
    "for i, r in enumerate(Hx):\n",
    "    for x in np.where(r)[0]:\n",
    "        concatenatedStabilizersXQEC[i][icebergXlogicals[x%k]+(n*(x//k))] ^= 1\n",
    "        # print(x, x%4, x//4, \"|\", icebergXlogicals[x%k]+(n*(x//k))) # x%4 decides which logical, x//4 decides which block\n",
    "    # print()\n",
    "\n",
    "for i, r in enumerate(Hz):\n",
    "    for z in np.where(r)[0]:\n",
    "        concatenatedStabilizersZQEC[i][icebergZlogicals[z%k]+(n*(z//k))] ^= 1\n",
    "    #     print(z, z%4, z//4, \"|\", icebergZlogicals[z%k]+(n*(z//k)))\n",
    "    # print()\n",
    "\n",
    "concatenatedHx = np.vstack([concatenatedStabilizersXQEC, concatenatedStabilizersQED][::-1])\n",
    "concatenatedHz = np.vstack([concatenatedStabilizersZQEC, concatenatedStabilizersQED][::-1])"
   ]
  },
  {
   "cell_type": "code",
   "execution_count": 8,
   "metadata": {},
   "outputs": [],
   "source": [
    "concatenatedxL = np.zeros(shape=(zL.shape[0], concatenatedStabilizersQED.shape[1]), dtype=int)\n",
    "concatenatedzL = np.zeros(shape=(xL.shape[0], concatenatedStabilizersQED.shape[1]), dtype=int)\n",
    "\n",
    "for i, r in enumerate(xL):\n",
    "    for x in np.where(r)[0]:\n",
    "        concatenatedxL[i][icebergXlogicals[x%k]+(n*(x//k))] ^= 1\n",
    "        # print(x, x%4, x//4, \"|\", icebergXlogicals[x%k]+(n*(x//k))) # x%4 decides which logical, x//4 decides which block\n",
    "    # print()\n",
    "\n",
    "# for i, r in enumerate(Hz):\n",
    "#     for z in np.where(r)[0]:\n",
    "#         concatenatedStabilizersZQEC[i][icebergZlogicals[z%k]+(n*(z//k))] ^= 1\n",
    "#     #     print(z, z%4, z//4, \"|\", icebergZlogicals[z%k]+(n*(z//k)))\n",
    "#     # print()"
   ]
  },
  {
   "cell_type": "code",
   "execution_count": 9,
   "metadata": {},
   "outputs": [
    {
     "name": "stdout",
     "output_type": "stream",
     "text": [
      "16\n"
     ]
    }
   ],
   "source": [
    "concatenatedzL = get_logicals(concatenatedHx, concatenatedHz, False)\n",
    "concatenatedxL = get_logicals(concatenatedHx, concatenatedHz, True)\n",
    "print(len(concatenatedxL))"
   ]
  },
  {
   "cell_type": "code",
   "execution_count": 10,
   "metadata": {},
   "outputs": [
    {
     "name": "stdout",
     "output_type": "stream",
     "text": [
      "[216 217 240 241 264 265 336 337 360 361 384 385]\n",
      "[216 218 240 242 264 266 336 338 360 362 384 386]\n",
      "[218 219 242 243 266 267 338 339 362 363 386 387]\n",
      "[219 220 243 244 267 268 339 340 363 364 387 388]\n",
      "[264 265 288 289 312 313 384 385 480 481 504 505]\n",
      "[264 266 288 290 312 314 384 386 480 482 504 506]\n",
      "[264 265 266 267 288 289 290 291 312 313 314 315 384 385 386 387 480 481\n",
      " 482 483 504 505 506 507]\n",
      "[266 268 290 292 314 316 386 388 482 484 506 508]\n",
      "[219 220 240 241 243 244 267 268 312 313 336 337 339 340 363 364 387 388\n",
      " 456 457 504 505 552 553]\n",
      "[240 242 312 314 336 338 456 458 504 506 552 554]\n",
      "[240 241 242 243 312 313 314 315 336 337 338 339 456 457 458 459 504 505\n",
      " 506 507 552 553 554 555]\n",
      "[242 244 314 316 338 340 458 460 506 508 554 556]\n",
      "[264 265 384 385 408 409 432 433 456 457 528 529 552 553 576 577]\n",
      "[264 266 384 386 408 410 432 434 456 458 528 530 552 554 576 578]\n",
      "[264 265 266 267 384 385 386 387 408 409 410 411 432 433 434 435 456 457\n",
      " 458 459 528 529 530 531 552 553 554 555 576 577 578 579]\n",
      "[266 268 386 388 410 412 434 436 458 460 530 532 554 556 578 580]\n"
     ]
    }
   ],
   "source": [
    "for l in concatenatedzL:\n",
    "    print(np.where(l)[0])"
   ]
  },
  {
   "cell_type": "code",
   "execution_count": 11,
   "metadata": {},
   "outputs": [
    {
     "name": "stdout",
     "output_type": "stream",
     "text": [
      "(292, 600)\n"
     ]
    },
    {
     "data": {
      "text/plain": [
       "<matplotlib.image.AxesImage at 0x22c265f8e20>"
      ]
     },
     "execution_count": 11,
     "metadata": {},
     "output_type": "execute_result"
    },
    {
     "data": {
      "image/png": "[encoded data removed]",
      "text/plain": [
       "<Figure size 640x480 with 1 Axes>"
      ]
     },
     "metadata": {},
     "output_type": "display_data"
    }
   ],
   "source": [
    "print(concatenatedHx.shape)\n",
    "plt.imshow(concatenatedHz)"
   ]
  },
  {
   "cell_type": "code",
   "execution_count": 12,
   "metadata": {},
   "outputs": [],
   "source": [
    "overlapping_x_generators = np.empty(concatenatedStabilizersQED.shape[0], dtype=object)\n",
    "for i in range(concatenatedStabilizersQED.shape[0]):\n",
    "    tmp = np.array([], dtype=int)\n",
    "    for j in range(concatenatedStabilizersXQEC.shape[0]):\n",
    "        if np.any(concatenatedStabilizersQED[i] & concatenatedStabilizersXQEC[j]): tmp = np.append(tmp, j+concatenatedStabilizersQED.shape[0])\n",
    "    overlapping_x_generators[i] = tmp\n",
    "\n",
    "overlapping_z_generators = np.empty(concatenatedStabilizersQED.shape[0], dtype=object)\n",
    "for i in range(concatenatedStabilizersQED.shape[0]):\n",
    "    tmp = np.array([], dtype=int)\n",
    "    for j in range(concatenatedStabilizersZQEC.shape[0]):\n",
    "        if np.any(concatenatedStabilizersQED[i] & concatenatedStabilizersZQEC[j]): tmp = np.append(tmp, j+concatenatedStabilizersQED.shape[0])\n",
    "    overlapping_z_generators[i] = tmp\n",
    "\n",
    "def get_overlapping(measurements, gen_type=False):\n",
    "    overlapping_generators = overlapping_x_generators if gen_type else overlapping_z_generators\n",
    "    gens_to_measure = set()\n",
    "    for g in np.where(measurements)[0]:\n",
    "        gens_to_measure |= set(overlapping_generators[g])\n",
    "    return list(gens_to_measure)"
   ]
  },
  {
   "cell_type": "code",
   "execution_count": 13,
   "metadata": {},
   "outputs": [],
   "source": [
    "def to_mtx(H):\n",
    "    print(\"%%MatrixMarket matrix coordinate integer general\\n\")\n",
    "    print(f\"{H.shape[0]} {H.shape[1]} {np.count_nonzero(H)}\")\n",
    "\n",
    "    for i in range(H.shape[0]):\n",
    "        for j in range(H.shape[1]):\n",
    "            if H[i][j]:\n",
    "                print(f\"{i+1} {j+1} 1\")\n",
    "# to_mtx(concatenatedHx)"
   ]
  },
  {
   "cell_type": "code",
   "execution_count": 332,
   "metadata": {},
   "outputs": [],
   "source": [
    "cm, cn = concatenatedHx.shape\n",
    "qedm, qedn = concatenatedStabilizersQED.shape\n",
    "qecm, qecn = concatenatedStabilizersXQEC.shape\n",
    "data_qbts = np.arange(cn)\n",
    "x_checks = np.arange(cn,cn+cm)\n",
    "z_checks = np.arange(cn+cm,cn+cm+cm)\n",
    "all_qbts = np.arange(cn+cm+cm)\n",
    "\n",
    "precomputed_x_checks_circuits = np.empty(cm, dtype=object)\n",
    "for x in np.arange(cm):\n",
    "    c = stim.Circuit()\n",
    "    gen_qbts = data_qbts[np.where(concatenatedHx[x])[0]]\n",
    "    for qbt in gen_qbts:\n",
    "        path_qbts = [x_checks[x], qbt]\n",
    "        c.append(\"CNOT\", path_qbts)\n",
    "        c.append(\"DEPOLARIZE2\", path_qbts, 1.3e-3)\n",
    "    precomputed_x_checks_circuits[x] = c\n",
    "\n",
    "def prepare_x_checks(checks):\n",
    "    c = stim.Circuit()\n",
    "    if len(checks) == 0: return c\n",
    "    c.append(\"H\", [x_checks[x_check] for x_check in checks])\n",
    "    c.append(\"DEPOLARIZE1\", [x_checks[x_check] for x_check in checks], 1e-5)\n",
    "    for x in checks:\n",
    "        c += precomputed_x_checks_circuits[x]\n",
    "    c.append(\"H\", [x_checks[x_check] for x_check in checks])\n",
    "    c.append(\"DEPOLARIZE1\", [x_checks[x_check] for x_check in checks], 1e-5)\n",
    "    return c\n",
    "\n",
    "precomputed_z_checks_circuits = np.empty(cm, dtype=object)\n",
    "for z in np.arange(cm):\n",
    "    c = stim.Circuit()\n",
    "    gen_qbts = data_qbts[np.where(concatenatedHz[z])[0]]\n",
    "    for qbt in gen_qbts:\n",
    "        path_qbts = [qbt, z_checks[z]]\n",
    "        c.append(\"CNOT\", path_qbts)\n",
    "        c.append(\"DEPOLARIZE2\", path_qbts, 1.3e-3)\n",
    "    precomputed_z_checks_circuits[z] = c\n",
    "\n",
    "def prepare_z_checks(checks):\n",
    "    c = stim.Circuit()\n",
    "    if len(checks) == 0: return c\n",
    "    for z in checks:\n",
    "        c += precomputed_z_checks_circuits[z]\n",
    "    return c"
   ]
  },
  {
   "cell_type": "code",
   "execution_count": 363,
   "metadata": {},
   "outputs": [],
   "source": [
    "class Simulation:\n",
    "    def __init__(self, num_rounds, stab_type):\n",
    "        self.num_rounds = num_rounds\n",
    "        self.stab_type = stab_type\n",
    "\n",
    "        self.prev_meas_z = np.zeros(cm, dtype=int)\n",
    "        self.prev_meas_x = np.zeros(cm, dtype=int)\n",
    "        self.curr_meas_z = np.zeros(cm, dtype=int)\n",
    "        self.curr_meas_x = np.zeros(cm, dtype=int)\n",
    "\n",
    "        self.confirmation_z = np.ones(cm, dtype=int)\n",
    "        self.confirmation_x = np.ones(cm, dtype=int)\n",
    "        self.z_check_history = np.ones(cm, dtype=int)\n",
    "        self.x_check_history = np.ones(cm, dtype=int)\n",
    "        self.z_syndrome_history = np.zeros(shape=(num_rounds+1, cm), dtype=int)\n",
    "        self.x_syndrome_history = np.zeros(shape=(num_rounds+1, cm), dtype=int)\n",
    "\n",
    "        self.c = stim.Circuit()\n",
    "        self.c.append(\"M\", 0) # hacky way to make detectors that aren't affected by anything\n",
    "        self.s = stim.TableauSimulator()\n",
    "\n",
    "        if self.stab_type:\n",
    "            self.c.append(\"H\", [qbt for qbt in data_qbts])\n",
    "            self.c += prepare_z_checks(np.arange(cm)).without_noise()\n",
    "            # self.c.append(\"X_ERROR\", z_checks, 2e-3)\n",
    "            for i, z_check in enumerate(np.arange(cm)):\n",
    "                self.c.append(\"MR\", z_checks[z_check])\n",
    "                self.prev_meas_z[z_check] = self.c.num_measurements\n",
    "            # self.c.append(\"X_ERROR\", z_checks, 1e-4)\n",
    "        else:\n",
    "            self.c += prepare_x_checks(np.arange(cm)).without_noise()\n",
    "            # self.c.append(\"X_ERROR\", x_checks, 2e-3)\n",
    "            for i, x_check in enumerate(np.arange(cm)):\n",
    "                self.c.append(\"MR\", x_checks[x_check])\n",
    "                self.prev_meas_x[x_check] = self.c.num_measurements\n",
    "            # self.c.append(\"X_ERROR\", x_checks, 1e-4)\n",
    "\n",
    "        self.s.do_circuit(self.c)\n",
    "        if self.stab_type:\n",
    "            self.z_syndrome_history[0] = self.s.current_measurement_record()[1:]\n",
    "        else:\n",
    "            self.x_syndrome_history[0] = self.s.current_measurement_record()[1:]\n",
    "\n",
    "\n",
    "    def detectors(self, stab_type):\n",
    "        num_meas = self.c.num_measurements\n",
    "        prev_meas = self.prev_meas_x if stab_type else self.prev_meas_z\n",
    "        curr_meas = self.curr_meas_x if stab_type else self.curr_meas_z\n",
    "\n",
    "        for i, check in enumerate(np.arange(cm)):\n",
    "            if not prev_meas[i]:\n",
    "                self.c.append(\"DETECTOR\", [stim.target_rec(curr_meas[i]-num_meas-1) if curr_meas[i] else stim.target_rec(-num_meas)])\n",
    "            # else:\n",
    "            #     self.c.append(\"DETECTOR\", [stim.target_rec(curr_meas[i]-num_meas-1), stim.target_rec(prev_meas[i]-num_meas-1)])\n",
    "            prev_meas[i] = curr_meas[i]\n",
    "            curr_meas[i] = 0\n",
    "\n",
    "        # for i, check in enumerate(curr_meas):\n",
    "        #     if check:\n",
    "        #         if not prev_meas[i]:\n",
    "        #             self.c.append(\"DETECTOR\", [stim.target_rec(curr_meas[i]-num_meas-1)])\n",
    "        #         else:\n",
    "        #             self.c.append(\"DETECTOR\", [stim.target_rec(curr_meas[i]-num_meas-1), stim.target_rec(prev_meas[i]-num_meas-1)])\n",
    "        #         prev_meas[i] = curr_meas[i]\n",
    "        #         curr_meas[i] = 0\n",
    "\n",
    "        if stab_type:\n",
    "            self.prev_meas_x = prev_meas\n",
    "            self.curr_meas_x = curr_meas\n",
    "        else:\n",
    "            self.prev_meas_z = prev_meas\n",
    "            self.curr_meas_z = curr_meas\n",
    "\n",
    "    def final_detectors_and_observables(self, stab_type):\n",
    "        c = stim.Circuit()\n",
    "\n",
    "        if self.stab_type: self.c.append(\"H\", [qbt for qbt in data_qbts])\n",
    "        # self.c.append(\"X_ERROR\", [qbt for qbt in data_qbts], 2e-3)\n",
    "        c.append(\"M\", data_qbts)\n",
    "\n",
    "        num_meas = self.c.num_measurements + c.num_measurements\n",
    "        H = concatenatedHx if stab_type else concatenatedHz\n",
    "        prev_meas = self.prev_meas_x if stab_type else self.prev_meas_z\n",
    "        for i in range(H.shape[0]):\n",
    "            incl_qbts = np.where(H[i])[0]\n",
    "            incl_qbts = [j-cn for j in incl_qbts]\n",
    "            target_recs = [stim.target_rec(j) for j in incl_qbts]\n",
    "\n",
    "            if prev_meas[i]:\n",
    "                target_recs.append(stim.target_rec(prev_meas[i]-num_meas-1))\n",
    "            c.append(\"DETECTOR\", target_recs)\n",
    "\n",
    "\n",
    "        for i, logical in enumerate(concatenatedxL if stab_type else concatenatedzL):\n",
    "            incl_qbts = np.where(logical)[0]\n",
    "            incl_qbts = [j-cn for j in incl_qbts]\n",
    "            c.append(\"OBSERVABLE_INCLUDE\", [stim.target_rec(j) for j in incl_qbts], i)\n",
    "        return c\n",
    "\n",
    "    def QED(self):\n",
    "        def measure_z_qed_checks(c):\n",
    "            c += prepare_z_checks(np.arange(qedm))\n",
    "            c.append(\"X_ERROR\", [z_checks[z_check] for z_check in np.arange(qedm)], 2e-3)\n",
    "            for i, z_check in enumerate(np.arange(qedm)):\n",
    "                c.append(\"MR\", z_checks[z_check])\n",
    "                self.curr_meas_z[z_check] = self.c.num_measurements + c.num_measurements\n",
    "            c.append(\"X_ERROR\", [z_checks[z_check] for z_check in np.arange(qedm)], 1e-4)\n",
    "            return c\n",
    "\n",
    "        def measure_x_qed_checks(c):\n",
    "            c += prepare_x_checks(np.arange(qedm))\n",
    "            c.append(\"X_ERROR\", [x_checks[x_check] for x_check in np.arange(qedm)], 2e-3)\n",
    "            for i, x_check in enumerate(np.arange(qedm)):\n",
    "                c.append(\"MR\", x_checks[x_check])\n",
    "                self.curr_meas_x[x_check] = self.c.num_measurements + c.num_measurements\n",
    "            c.append(\"X_ERROR\", [x_checks[x_check] for x_check in np.arange(qedm)], 1e-4)\n",
    "            return c\n",
    "\n",
    "        c = stim.Circuit()\n",
    "        if self.stab_type:\n",
    "            c = measure_x_qed_checks(c)\n",
    "            c = measure_z_qed_checks(c)\n",
    "        else:\n",
    "            c = measure_z_qed_checks(c)\n",
    "            c = measure_x_qed_checks(c)\n",
    "        return c\n",
    "\n",
    "    def QEC(self):\n",
    "        def measure_z_qec_checks(c, curr_z_checks):\n",
    "            c += prepare_z_checks(curr_z_checks)\n",
    "            c.append(\"X_ERROR\", [z_checks[z_check] for z_check in curr_z_checks], 2e-3)\n",
    "            for i, z_check in enumerate(curr_z_checks):\n",
    "                c.append(\"MR\", z_checks[z_check])\n",
    "                self.curr_meas_z[z_check] = self.c.num_measurements + c.num_measurements\n",
    "            # # for i, z_check in enumerate(np.arange(qedm, cm)):  # no idea why this causes errors to appear\n",
    "            # #     c.append(\"R\", z_check)\n",
    "            c.append(\"X_ERROR\", z_checks, 1e-4)\n",
    "            return c\n",
    "\n",
    "        def measure_x_qec_checks(c, curr_x_checks):\n",
    "            c += prepare_x_checks(curr_x_checks)\n",
    "            c.append(\"X_ERROR\", [x_checks[x_check] for x_check in curr_x_checks], 2e-3)\n",
    "            for i, x_check in enumerate(curr_x_checks):\n",
    "                c.append(\"MR\", x_checks[x_check])\n",
    "                self.curr_meas_x[x_check] = self.c.num_measurements + c.num_measurements\n",
    "            # # for i, x_check in enumerate(np.arange(qedm, cm)):\n",
    "            # #     c.append(\"R\", x_check)\n",
    "            c.append(\"X_ERROR\", x_checks, 1e-4)\n",
    "            return c\n",
    "\n",
    "        curr_z_checks = np.arange(qedm, cm)[self.confirmation_z[qedm:]==1]\n",
    "        curr_x_checks = np.arange(qedm, cm)[self.confirmation_x[qedm:]==1]\n",
    "\n",
    "        c = stim.Circuit()\n",
    "        if self.stab_type:\n",
    "            c = measure_x_qec_checks(c, curr_x_checks)\n",
    "            c = measure_z_qec_checks(c, curr_z_checks)\n",
    "        else:\n",
    "            c = measure_z_qec_checks(c, curr_z_checks)\n",
    "            c = measure_x_qec_checks(c, curr_x_checks)\n",
    "        return c\n",
    "\n",
    "    def simulate(self):\n",
    "        self.s.x(265)\n",
    "        for i in range(1, self.num_rounds+1):\n",
    "            self.c.append(\"X_ERROR\", data_qbts, 0.000001)  # idle errors\n",
    "            # self.s.x_error(*data_qbts, p=0.01)\n",
    "\n",
    "            self.z_syndrome_history[i] = self.z_syndrome_history[i-1]\n",
    "            self.x_syndrome_history[i] = self.x_syndrome_history[i-1]\n",
    "\n",
    "            QED_circuit = self.QED()\n",
    "            self.s.do_circuit(QED_circuit)\n",
    "            self.c += QED_circuit\n",
    "\n",
    "            # determining which of the QEC stabilizers to measure\n",
    "            meas = self.s.current_measurement_record()\n",
    "            self.z_syndrome_history[i][:qedm] = meas[-(2*qedm):-qedm]\n",
    "            self.x_syndrome_history[i][:qedm] = meas[-qedm:]\n",
    "\n",
    "            z_qed_synd_diff = self.z_syndrome_history[i-1][:qedm] ^ self.z_syndrome_history[i][:qedm]\n",
    "            x_qed_synd_diff = self.x_syndrome_history[i-1][:qedm] ^ self.x_syndrome_history[i][:qedm]\n",
    "\n",
    "            curr_z_checks = get_overlapping(z_qed_synd_diff, False)\n",
    "            curr_x_checks = get_overlapping(x_qed_synd_diff, True)\n",
    "            print(i, np.where(z_qed_synd_diff)[0], curr_z_checks)\n",
    "            # print(curr_x_checks)\n",
    "\n",
    "            self.confirmation_z = np.array([1 if ((z < qedm) or (z in curr_z_checks)) else 0 for z in np.arange(cm)])\n",
    "            self.confirmation_x = np.array([1 if ((x < qedm) or (z in curr_x_checks)) else 0 for x in np.arange(cm)])\n",
    "            self.z_check_history = np.vstack([self.z_check_history, self.confirmation_z])\n",
    "            self.x_check_history = np.vstack([self.x_check_history, self.confirmation_x])\n",
    "\n",
    "            QEC_circuit = self.QEC()\n",
    "            self.s.do_circuit(QEC_circuit)\n",
    "            self.c += QEC_circuit\n",
    "\n",
    "            meas = self.s.current_measurement_record()\n",
    "            lookback = lambda x: -len(x) if len(x) else None\n",
    "\n",
    "            if len(curr_z_checks): self.z_syndrome_history[i][sorted(curr_z_checks)] = meas[lookback(curr_z_checks+curr_x_checks):lookback(curr_x_checks)]\n",
    "            if len(curr_x_checks): self.x_syndrome_history[i][sorted(curr_x_checks)] = meas[lookback(curr_x_checks):]\n",
    "\n",
    "            self.detectors(self.stab_type)\n",
    "\n",
    "        obs_circuit = self.final_detectors_and_observables(self.stab_type)\n",
    "        self.s.do_circuit(obs_circuit)\n",
    "        self.c += obs_circuit"
   ]
  },
  {
   "cell_type": "code",
   "execution_count": 364,
   "metadata": {},
   "outputs": [
    {
     "name": "stdout",
     "output_type": "stream",
     "text": [
      "1 [27 44] [128, 130, 132, 133, 134, 148, 149, 150, 151, 220, 221, 222, 223, 100, 101, 102, 103, 124, 125, 126, 127]\n"
     ]
    }
   ],
   "source": [
    "s = Simulation(1, False)\n",
    "s.simulate()\n",
    "c = s.c"
   ]
  },
  {
   "cell_type": "code",
   "execution_count": 365,
   "metadata": {},
   "outputs": [
    {
     "data": {
      "text/plain": [
       "[1, 0, 0, 0, 1, 0, 1, 0, 0, 0, 0, 0, 1, 0, 1, 0]"
      ]
     },
     "execution_count": 365,
     "metadata": {},
     "output_type": "execute_result"
    }
   ],
   "source": [
    "xL_inds = [np.where(x)[0] for x in concatenatedxL]\n",
    "zL_inds = [np.where(z)[0] for z in concatenatedzL]\n",
    "\n",
    "data_qbts_meas = np.array(s.s.current_measurement_record()[-cn:])\n",
    "observable = []\n",
    "for l in zL_inds:\n",
    "    qbts = data_qbts_meas[l]\n",
    "    observable.append(np.count_nonzero(qbts) % 2)\n",
    "observable"
   ]
  },
  {
   "cell_type": "code",
   "execution_count": 366,
   "metadata": {},
   "outputs": [],
   "source": [
    "final_synd = []\n",
    "for j in range(concatenatedHz.shape[0]):\n",
    "    qbts = data_qbts_meas[np.where(concatenatedHz[j])[0]]\n",
    "    final_synd.append(np.count_nonzero(qbts) % 2)\n",
    "s.z_syndrome_history = np.vstack([s.z_syndrome_history, final_synd])\n",
    "final_synd = []\n",
    "for j in range(concatenatedHx.shape[0]):\n",
    "    qbts = data_qbts_meas[np.where(concatenatedHx[j])[0]]\n",
    "    final_synd.append(np.count_nonzero(qbts) % 2)\n",
    "s.x_syndrome_history = np.vstack([s.x_syndrome_history, final_synd])"
   ]
  },
  {
   "cell_type": "code",
   "execution_count": 367,
   "metadata": {},
   "outputs": [
    {
     "data": {
      "text/plain": [
       "array([[0, 0, 0, 0, 0, 0, 0, 0, 0, 0, 0, 0, 0, 0, 0, 0, 0, 0, 0, 0, 0, 0,\n",
       "        0, 0, 0, 0, 0, 0, 0, 0, 0, 0, 0, 0, 0, 0, 0, 0, 0, 0, 0, 0, 0, 0,\n",
       "        0, 0, 0, 0, 0, 0, 0, 0, 0, 0, 0, 0, 0, 0, 0, 0, 0, 0, 0, 0, 0, 0,\n",
       "        0, 0, 0, 0, 0, 0, 0, 0, 0, 0, 0, 0, 0, 0, 0, 0, 0, 0, 0, 0, 0, 0,\n",
       "        0, 0, 0, 0, 0, 0, 0, 0, 0, 0, 0, 0, 0, 0, 0, 0, 0, 0, 0, 0, 0, 0,\n",
       "        0, 0, 0, 0, 0, 0, 0, 0, 0, 0, 0, 0, 0, 0, 0, 0, 0, 0, 0, 0, 0, 0,\n",
       "        0, 0, 0, 0, 0, 0, 0, 0, 0, 0, 0, 0, 0, 0, 0, 0, 0, 0, 0, 0, 0, 0,\n",
       "        0, 0, 0, 0, 0, 0, 0, 0, 0, 0, 0, 0, 0, 0, 0, 0, 0, 0, 0, 0, 0, 0,\n",
       "        0, 0, 0, 0, 0, 0, 0, 0, 0, 0, 0, 0, 0, 0, 0, 0, 0, 0, 0, 0, 0, 0,\n",
       "        0, 0, 0, 0, 0, 0, 0, 0, 0, 0, 0, 0, 0, 0, 0, 0, 0, 0, 0, 0, 0, 0,\n",
       "        0, 0, 0, 0, 0, 0, 0, 0, 0, 0, 0, 0, 0, 0, 0, 0, 0, 0, 0, 0, 0, 0,\n",
       "        0, 0, 0, 0, 0, 0, 0, 0, 0, 0, 0, 0, 0, 0, 0, 0, 0, 0, 0, 0, 0, 0,\n",
       "        0, 0, 0, 0, 0, 0, 0, 0, 0, 0, 0, 0, 0, 0, 0, 0, 0, 0, 0, 0, 0, 0,\n",
       "        0, 0, 0, 0, 0, 0],\n",
       "       [0, 0, 0, 0, 0, 0, 0, 0, 0, 0, 0, 0, 0, 0, 0, 0, 0, 0, 0, 0, 0, 0,\n",
       "        0, 0, 0, 0, 0, 1, 0, 0, 0, 0, 0, 0, 0, 0, 0, 0, 0, 0, 0, 0, 0, 0,\n",
       "        1, 0, 0, 0, 0, 0, 0, 0, 0, 0, 0, 0, 0, 0, 0, 0, 0, 0, 0, 0, 0, 0,\n",
       "        0, 0, 0, 0, 0, 0, 0, 0, 0, 0, 0, 0, 0, 0, 0, 0, 0, 0, 0, 0, 0, 0,\n",
       "        0, 0, 0, 0, 0, 0, 0, 0, 0, 0, 0, 0, 1, 1, 1, 0, 0, 0, 0, 0, 0, 0,\n",
       "        0, 0, 0, 0, 0, 0, 0, 0, 0, 0, 0, 0, 0, 0, 1, 0, 0, 0, 1, 0, 0, 0,\n",
       "        0, 1, 0, 0, 0, 0, 0, 0, 0, 0, 0, 0, 0, 0, 0, 0, 1, 1, 0, 1, 0, 0,\n",
       "        0, 0, 0, 0, 0, 0, 0, 0, 0, 0, 0, 0, 0, 0, 0, 0, 0, 0, 0, 0, 0, 0,\n",
       "        0, 0, 0, 0, 0, 0, 0, 0, 0, 0, 0, 0, 0, 0, 0, 0, 0, 0, 0, 0, 0, 0,\n",
       "        0, 0, 0, 0, 0, 0, 0, 0, 0, 0, 0, 0, 0, 0, 0, 0, 0, 0, 0, 0, 0, 0,\n",
       "        1, 1, 0, 1, 0, 0, 0, 0, 0, 0, 0, 0, 0, 0, 0, 0, 0, 0, 0, 0, 0, 0,\n",
       "        0, 0, 0, 0, 0, 0, 0, 0, 0, 0, 0, 0, 0, 0, 0, 0, 0, 0, 0, 0, 0, 0,\n",
       "        0, 0, 0, 0, 0, 0, 0, 0, 0, 0, 0, 0, 0, 0, 0, 0, 0, 0, 0, 0, 0, 0,\n",
       "        0, 0, 0, 0, 0, 0],\n",
       "       [0, 0, 0, 0, 0, 0, 0, 0, 0, 0, 0, 0, 0, 0, 0, 0, 0, 0, 0, 0, 0, 0,\n",
       "        0, 0, 0, 0, 0, 1, 0, 0, 0, 0, 0, 0, 0, 0, 0, 0, 0, 0, 0, 0, 0, 0,\n",
       "        1, 0, 0, 0, 0, 0, 0, 0, 0, 0, 0, 0, 0, 0, 0, 0, 0, 0, 0, 0, 0, 0,\n",
       "        1, 0, 0, 0, 0, 0, 0, 0, 0, 0, 0, 0, 0, 0, 0, 0, 0, 0, 0, 0, 0, 0,\n",
       "        0, 0, 0, 0, 0, 0, 0, 0, 0, 0, 0, 0, 0, 0, 1, 1, 0, 0, 0, 0, 0, 0,\n",
       "        0, 0, 0, 0, 0, 0, 0, 0, 0, 0, 0, 0, 0, 0, 0, 0, 0, 0, 1, 0, 1, 0,\n",
       "        0, 1, 1, 0, 0, 0, 0, 0, 0, 0, 0, 0, 0, 0, 0, 0, 0, 0, 1, 1, 0, 0,\n",
       "        0, 0, 0, 0, 0, 0, 0, 0, 0, 0, 0, 0, 0, 0, 0, 0, 0, 0, 0, 0, 0, 0,\n",
       "        0, 0, 0, 0, 0, 0, 0, 0, 0, 0, 0, 0, 1, 0, 1, 0, 1, 0, 0, 0, 0, 0,\n",
       "        0, 0, 0, 0, 0, 0, 0, 0, 0, 0, 0, 0, 0, 0, 0, 0, 0, 0, 0, 0, 0, 0,\n",
       "        0, 0, 1, 1, 0, 0, 0, 0, 0, 0, 0, 0, 0, 0, 0, 0, 0, 0, 0, 0, 0, 0,\n",
       "        0, 0, 0, 0, 0, 0, 0, 0, 0, 0, 0, 0, 0, 0, 0, 0, 0, 0, 0, 0, 0, 0,\n",
       "        0, 0, 0, 0, 0, 0, 0, 0, 0, 0, 0, 0, 0, 0, 0, 0, 0, 0, 0, 0, 0, 0,\n",
       "        0, 0, 0, 0, 0, 0]])"
      ]
     },
     "execution_count": 367,
     "metadata": {},
     "output_type": "execute_result"
    }
   ],
   "source": [
    "s.z_syndrome_history"
   ]
  },
  {
   "cell_type": "code",
   "execution_count": 368,
   "metadata": {},
   "outputs": [
    {
     "data": {
      "text/plain": [
       "1114"
      ]
     },
     "execution_count": 368,
     "metadata": {},
     "output_type": "execute_result"
    }
   ],
   "source": [
    "len(s.s.current_measurement_record())"
   ]
  },
  {
   "cell_type": "code",
   "execution_count": 369,
   "metadata": {},
   "outputs": [],
   "source": [
    " # building and decoding circuit-level Tanner graph\n",
    "dem = c.detector_error_model()\n",
    "pcm = lil_matrix((dem.num_detectors, dem.num_errors), dtype=int)\n",
    "lcm = lil_matrix((dem.num_observables, dem.num_errors), dtype=int)\n",
    "\n",
    "channel_probs = [e.args_copy()[0] for e in dem if e.type==\"error\"]\n",
    "for i, error_event in enumerate(c.explain_detector_error_model_errors()):\n",
    "    _dets = [det.dem_target.val for det in error_event.dem_error_terms if det.dem_target.is_relative_detector_id()]\n",
    "    _obs = [ob.dem_target.val for ob in error_event.dem_error_terms if ob.dem_target.is_logical_observable_id()]\n",
    "    pcm[[_dets],i] = 1\n",
    "    lcm[[_obs],i] = 1"
   ]
  },
  {
   "cell_type": "code",
   "execution_count": 370,
   "metadata": {},
   "outputs": [],
   "source": [
    "dets = np.zeros((len(s.z_syndrome_history)-1, cm), dtype=int)\n",
    "for i in range(dets.shape[0]):\n",
    "    dets[i] = s.z_syndrome_history[i] ^ s.z_syndrome_history[i+1]\n",
    "dets = dets.flatten()"
   ]
  },
  {
   "cell_type": "code",
   "execution_count": 371,
   "metadata": {},
   "outputs": [],
   "source": [
    "bposd_dec = bposd_decoder(\n",
    "    pcm, # the parity check matrix\n",
    "    channel_probs=channel_probs, #assign error_rate to each qubit. This will override \"error_rate\" input variable\n",
    "    max_iter=100, #concatenatedHz.shape[1], #the maximum number of iterations for BP)\n",
    "    bp_method=\"ms\",\n",
    "    ms_scaling_factor=0, #min sum scaling factor. If set to zero the variable scaling factor method is used\n",
    "    osd_method=\"osd0\", #the OSD method. Choose from:  1) \"osd_e\", \"osd_cs\", \"osd0\"\n",
    "    # osd_order=min(Hz.shape[0],10) #the osd search depth\n",
    ")"
   ]
  },
  {
   "cell_type": "code",
   "execution_count": 372,
   "metadata": {},
   "outputs": [
    {
     "name": "stdout",
     "output_type": "stream",
     "text": [
      "[0 0 0 ... 0 0 0]\n"
     ]
    }
   ],
   "source": [
    "guess = bposd_dec.decode(dets)\n",
    "print(guess)"
   ]
  },
  {
   "cell_type": "code",
   "execution_count": 373,
   "metadata": {},
   "outputs": [
    {
     "data": {
      "text/plain": [
       "array([1, 0, 0, 0, 1, 0, 1, 0, 0, 0, 0, 0, 1, 0, 1, 0], dtype=int32)"
      ]
     },
     "execution_count": 373,
     "metadata": {},
     "output_type": "execute_result"
    }
   ],
   "source": [
    "(lcm @ guess) % 2"
   ]
  },
  {
   "cell_type": "code",
   "execution_count": 374,
   "metadata": {},
   "outputs": [
    {
     "data": {
      "text/plain": [
       "[1, 0, 0, 0, 1, 0, 1, 0, 0, 0, 0, 0, 1, 0, 1, 0]"
      ]
     },
     "execution_count": 374,
     "metadata": {},
     "output_type": "execute_result"
    }
   ],
   "source": [
    "observable"
   ]
  },
  {
   "cell_type": "code",
   "execution_count": null,
   "metadata": {},
   "outputs": [],
   "source": []
  },
  {
   "cell_type": "code",
   "execution_count": null,
   "metadata": {},
   "outputs": [],
   "source": []
  },
  {
   "cell_type": "code",
   "execution_count": 387,
   "metadata": {},
   "outputs": [],
   "source": [
    "# %%snakeviz\n",
    "# not circuit-level decoding, but still circuit-level simulation\n",
    "def QED():\n",
    "    c = stim.Circuit()\n",
    "    c += prepare_z_checks(np.arange(qedm))\n",
    "    c += prepare_x_checks(np.arange(qedm))\n",
    "\n",
    "    c.append(\"X_ERROR\", [z_checks[z_check] for z_check in np.arange(qedm)], 2e-3)\n",
    "    c.append(\"X_ERROR\", [x_checks[x_check] for x_check in np.arange(qedm)], 2e-3)\n",
    "\n",
    "    c.append(\"MR\", [z_checks[z_check] for z_check in np.arange(qedm)])\n",
    "    c.append(\"MR\", [x_checks[x_check] for x_check in np.arange(qedm)])\n",
    "\n",
    "    c.append(\"X_ERROR\", [z_checks[z_check] for z_check in np.arange(qedm)], 1e-4)\n",
    "    c.append(\"X_ERROR\", [x_checks[x_check] for x_check in np.arange(qedm)], 1e-4)\n",
    "\n",
    "    return c\n",
    "\n",
    "def QEC(curr_z_gens, curr_x_gens):\n",
    "    c = stim.Circuit()\n",
    "    c += prepare_z_checks(curr_z_gens)\n",
    "    c += prepare_x_checks(curr_x_gens)\n",
    "\n",
    "    c.append(\"X_ERROR\", [z_checks[z_check] for z_check in curr_z_gens], 2e-3)\n",
    "    c.append(\"X_ERROR\", [x_checks[x_check] for x_check in curr_x_gens], 2e-3)\n",
    "\n",
    "    c.append(\"MR\", [z_checks[z_check] for z_check in curr_z_gens])\n",
    "    c.append(\"MR\", [x_checks[x_check] for x_check in curr_x_gens])\n",
    "\n",
    "    c.append(\"X_ERROR\", [z_checks[z_check] for z_check in curr_z_gens], 1e-4)\n",
    "    c.append(\"X_ERROR\", [x_checks[x_check] for x_check in curr_x_gens], 1e-4)\n",
    "\n",
    "    return c\n",
    "\n",
    "def observables(stab_type):\n",
    "    c = stim.Circuit()\n",
    "    if stab_type: c.append(\"MX\", data_qbts)\n",
    "    else: c.append(\"M\", data_qbts)\n",
    "    return c\n",
    "\n",
    "\n",
    "def get_overlapping(measurements, gen_type=False):\n",
    "    overlapping_generators = overlapping_x_generators if gen_type else overlapping_z_generators\n",
    "    gens_to_measure = set()\n",
    "    for g in np.where(measurements)[0]:\n",
    "        gens_to_measure |= set(overlapping_generators[g])\n",
    "    return list(gens_to_measure)\n",
    "\n",
    "\n",
    "\n",
    "bposd_dec = bposd_decoder(\n",
    "    concatenatedHz, # the parity check matrix\n",
    "    error_rate=1e-3,\n",
    "    # channel_probs=channel_probs, #assign error_rate to each qubit. This will override \"error_rate\" input variable\n",
    "    max_iter=1000, #concatenatedHz.shape[1], #the maximum number of iterations for BP)\n",
    "    bp_method=\"ms\",\n",
    "    ms_scaling_factor=0, #min sum scaling factor. If set to zero the variable scaling factor method is used\n",
    "    osd_method=\"osd0\", #the OSD method. Choose from:  1) \"osd_e\", \"osd_cs\", \"osd0\"\n",
    "#     osd_order=min(concatenatedHz.shape[0],10) #the osd search depth\n",
    ")\n",
    "\n",
    "###########################\n",
    "\n",
    "num_rounds = 1\n",
    "\n",
    "x_corrections = np.zeros(cn, dtype=int)\n",
    "z_corrections = np.zeros(cn, dtype=int)\n",
    "\n",
    "all_x_synds = np.zeros(shape=(num_rounds+1, cm), dtype=int)\n",
    "all_z_synds = np.zeros(shape=(num_rounds+1, cm), dtype=int)\n",
    "\n",
    "QED_circuit = QED()\n",
    "\n",
    "# initialization in the Z basis\n",
    "c = stim.Circuit()\n",
    "s = stim.TableauSimulator()\n",
    "\n",
    "c += prepare_x_checks(np.arange(cm))\n",
    "# c.append(\"X_ERROR\", x_checks, 2e-3)\n",
    "for i, x_check in enumerate(np.arange(cm)):\n",
    "    c.append(\"MR\", x_checks[x_check])\n",
    "# c.append(\"X_ERROR\", x_checks, 1e-4)\n",
    "\n",
    "s.do_circuit(c)\n",
    "all_x_synds[0] = s.current_measurement_record()\n",
    "\n",
    "error_c = stim.Circuit()\n",
    "error_c.append(\"X_ERROR\", data_qbts, 0.001)\n",
    "\n",
    "for i in range(1,num_rounds+1):\n",
    "\n",
    "    all_z_synds[i] = all_z_synds[i-1]\n",
    "    all_x_synds[i] = all_x_synds[i-1]\n",
    "\n",
    "    s.do_circuit(QED_circuit)\n",
    "    c += QED_circuit\n",
    "    meas = s.current_measurement_record()\n",
    "\n",
    "    all_z_synds[i][:qedm] = meas[-(2*qedm):-qedm]\n",
    "    all_x_synds[i][:qedm] = meas[-qedm:]\n",
    "    z_qed_synd_diff = all_z_synds[i-1][:qedm] ^ meas[-(2*qedm):-qedm]\n",
    "    x_qed_synd_diff = all_x_synds[i-1][:qedm] ^ meas[-qedm:]\n",
    "\n",
    "    curr_z_gens = get_overlapping(z_qed_synd_diff, False)\n",
    "    curr_x_gens = get_overlapping(x_qed_synd_diff, True)\n",
    "\n",
    "    print(np.where(z_qed_synd_diff)[0], curr_z_gens)\n",
    "    s.do_circuit(QEC(curr_z_gens, curr_x_gens))\n",
    "    c += QEC(curr_z_gens, curr_x_gens)\n",
    "\n",
    "    meas = s.current_measurement_record()\n",
    "    lookback = lambda x: -len(x) if len(x) else None\n",
    "\n",
    "    if len(curr_z_gens): all_z_synds[i][curr_z_gens] = meas[lookback(curr_z_gens+curr_x_gens):lookback(curr_x_gens)]\n",
    "    if len(curr_x_gens): all_x_synds[i][curr_x_gens] = meas[lookback(curr_x_gens):]\n",
    "\n",
    "\n",
    "    # bposd_dec.update\n",
    "    x_corrections ^= bposd_dec.decode(all_z_synds[i] ^ all_z_synds[i-1])\n",
    "    # z_corrections ^= bposd_dec.decode(all_x_synds[i] ^ all_x_synds[i-1])\n",
    "\n",
    "\n",
    "s.do_circuit(observables(False))\n",
    "# c += observables(False)\n",
    "# destructive measurement, construct stabilizers manually"
   ]
  },
  {
   "cell_type": "code",
   "execution_count": 23,
   "metadata": {},
   "outputs": [
    {
     "name": "stdout",
     "output_type": "stream",
     "text": [
      "(array([ 44, 126, 127, 128, 130, 133, 134], dtype=int64),)\n"
     ]
    }
   ],
   "source": []
  },
  {
   "cell_type": "code",
   "execution_count": null,
   "metadata": {},
   "outputs": [],
   "source": [
    "tmp = np.vstack([concatenatedHx, x_corrections])\n",
    "np.linalg.matrix_rank(GF(tmp))"
   ]
  }
 ],
 "metadata": {
  "kernelspec": {
   "display_name": "Python 3 (ipykernel)",
   "language": "python",
   "name": "python3"
  },
  "language_info": {
   "codemirror_mode": {
    "name": "ipython",
    "version": 3
   },
   "file_extension": ".py",
   "mimetype": "text/x-python",
   "name": "python",
   "nbconvert_exporter": "python",
   "pygments_lexer": "ipython3",
   "version": "3.8.18"
  }
 },
 "nbformat": 4,
 "nbformat_minor": 2
}
