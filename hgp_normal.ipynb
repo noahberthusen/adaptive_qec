{
 "cells": [
  {
   "cell_type": "code",
   "execution_count": 1,
   "metadata": {},
   "outputs": [],
   "source": [
    "import numpy as np\n",
    "import matplotlib.pyplot as plt\n",
    "import galois\n",
    "import itertools\n",
    "from classical_code import *\n",
    "from utils import get_logicals\n",
    "import stim\n",
    "from scipy.sparse import lil_matrix\n",
    "from ldpc import bposd_decoder, bp_decoder\n",
    "from tqdm import tqdm\n",
    "# %load_ext snakeviz"
   ]
  },
  {
   "cell_type": "code",
   "execution_count": 50,
   "metadata": {},
   "outputs": [
    {
     "name": "stdout",
     "output_type": "stream",
     "text": [
      "[[1 0 1 1 0 0 0 0 1 0 0 0]\n",
      " [0 0 0 0 1 0 0 1 1 0 1 0]\n",
      " [0 0 1 1 0 0 1 0 1 0 0 0]\n",
      " [0 1 0 0 0 0 0 0 0 1 1 1]\n",
      " [0 1 1 0 0 0 1 0 0 0 0 1]\n",
      " [1 0 0 0 0 1 0 1 0 0 1 0]\n",
      " [0 0 0 0 1 1 1 0 0 1 0 0]\n",
      " [1 1 0 0 1 0 0 0 0 1 0 0]\n",
      " [0 0 0 1 0 1 0 1 0 0 0 1]]\n",
      "3\n"
     ]
    }
   ],
   "source": [
    "GF = galois.GF(2)\n",
    "ccode = read_code(\"./codes/12_9_3_4.code\")\n",
    "H = np.zeros((ccode.m, ccode.n), dtype=int)\n",
    "for i in range(ccode.m):\n",
    "    for j in range(ccode.n):\n",
    "        if (j in ccode.check_nbhd[i]):\n",
    "            H[i][j] = 1\n",
    "dim0, dim1 = H.shape\n",
    "print(H)\n",
    "print(dim1 - np.linalg.matrix_rank(GF(H)))"
   ]
  },
  {
   "cell_type": "code",
   "execution_count": 51,
   "metadata": {},
   "outputs": [
    {
     "name": "stdout",
     "output_type": "stream",
     "text": [
      "(108, 225)\n"
     ]
    },
    {
     "data": {
      "text/plain": [
       "<matplotlib.image.AxesImage at 0x14da20eda90>"
      ]
     },
     "execution_count": 51,
     "metadata": {},
     "output_type": "execute_result"
    },
    {
     "data": {
      "image/png": "[encoded data removed]",
      "text/plain": [
       "<Figure size 1000x480 with 1 Axes>"
      ]
     },
     "metadata": {},
     "output_type": "display_data"
    }
   ],
   "source": [
    "I1 = np.eye(dim1, dtype=int)\n",
    "I0 = np.eye(dim0, dtype=int)\n",
    "\n",
    "dE21 = np.kron(H, I0)\n",
    "dE22 = np.kron(I1, H.T)\n",
    "dE2 = np.vstack([dE21, dE22])\n",
    "Hz = dE2.T\n",
    "\n",
    "dE11 = np.kron(I0, H.T)\n",
    "dE12 = np.kron(H, I1)\n",
    "dE1 = np.hstack([dE11, dE12])\n",
    "Hx = dE1\n",
    "\n",
    "m, n = Hx.shape\n",
    "\n",
    "print(Hz.shape)\n",
    "plt.matshow(Hz)"
   ]
  },
  {
   "cell_type": "code",
   "execution_count": 52,
   "metadata": {},
   "outputs": [
    {
     "name": "stdout",
     "output_type": "stream",
     "text": [
      "9\n"
     ]
    }
   ],
   "source": [
    "zL = get_logicals(Hx, Hz, False)\n",
    "xL = get_logicals(Hx, Hz, True)\n",
    "print(len(zL))"
   ]
  },
  {
   "cell_type": "code",
   "execution_count": 53,
   "metadata": {},
   "outputs": [],
   "source": [
    "data_qbts = np.arange(n)\n",
    "x_checks = np.arange(n,n+m)\n",
    "z_checks = np.arange(n+m,n+m+m)\n",
    "all_qbts = np.arange(n+m+m)\n",
    "curr_data_qbts = np.arange(n)\n",
    "curr_pos = {i: i for i in range(n)}\n",
    "\n",
    "def prepare_x_checks(checks):\n",
    "    c = stim.Circuit()\n",
    "    c.append(\"H\", [x_checks[x_check] for x_check in checks])\n",
    "    c.append(\"DEPOLARIZE1\", [x_checks[x_check] for x_check in checks], 1e-6)\n",
    "    for x in checks:\n",
    "        gen_qbts = data_qbts[np.where(Hx[x])[0]]\n",
    "        for qbt in gen_qbts:\n",
    "            path_qbts = [x_checks[x], curr_pos[qbt]]\n",
    "            c.append(\"CNOT\", path_qbts)\n",
    "            c.append(\"DEPOLARIZE2\", path_qbts, 1e-4)\n",
    "    c.append(\"H\", [x_checks[x_check] for x_check in checks])\n",
    "    c.append(\"DEPOLARIZE1\", [x_checks[x_check] for x_check in checks], 1e-6)\n",
    "    return c\n",
    "\n",
    "def prepare_z_checks(checks):\n",
    "    c = stim.Circuit()\n",
    "    for z in checks:\n",
    "        gen_qbts = data_qbts[np.where(Hz[z])[0]]\n",
    "        for qbt in gen_qbts:\n",
    "            path_qbts = [curr_pos[qbt], z_checks[z]]\n",
    "            c.append(\"CNOT\", path_qbts)\n",
    "            c.append(\"DEPOLARIZE2\", path_qbts, 1e-4)\n",
    "    return c\n",
    "\n",
    "\n",
    "class Simulation:\n",
    "    def __init__(self, num_rounds, p_mask, stab_type):\n",
    "        self.num_rounds = num_rounds\n",
    "        self.p_mask = p_mask\n",
    "        self.stab_type = stab_type\n",
    "\n",
    "        self.prev_meas_z = np.zeros(m, dtype=int)\n",
    "        self.prev_meas_x = np.zeros(m, dtype=int)\n",
    "        self.curr_meas_z = np.zeros(m, dtype=int)\n",
    "        self.curr_meas_x = np.zeros(m, dtype=int)\n",
    "\n",
    "        self.route_confirmation_z = np.ones(m, dtype=int)\n",
    "        self.route_confirmation_x = np.ones(m, dtype=int)\n",
    "        self.z_detector_history = np.ones(m)\n",
    "        self.x_detector_history = np.ones(m)\n",
    "\n",
    "        self.c = stim.Circuit()\n",
    "\n",
    "        if self.stab_type:\n",
    "            self.c.append(\"H\", [qbt for qbt in data_qbts])\n",
    "            self.c += prepare_z_checks(np.arange(m)).without_noise()\n",
    "            # self.c.append(\"X_ERROR\", z_checks, 1e-4)\n",
    "            for i, z_check in enumerate(np.arange(m)):\n",
    "                self.c.append(\"MR\", z_checks[z_check])\n",
    "                self.prev_meas_z[z_check] = self.c.num_measurements\n",
    "            # self.c.append(\"X_ERROR\", z_checks, 1e-5)\n",
    "        else:\n",
    "            self.c += prepare_x_checks(np.arange(m)).without_noise()\n",
    "            # self.c.append(\"X_ERROR\", x_checks, 1e-4)\n",
    "            for i, x_check in enumerate(np.arange(m)):\n",
    "                self.c.append(\"MR\", x_checks[x_check])\n",
    "                self.prev_meas_x[x_check] = self.c.num_measurements\n",
    "            # self.c.append(\"X_ERROR\", x_checks, 1e-5)\n",
    "\n",
    "    def detectors(self, stab_type):\n",
    "        num_meas = self.c.num_measurements\n",
    "        prev_meas = self.prev_meas_x if stab_type else self.prev_meas_z\n",
    "        curr_meas = self.curr_meas_x if stab_type else self.curr_meas_z\n",
    "\n",
    "        for i, check in enumerate(curr_meas):\n",
    "            if check:\n",
    "                if not prev_meas[i]:\n",
    "                    self.c.append(\"DETECTOR\", [stim.target_rec(curr_meas[i]-num_meas-1)])\n",
    "                else:\n",
    "                    self.c.append(\"DETECTOR\", [stim.target_rec(curr_meas[i]-num_meas-1), stim.target_rec(prev_meas[i]-num_meas-1)])\n",
    "                prev_meas[i] = curr_meas[i]\n",
    "                curr_meas[i] = 0\n",
    "\n",
    "        if stab_type:\n",
    "            self.prev_meas_x = prev_meas\n",
    "            self.curr_meas_x = curr_meas\n",
    "        else:\n",
    "            self.prev_meas_z = prev_meas\n",
    "            self.curr_meas_z = curr_meas\n",
    "\n",
    "    def final_detectors(self, stab_type):\n",
    "        num_meas = self.c.num_measurements\n",
    "        H = Hx if stab_type else Hz\n",
    "        prev_meas = self.prev_meas_x if stab_type else self.prev_meas_z\n",
    "\n",
    "        for i in range(H.shape[0]):\n",
    "            incl_qbts = np.where(H[i])[0]\n",
    "            incl_qbts = [j-n for j in incl_qbts]\n",
    "            target_recs = [stim.target_rec(j) for j in incl_qbts]\n",
    "\n",
    "            if prev_meas[i]:\n",
    "                target_recs.append(stim.target_rec(prev_meas[i]-num_meas-1))\n",
    "            self.c.append(\"DETECTOR\", target_recs)\n",
    "\n",
    "    def observables(self, stab_type):\n",
    "        for i, logical in enumerate(xL if stab_type else zL):\n",
    "            incl_qbts = np.where(logical)[0]\n",
    "            incl_qbts = [j-n for j in incl_qbts]\n",
    "            self.c.append(\"OBSERVABLE_INCLUDE\", [stim.target_rec(j) for j in incl_qbts], i)\n",
    "\n",
    "    def round(self):\n",
    "        def measure_z_checks(curr_z_checks):\n",
    "            self.c += prepare_z_checks(curr_z_checks).without_noise()\n",
    "            # self.c.append(\"X_ERROR\", [z_checks[z_check] for z_check in curr_z_checks], 1e-4)\n",
    "            for i, z_check in enumerate(curr_z_checks):\n",
    "                self.c.append(\"M\", z_checks[z_check])\n",
    "                self.curr_meas_z[z_check] = self.c.num_measurements\n",
    "            for i, z_check in enumerate(z_checks):\n",
    "                self.c.append(\"R\", z_check)\n",
    "            # self.c.append(\"X_ERROR\", z_checks, 1e-5)\n",
    "\n",
    "        def measure_x_checks(curr_x_checks):\n",
    "            self.c += prepare_x_checks(curr_x_checks).without_noise()\n",
    "            # self.c.append(\"X_ERROR\", [x_checks[x_check] for x_check in curr_x_checks], 1e-4)\n",
    "            for i, x_check in enumerate(curr_x_checks):\n",
    "                self.c.append(\"M\", x_checks[x_check])\n",
    "                self.curr_meas_x[x_check] = self.c.num_measurements\n",
    "            for i, x_check in enumerate(x_checks):\n",
    "                self.c.append(\"R\", x_check)\n",
    "            # self.c.append(\"X_ERROR\", x_checks, 1e-5)\n",
    "\n",
    "        curr_z_checks = np.arange(m)[self.route_confirmation_z==1]\n",
    "        curr_x_checks = np.arange(m)[self.route_confirmation_x==1]\n",
    "\n",
    "        if self.stab_type:\n",
    "            measure_x_checks(curr_x_checks)\n",
    "            measure_z_checks(curr_z_checks)\n",
    "        else:\n",
    "            measure_z_checks(curr_z_checks)\n",
    "            measure_x_checks(curr_x_checks)\n",
    "\n",
    "\n",
    "    def simulate(self):\n",
    "        for i in range(1, self.num_rounds+1):\n",
    "            self.c.append(\"X_ERROR\", [qbt for qbt in all_qbts], 0.01)  # idle errors\n",
    "\n",
    "            self.route_confirmation_z = np.array([1 if np.random.random() < self.p_mask else 0 for z in z_checks])\n",
    "            self.route_confirmation_x = np.array([1 if np.random.random() < self.p_mask else 0 for x in x_checks])\n",
    "\n",
    "            self.z_detector_history = np.vstack([self.z_detector_history, self.route_confirmation_z])\n",
    "            self.x_detector_history = np.vstack([self.x_detector_history, self.route_confirmation_x])\n",
    "\n",
    "            self.round()\n",
    "            self.detectors(self.stab_type)\n",
    "\n",
    "        if self.stab_type: self.c.append(\"H\", [qbt for qbt in data_qbts])\n",
    "        # self.c.append(\"X_ERROR\", [qbt for qbt in data_qbts], 1e-4)\n",
    "        self.c.append(\"M\", [curr_pos[qbt] for qbt in data_qbts])\n",
    "        self.final_detectors(self.stab_type)\n",
    "        self.observables(self.stab_type)\n"
   ]
  },
  {
   "cell_type": "code",
   "execution_count": 54,
   "metadata": {},
   "outputs": [],
   "source": [
    "s = Simulation(10, 1, False)\n",
    "s.simulate()\n",
    "c = s.c"
   ]
  },
  {
   "cell_type": "code",
   "execution_count": 55,
   "metadata": {},
   "outputs": [
    {
     "name": "stdout",
     "output_type": "stream",
     "text": [
      "(1188, 3330)\n",
      "(9, 3330)\n"
     ]
    },
    {
     "name": "stderr",
     "output_type": "stream",
     "text": [
      "100%|██████████| 1000/1000 [00:04<00:00, 220.48it/s]\n"
     ]
    },
    {
     "data": {
      "text/plain": [
       "943"
      ]
     },
     "execution_count": 55,
     "metadata": {},
     "output_type": "execute_result"
    }
   ],
   "source": [
    "sampler = c.compile_detector_sampler()\n",
    "dem = c.detector_error_model()\n",
    "pcm = lil_matrix((dem.num_detectors, dem.num_errors), dtype=np.bool_)\n",
    "lcm = lil_matrix((dem.num_observables, dem.num_errors), dtype=np.bool_)\n",
    "\n",
    "errors = []\n",
    "channel_probs = [e.args_copy()[0] for e in dem if e.type==\"error\"]\n",
    "for i, error_event in enumerate(c.explain_detector_error_model_errors()):\n",
    "    dets = [det.dem_target.val for det in error_event.dem_error_terms if det.dem_target.is_relative_detector_id()]\n",
    "    obs = [ob.dem_target.val for ob in error_event.dem_error_terms if ob.dem_target.is_logical_observable_id()]\n",
    "    pcm[[dets],i] = 1\n",
    "    lcm[[obs],i] = 1\n",
    "\n",
    "print(pcm.shape)\n",
    "print(lcm.shape)\n",
    "\n",
    "bposd_dec = bposd_decoder(\n",
    "    pcm, # the parity check matrix\n",
    "    channel_probs=channel_probs, #assign error_rate to each qubit. This will override \"error_rate\" input variable\n",
    "    max_iter=100, #pcm.shape[1], #the maximum number of iterations for BP)\n",
    "    bp_method=\"ms\",\n",
    "    ms_scaling_factor=0, #min sum scaling factor. If set to zero the variable scaling factor method is used\n",
    "    osd_method=\"osd0\", #the OSD method. Choose from:  1) \"osd_e\", \"osd_cs\", \"osd0\"\n",
    "    # osd_order=min(pcm.shape[0],10) #the osd search depth\n",
    ")\n",
    "\n",
    "successes = 0\n",
    "for ii in tqdm(range(1000)):\n",
    "    detection_events, observable_flips = sampler.sample(1, separate_observables=True)\n",
    "    guessed_errors = bposd_dec.decode(detection_events[0])\n",
    "    guessed_obs = (lcm @ guessed_errors) % 2\n",
    "    success = np.all(observable_flips[0].astype(int) == guessed_obs)\n",
    "    successes += success\n",
    "\n",
    "successes"
   ]
  },
  {
   "cell_type": "code",
   "execution_count": 45,
   "metadata": {},
   "outputs": [
    {
     "data": {
      "text/plain": [
       "1000"
      ]
     },
     "execution_count": 45,
     "metadata": {},
     "output_type": "execute_result"
    }
   ],
   "source": [
    "successes"
   ]
  },
  {
   "cell_type": "code",
   "execution_count": 27,
   "metadata": {},
   "outputs": [
    {
     "data": {
      "text/plain": [
       "(432, 4473)"
      ]
     },
     "execution_count": 27,
     "metadata": {},
     "output_type": "execute_result"
    }
   ],
   "source": [
    "pcm.shape"
   ]
  },
  {
   "cell_type": "code",
   "execution_count": null,
   "metadata": {},
   "outputs": [],
   "source": []
  }
 ],
 "metadata": {
  "kernelspec": {
   "display_name": "qc",
   "language": "python",
   "name": "python3"
  },
  "language_info": {
   "codemirror_mode": {
    "name": "ipython",
    "version": 3
   },
   "file_extension": ".py",
   "mimetype": "text/x-python",
   "name": "python",
   "nbconvert_exporter": "python",
   "pygments_lexer": "ipython3",
   "version": "3.8.18"
  }
 },
 "nbformat": 4,
 "nbformat_minor": 2
}
