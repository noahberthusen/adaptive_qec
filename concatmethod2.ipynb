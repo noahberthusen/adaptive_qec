{
 "cells": [
  {
   "cell_type": "code",
   "execution_count": 29,
   "metadata": {},
   "outputs": [],
   "source": [
    "import numpy as np\n",
    "import matplotlib.pyplot as plt\n",
    "import galois\n",
    "import itertools\n",
    "from classical_code import *\n",
    "from utils import get_logicals\n",
    "import stim\n",
    "from scipy.sparse import lil_matrix\n",
    "from tqdm import tqdm\n",
    "from ldpc import bposd_decoder, bp_decoder\n",
    "from scipy.optimize import curve_fit\n",
    "# %load_ext snakeviz"
   ]
  },
  {
   "cell_type": "code",
   "execution_count": 39,
   "metadata": {},
   "outputs": [
    {
     "name": "stdout",
     "output_type": "stream",
     "text": [
      "[[1 0 1 1 0 0 0 0 1 0 0 0]\n",
      " [0 0 0 0 1 0 0 1 1 0 1 0]\n",
      " [0 0 1 1 0 0 1 0 1 0 0 0]\n",
      " [0 1 0 0 0 0 0 0 0 1 1 1]\n",
      " [0 1 1 0 0 0 1 0 0 0 0 1]\n",
      " [1 0 0 0 0 1 0 1 0 0 1 0]\n",
      " [0 0 0 0 1 1 1 0 0 1 0 0]\n",
      " [1 1 0 0 1 0 0 0 0 1 0 0]\n",
      " [0 0 0 1 0 1 0 1 0 0 0 1]]\n",
      "3\n"
     ]
    }
   ],
   "source": [
    "GF = galois.GF(2)\n",
    "ccode = read_code(\"./codes/ccodes/12_9_3_4.code\")\n",
    "H = np.zeros((ccode.m, ccode.n), dtype=int)\n",
    "for i in range(ccode.m):\n",
    "    for j in range(ccode.n):\n",
    "        if (j in ccode.check_nbhd[i]):\n",
    "            H[i][j] = 1\n",
    "dim0, dim1 = H.shape\n",
    "print(H)\n",
    "print(dim1 - np.linalg.matrix_rank(GF(H)))"
   ]
  },
  {
   "cell_type": "code",
   "execution_count": 40,
   "metadata": {},
   "outputs": [
    {
     "name": "stdout",
     "output_type": "stream",
     "text": [
      "(108, 225)\n",
      "9\n"
     ]
    },
    {
     "data": {
      "text/plain": [
       "<matplotlib.image.AxesImage at 0x15987d249a0>"
      ]
     },
     "execution_count": 40,
     "metadata": {},
     "output_type": "execute_result"
    },
    {
     "data": {
      "image/png": "[encoded data removed]",
      "text/plain": [
       "<Figure size 1000x480 with 1 Axes>"
      ]
     },
     "metadata": {},
     "output_type": "display_data"
    }
   ],
   "source": [
    "I1 = np.eye(dim1, dtype=int)\n",
    "I0 = np.eye(dim0, dtype=int)\n",
    "\n",
    "dE21 = np.kron(H, I0)\n",
    "dE22 = np.kron(I1, H.T)\n",
    "dE2 = np.vstack([dE21, dE22])\n",
    "HGPHz = dE2.T\n",
    "\n",
    "dE11 = np.kron(I0, H.T)\n",
    "dE12 = np.kron(H, I1)\n",
    "dE1 = np.hstack([dE11, dE12])\n",
    "HGPHx = dE1\n",
    "\n",
    "print(HGPHz.shape)\n",
    "\n",
    "HGPzL = get_logicals(HGPHx, HGPHz, False)\n",
    "HGPxL = get_logicals(HGPHx, HGPHz, True)\n",
    "print(len(HGPzL))\n",
    "\n",
    "plt.matshow(HGPHz)"
   ]
  },
  {
   "cell_type": "code",
   "execution_count": 33,
   "metadata": {},
   "outputs": [],
   "source": [
    "# iceberg642Xlogicals = np.array([\n",
    "#     [0,1],\n",
    "#     [0,2],\n",
    "#     [0,3],\n",
    "#     [0,4],\n",
    "# ])\n",
    "\n",
    "# iceberg642Zlogicals = np.array([\n",
    "#     [1,5],\n",
    "#     [2,5],\n",
    "#     [3,5],\n",
    "#     [4,5]\n",
    "# ])\n",
    "\n",
    "iceberg642Xlogicals = np.array([\n",
    "    [1,2],\n",
    "    [0,1],\n",
    "    [4,5],\n",
    "    [3,4],\n",
    "])\n",
    "\n",
    "iceberg642Zlogicals = np.array([\n",
    "    [0,1],\n",
    "    [1,2],\n",
    "    [3,4],\n",
    "    [4,5]\n",
    "])\n",
    "\n",
    "\n",
    "iceberg422Xlogicals = np.array([\n",
    "    [1,1,0,0],\n",
    "    [1,0,1,0]\n",
    "])\n",
    "\n",
    "iceberg422Zlogicals = np.array([\n",
    "    [0,1,0,1],\n",
    "    [0,0,1,1]\n",
    "])"
   ]
  },
  {
   "cell_type": "code",
   "execution_count": 34,
   "metadata": {},
   "outputs": [
    {
     "name": "stdout",
     "output_type": "stream",
     "text": [
      "(225, 900)\n"
     ]
    },
    {
     "data": {
      "text/plain": [
       "<matplotlib.image.AxesImage at 0x15987bec2b0>"
      ]
     },
     "execution_count": 34,
     "metadata": {},
     "output_type": "execute_result"
    },
    {
     "data": {
      "image/png": "[encoded data removed]",
      "text/plain": [
       "<Figure size 1600x400 with 1 Axes>"
      ]
     },
     "metadata": {},
     "output_type": "display_data"
    }
   ],
   "source": [
    "n = 4\n",
    "k = n-2\n",
    "icebergX = np.ones(n, dtype=int)\n",
    "icebergZ = np.ones(n, dtype=int)\n",
    "icebergXlogicals = iceberg422Xlogicals if n == 4 else iceberg642Xlogicals\n",
    "icebergZlogicals = iceberg422Zlogicals if n == 4 else iceberg642Zlogicals\n",
    "\n",
    "concatenatedStabilizersQED = np.kron(np.eye(HGPHx.shape[1], dtype=int), icebergX)\n",
    "print(concatenatedStabilizersQED.shape)\n",
    "plt.matshow(concatenatedStabilizersQED)"
   ]
  },
  {
   "cell_type": "code",
   "execution_count": 35,
   "metadata": {},
   "outputs": [],
   "source": [
    "concatenatedStabilizersXQEC = np.zeros(shape=(k*HGPHx.shape[0], concatenatedStabilizersQED.shape[1]), dtype=int)\n",
    "concatenatedStabilizersZQEC = np.zeros(shape=(k*HGPHz.shape[0], concatenatedStabilizersQED.shape[1]), dtype=int)\n",
    "\n",
    "for j, xL in enumerate(icebergXlogicals):\n",
    "    for i, r in enumerate(HGPHx):\n",
    "        for x in np.where(r)[0]:\n",
    "            concatenatedStabilizersXQEC[i+(j*HGPHx.shape[0])][n*x:n*(x+1)] = xL\n",
    "\n",
    "for j, zL in enumerate(icebergZlogicals):\n",
    "    for i, r in enumerate(HGPHz):\n",
    "        for z in np.where(r)[0]:\n",
    "            concatenatedStabilizersZQEC[i+(j*HGPHz.shape[0])][n*z:n*(z+1)] = zL\n",
    "\n",
    "concatenatedHx = np.vstack([concatenatedStabilizersXQEC, concatenatedStabilizersQED][::-1])\n",
    "concatenatedHz = np.vstack([concatenatedStabilizersZQEC, concatenatedStabilizersQED][::-1])"
   ]
  },
  {
   "cell_type": "code",
   "execution_count": 36,
   "metadata": {},
   "outputs": [],
   "source": [
    "concatenatedxL = np.zeros(shape=(k*HGPxL.shape[0], concatenatedStabilizersQED.shape[1]), dtype=int)\n",
    "concatenatedzL = np.zeros(shape=(k*HGPzL.shape[0], concatenatedStabilizersQED.shape[1]), dtype=int)\n",
    "\n",
    "for j, xL in enumerate(icebergXlogicals):\n",
    "    for i, r in enumerate(HGPxL):\n",
    "        for x in np.where(r)[0]:\n",
    "            concatenatedxL[i+(j*HGPxL.shape[0])][n*x:n*(x+1)] = xL\n",
    "\n",
    "for j, zL in enumerate(icebergZlogicals):\n",
    "    for i, r in enumerate(HGPzL):\n",
    "        for z in np.where(r)[0]:\n",
    "            concatenatedzL[i+(j*HGPzL.shape[0])][n*z:n*(z+1)] = zL\n",
    "\n",
    "xL_inds = [np.where(x)[0] for x in concatenatedxL]\n",
    "zL_inds = [np.where(z)[0] for z in concatenatedzL]"
   ]
  },
  {
   "cell_type": "code",
   "execution_count": 37,
   "metadata": {},
   "outputs": [],
   "source": [
    "np.savetxt(\"codes/Hx.txt\", concatenatedHx, fmt=\"%d\")\n",
    "np.savetxt(\"codes/Hz.txt\", concatenatedHz, fmt=\"%d\")\n"
   ]
  },
  {
   "cell_type": "code",
   "execution_count": 38,
   "metadata": {},
   "outputs": [
    {
     "name": "stdout",
     "output_type": "stream",
     "text": [
      "(441, 900)\n"
     ]
    },
    {
     "data": {
      "text/plain": [
       "<matplotlib.image.AxesImage at 0x15987c22e80>"
      ]
     },
     "execution_count": 38,
     "metadata": {},
     "output_type": "execute_result"
    },
    {
     "data": {
      "image/png": "[encoded data removed]",
      "text/plain": [
       "<Figure size 640x480 with 1 Axes>"
      ]
     },
     "metadata": {},
     "output_type": "display_data"
    }
   ],
   "source": [
    "print(concatenatedHx.shape)\n",
    "plt.imshow(concatenatedHz)"
   ]
  },
  {
   "cell_type": "code",
   "execution_count": 10,
   "metadata": {},
   "outputs": [],
   "source": [
    "overlapping_x_generators = np.empty(concatenatedStabilizersQED.shape[0], dtype=object)\n",
    "for i in range(concatenatedStabilizersQED.shape[0]):\n",
    "    tmp = np.array([], dtype=int)\n",
    "    for j in range(concatenatedStabilizersXQEC.shape[0]):\n",
    "        if np.any(concatenatedStabilizersQED[i] & concatenatedStabilizersXQEC[j]): tmp = np.append(tmp, j+concatenatedStabilizersQED.shape[0])\n",
    "    overlapping_x_generators[i] = tmp\n",
    "\n",
    "overlapping_z_generators = np.empty(concatenatedStabilizersQED.shape[0], dtype=object)\n",
    "for i in range(concatenatedStabilizersQED.shape[0]):\n",
    "    tmp = np.array([], dtype=int)\n",
    "    for j in range(concatenatedStabilizersZQEC.shape[0]):\n",
    "        if np.any(concatenatedStabilizersQED[i] & concatenatedStabilizersZQEC[j]): tmp = np.append(tmp, j+concatenatedStabilizersQED.shape[0])\n",
    "    overlapping_z_generators[i] = tmp\n",
    "\n",
    "def get_overlapping(measurements, gen_type=False):\n",
    "    overlapping_generators = overlapping_x_generators if gen_type else overlapping_z_generators\n",
    "    gens_to_measure = set()\n",
    "    for g in np.where(measurements)[0]:\n",
    "        gens_to_measure |= set(overlapping_generators[g])\n",
    "    return list(gens_to_measure)"
   ]
  },
  {
   "cell_type": "code",
   "execution_count": 19,
   "metadata": {},
   "outputs": [],
   "source": [
    "cm, cn = concatenatedHx.shape\n",
    "qedm, qedn = concatenatedStabilizersQED.shape\n",
    "qecm, qecn = concatenatedStabilizersXQEC.shape\n",
    "data_qbts = np.arange(cn)\n",
    "x_checks = np.arange(cn,cn+cm)\n",
    "z_checks = np.arange(cn+cm,cn+cm+cm)\n",
    "all_qbts = np.arange(cn+cm+cm)\n",
    "\n",
    "precomputed_x_checks_circuits = np.empty(cm, dtype=object)\n",
    "for x in np.arange(cm):\n",
    "    c = stim.Circuit()\n",
    "    gen_qbts = data_qbts[np.where(concatenatedHx[x])[0]]\n",
    "    for qbt in gen_qbts:\n",
    "        path_qbts = [x_checks[x], qbt]\n",
    "        c.append(\"CNOT\", path_qbts)\n",
    "        c.append(\"DEPOLARIZE2\", path_qbts, 1e-4)\n",
    "    precomputed_x_checks_circuits[x] = c\n",
    "\n",
    "def prepare_x_checks(checks):\n",
    "    c = stim.Circuit()\n",
    "    if len(checks) == 0: return c\n",
    "    c.append(\"H\", [x_checks[x_check] for x_check in checks])\n",
    "    c.append(\"DEPOLARIZE1\", [x_checks[x_check] for x_check in checks], 1e-6)\n",
    "    for x in checks:\n",
    "        c += precomputed_x_checks_circuits[x]\n",
    "    c.append(\"H\", [x_checks[x_check] for x_check in checks])\n",
    "    c.append(\"DEPOLARIZE1\", [x_checks[x_check] for x_check in checks], 1e-6)\n",
    "    return c\n",
    "\n",
    "precomputed_z_checks_circuits = np.empty(cm, dtype=object)\n",
    "for z in np.arange(cm):\n",
    "    c = stim.Circuit()\n",
    "    gen_qbts = data_qbts[np.where(concatenatedHz[z])[0]]\n",
    "    for qbt in gen_qbts:\n",
    "        path_qbts = [qbt, z_checks[z]]\n",
    "        c.append(\"CNOT\", path_qbts)\n",
    "        c.append(\"DEPOLARIZE2\", path_qbts, 1e-4)\n",
    "    precomputed_z_checks_circuits[z] = c\n",
    "\n",
    "def prepare_z_checks(checks):\n",
    "    c = stim.Circuit()\n",
    "    if len(checks) == 0: return c\n",
    "    for z in checks:\n",
    "        c += precomputed_z_checks_circuits[z]\n",
    "    return c"
   ]
  },
  {
   "cell_type": "code",
   "execution_count": 20,
   "metadata": {},
   "outputs": [],
   "source": [
    "class Simulation:\n",
    "    def __init__(self, num_rounds, stab_type, adaptive=True):\n",
    "        self.num_rounds = num_rounds\n",
    "        self.stab_type = stab_type\n",
    "        self.curr_round = 1\n",
    "        self.adaptive = adaptive\n",
    "\n",
    "        self.prev_meas_z = np.zeros(cm, dtype=int)\n",
    "        self.prev_meas_x = np.zeros(cm, dtype=int)\n",
    "        self.curr_meas_z = np.zeros(cm, dtype=int)\n",
    "        self.curr_meas_x = np.zeros(cm, dtype=int)\n",
    "\n",
    "        self.confirmation_z = np.ones(cm, dtype=int)\n",
    "        self.confirmation_x = np.ones(cm, dtype=int)\n",
    "        self.z_check_history = np.ones(cm, dtype=int)\n",
    "        self.x_check_history = np.ones(cm, dtype=int)\n",
    "        self.z_syndrome_history = np.zeros(shape=(num_rounds+1, cm), dtype=int)\n",
    "        self.x_syndrome_history = np.zeros(shape=(num_rounds+1, cm), dtype=int)\n",
    "\n",
    "        self.c = stim.Circuit()\n",
    "        self.c.append(\"M\", 0) # hacky way to make detectors that aren't affected by anything\n",
    "        self.s = stim.TableauSimulator()\n",
    "\n",
    "        if self.stab_type:\n",
    "            self.c.append(\"H\", [qbt for qbt in data_qbts])\n",
    "            self.c += prepare_z_checks(np.arange(cm)).without_noise()\n",
    "            # self.c.append(\"X_ERROR\", z_checks, 1e-4)\n",
    "            for i, z_check in enumerate(np.arange(cm)):\n",
    "                self.c.append(\"MR\", z_checks[z_check])\n",
    "                self.prev_meas_z[z_check] = self.c.num_measurements\n",
    "            # self.c.append(\"X_ERROR\", z_checks, 1e-5)\n",
    "        else:\n",
    "            self.c += prepare_x_checks(np.arange(cm)).without_noise()\n",
    "            # self.c.append(\"X_ERROR\", x_checks, 1e-4)\n",
    "            for i, x_check in enumerate(np.arange(cm)):\n",
    "                self.c.append(\"MR\", x_checks[x_check])\n",
    "                self.prev_meas_x[x_check] = self.c.num_measurements\n",
    "            # self.c.append(\"X_ERROR\", x_checks, 1e-5)\n",
    "\n",
    "        self.s.do_circuit(self.c)\n",
    "        if self.stab_type:\n",
    "            self.z_syndrome_history[0] = self.s.current_measurement_record()[1:]\n",
    "        else:\n",
    "            self.x_syndrome_history[0] = self.s.current_measurement_record()[1:]\n",
    "\n",
    "\n",
    "    def detectors(self, stab_type):\n",
    "        num_meas = self.c.num_measurements\n",
    "        prev_meas = self.prev_meas_x if stab_type else self.prev_meas_z\n",
    "        curr_meas = self.curr_meas_x if stab_type else self.curr_meas_z\n",
    "\n",
    "        for i, check in enumerate(np.arange(cm)):\n",
    "            if not prev_meas[i]:\n",
    "                self.c.append(\"DETECTOR\", [stim.target_rec(curr_meas[i]-num_meas-1)] if curr_meas[i] else [stim.target_rec(-num_meas)], (i,self.curr_round))\n",
    "            else:\n",
    "                self.c.append(\"DETECTOR\", [stim.target_rec(curr_meas[i]-num_meas-1), stim.target_rec(prev_meas[i]-num_meas-1)] if curr_meas[i] else [stim.target_rec(-num_meas)], (i,self.curr_round))\n",
    "            if curr_meas[i]:\n",
    "                prev_meas[i] = curr_meas[i]\n",
    "                curr_meas[i] = 0\n",
    "\n",
    "        if stab_type:\n",
    "            self.prev_meas_x = prev_meas\n",
    "            self.curr_meas_x = curr_meas\n",
    "        else:\n",
    "            self.prev_meas_z = prev_meas\n",
    "            self.curr_meas_z = curr_meas\n",
    "\n",
    "    def final_detectors_and_observables(self, stab_type):\n",
    "        c = stim.Circuit()\n",
    "\n",
    "        if self.stab_type: self.c.append(\"H\", [qbt for qbt in data_qbts])\n",
    "        # self.c.append(\"X_ERROR\", [qbt for qbt in data_qbts], 1e-4)\n",
    "        c.append(\"M\", data_qbts)\n",
    "\n",
    "        num_meas = self.c.num_measurements + c.num_measurements\n",
    "        H = concatenatedHx if stab_type else concatenatedHz\n",
    "        prev_meas = self.prev_meas_x if stab_type else self.prev_meas_z\n",
    "        for i in range(H.shape[0]):\n",
    "            incl_qbts = np.where(H[i])[0]\n",
    "            incl_qbts = [j-cn for j in incl_qbts]\n",
    "            target_recs = [stim.target_rec(j) for j in incl_qbts]\n",
    "\n",
    "            if prev_meas[i]:\n",
    "                target_recs.append(stim.target_rec(prev_meas[i]-num_meas-1))\n",
    "            c.append(\"DETECTOR\", target_recs, (i, self.curr_round))\n",
    "\n",
    "\n",
    "        for i, logical in enumerate(concatenatedxL if stab_type else concatenatedzL):\n",
    "            incl_qbts = np.where(logical)[0]\n",
    "            incl_qbts = [j-cn for j in incl_qbts]\n",
    "            c.append(\"OBSERVABLE_INCLUDE\", [stim.target_rec(j) for j in incl_qbts], i)\n",
    "        return c\n",
    "\n",
    "    def QED(self):\n",
    "        def measure_z_qed_checks(c):\n",
    "            c += prepare_z_checks(np.arange(qedm))\n",
    "            c.append(\"X_ERROR\", [z_checks[z_check] for z_check in np.arange(qedm)], 1e-4)\n",
    "            for i, z_check in enumerate(np.arange(qedm)):\n",
    "                c.append(\"MR\", z_checks[z_check])\n",
    "                self.curr_meas_z[z_check] = self.c.num_measurements + c.num_measurements\n",
    "            c.append(\"X_ERROR\", [z_checks[z_check] for z_check in np.arange(qedm)], 1e-5)\n",
    "            return c\n",
    "\n",
    "        def measure_x_qed_checks(c):\n",
    "            c += prepare_x_checks(np.arange(qedm))\n",
    "            c.append(\"X_ERROR\", [x_checks[x_check] for x_check in np.arange(qedm)], 1e-4)\n",
    "            for i, x_check in enumerate(np.arange(qedm)):\n",
    "                c.append(\"MR\", x_checks[x_check])\n",
    "                self.curr_meas_x[x_check] = self.c.num_measurements + c.num_measurements\n",
    "            c.append(\"X_ERROR\", [x_checks[x_check] for x_check in np.arange(qedm)], 1e-5)\n",
    "            return c\n",
    "\n",
    "        c = stim.Circuit()\n",
    "        if self.stab_type:\n",
    "            c = measure_x_qed_checks(c)\n",
    "            c = measure_z_qed_checks(c)\n",
    "        else:\n",
    "            c = measure_z_qed_checks(c)\n",
    "            c = measure_x_qed_checks(c)\n",
    "        return c\n",
    "\n",
    "    def QEC(self):\n",
    "        def measure_z_qec_checks(c, curr_z_checks):\n",
    "            c += prepare_z_checks(curr_z_checks)\n",
    "            c.append(\"X_ERROR\", [z_checks[z_check] for z_check in curr_z_checks], 1e-4)\n",
    "            for i, z_check in enumerate(curr_z_checks):\n",
    "                c.append(\"MR\", z_checks[z_check])\n",
    "                self.curr_meas_z[z_check] = self.c.num_measurements + c.num_measurements\n",
    "            c.append(\"X_ERROR\", z_checks, 1e-5)\n",
    "            return c\n",
    "\n",
    "        def measure_x_qec_checks(c, curr_x_checks):\n",
    "            c += prepare_x_checks(curr_x_checks)\n",
    "            c.append(\"X_ERROR\", [x_checks[x_check] for x_check in curr_x_checks], 1e-4)\n",
    "            for i, x_check in enumerate(curr_x_checks):\n",
    "                c.append(\"MR\", x_checks[x_check])\n",
    "                self.curr_meas_x[x_check] = self.c.num_measurements + c.num_measurements\n",
    "            c.append(\"X_ERROR\", x_checks, 1e-5)\n",
    "            return c\n",
    "\n",
    "        curr_z_checks = np.arange(qedm, cm)[self.confirmation_z[qedm:]==1]\n",
    "        curr_x_checks = np.arange(qedm, cm)[self.confirmation_x[qedm:]==1]\n",
    "\n",
    "        c = stim.Circuit()\n",
    "        if self.stab_type:\n",
    "            c = measure_x_qec_checks(c, curr_x_checks)\n",
    "            c = measure_z_qec_checks(c, curr_z_checks)\n",
    "        else:\n",
    "            c = measure_z_qec_checks(c, curr_z_checks)\n",
    "            c = measure_x_qec_checks(c, curr_x_checks)\n",
    "        return c\n",
    "\n",
    "    def simulate(self):\n",
    "\n",
    "        for i in range(1, self.num_rounds+1):\n",
    "            self.c.append(\"X_ERROR\", data_qbts, 0.01)  # idle errors\n",
    "            self.s.x_error(*data_qbts, p=0.01)\n",
    "\n",
    "            self.z_syndrome_history[i] = self.z_syndrome_history[i-1]\n",
    "            self.x_syndrome_history[i] = self.x_syndrome_history[i-1]\n",
    "\n",
    "            QED_circuit = self.QED()\n",
    "            self.s.do_circuit(QED_circuit)\n",
    "            self.c += QED_circuit\n",
    "\n",
    "            # determining which of the QEC stabilizers to measure\n",
    "            meas = self.s.current_measurement_record()\n",
    "            self.z_syndrome_history[i][:qedm] = meas[-(2*qedm):-qedm]\n",
    "            self.x_syndrome_history[i][:qedm] = meas[-qedm:]\n",
    "\n",
    "            z_qed_synd_diff = self.z_syndrome_history[i-1][:qedm] ^ self.z_syndrome_history[i][:qedm]\n",
    "            x_qed_synd_diff = self.x_syndrome_history[i-1][:qedm] ^ self.x_syndrome_history[i][:qedm]\n",
    "\n",
    "            curr_z_checks = sorted(get_overlapping(z_qed_synd_diff, False))\n",
    "            curr_x_checks = sorted(get_overlapping(x_qed_synd_diff, True))\n",
    "            # print(i, np.where(z_qed_synd_diff)[0], curr_z_checks)\n",
    "            # print(curr_x_checks)\n",
    "\n",
    "            if self.adaptive:\n",
    "                self.confirmation_z = np.array([1 if ((z < qedm) or (z in curr_z_checks)) else 0 for z in np.arange(cm)])\n",
    "                self.confirmation_x = np.array([1 if ((x < qedm) or (z in curr_x_checks)) else 0 for x in np.arange(cm)])\n",
    "            else:\n",
    "                self.confirmation_z = np.ones(cm, dtype=int)\n",
    "                self.confirmation_x = np.ones(cm, dtype=int)\n",
    "            self.z_check_history = np.vstack([self.z_check_history, self.confirmation_z])\n",
    "            self.x_check_history = np.vstack([self.x_check_history, self.confirmation_x])\n",
    "\n",
    "            QEC_circuit = self.QEC()\n",
    "            self.s.do_circuit(QEC_circuit)\n",
    "            self.c += QEC_circuit\n",
    "\n",
    "            meas = self.s.current_measurement_record()\n",
    "            lookback = lambda x: -len(x) if len(x) else None\n",
    "            if len(curr_z_checks): self.z_syndrome_history[i][curr_z_checks] = meas[lookback(curr_z_checks+curr_x_checks):lookback(curr_x_checks)]\n",
    "            if len(curr_x_checks): self.x_syndrome_history[i][curr_x_checks] = meas[lookback(curr_x_checks):]\n",
    "\n",
    "            self.detectors(self.stab_type)\n",
    "            self.curr_round += 1\n",
    "\n",
    "        obs_circuit = self.final_detectors_and_observables(self.stab_type)\n",
    "        self.s.do_circuit(obs_circuit)\n",
    "        self.c += obs_circuit"
   ]
  },
  {
   "cell_type": "code",
   "execution_count": 23,
   "metadata": {},
   "outputs": [],
   "source": [
    "s = Simulation(3, False, adaptive=False)\n",
    "s.simulate()\n",
    "c = s.c"
   ]
  },
  {
   "cell_type": "code",
   "execution_count": 24,
   "metadata": {},
   "outputs": [
    {
     "name": "stdout",
     "output_type": "stream",
     "text": [
      "(784, 9136)\n",
      "(8, 9136)\n"
     ]
    },
    {
     "name": "stderr",
     "output_type": "stream",
     "text": [
      "100%|██████████| 1000/1000 [00:27<00:00, 36.74it/s]\n"
     ]
    },
    {
     "data": {
      "text/plain": [
       "990"
      ]
     },
     "execution_count": 24,
     "metadata": {},
     "output_type": "execute_result"
    }
   ],
   "source": [
    "sampler = c.compile_detector_sampler()\n",
    "dem = c.detector_error_model()\n",
    "pcm = lil_matrix((dem.num_detectors, dem.num_errors), dtype=np.bool_)\n",
    "lcm = lil_matrix((dem.num_observables, dem.num_errors), dtype=np.bool_)\n",
    "\n",
    "errors = []\n",
    "channel_probs = [e.args_copy()[0] for e in dem if e.type==\"error\"]\n",
    "for i, error_event in enumerate(c.explain_detector_error_model_errors()):\n",
    "    dets = [det.dem_target.val for det in error_event.dem_error_terms if det.dem_target.is_relative_detector_id()]\n",
    "    obs = [ob.dem_target.val for ob in error_event.dem_error_terms if ob.dem_target.is_logical_observable_id()]\n",
    "    pcm[[dets],i] = 1\n",
    "    lcm[[obs],i] = 1\n",
    "\n",
    "print(pcm.shape)\n",
    "print(lcm.shape)\n",
    "\n",
    "bposd_dec = bposd_decoder(\n",
    "    pcm, # the parity check matrix\n",
    "    channel_probs=channel_probs, #assign error_rate to each qubit. This will override \"error_rate\" input variable\n",
    "    max_iter=100, #pcm.shape[1], #the maximum number of iterations for BP)\n",
    "    bp_method=\"ms\",\n",
    "    ms_scaling_factor=0, #min sum scaling factor. If set to zero the variable scaling factor method is used\n",
    "    osd_method=\"osd0\", #the OSD method. Choose from:  1) \"osd_e\", \"osd_cs\", \"osd0\"\n",
    "    # osd_order=min(pcm.shape[0],10) #the osd search depth\n",
    ")\n",
    "\n",
    "successes = 0\n",
    "for ii in tqdm(range(1000)):\n",
    "    detection_events, observable_flips = sampler.sample(1, separate_observables=True)\n",
    "    guessed_errors = bposd_dec.decode(detection_events[0])\n",
    "    guessed_obs = (lcm @ guessed_errors) % 2\n",
    "    success = np.all(observable_flips[0].astype(int) == guessed_obs)\n",
    "    successes += success\n",
    "\n",
    "successes"
   ]
  },
  {
   "cell_type": "code",
   "execution_count": 26,
   "metadata": {},
   "outputs": [],
   "source": [
    " # building and decoding circuit-level Tanner graph\n",
    "dem = c.detector_error_model()\n",
    "pcm = lil_matrix((dem.num_detectors, dem.num_errors), dtype=int)\n",
    "lcm = lil_matrix((dem.num_observables, dem.num_errors), dtype=int)\n",
    "\n",
    "channel_probs = [e.args_copy()[0] for e in dem if e.type==\"error\"]\n",
    "for i, error_event in enumerate(c.explain_detector_error_model_errors()):\n",
    "    _dets = [det.dem_target.val for det in error_event.dem_error_terms if det.dem_target.is_relative_detector_id()]\n",
    "    _obs = [ob.dem_target.val for ob in error_event.dem_error_terms if ob.dem_target.is_logical_observable_id()]\n",
    "    pcm[[_dets],i] = 1\n",
    "    lcm[[_obs],i] = 1\n",
    "\n",
    "bposd_dec = bposd_decoder(\n",
    "    pcm, # the parity check matrix\n",
    "    channel_probs=channel_probs, #assign error_rate to each qubit. This will override \"error_rate\" input variable\n",
    "    max_iter=100, #concatenatedHz.shape[1], #the maximum number of iterations for BP)\n",
    "    bp_method=\"ms\",\n",
    "    ms_scaling_factor=0, #min sum scaling factor. If set to zero the variable scaling factor method is used\n",
    "    osd_method=\"osd0\", #the OSD method. Choose from:  1) \"osd_e\", \"osd_cs\", \"osd0\"\n",
    "    # osd_order=min(Hz.shape[0],10) #the osd search depth\n",
    ")"
   ]
  },
  {
   "cell_type": "code",
   "execution_count": 28,
   "metadata": {},
   "outputs": [
    {
     "name": "stderr",
     "output_type": "stream",
     "text": [
      "100%|██████████| 100/100 [00:22<00:00,  4.38it/s]"
     ]
    },
    {
     "name": "stdout",
     "output_type": "stream",
     "text": [
      "18\n"
     ]
    },
    {
     "name": "stderr",
     "output_type": "stream",
     "text": [
      "\n"
     ]
    }
   ],
   "source": [
    "num_iters = 100\n",
    "successes = 0\n",
    "\n",
    "for i in tqdm(range(num_iters)):\n",
    "    s = Simulation(3, False, adaptive=False)\n",
    "    s.simulate()\n",
    "    c = s.c\n",
    "\n",
    "    data_qbts_meas = np.array(s.s.current_measurement_record()[-cn:])\n",
    "    observable = []\n",
    "    for l in zL_inds:\n",
    "        qbts = data_qbts_meas[l]\n",
    "        observable.append(np.count_nonzero(qbts) % 2)\n",
    "\n",
    "    final_synd = []\n",
    "    for j in range(concatenatedHz.shape[0]):\n",
    "        qbts = data_qbts_meas[np.where(concatenatedHz[j])[0]]\n",
    "        final_synd.append(np.count_nonzero(qbts) % 2)\n",
    "    s.z_syndrome_history = np.vstack([s.z_syndrome_history, final_synd])\n",
    "    # final_synd = []\n",
    "    # for j in range(concatenatedHx.shape[0]):\n",
    "    #     qbts = data_qbts_meas[np.where(concatenatedHx[j])[0]]\n",
    "    #     final_synd.append(np.count_nonzero(qbts) % 2)\n",
    "    # s.x_syndrome_history = np.vstack([s.x_syndrome_history, final_synd])\n",
    "\n",
    "    dets = np.zeros((len(s.z_syndrome_history)-1, cm), dtype=int)\n",
    "    for i in range(dets.shape[0]):\n",
    "        dets[i] = s.z_syndrome_history[i] ^ s.z_syndrome_history[i+1]\n",
    "    dets = dets.flatten()\n",
    "\n",
    "     # building and decoding circuit-level Tanner graph\n",
    "    # dem = c.detector_error_model()\n",
    "    # pcm = lil_matrix((dem.num_detectors, dem.num_errors), dtype=int)\n",
    "    # lcm = lil_matrix((dem.num_observables, dem.num_errors), dtype=int)\n",
    "\n",
    "    # channel_probs = [e.args_copy()[0] for e in dem if e.type==\"error\"]\n",
    "    # for i, error_event in enumerate(c.explain_detector_error_model_errors()):\n",
    "    #     _dets = [det.dem_target.val for det in error_event.dem_error_terms if det.dem_target.is_relative_detector_id()]\n",
    "    #     _obs = [ob.dem_target.val for ob in error_event.dem_error_terms if ob.dem_target.is_logical_observable_id()]\n",
    "    #     pcm[[_dets],i] = 1\n",
    "    #     lcm[[_obs],i] = 1\n",
    "\n",
    "\n",
    "    # bposd_dec = bposd_decoder(\n",
    "    #     pcm, # the parity check matrix\n",
    "    #     channel_probs=channel_probs, #assign error_rate to each qubit. This will override \"error_rate\" input variable\n",
    "    #     max_iter=100, #concatenatedHz.shape[1], #the maximum number of iterations for BP)\n",
    "    #     bp_method=\"ms\",\n",
    "    #     ms_scaling_factor=0, #min sum scaling factor. If set to zero the variable scaling factor method is used\n",
    "    #     osd_method=\"osd0\", #the OSD method. Choose from:  1) \"osd_e\", \"osd_cs\", \"osd0\"\n",
    "    #     # osd_order=min(Hz.shape[0],10) #the osd search depth\n",
    "    # )\n",
    "\n",
    "    guess = bposd_dec.decode(dets)\n",
    "    success = np.all(((lcm @ guess) % 2) == observable)\n",
    "    successes += success\n",
    "print(successes)"
   ]
  },
  {
   "cell_type": "code",
   "execution_count": null,
   "metadata": {},
   "outputs": [],
   "source": [
    "# 55 vs 971 vs 983"
   ]
  },
  {
   "cell_type": "code",
   "execution_count": 64,
   "metadata": {},
   "outputs": [
    {
     "data": {
      "text/plain": [
       "Text(0, 0.5, 'Logical error rate')"
      ]
     },
     "execution_count": 64,
     "metadata": {},
     "output_type": "execute_result"
    },
    {
     "data": {
      "image/png": "[encoded data removed]",
      "text/plain": [
       "<Figure size 640x480 with 1 Axes>"
      ]
     },
     "metadata": {},
     "output_type": "display_data"
    }
   ],
   "source": [
    "x = [1,5,10]\n",
    "\n",
    "ynoad = [1-972/1000, 1-51/100, 1-25/100]\n",
    "yaddem = [1-998/1000, 1-966/1000, 1-90/100]\n",
    "yadaddem = [1-995/1000, 1-970/1000, 1-96/100]\n",
    "\n",
    "plt.scatter(x, ynoad, label=\"non-adaptive\")\n",
    "plt.scatter(x, yaddem, label=\"adaptive dem1\")\n",
    "plt.scatter(x, yadaddem, label=\"adaptive dem2\")\n",
    "\n",
    "def fun(x, a):\n",
    "        return 1 - (1 - a)**x\n",
    "\n",
    "popt, pcov = curve_fit(fun, x, yadaddem, maxfev=1000, p0=(0.001))\n",
    "xx = np.linspace(1, 10, 100)\n",
    "plt.yscale('log')\n",
    "yy = fun(xx, *popt)\n",
    "plt.plot(xx, yy, c='k', linewidth=1)\n",
    "plt.legend(loc='lower right')\n",
    "plt.xlabel(\"QEC Rounds\")\n",
    "plt.ylabel(\"Logical error rate\")"
   ]
  },
  {
   "cell_type": "code",
   "execution_count": null,
   "metadata": {},
   "outputs": [],
   "source": []
  },
  {
   "cell_type": "code",
   "execution_count": null,
   "metadata": {},
   "outputs": [],
   "source": []
  }
 ],
 "metadata": {
  "kernelspec": {
   "display_name": "Python 3 (ipykernel)",
   "language": "python",
   "name": "python3"
  },
  "language_info": {
   "codemirror_mode": {
    "name": "ipython",
    "version": 3
   },
   "file_extension": ".py",
   "mimetype": "text/x-python",
   "name": "python",
   "nbconvert_exporter": "python",
   "pygments_lexer": "ipython3",
   "version": "3.8.18"
  }
 },
 "nbformat": 4,
 "nbformat_minor": 2
}
