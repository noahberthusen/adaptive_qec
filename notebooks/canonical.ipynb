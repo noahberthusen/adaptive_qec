{
 "cells": [
  {
   "cell_type": "code",
   "execution_count": 551,
   "metadata": {},
   "outputs": [],
   "source": [
    "import numpy as np\n",
    "import matplotlib.pyplot as plt\n",
    "import galois\n",
    "from classical_code import *\n",
    "from quantum_code import *\n",
    "import os"
   ]
  },
  {
   "cell_type": "code",
   "execution_count": 649,
   "metadata": {},
   "outputs": [
    {
     "name": "stdout",
     "output_type": "stream",
     "text": [
      "[[0 0 1 0 1 1 0 1]\n",
      " [1 1 0 0 1 0 0 1]\n",
      " [1 0 1 0 0 1 1 0]\n",
      " [1 0 0 1 1 0 1 0]\n",
      " [0 1 0 1 0 1 1 0]\n",
      " [0 1 1 1 0 0 0 1]]\n"
     ]
    }
   ],
   "source": [
    "GF = galois.GF(2)\n",
    "# ccode = read_code(\"../codes/ccodes/24_18_3_4.code\")\n",
    "ccode = read_code(\"../codes/ccodes/8_6_3_4.code\")\n",
    "\n",
    "H = np.zeros((ccode.m, ccode.n), dtype=int)\n",
    "for i in range(ccode.m):\n",
    "    for j in range(ccode.n):\n",
    "        if (j in ccode.check_nbhd[i]):\n",
    "            H[i][j] = 1\n",
    "\n",
    "\n",
    "# H = np.array([\n",
    "#     [1,0,1,0,1,0],\n",
    "#     [0,1,0,0,1,1],\n",
    "#     [1,0,1,1,0,0],\n",
    "#     [0,1,1,1,0,0]\n",
    "# ])\n",
    "m, n = H.shape\n",
    "H = GF(H)\n",
    "print(H)\n"
   ]
  },
  {
   "cell_type": "code",
   "execution_count": 650,
   "metadata": {},
   "outputs": [],
   "source": [
    "def gaussian_reduction(H):\n",
    "    m, n = H.shape\n",
    "\n",
    "    H = GF(H)\n",
    "    Hhat = GF(H.copy())\n",
    "    K = GF(np.eye(n, dtype=int))\n",
    "    pik = set(np.arange(n))\n",
    "\n",
    "    for j in range(n):\n",
    "        i = 0\n",
    "        while ((i < m-1) and (Hhat[i][j] != 1)):\n",
    "            i += 1\n",
    "        if Hhat[i][j] == 1:\n",
    "            pik ^= {j}\n",
    "            for l in range(j+1, n):\n",
    "                if Hhat[i][l] == 1:\n",
    "                    Hhat[:,l] = Hhat[:,j] ^ Hhat[:,l]\n",
    "                    K[:,l] = K[:,j] ^ K[:,l]\n",
    "\n",
    "    return K, pik"
   ]
  },
  {
   "cell_type": "code",
   "execution_count": 651,
   "metadata": {},
   "outputs": [],
   "source": [
    "Lx = []\n",
    "Lz = []\n",
    "\n",
    "K, pik = gaussian_reduction(H)\n",
    "I = np.eye(n, dtype=int)\n",
    "\n",
    "for i in pik:\n",
    "    for j in pik:\n",
    "        tmp = np.kron(K[:,i], I[:,j])\n",
    "        Lz.append(np.concatenate([tmp, np.zeros(m**2, dtype=int)]))\n",
    "\n",
    "        tmp = np.kron(I[:,i], K[:,j])\n",
    "        Lx.append(np.concatenate([tmp, np.zeros(m**2, dtype=int)]))\n",
    "\n",
    "K, pik = gaussian_reduction(H.T)\n",
    "I = np.eye(H.T.shape[1], dtype=int)\n",
    "\n",
    "for i in pik:\n",
    "    for j in pik:\n",
    "        tmp = np.kron(K[:,i], I[:,j])\n",
    "        Lx.append(np.concatenate([np.zeros(n**2, dtype=int), tmp]))\n",
    "\n",
    "        tmp = np.kron(I[:,i], K[:,j])\n",
    "        Lz.append(np.concatenate([np.zeros(n**2, dtype=int), tmp]))\n",
    "\n",
    "Lx = np.array(Lx)\n",
    "Lz = np.array(Lz)"
   ]
  },
  {
   "cell_type": "code",
   "execution_count": 655,
   "metadata": {},
   "outputs": [],
   "source": [
    "H = np.array(H)\n",
    "Hx = np.hstack([np.kron(H, np.eye(H.shape[1], dtype=int)), np.kron(np.eye(H.shape[0], dtype=int), H.T)])\n",
    "Hz = np.hstack([np.kron(np.eye(H.shape[1], dtype=int), H), np.kron(H.T, np.eye(H.shape[0], dtype=int))])\n",
    "cm, cn = Hx.shape\n",
    "\n",
    "Hx_inds = [np.where(Hx[i])[0] for i in range(Hx.shape[0])]\n",
    "Hz_inds = [np.where(Hz[i])[0] for i in range(Hz.shape[0])]\n",
    "\n",
    "xL_inds = [np.where(x)[0] for x in Lx]\n",
    "zL_inds = [np.where(z)[0] for z in Lz]\n",
    "k = len(xL_inds)\n",
    "\n",
    "qcode = QuantumCode(cn, k, Hz.shape[0], Hz.shape[0],\n",
    "                    0, 0,\n",
    "                    Hx_inds, Hz_inds, xL_inds, zL_inds, [])\n",
    "# write_qcode(\"../codes/qcodes/\" + f\"/HGP_{cn}_{k}.qcode\", qcode)\n"
   ]
  },
  {
   "cell_type": "code",
   "execution_count": 656,
   "metadata": {},
   "outputs": [
    {
     "data": {
      "text/plain": [
       "<matplotlib.image.AxesImage at 0x12f2003f310>"
      ]
     },
     "execution_count": 656,
     "metadata": {},
     "output_type": "execute_result"
    },
    {
     "data": {
      "image/png": "[encoded data removed]",
      "text/plain": [
       "<Figure size 1000x480 with 1 Axes>"
      ]
     },
     "metadata": {},
     "output_type": "display_data"
    }
   ],
   "source": [
    "plt.matshow(np.array(Hz))"
   ]
  },
  {
   "cell_type": "code",
   "execution_count": 657,
   "metadata": {},
   "outputs": [
    {
     "data": {
      "text/plain": [
       "array([7, 7, 7, 7, 7, 7, 7, 7, 7, 7, 7, 7, 7, 7, 7, 7, 7, 7, 7, 7, 7, 7,\n",
       "       7, 7, 7, 7, 7, 7, 7, 7, 7, 7, 7, 7, 7, 7, 7, 7, 7, 7, 7, 7, 7, 7,\n",
       "       7, 7, 7, 7], dtype=int64)"
      ]
     },
     "execution_count": 657,
     "metadata": {},
     "output_type": "execute_result"
    }
   ],
   "source": [
    "np.count_nonzero(Hx, axis=1)"
   ]
  },
  {
   "cell_type": "code",
   "execution_count": 658,
   "metadata": {},
   "outputs": [],
   "source": [
    "xgens = []\n",
    "zgens = []\n",
    "\n",
    "for i in range(Hx.shape[0]):\n",
    "    xgens.append((Hx[i][:n**2].reshape(n,n), Hx[i][n**2:].reshape(m,m)))\n",
    "    zgens.append((Hz[i][:n**2].reshape(n,n), Hz[i][n**2:].reshape(m,m)))\n",
    "\n",
    "xlogs = []\n",
    "zlogs = []\n",
    "for i in range(Lx.shape[0]):\n",
    "    xlogs.append((Lx[i][:n**2].reshape(n,n), Lx[i][n**2:].reshape(m,m)))\n",
    "    zlogs.append((Lz[i][:n**2].reshape(n,n), Lz[i][n**2:].reshape(m,m)))"
   ]
  },
  {
   "cell_type": "code",
   "execution_count": 659,
   "metadata": {},
   "outputs": [
    {
     "data": {
      "text/plain": [
       "array([[0, 1, 1, 1, 0, 0],\n",
       "       [0, 1, 0, 0, 1, 1],\n",
       "       [1, 0, 1, 0, 0, 1],\n",
       "       [0, 0, 0, 1, 1, 1],\n",
       "       [1, 1, 0, 1, 0, 0],\n",
       "       [1, 0, 1, 0, 1, 0],\n",
       "       [0, 0, 1, 1, 1, 0],\n",
       "       [1, 1, 0, 0, 0, 1]], dtype=uint8)"
      ]
     },
     "execution_count": 659,
     "metadata": {},
     "output_type": "execute_result"
    }
   ],
   "source": [
    "H.T"
   ]
  },
  {
   "cell_type": "code",
   "execution_count": 660,
   "metadata": {},
   "outputs": [
    {
     "data": {
      "text/plain": [
       "<matplotlib.image.AxesImage at 0x12f200e1e80>"
      ]
     },
     "execution_count": 660,
     "metadata": {},
     "output_type": "execute_result"
    },
    {
     "data": {
      "image/png": "[encoded data removed]",
      "text/plain": [
       "<Figure size 1000x500 with 2 Axes>"
      ]
     },
     "metadata": {},
     "output_type": "display_data"
    }
   ],
   "source": [
    "fig, axes = plt.subplots(1, 2, figsize=(10, 5), sharey=False)\n",
    "\n",
    "axes[0].matshow(xgens[21][0])\n",
    "axes[1].matshow(xgens[19][1])"
   ]
  },
  {
   "cell_type": "code",
   "execution_count": null,
   "metadata": {},
   "outputs": [],
   "source": []
  },
  {
   "cell_type": "code",
   "execution_count": 661,
   "metadata": {},
   "outputs": [
    {
     "data": {
      "text/plain": [
       "<matplotlib.image.AxesImage at 0x12f204215b0>"
      ]
     },
     "execution_count": 661,
     "metadata": {},
     "output_type": "execute_result"
    },
    {
     "data": {
      "image/png": "[encoded data removed]",
      "text/plain": [
       "<Figure size 1000x500 with 2 Axes>"
      ]
     },
     "metadata": {},
     "output_type": "display_data"
    }
   ],
   "source": [
    "fig, axes = plt.subplots(1, 2, figsize=(10, 5), sharey=False)\n",
    "\n",
    "ind = 1\n",
    "axes[0].matshow(xlogs[ind][0])\n",
    "axes[1].matshow(zlogs[ind][0])"
   ]
  },
  {
   "cell_type": "code",
   "execution_count": 662,
   "metadata": {},
   "outputs": [
    {
     "name": "stdout",
     "output_type": "stream",
     "text": [
      "[[ 0  1  2  3  4  5  6  7]\n",
      " [ 8  9 10 11 12 13 14 15]\n",
      " [16 17 18 19 20 21 22 23]\n",
      " [24 25 26 27 28 29 30 31]\n",
      " [32 33 34 35 36 37 38 39]\n",
      " [40 41 42 43 44 45 46 47]\n",
      " [48 49 50 51 52 53 54 55]\n",
      " [56 57 58 59 60 61 62 63]]\n",
      "[[64 65 66 67 68 69]\n",
      " [70 71 72 73 74 75]\n",
      " [76 77 78 79 80 81]\n",
      " [82 83 84 85 86 87]\n",
      " [88 89 90 91 92 93]\n",
      " [94 95 96 97 98 99]]\n"
     ]
    }
   ],
   "source": [
    "inds = np.arange(Hx.shape[1])\n",
    "left, right = (inds[:n**2].reshape(n,n), inds[n**2:].reshape(m,m))\n",
    "print(left)\n",
    "print(right)"
   ]
  },
  {
   "cell_type": "code",
   "execution_count": 663,
   "metadata": {},
   "outputs": [
    {
     "data": {
      "text/plain": [
       "array([[ 0,  9],\n",
       "       [18, 27],\n",
       "       [36, 45],\n",
       "       [54, 63],\n",
       "       [64, 71],\n",
       "       [78, 85],\n",
       "       [92, 99],\n",
       "       [ 1,  8],\n",
       "       [ 2, 16],\n",
       "       [ 3, 24],\n",
       "       [ 4, 32],\n",
       "       [ 5, 40],\n",
       "       [ 6, 48],\n",
       "       [ 7, 56],\n",
       "       [10, 17],\n",
       "       [11, 25],\n",
       "       [12, 33],\n",
       "       [13, 41],\n",
       "       [14, 49],\n",
       "       [15, 57],\n",
       "       [19, 26],\n",
       "       [20, 34],\n",
       "       [21, 42],\n",
       "       [22, 50],\n",
       "       [23, 58],\n",
       "       [28, 35],\n",
       "       [29, 43],\n",
       "       [30, 51],\n",
       "       [31, 59],\n",
       "       [37, 44],\n",
       "       [38, 52],\n",
       "       [39, 60],\n",
       "       [46, 53],\n",
       "       [47, 61],\n",
       "       [55, 62],\n",
       "       [65, 70],\n",
       "       [66, 76],\n",
       "       [67, 82],\n",
       "       [68, 88],\n",
       "       [69, 94],\n",
       "       [72, 77],\n",
       "       [73, 83],\n",
       "       [74, 89],\n",
       "       [75, 95],\n",
       "       [79, 84],\n",
       "       [80, 90],\n",
       "       [81, 96],\n",
       "       [86, 91],\n",
       "       [87, 97],\n",
       "       [93, 98]])"
      ]
     },
     "execution_count": 663,
     "metadata": {},
     "output_type": "execute_result"
    }
   ],
   "source": [
    "def assign_qubits(left, right):\n",
    "    pairs = np.concatenate([np.diagonal(left), np.diagonal(right)]).reshape(-1, 2)\n",
    "\n",
    "    upper_triangle_inds = np.triu_indices(left.shape[0], k=1)\n",
    "    for i, j in zip(*upper_triangle_inds):\n",
    "        tmp = np.array([left[i][j], left[j][i]])\n",
    "        pairs = np.vstack([pairs, tmp])\n",
    "\n",
    "    upper_triangle_inds = np.triu_indices(right.shape[0], k=1)\n",
    "    for i, j in zip(*upper_triangle_inds):\n",
    "        tmp = np.array([right[i][j], right[j][i]])\n",
    "        pairs = np.vstack([pairs, tmp])\n",
    "\n",
    "    return pairs\n",
    "\n",
    "pairs = assign_qubits(left, right)\n",
    "pairs"
   ]
  },
  {
   "cell_type": "code",
   "execution_count": 664,
   "metadata": {},
   "outputs": [
    {
     "name": "stdout",
     "output_type": "stream",
     "text": [
      "[[0 1]\n",
      " [0 2]]\n",
      "[[1 3]\n",
      " [2 3]]\n"
     ]
    }
   ],
   "source": [
    "def iceberglogicals(n):\n",
    "    icebergX = np.zeros(shape=(n-2,2), dtype=int)\n",
    "    icebergZ = np.zeros(shape=(n-2,2), dtype=int)\n",
    "\n",
    "    for i in range(n-2):\n",
    "        icebergX[i] = np.array([0,i+1])\n",
    "        icebergZ[i] = np.array([i+1,n-1])\n",
    "\n",
    "    return icebergX, icebergZ\n",
    "\n",
    "iceberg642Xlogicals = np.array([\n",
    "    [1,2],\n",
    "    [0,1],\n",
    "    [4,5],\n",
    "    [3,4],\n",
    "])\n",
    "\n",
    "iceberg642Zlogicals = np.array([\n",
    "    [0,1],\n",
    "    [1,2],\n",
    "    [3,4],\n",
    "    [4,5]\n",
    "])\n",
    "\n",
    "ibn = 4\n",
    "ibk = ibn-2\n",
    "icebergX = np.ones(ibn, dtype=int)\n",
    "# icebergZ = np.ones(ibn, dtype=int)\n",
    "\n",
    "# if (ibn == 6):\n",
    "#     icebergXlogicals, icebergZlogicals = iceberg642Xlogicals, iceberg642Zlogicals\n",
    "# else:\n",
    "icebergXlogicals, icebergZlogicals = iceberglogicals(ibn)\n",
    "print(icebergXlogicals)\n",
    "print(icebergZlogicals)"
   ]
  },
  {
   "cell_type": "code",
   "execution_count": 665,
   "metadata": {},
   "outputs": [],
   "source": [
    "# Hx, Hz, Lx, Lz = qcode.to_numpy()\n",
    "concatenatedStabilizersQED = np.kron(np.eye(Hx.shape[1]//ibk, dtype=int), icebergX) # ibk | Hx.shape[1] required\n",
    "\n",
    "concatenatedStabilizersXQEC = np.zeros(shape=(Hx.shape[0], concatenatedStabilizersQED.shape[1]), dtype=int)\n",
    "concatenatedStabilizersZQEC = np.zeros(shape=(Hz.shape[0], concatenatedStabilizersQED.shape[1]), dtype=int)\n",
    "\n",
    "for i, r in enumerate(Hx):\n",
    "    # print(np.where(r))\n",
    "    for x in np.where(r)[0]:\n",
    "        iceberg_block = np.where(pairs == x)[0][0]\n",
    "        iceberg_log = np.where(pairs == x)[1][0]\n",
    "        # print(iceberg_block, iceberg_log)\n",
    "        concatenatedStabilizersXQEC[i][icebergXlogicals[iceberg_log]+(ibn*iceberg_block)] ^= 1\n",
    "\n",
    "for i, r in enumerate(Hz):\n",
    "    for z in np.where(r)[0]:\n",
    "        iceberg_block = np.where(pairs == z)[0][0]\n",
    "        iceberg_log = np.where(pairs == z)[1][0]\n",
    "        concatenatedStabilizersZQEC[i][icebergZlogicals[iceberg_log]+(ibn*iceberg_block)] ^= 1\n",
    "\n",
    "concatenatedHx = np.vstack([concatenatedStabilizersXQEC, concatenatedStabilizersQED][::-1])\n",
    "concatenatedHz = np.vstack([concatenatedStabilizersZQEC, concatenatedStabilizersQED][::-1])"
   ]
  },
  {
   "cell_type": "code",
   "execution_count": 666,
   "metadata": {},
   "outputs": [
    {
     "data": {
      "text/plain": [
       "<matplotlib.image.AxesImage at 0x12f204e2e50>"
      ]
     },
     "execution_count": 666,
     "metadata": {},
     "output_type": "execute_result"
    },
    {
     "data": {
      "image/png": "[encoded data removed]",
      "text/plain": [
       "<Figure size 979.592x480 with 1 Axes>"
      ]
     },
     "metadata": {},
     "output_type": "display_data"
    }
   ],
   "source": [
    "plt.matshow(concatenatedHz)"
   ]
  },
  {
   "cell_type": "code",
   "execution_count": 667,
   "metadata": {},
   "outputs": [
    {
     "name": "stdout",
     "output_type": "stream",
     "text": [
      "[0 1 2 3]\n",
      "[4 5 6 7]\n",
      "[ 8  9 10 11]\n",
      "[12 13 14 15]\n",
      "[16 17 18 19]\n",
      "[20 21 22 23]\n",
      "[24 25 26 27]\n",
      "[28 29 30 31]\n",
      "[32 33 34 35]\n",
      "[36 37 38 39]\n",
      "[40 41 42 43]\n",
      "[44 45 46 47]\n",
      "[48 49 50 51]\n",
      "[52 53 54 55]\n",
      "[56 57 58 59]\n",
      "[60 61 62 63]\n",
      "[64 65 66 67]\n",
      "[68 69 70 71]\n",
      "[72 73 74 75]\n",
      "[76 77 78 79]\n",
      "[80 81 82 83]\n",
      "[84 85 86 87]\n",
      "[88 89 90 91]\n",
      "[92 93 94 95]\n",
      "[96 97 98 99]\n",
      "[100 101 102 103]\n",
      "[104 105 106 107]\n",
      "[108 109 110 111]\n",
      "[112 113 114 115]\n",
      "[116 117 118 119]\n",
      "[120 121 122 123]\n",
      "[124 125 126 127]\n",
      "[128 129 130 131]\n",
      "[132 133 134 135]\n",
      "[136 137 138 139]\n",
      "[140 141 142 143]\n",
      "[144 145 146 147]\n",
      "[148 149 150 151]\n",
      "[152 153 154 155]\n",
      "[156 157 158 159]\n",
      "[160 161 162 163]\n",
      "[164 165 166 167]\n",
      "[168 169 170 171]\n",
      "[172 173 174 175]\n",
      "[176 177 178 179]\n",
      "[180 181 182 183]\n",
      "[184 185 186 187]\n",
      "[188 189 190 191]\n",
      "[192 193 194 195]\n",
      "[196 197 198 199]\n",
      "[ 33  35  41  43  45  47  53  55 142 143 146 147 150 151]\n",
      "[  1   3  18  19  29  31  41  43  53  55 162 163 166 167]\n",
      "[  1   3  21  23  33  35  45  47  49  51 161 163 178 179]\n",
      "[  1   3  22  23  37  39  41  43  49  51 165 167 177 179]\n",
      "[ 29  31  37  39  45  47  49  51 169 171 181 183 189 191]\n",
      "[ 29  31  33  35  37  39  53  55 173 175 185 187 193 195]\n",
      "[ 57  59  65  67  69  71  77  79 142 143 154 155 158 159]\n",
      "[  2   3  18  19  30  31  65  67  77  79 170 171 174 175]\n",
      "[ 30  31  57  59  69  71  73  75 161 163 182 183 186 187]\n",
      "[ 30  31  61  63  65  67  73  75 165 167 190 191 194 195]\n",
      "[  2   3  25  27  61  63  69  71  73  75 169 171 198 199]\n",
      "[  2   3  26  27  57  59  61  63  77  79 173 175 197 199]\n",
      "[  5   7  17  19  85  87  89  91  97  99 146 147 158 159]\n",
      "[ 34  35  58  59  85  87  97  99 141 143 162 163 174 175]\n",
      "[  5   7  21  23  34  35  89  91  93  95 145 147 186 187]\n",
      "[ 34  35  81  83  85  87  93  95 149 151 177 179 194 195]\n",
      "[ 58  59  81  83  89  91  93  95 153 155 181 183 198 199]\n",
      "[  5   7  26  27  58  59  81  83  97  99 157 159 185 187]\n",
      "[ 82  83 101 103 105 107 113 115 150 151 154 155 158 159]\n",
      "[ 38  39  62  63 101 103 113 115 166 167 170 171 174 175]\n",
      "[ 38  39  82  83 105 107 109 111 178 179 182 183 186 187]\n",
      "[  6   7  22  23  38  39 101 103 109 111 190 191 194 195]\n",
      "[  6   7  25  27  62  63 105 107 109 111 189 191 198 199]\n",
      "[  6   7  26  27  62  63  82  83 113 115 193 195 197 199]\n",
      "[  9  11  17  19  86  87 117 119 125 127 142 143 150 151]\n",
      "[  9  11  18  19  42  43  66  67 125 127 141 143 166 167]\n",
      "[ 42  43  86  87 117 119 121 123 145 147 161 163 178 179]\n",
      "[  9  11  22  23  42  43 102 103 121 123 149 151 165 167]\n",
      "[ 66  67 102 103 117 119 121 123 153 155 169 171 189 191]\n",
      "[ 66  67  86  87 102 103 125 127 157 159 173 175 193 195]\n",
      "[ 10  11  17  19  90  91 118 119 133 135 146 147 154 155]\n",
      "[ 46  47  70  71 118 119 133 135 141 143 162 163 170 171]\n",
      "[ 10  11  21  23  46  47  90  91 129 131 145 147 182 183]\n",
      "[ 46  47 106 107 118 119 129 131 149 151 177 179 190 191]\n",
      "[ 10  11  25  27  70  71 106 107 129 131 153 155 181 183]\n",
      "[ 70  71  90  91 106 107 133 135 157 159 185 187 197 199]\n",
      "[ 94  95 122 123 130 131 137 139 146 147 150 151 154 155]\n",
      "[ 50  51  74  75 122 123 137 139 162 163 166 167 170 171]\n",
      "[ 13  15  21  23  50  51  94  95 130 131 178 179 182 183]\n",
      "[ 13  15  22  23  50  51 110 111 122 123 177 179 190 191]\n",
      "[ 13  15  25  27  74  75 110 111 130 131 181 183 189 191]\n",
      "[ 74  75  94  95 110 111 137 139 185 187 193 195 197 199]\n",
      "[ 14  15  17  19  98  99 126 127 134 135 142 143 158 159]\n",
      "[ 14  15  18  19  54  55  78  79 126 127 141 143 174 175]\n",
      "[ 54  55  98  99 134 135 138 139 145 147 161 163 186 187]\n",
      "[ 54  55 114 115 126 127 138 139 149 151 165 167 194 195]\n",
      "[ 78  79 114 115 134 135 138 139 153 155 169 171 198 199]\n",
      "[ 14  15  26  27  78  79  98  99 114 115 157 159 173 175]\n"
     ]
    }
   ],
   "source": [
    "for g in concatenatedHz:\n",
    "    print(np.where(g)[0])"
   ]
  },
  {
   "cell_type": "code",
   "execution_count": null,
   "metadata": {},
   "outputs": [],
   "source": [
    "concatenatedxL = np.zeros(shape=(Lx.shape[0], concatenatedStabilizersQED.shape[1]), dtype=int)\n",
    "concatenatedzL = np.zeros(shape=(Lz.shape[0], concatenatedStabilizersQED.shape[1]), dtype=int)\n",
    "\n",
    "for i, r in enumerate(Lx):\n",
    "    for x in np.where(r)[0]:\n",
    "        iceberg_block = np.where(pairs == x)[0][0]\n",
    "        iceberg_log = np.where(pairs == x)[1][0]\n",
    "        # print(iceberg_block, iceberg_log)\n",
    "        concatenatedxL[i][icebergXlogicals[iceberg_log]+(ibn*iceberg_block)] ^= 1\n",
    "\n",
    "for i, r in enumerate(Lz):\n",
    "    for z in np.where(r)[0]:\n",
    "        iceberg_block = np.where(pairs == z)[0][0]\n",
    "        iceberg_log = np.where(pairs == z)[1][0]\n",
    "        concatenatedzL[i][icebergZlogicals[iceberg_log]+(ibn*iceberg_block)] ^= 1\n",
    "\n",
    "xL_inds = [np.where(x)[0] for x in concatenatedxL]\n",
    "zL_inds = [np.where(z)[0] for z in concatenatedzL]\n",
    "\n",
    "m, n = concatenatedHx.shape\n",
    "k = len(xL_inds)\n",
    "\n",
    "Hx_inds = [np.where(concatenatedHx[i])[0] for i in range(concatenatedHx.shape[0])]\n",
    "Hz_inds = [np.where(concatenatedHz[i])[0] for i in range(concatenatedHz.shape[0])]\n",
    "\n",
    "qcode = QuantumCode(n, k, concatenatedHx.shape[0], concatenatedHz.shape[0],\n",
    "                    concatenatedStabilizersQED.shape[0], concatenatedStabilizersQED.shape[0],\n",
    "                    Hx_inds, Hz_inds, xL_inds, zL_inds, list(pairs))\n",
    "# write_qcode(\"../codes/qcodes/\" + f\"/HGP_C{ibn}{ibk}2_{n}_{k}.qcode\", qcode)"
   ]
  },
  {
   "cell_type": "code",
   "execution_count": 568,
   "metadata": {},
   "outputs": [
    {
     "data": {
      "text/plain": [
       "[array([ 22,  23,  97,  99, 205, 207, 253, 255, 297, 299, 337, 339, 373,\n",
       "        375, 405, 407, 433, 435, 477, 479], dtype=int64),\n",
       " array([101, 103, 209, 211, 257, 259, 301, 303, 341, 343, 377, 379, 409,\n",
       "        411, 437, 439, 481, 483, 497, 499], dtype=int64),\n",
       " array([109, 111, 217, 219, 265, 267, 309, 311, 349, 351, 385, 387, 417,\n",
       "        419, 445, 447, 489, 491, 505, 507], dtype=int64),\n",
       " array([113, 115, 221, 223, 269, 271, 313, 315, 353, 355, 389, 391, 421,\n",
       "        423, 449, 451, 493, 495, 509, 511], dtype=int64),\n",
       " array([153, 155, 337, 339, 373, 375, 405, 407, 457, 459, 498, 499],\n",
       "       dtype=int64),\n",
       " array([ 25,  27, 157, 159, 341, 343, 377, 379, 409, 411, 461, 463],\n",
       "       dtype=int64),\n",
       " array([165, 167, 349, 351, 385, 387, 417, 419, 469, 471, 517, 519],\n",
       "       dtype=int64),\n",
       " array([169, 171, 353, 355, 389, 391, 421, 423, 473, 475, 521, 523],\n",
       "       dtype=int64),\n",
       " array([ 97,  99, 297, 299, 373, 375, 405, 407, 433, 435, 506, 507],\n",
       "       dtype=int64),\n",
       " array([101, 103, 301, 303, 377, 379, 409, 411, 437, 439, 518, 519],\n",
       "       dtype=int64),\n",
       " array([ 29,  31, 109, 111, 309, 311, 385, 387, 417, 419, 445, 447],\n",
       "       dtype=int64),\n",
       " array([113, 115, 313, 315, 389, 391, 421, 423, 449, 451, 533, 535],\n",
       "       dtype=int64),\n",
       " array([ 97,  99, 297, 299, 337, 339, 433, 435, 502, 503, 510, 511],\n",
       "       dtype=int64),\n",
       " array([101, 103, 301, 303, 341, 343, 437, 439, 514, 515, 522, 523],\n",
       "       dtype=int64),\n",
       " array([109, 111, 309, 311, 349, 351, 445, 447, 525, 527, 534, 535],\n",
       "       dtype=int64),\n",
       " array([ 30,  31, 113, 115, 313, 315, 353, 355, 449, 451, 529, 531],\n",
       "       dtype=int64)]"
      ]
     },
     "execution_count": 568,
     "metadata": {},
     "output_type": "execute_result"
    }
   ],
   "source": [
    "zL_inds"
   ]
  },
  {
   "cell_type": "code",
   "execution_count": 569,
   "metadata": {},
   "outputs": [
    {
     "data": {
      "text/plain": [
       "[array([ 20,  22,  96,  98, 204, 206, 252, 254, 296, 298, 336, 338, 372,\n",
       "        374, 404, 406, 432, 434, 476, 478], dtype=int64),\n",
       " array([152, 154, 336, 338, 372, 374, 404, 406, 456, 458, 496, 497],\n",
       "       dtype=int64),\n",
       " array([ 96,  98, 296, 298, 372, 374, 404, 406, 432, 434, 504, 505],\n",
       "       dtype=int64),\n",
       " array([ 96,  98, 296, 298, 336, 338, 432, 434, 500, 501, 508, 509],\n",
       "       dtype=int64),\n",
       " array([100, 102, 208, 210, 256, 258, 300, 302, 340, 342, 376, 378, 408,\n",
       "        410, 436, 438, 480, 482, 496, 498], dtype=int64),\n",
       " array([ 24,  25, 156, 158, 340, 342, 376, 378, 408, 410, 460, 462],\n",
       "       dtype=int64),\n",
       " array([100, 102, 300, 302, 376, 378, 408, 410, 436, 438, 516, 517],\n",
       "       dtype=int64),\n",
       " array([100, 102, 300, 302, 340, 342, 436, 438, 512, 513, 520, 521],\n",
       "       dtype=int64),\n",
       " array([108, 110, 216, 218, 264, 266, 308, 310, 348, 350, 384, 386, 416,\n",
       "        418, 444, 446, 488, 490, 504, 506], dtype=int64),\n",
       " array([164, 166, 348, 350, 384, 386, 416, 418, 468, 470, 516, 518],\n",
       "       dtype=int64),\n",
       " array([ 28,  29, 108, 110, 308, 310, 384, 386, 416, 418, 444, 446],\n",
       "       dtype=int64),\n",
       " array([108, 110, 308, 310, 348, 350, 444, 446, 524, 526, 532, 533],\n",
       "       dtype=int64),\n",
       " array([112, 114, 220, 222, 268, 270, 312, 314, 352, 354, 388, 390, 420,\n",
       "        422, 448, 450, 492, 494, 508, 510], dtype=int64),\n",
       " array([168, 170, 352, 354, 388, 390, 420, 422, 472, 474, 520, 522],\n",
       "       dtype=int64),\n",
       " array([112, 114, 312, 314, 388, 390, 420, 422, 448, 450, 532, 534],\n",
       "       dtype=int64),\n",
       " array([ 28,  30, 112, 114, 312, 314, 352, 354, 448, 450, 528, 530],\n",
       "       dtype=int64)]"
      ]
     },
     "execution_count": 569,
     "metadata": {},
     "output_type": "execute_result"
    }
   ],
   "source": [
    "xL_inds"
   ]
  },
  {
   "cell_type": "code",
   "execution_count": null,
   "metadata": {},
   "outputs": [],
   "source": []
  }
 ],
 "metadata": {
  "kernelspec": {
   "display_name": "qc",
   "language": "python",
   "name": "python3"
  },
  "language_info": {
   "codemirror_mode": {
    "name": "ipython",
    "version": 3
   },
   "file_extension": ".py",
   "mimetype": "text/x-python",
   "name": "python",
   "nbconvert_exporter": "python",
   "pygments_lexer": "ipython3",
   "version": "3.8.18"
  }
 },
 "nbformat": 4,
 "nbformat_minor": 2
}
