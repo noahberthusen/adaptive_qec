{
 "cells": [
  {
   "cell_type": "code",
   "execution_count": 1,
   "metadata": {},
   "outputs": [],
   "source": [
    "import numpy as np\n",
    "import matplotlib.pyplot as plt\n",
    "import galois\n",
    "from classical_code import *\n",
    "from quantum_code import *"
   ]
  },
  {
   "cell_type": "code",
   "execution_count": 2,
   "metadata": {},
   "outputs": [],
   "source": [
    "H = np.array([\n",
    "    [1,1,0,1,1,0,0],\n",
    "    [1,0,1,1,0,1,0],\n",
    "    [0,1,1,1,0,0,1],\n",
    "    [1,0,1,0,1,0,1]\n",
    "])\n",
    "\n",
    "GF = galois.GF(2)\n",
    "m,n = H.shape"
   ]
  },
  {
   "cell_type": "code",
   "execution_count": 51,
   "metadata": {},
   "outputs": [
    {
     "name": "stdout",
     "output_type": "stream",
     "text": [
      "[[0 0 0 0 0 0 0 0 0 1 0 0 0 0 0 0 1 0 0 0 1 0 0 0 1 0 0 0 0 0 0 0]\n",
      " [0 0 0 0 0 1 0 0 0 0 0 0 1 0 0 0 0 0 0 0 0 1 0 0 0 1 0 0 0 0 0 0]\n",
      " [0 0 0 1 0 0 1 0 0 0 0 0 1 0 0 0 0 1 0 0 0 0 0 0 0 0 0 0 0 0 0 0]\n",
      " [1 0 0 0 0 0 0 1 0 0 0 0 0 0 0 0 0 1 0 0 0 0 0 0 1 0 0 0 0 0 0 0]\n",
      " [0 1 0 0 0 0 0 0 0 0 0 1 0 0 0 0 0 0 0 0 0 0 0 0 0 0 0 0 0 1 0 1]\n",
      " [0 0 0 0 0 0 0 0 0 1 0 0 0 0 0 0 0 0 1 0 0 0 0 1 0 0 0 1 0 0 0 0]\n",
      " [0 0 0 0 0 1 0 0 0 0 0 0 0 0 0 0 0 0 0 1 0 0 0 0 0 0 0 1 0 0 1 0]\n",
      " [0 0 0 0 0 1 0 0 0 0 0 1 0 1 0 0 0 0 0 0 0 0 0 0 0 0 0 0 1 0 0 0]\n",
      " [0 0 0 0 0 0 0 0 0 0 0 0 0 0 0 0 1 1 1 1 0 0 0 0 0 0 0 0 0 0 0 0]\n",
      " [0 1 0 0 0 0 0 0 0 0 0 0 0 0 0 0 0 0 0 0 0 0 0 0 1 1 0 0 0 0 1 0]\n",
      " [0 0 0 0 1 0 0 1 1 0 0 0 0 1 0 0 0 0 0 0 0 0 0 0 0 0 0 0 0 0 0 0]\n",
      " [0 0 0 0 0 0 1 0 1 0 0 0 0 0 0 0 0 0 0 0 0 0 1 0 0 0 0 0 0 0 1 0]\n",
      " [0 0 0 0 0 0 1 0 0 1 0 0 0 0 0 1 0 0 0 0 0 0 0 0 0 0 0 0 0 1 0 0]\n",
      " [0 0 0 0 0 0 0 0 1 0 0 0 0 0 0 0 0 0 0 1 0 0 0 0 0 0 1 0 0 0 0 1]\n",
      " [1 0 0 0 0 0 0 0 0 0 0 1 0 0 0 0 0 0 0 0 1 0 0 0 0 0 1 0 0 0 0 0]\n",
      " [0 0 0 0 0 0 0 0 0 0 0 0 1 0 1 0 0 0 0 0 0 0 0 1 0 0 0 0 0 0 0 1]\n",
      " [0 0 0 0 0 0 0 0 0 0 1 0 0 0 0 1 0 0 0 0 0 0 0 0 0 1 1 0 0 0 0 0]\n",
      " [1 0 0 0 1 0 0 0 0 0 0 0 0 0 0 0 0 0 0 0 0 1 0 1 0 0 0 0 0 0 0 0]\n",
      " [0 0 0 1 1 0 0 0 0 0 1 0 0 0 0 0 0 0 0 0 0 0 0 0 0 0 0 1 0 0 0 0]\n",
      " [0 0 1 0 0 0 0 0 0 0 0 0 0 0 0 0 0 0 0 0 0 1 1 0 0 0 0 0 0 1 0 0]\n",
      " [0 1 1 0 0 0 0 0 0 0 0 0 0 1 0 0 0 0 1 0 0 0 0 0 0 0 0 0 0 0 0 0]\n",
      " [0 0 1 1 0 0 0 0 0 0 0 0 0 0 1 0 0 0 0 0 1 0 0 0 0 0 0 0 0 0 0 0]\n",
      " [0 0 0 0 0 0 0 1 0 0 0 0 0 0 1 1 0 0 0 0 0 0 0 0 0 0 0 0 1 0 0 0]\n",
      " [0 0 0 0 0 0 0 0 0 0 1 0 0 0 0 0 1 0 0 0 0 0 1 0 0 0 0 0 1 0 0 0]]\n"
     ]
    }
   ],
   "source": [
    "GF = galois.GF(2)\n",
    "ccode = read_code(\"../codes/ccodes/32_24_3_4.code\")\n",
    "H = np.zeros((ccode.m, ccode.n), dtype=int)\n",
    "for i in range(ccode.m):\n",
    "    for j in range(ccode.n):\n",
    "        if (j in ccode.check_nbhd[i]):\n",
    "            H[i][j] = 1\n",
    "H = GF(H)\n",
    "m, n = H.shape\n",
    "print(H)"
   ]
  },
  {
   "cell_type": "code",
   "execution_count": 52,
   "metadata": {},
   "outputs": [],
   "source": [
    "def gaussian_reduction(H):\n",
    "    m, n = H.shape\n",
    "\n",
    "    H = GF(H)\n",
    "    Hhat = GF(H.copy())\n",
    "    K = GF(np.eye(n, dtype=int))\n",
    "    pik = set(np.arange(n))\n",
    "\n",
    "    for j in range(n):\n",
    "        i = 0\n",
    "        while ((i < m-1) and (Hhat[i][j] != 1)):\n",
    "            i += 1\n",
    "        if Hhat[i][j] == 1:\n",
    "            pik ^= {j}\n",
    "            for l in range(j+1, n):\n",
    "                if Hhat[i][l] == 1:\n",
    "                    Hhat[:,l] = Hhat[:,j] ^ Hhat[:,l]\n",
    "                    K[:,l] = K[:,j] ^ K[:,l]\n",
    "\n",
    "    return K, pik"
   ]
  },
  {
   "cell_type": "code",
   "execution_count": 53,
   "metadata": {},
   "outputs": [
    {
     "data": {
      "text/plain": [
       "{22, 25, 26, 27, 28, 29, 30, 31}"
      ]
     },
     "execution_count": 53,
     "metadata": {},
     "output_type": "execute_result"
    }
   ],
   "source": [
    "K, pik = gaussian_reduction(H)\n",
    "I = np.eye(n, dtype=int)\n",
    "pik"
   ]
  },
  {
   "cell_type": "code",
   "execution_count": 54,
   "metadata": {},
   "outputs": [],
   "source": [
    "Lx = []\n",
    "Lz = []\n",
    "\n",
    "for i in pik:\n",
    "    for j in pik:\n",
    "        tmp = np.kron(K[:,i], I[:,j])\n",
    "        # tmp = tmp.reshape(n,n)\n",
    "        Lz.append(tmp)\n",
    "\n",
    "        tmp = np.kron(I[:,i], K[:,j])\n",
    "        # tmp = tmp.reshape(n,n)\n",
    "        Lx.append(tmp)\n",
    "\n",
    "Lx = np.array(Lx)\n",
    "Lz = np.array(Lz)"
   ]
  },
  {
   "cell_type": "code",
   "execution_count": 70,
   "metadata": {},
   "outputs": [
    {
     "data": {
      "text/plain": [
       "{3}"
      ]
     },
     "execution_count": 70,
     "metadata": {},
     "output_type": "execute_result"
    }
   ],
   "source": [
    "K, pik = gaussian_reduction(H.T)\n",
    "I = np.eye(H.T.shape[1], dtype=int)\n",
    "pik"
   ]
  },
  {
   "cell_type": "code",
   "execution_count": 55,
   "metadata": {},
   "outputs": [],
   "source": [
    "H = np.array(H)\n",
    "Hx = np.hstack([np.kron(H, np.eye(H.shape[1], dtype=int)), np.kron(np.eye(H.shape[0], dtype=int), H.T)])\n",
    "Hz = np.hstack([np.kron(np.eye(H.shape[1], dtype=int), H), np.kron(H.T, np.eye(H.shape[0], dtype=int))])\n",
    "cm, cn = Hx.shape\n",
    "\n",
    "Hx_inds = [np.where(Hx[i])[0] for i in range(Hx.shape[0])]\n",
    "Hz_inds = [np.where(Hz[i])[0] for i in range(Hz.shape[0])]\n",
    "\n",
    "xL_inds = [np.where(x)[0] for x in Lx]\n",
    "zL_inds = [np.where(z)[0] for z in Lz]\n",
    "k = len(xL_inds)\n",
    "\n",
    "# qcode = QuantumCode(cn, k, Hz.shape[0], Hz.shape[0],\n",
    "#                     0, 0,\n",
    "#                     Hx_inds, Hz_inds, xL_inds, zL_inds)\n",
    "# write_qcode(\"../codes/qcodes/\" + f\"/HGP_{cn}_{k}.qcode\", qcode)\n"
   ]
  },
  {
   "cell_type": "code",
   "execution_count": 56,
   "metadata": {},
   "outputs": [
    {
     "data": {
      "text/plain": [
       "<matplotlib.image.AxesImage at 0x23891db09a0>"
      ]
     },
     "execution_count": 56,
     "metadata": {},
     "output_type": "execute_result"
    },
    {
     "data": {
      "image/png": "[encoded data removed]",
      "text/plain": [
       "<Figure size 1000x480 with 1 Axes>"
      ]
     },
     "metadata": {},
     "output_type": "display_data"
    }
   ],
   "source": [
    "plt.matshow(np.array(Hz))"
   ]
  },
  {
   "cell_type": "code",
   "execution_count": 57,
   "metadata": {},
   "outputs": [],
   "source": [
    "xgens = []\n",
    "zgens = []\n",
    "\n",
    "for i in range(Hx.shape[0]):\n",
    "    xgens.append((Hx[i][:n**2].reshape(n,n), Hx[i][n**2:].reshape(m,m)))\n",
    "    zgens.append((Hz[i][:n**2].reshape(n,n), Hz[i][n**2:].reshape(m,m)))"
   ]
  },
  {
   "cell_type": "code",
   "execution_count": 58,
   "metadata": {},
   "outputs": [
    {
     "data": {
      "text/plain": [
       "array([[0, 0, 0, 0, 0, 0, 0, 0, 0, 1, 0, 0, 0, 0, 0, 0, 1, 0, 0, 0, 1, 0,\n",
       "        0, 0, 1, 0, 0, 0, 0, 0, 0, 0],\n",
       "       [0, 0, 0, 0, 0, 1, 0, 0, 0, 0, 0, 0, 1, 0, 0, 0, 0, 0, 0, 0, 0, 1,\n",
       "        0, 0, 0, 1, 0, 0, 0, 0, 0, 0],\n",
       "       [0, 0, 0, 1, 0, 0, 1, 0, 0, 0, 0, 0, 1, 0, 0, 0, 0, 1, 0, 0, 0, 0,\n",
       "        0, 0, 0, 0, 0, 0, 0, 0, 0, 0],\n",
       "       [1, 0, 0, 0, 0, 0, 0, 1, 0, 0, 0, 0, 0, 0, 0, 0, 0, 1, 0, 0, 0, 0,\n",
       "        0, 0, 1, 0, 0, 0, 0, 0, 0, 0],\n",
       "       [0, 1, 0, 0, 0, 0, 0, 0, 0, 0, 0, 1, 0, 0, 0, 0, 0, 0, 0, 0, 0, 0,\n",
       "        0, 0, 0, 0, 0, 0, 0, 1, 0, 1],\n",
       "       [0, 0, 0, 0, 0, 0, 0, 0, 0, 1, 0, 0, 0, 0, 0, 0, 0, 0, 1, 0, 0, 0,\n",
       "        0, 1, 0, 0, 0, 1, 0, 0, 0, 0],\n",
       "       [0, 0, 0, 0, 0, 1, 0, 0, 0, 0, 0, 0, 0, 0, 0, 0, 0, 0, 0, 1, 0, 0,\n",
       "        0, 0, 0, 0, 0, 1, 0, 0, 1, 0],\n",
       "       [0, 0, 0, 0, 0, 1, 0, 0, 0, 0, 0, 1, 0, 1, 0, 0, 0, 0, 0, 0, 0, 0,\n",
       "        0, 0, 0, 0, 0, 0, 1, 0, 0, 0],\n",
       "       [0, 0, 0, 0, 0, 0, 0, 0, 0, 0, 0, 0, 0, 0, 0, 0, 1, 1, 1, 1, 0, 0,\n",
       "        0, 0, 0, 0, 0, 0, 0, 0, 0, 0],\n",
       "       [0, 1, 0, 0, 0, 0, 0, 0, 0, 0, 0, 0, 0, 0, 0, 0, 0, 0, 0, 0, 0, 0,\n",
       "        0, 0, 1, 1, 0, 0, 0, 0, 1, 0],\n",
       "       [0, 0, 0, 0, 1, 0, 0, 1, 1, 0, 0, 0, 0, 1, 0, 0, 0, 0, 0, 0, 0, 0,\n",
       "        0, 0, 0, 0, 0, 0, 0, 0, 0, 0],\n",
       "       [0, 0, 0, 0, 0, 0, 1, 0, 1, 0, 0, 0, 0, 0, 0, 0, 0, 0, 0, 0, 0, 0,\n",
       "        1, 0, 0, 0, 0, 0, 0, 0, 1, 0],\n",
       "       [0, 0, 0, 0, 0, 0, 1, 0, 0, 1, 0, 0, 0, 0, 0, 1, 0, 0, 0, 0, 0, 0,\n",
       "        0, 0, 0, 0, 0, 0, 0, 1, 0, 0],\n",
       "       [0, 0, 0, 0, 0, 0, 0, 0, 1, 0, 0, 0, 0, 0, 0, 0, 0, 0, 0, 1, 0, 0,\n",
       "        0, 0, 0, 0, 1, 0, 0, 0, 0, 1],\n",
       "       [1, 0, 0, 0, 0, 0, 0, 0, 0, 0, 0, 1, 0, 0, 0, 0, 0, 0, 0, 0, 1, 0,\n",
       "        0, 0, 0, 0, 1, 0, 0, 0, 0, 0],\n",
       "       [0, 0, 0, 0, 0, 0, 0, 0, 0, 0, 0, 0, 1, 0, 1, 0, 0, 0, 0, 0, 0, 0,\n",
       "        0, 1, 0, 0, 0, 0, 0, 0, 0, 1],\n",
       "       [0, 0, 0, 0, 0, 0, 0, 0, 0, 0, 1, 0, 0, 0, 0, 1, 0, 0, 0, 0, 0, 0,\n",
       "        0, 0, 0, 1, 1, 0, 0, 0, 0, 0],\n",
       "       [1, 0, 0, 0, 1, 0, 0, 0, 0, 0, 0, 0, 0, 0, 0, 0, 0, 0, 0, 0, 0, 1,\n",
       "        0, 1, 0, 0, 0, 0, 0, 0, 0, 0],\n",
       "       [0, 0, 0, 1, 1, 0, 0, 0, 0, 0, 1, 0, 0, 0, 0, 0, 0, 0, 0, 0, 0, 0,\n",
       "        0, 0, 0, 0, 0, 1, 0, 0, 0, 0],\n",
       "       [0, 0, 1, 0, 0, 0, 0, 0, 0, 0, 0, 0, 0, 0, 0, 0, 0, 0, 0, 0, 0, 1,\n",
       "        1, 0, 0, 0, 0, 0, 0, 1, 0, 0],\n",
       "       [0, 1, 1, 0, 0, 0, 0, 0, 0, 0, 0, 0, 0, 1, 0, 0, 0, 0, 1, 0, 0, 0,\n",
       "        0, 0, 0, 0, 0, 0, 0, 0, 0, 0],\n",
       "       [0, 0, 1, 1, 0, 0, 0, 0, 0, 0, 0, 0, 0, 0, 1, 0, 0, 0, 0, 0, 1, 0,\n",
       "        0, 0, 0, 0, 0, 0, 0, 0, 0, 0],\n",
       "       [0, 0, 0, 0, 0, 0, 0, 1, 0, 0, 0, 0, 0, 0, 1, 1, 0, 0, 0, 0, 0, 0,\n",
       "        0, 0, 0, 0, 0, 0, 1, 0, 0, 0],\n",
       "       [0, 0, 0, 0, 0, 0, 0, 0, 0, 0, 1, 0, 0, 0, 0, 0, 1, 0, 0, 0, 0, 0,\n",
       "        1, 0, 0, 0, 0, 0, 1, 0, 0, 0]], dtype=uint8)"
      ]
     },
     "execution_count": 58,
     "metadata": {},
     "output_type": "execute_result"
    }
   ],
   "source": [
    "H"
   ]
  },
  {
   "cell_type": "code",
   "execution_count": 59,
   "metadata": {},
   "outputs": [
    {
     "data": {
      "text/plain": [
       "<matplotlib.image.AxesImage at 0x238921380d0>"
      ]
     },
     "execution_count": 59,
     "metadata": {},
     "output_type": "execute_result"
    },
    {
     "data": {
      "image/png": "[encoded data removed]",
      "text/plain": [
       "<Figure size 1000x500 with 2 Axes>"
      ]
     },
     "metadata": {},
     "output_type": "display_data"
    }
   ],
   "source": [
    "fig, axes = plt.subplots(1, 2, figsize=(10, 5), sharey=False)\n",
    "\n",
    "axes[0].matshow(zgens[-1][0])\n",
    "axes[1].matshow(zgens[18][1])"
   ]
  },
  {
   "cell_type": "code",
   "execution_count": 60,
   "metadata": {},
   "outputs": [
    {
     "data": {
      "text/plain": [
       "array([[0, 0, 0, ..., 0, 0, 0],\n",
       "       [0, 0, 0, ..., 0, 0, 0],\n",
       "       [0, 0, 0, ..., 0, 0, 0],\n",
       "       ...,\n",
       "       [0, 0, 0, ..., 0, 0, 0],\n",
       "       [0, 0, 0, ..., 0, 0, 0],\n",
       "       [0, 0, 0, ..., 0, 0, 0]], dtype=uint8)"
      ]
     },
     "execution_count": 60,
     "metadata": {},
     "output_type": "execute_result"
    }
   ],
   "source": [
    "Lx[0].reshape(n,n)"
   ]
  },
  {
   "cell_type": "code",
   "execution_count": 61,
   "metadata": {},
   "outputs": [
    {
     "name": "stdout",
     "output_type": "stream",
     "text": [
      "[[   0    1    2 ...   29   30   31]\n",
      " [  32   33   34 ...   61   62   63]\n",
      " [  64   65   66 ...   93   94   95]\n",
      " ...\n",
      " [ 928  929  930 ...  957  958  959]\n",
      " [ 960  961  962 ...  989  990  991]\n",
      " [ 992  993  994 ... 1021 1022 1023]]\n",
      "[[1024 1025 1026 1027 1028 1029 1030 1031 1032 1033 1034 1035 1036 1037\n",
      "  1038 1039 1040 1041 1042 1043 1044 1045 1046 1047]\n",
      " [1048 1049 1050 1051 1052 1053 1054 1055 1056 1057 1058 1059 1060 1061\n",
      "  1062 1063 1064 1065 1066 1067 1068 1069 1070 1071]\n",
      " [1072 1073 1074 1075 1076 1077 1078 1079 1080 1081 1082 1083 1084 1085\n",
      "  1086 1087 1088 1089 1090 1091 1092 1093 1094 1095]\n",
      " [1096 1097 1098 1099 1100 1101 1102 1103 1104 1105 1106 1107 1108 1109\n",
      "  1110 1111 1112 1113 1114 1115 1116 1117 1118 1119]\n",
      " [1120 1121 1122 1123 1124 1125 1126 1127 1128 1129 1130 1131 1132 1133\n",
      "  1134 1135 1136 1137 1138 1139 1140 1141 1142 1143]\n",
      " [1144 1145 1146 1147 1148 1149 1150 1151 1152 1153 1154 1155 1156 1157\n",
      "  1158 1159 1160 1161 1162 1163 1164 1165 1166 1167]\n",
      " [1168 1169 1170 1171 1172 1173 1174 1175 1176 1177 1178 1179 1180 1181\n",
      "  1182 1183 1184 1185 1186 1187 1188 1189 1190 1191]\n",
      " [1192 1193 1194 1195 1196 1197 1198 1199 1200 1201 1202 1203 1204 1205\n",
      "  1206 1207 1208 1209 1210 1211 1212 1213 1214 1215]\n",
      " [1216 1217 1218 1219 1220 1221 1222 1223 1224 1225 1226 1227 1228 1229\n",
      "  1230 1231 1232 1233 1234 1235 1236 1237 1238 1239]\n",
      " [1240 1241 1242 1243 1244 1245 1246 1247 1248 1249 1250 1251 1252 1253\n",
      "  1254 1255 1256 1257 1258 1259 1260 1261 1262 1263]\n",
      " [1264 1265 1266 1267 1268 1269 1270 1271 1272 1273 1274 1275 1276 1277\n",
      "  1278 1279 1280 1281 1282 1283 1284 1285 1286 1287]\n",
      " [1288 1289 1290 1291 1292 1293 1294 1295 1296 1297 1298 1299 1300 1301\n",
      "  1302 1303 1304 1305 1306 1307 1308 1309 1310 1311]\n",
      " [1312 1313 1314 1315 1316 1317 1318 1319 1320 1321 1322 1323 1324 1325\n",
      "  1326 1327 1328 1329 1330 1331 1332 1333 1334 1335]\n",
      " [1336 1337 1338 1339 1340 1341 1342 1343 1344 1345 1346 1347 1348 1349\n",
      "  1350 1351 1352 1353 1354 1355 1356 1357 1358 1359]\n",
      " [1360 1361 1362 1363 1364 1365 1366 1367 1368 1369 1370 1371 1372 1373\n",
      "  1374 1375 1376 1377 1378 1379 1380 1381 1382 1383]\n",
      " [1384 1385 1386 1387 1388 1389 1390 1391 1392 1393 1394 1395 1396 1397\n",
      "  1398 1399 1400 1401 1402 1403 1404 1405 1406 1407]\n",
      " [1408 1409 1410 1411 1412 1413 1414 1415 1416 1417 1418 1419 1420 1421\n",
      "  1422 1423 1424 1425 1426 1427 1428 1429 1430 1431]\n",
      " [1432 1433 1434 1435 1436 1437 1438 1439 1440 1441 1442 1443 1444 1445\n",
      "  1446 1447 1448 1449 1450 1451 1452 1453 1454 1455]\n",
      " [1456 1457 1458 1459 1460 1461 1462 1463 1464 1465 1466 1467 1468 1469\n",
      "  1470 1471 1472 1473 1474 1475 1476 1477 1478 1479]\n",
      " [1480 1481 1482 1483 1484 1485 1486 1487 1488 1489 1490 1491 1492 1493\n",
      "  1494 1495 1496 1497 1498 1499 1500 1501 1502 1503]\n",
      " [1504 1505 1506 1507 1508 1509 1510 1511 1512 1513 1514 1515 1516 1517\n",
      "  1518 1519 1520 1521 1522 1523 1524 1525 1526 1527]\n",
      " [1528 1529 1530 1531 1532 1533 1534 1535 1536 1537 1538 1539 1540 1541\n",
      "  1542 1543 1544 1545 1546 1547 1548 1549 1550 1551]\n",
      " [1552 1553 1554 1555 1556 1557 1558 1559 1560 1561 1562 1563 1564 1565\n",
      "  1566 1567 1568 1569 1570 1571 1572 1573 1574 1575]\n",
      " [1576 1577 1578 1579 1580 1581 1582 1583 1584 1585 1586 1587 1588 1589\n",
      "  1590 1591 1592 1593 1594 1595 1596 1597 1598 1599]]\n"
     ]
    }
   ],
   "source": [
    "inds = np.arange(Hx.shape[1])\n",
    "left, right = (inds[:n**2].reshape(n,n), inds[n**2:].reshape(m,m))\n",
    "print(left)\n",
    "print(right)"
   ]
  },
  {
   "cell_type": "code",
   "execution_count": 62,
   "metadata": {},
   "outputs": [
    {
     "data": {
      "text/plain": [
       "array([[   0,   33],\n",
       "       [  66,   99],\n",
       "       [ 132,  165],\n",
       "       ...,\n",
       "       [1550, 1573],\n",
       "       [1551, 1597],\n",
       "       [1575, 1598]])"
      ]
     },
     "execution_count": 62,
     "metadata": {},
     "output_type": "execute_result"
    }
   ],
   "source": [
    "def assign_qubits(left, right):\n",
    "    pairs = np.concatenate([np.diagonal(left), np.diagonal(right)]).reshape(-1, 2)\n",
    "\n",
    "    upper_triangle_inds = np.triu_indices(left.shape[0], k=1)\n",
    "    for i, j in zip(*upper_triangle_inds):\n",
    "        tmp = np.array([left[i][j], left[j][i]])\n",
    "        pairs = np.vstack([pairs, tmp])\n",
    "\n",
    "    upper_triangle_inds = np.triu_indices(right.shape[0], k=1)\n",
    "    for i, j in zip(*upper_triangle_inds):\n",
    "        tmp = np.array([right[i][j], right[j][i]])\n",
    "        pairs = np.vstack([pairs, tmp])\n",
    "\n",
    "    return pairs\n",
    "\n",
    "pairs = assign_qubits(left, right)\n",
    "pairs"
   ]
  },
  {
   "cell_type": "code",
   "execution_count": 63,
   "metadata": {},
   "outputs": [
    {
     "name": "stdout",
     "output_type": "stream",
     "text": [
      "[[0 1]\n",
      " [0 2]]\n",
      "[[1 3]\n",
      " [2 3]]\n"
     ]
    }
   ],
   "source": [
    "def iceberglogicals(n):\n",
    "    icebergX = np.zeros(shape=(n-2,2), dtype=int)\n",
    "    icebergZ = np.zeros(shape=(n-2,2), dtype=int)\n",
    "\n",
    "    for i in range(n-2):\n",
    "        icebergX[i] = np.array([0,i+1])\n",
    "        icebergZ[i] = np.array([i+1,n-1])\n",
    "\n",
    "    return icebergX, icebergZ\n",
    "\n",
    "iceberg642Xlogicals = np.array([\n",
    "    [1,2],\n",
    "    [0,1],\n",
    "    [4,5],\n",
    "    [3,4],\n",
    "])\n",
    "\n",
    "iceberg642Zlogicals = np.array([\n",
    "    [0,1],\n",
    "    [1,2],\n",
    "    [3,4],\n",
    "    [4,5]\n",
    "])\n",
    "\n",
    "ibn = 4\n",
    "ibk = ibn-2\n",
    "icebergX = np.ones(ibn, dtype=int)\n",
    "# icebergZ = np.ones(ibn, dtype=int)\n",
    "\n",
    "# if (ibn == 6):\n",
    "#     icebergXlogicals, icebergZlogicals = iceberg642Xlogicals, iceberg642Zlogicals\n",
    "# else:\n",
    "icebergXlogicals, icebergZlogicals = iceberglogicals(ibn)\n",
    "print(icebergXlogicals)\n",
    "print(icebergZlogicals)"
   ]
  },
  {
   "cell_type": "code",
   "execution_count": 64,
   "metadata": {},
   "outputs": [],
   "source": [
    "# Hx, Hz, Lx, Lz = qcode.to_numpy()\n",
    "concatenatedStabilizersQED = np.kron(np.eye(Hx.shape[1]//ibk, dtype=int), icebergX) # ibk | Hx.shape[1] required\n",
    "\n",
    "concatenatedStabilizersXQEC = np.zeros(shape=(Hx.shape[0], concatenatedStabilizersQED.shape[1]), dtype=int)\n",
    "concatenatedStabilizersZQEC = np.zeros(shape=(Hz.shape[0], concatenatedStabilizersQED.shape[1]), dtype=int)\n",
    "\n",
    "for i, r in enumerate(Hx):\n",
    "    # print(np.where(r))\n",
    "    for x in np.where(r)[0]:\n",
    "        iceberg_block = np.where(pairs == x)[0][0]\n",
    "        iceberg_log = np.where(pairs == x)[1][0]\n",
    "        # print(iceberg_block, iceberg_log)\n",
    "        concatenatedStabilizersXQEC[i][icebergXlogicals[iceberg_log]+(ibn*iceberg_block)] ^= 1\n",
    "\n",
    "for i, r in enumerate(Hz):\n",
    "    for z in np.where(r)[0]:\n",
    "        iceberg_block = np.where(pairs == z)[0][0]\n",
    "        iceberg_log = np.where(pairs == z)[1][0]\n",
    "        concatenatedStabilizersZQEC[i][icebergZlogicals[iceberg_log]+(ibn*iceberg_block)] ^= 1\n",
    "\n",
    "concatenatedHx = np.vstack([concatenatedStabilizersXQEC, concatenatedStabilizersQED][::-1])\n",
    "concatenatedHz = np.vstack([concatenatedStabilizersZQEC, concatenatedStabilizersQED][::-1])"
   ]
  },
  {
   "cell_type": "code",
   "execution_count": 65,
   "metadata": {},
   "outputs": [
    {
     "data": {
      "text/plain": [
       "<matplotlib.image.AxesImage at 0x2389246ae50>"
      ]
     },
     "execution_count": 65,
     "metadata": {},
     "output_type": "execute_result"
    },
    {
     "data": {
      "image/png": "[encoded data removed]",
      "text/plain": [
       "<Figure size 979.592x480 with 1 Axes>"
      ]
     },
     "metadata": {},
     "output_type": "display_data"
    }
   ],
   "source": [
    "plt.matshow(concatenatedHz)"
   ]
  },
  {
   "cell_type": "code",
   "execution_count": 66,
   "metadata": {},
   "outputs": [],
   "source": [
    "concatenatedxL = np.zeros(shape=(Lx.shape[0], concatenatedStabilizersQED.shape[1]), dtype=int)\n",
    "concatenatedzL = np.zeros(shape=(Lz.shape[0], concatenatedStabilizersQED.shape[1]), dtype=int)\n",
    "\n",
    "for i, r in enumerate(Lx):\n",
    "    for x in np.where(r)[0]:\n",
    "        iceberg_block = np.where(pairs == x)[0][0]\n",
    "        iceberg_log = np.where(pairs == x)[1][0]\n",
    "        # print(iceberg_block, iceberg_log)\n",
    "        concatenatedxL[i][icebergXlogicals[iceberg_log]+(ibn*iceberg_block)] ^= 1\n",
    "\n",
    "for i, r in enumerate(Lz):\n",
    "    for z in np.where(r)[0]:\n",
    "        iceberg_block = np.where(pairs == z)[0][0]\n",
    "        iceberg_log = np.where(pairs == z)[1][0]\n",
    "        concatenatedzL[i][icebergZlogicals[iceberg_log]+(ibn*iceberg_block)] ^= 1\n",
    "\n",
    "xL_inds = [np.where(x)[0] for x in concatenatedxL]\n",
    "zL_inds = [np.where(z)[0] for z in concatenatedzL]\n",
    "\n",
    "m, n = concatenatedHx.shape\n",
    "k = len(xL_inds)\n",
    "\n",
    "Hx_inds = [np.where(concatenatedHx[i])[0] for i in range(concatenatedHx.shape[0])]\n",
    "Hz_inds = [np.where(concatenatedHz[i])[0] for i in range(concatenatedHz.shape[0])]\n",
    "\n",
    "qcode = QuantumCode(n, k, concatenatedHx.shape[0], concatenatedHz.shape[0],\n",
    "                    concatenatedStabilizersQED.shape[0], concatenatedStabilizersQED.shape[0],\n",
    "                    Hx_inds, Hz_inds, xL_inds, zL_inds, list(pairs))\n",
    "write_qcode(\"../codes/qcodes/\" + f\"/HGP_C{ibn}{ibk}2_{n}_{k}.qcode\", qcode)"
   ]
  },
  {
   "cell_type": "code",
   "execution_count": 274,
   "metadata": {},
   "outputs": [
    {
     "data": {
      "text/plain": [
       "[array([13, 15, 49, 51, 73, 75, 93, 95], dtype=int64),\n",
       " array([ 53,  55,  77,  79,  97,  99, 137, 139], dtype=int64),\n",
       " array([109, 111, 121, 123, 129, 131, 138, 139], dtype=int64),\n",
       " array([ 14,  15, 113, 115, 125, 127, 133, 135], dtype=int64)]"
      ]
     },
     "execution_count": 274,
     "metadata": {},
     "output_type": "execute_result"
    }
   ],
   "source": [
    "zL_inds"
   ]
  },
  {
   "cell_type": "code",
   "execution_count": 275,
   "metadata": {},
   "outputs": [
    {
     "data": {
      "text/plain": [
       "[array([12, 13, 48, 50, 72, 74, 92, 94], dtype=int64),\n",
       " array([108, 110, 120, 122, 128, 130, 136, 137], dtype=int64),\n",
       " array([ 52,  54,  76,  78,  96,  98, 136, 138], dtype=int64),\n",
       " array([ 12,  14, 112, 114, 124, 126, 132, 134], dtype=int64)]"
      ]
     },
     "execution_count": 275,
     "metadata": {},
     "output_type": "execute_result"
    }
   ],
   "source": [
    "xL_inds"
   ]
  },
  {
   "cell_type": "code",
   "execution_count": null,
   "metadata": {},
   "outputs": [],
   "source": []
  }
 ],
 "metadata": {
  "kernelspec": {
   "display_name": "qc",
   "language": "python",
   "name": "python3"
  },
  "language_info": {
   "codemirror_mode": {
    "name": "ipython",
    "version": 3
   },
   "file_extension": ".py",
   "mimetype": "text/x-python",
   "name": "python",
   "nbconvert_exporter": "python",
   "pygments_lexer": "ipython3",
   "version": "3.8.18"
  }
 },
 "nbformat": 4,
 "nbformat_minor": 2
}
