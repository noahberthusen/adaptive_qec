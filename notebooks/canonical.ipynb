{
 "cells": [
  {
   "cell_type": "code",
   "execution_count": 185,
   "metadata": {},
   "outputs": [],
   "source": [
    "import numpy as np\n",
    "import matplotlib.pyplot as plt\n",
    "import galois\n",
    "from classical_code import *\n",
    "from quantum_code import *\n",
    "import os"
   ]
  },
  {
   "cell_type": "code",
   "execution_count": 186,
   "metadata": {},
   "outputs": [
    {
     "name": "stdout",
     "output_type": "stream",
     "text": [
      "[[1 1 0 0 1 0 0 0 0 0 0 0 0 0 0 0]\n",
      " [0 1 1 0 0 1 0 0 0 0 0 0 0 0 0 0]\n",
      " [0 0 1 1 0 0 1 0 0 0 0 0 0 0 0 0]\n",
      " [0 0 0 1 1 0 0 1 0 0 0 0 0 0 0 0]\n",
      " [0 0 0 0 1 1 0 0 1 0 0 0 0 0 0 0]\n",
      " [0 0 0 0 0 1 1 0 0 1 0 0 0 0 0 0]\n",
      " [0 0 0 0 0 0 1 1 0 0 1 0 0 0 0 0]\n",
      " [0 0 0 0 0 0 0 1 1 0 0 1 0 0 0 0]\n",
      " [0 0 0 0 0 0 0 0 1 1 0 0 1 0 0 0]\n",
      " [0 0 0 0 0 0 0 0 0 1 1 0 0 1 0 0]\n",
      " [0 0 0 0 0 0 0 0 0 0 1 1 0 0 1 0]\n",
      " [0 0 0 0 0 0 0 0 0 0 0 1 1 0 0 1]]\n"
     ]
    }
   ],
   "source": [
    "GF = galois.GF(2)\n",
    "# ccode = read_code(\"../codes/ccodes/24_18_3_4.code\")\n",
    "ccode = read_code(\"../codes/ccodes/8_6_3_4.code\")\n",
    "\n",
    "H = np.zeros((ccode.m, ccode.n), dtype=int)\n",
    "for i in range(ccode.m):\n",
    "    for j in range(ccode.n):\n",
    "        if (j in ccode.check_nbhd[i]):\n",
    "            H[i][j] = 1\n",
    "\n",
    "\n",
    "# H = np.array([\n",
    "#     [1,0,1,0,1,0],\n",
    "#     [0,1,0,0,1,1],\n",
    "#     [1,0,1,1,0,0],\n",
    "#     [0,1,1,1,0,0]\n",
    "# ])\n",
    "H = np.array([[1, 1, 0, 0, 1, 0, 0, 0, 0, 0, 0, 0, 0, 0, 0, 0],\n",
    "       [0, 1, 1, 0, 0, 1, 0, 0, 0, 0, 0, 0, 0, 0, 0, 0],\n",
    "       [0, 0, 1, 1, 0, 0, 1, 0, 0, 0, 0, 0, 0, 0, 0, 0],\n",
    "       [0, 0, 0, 1, 1, 0, 0, 1, 0, 0, 0, 0, 0, 0, 0, 0],\n",
    "       [0, 0, 0, 0, 1, 1, 0, 0, 1, 0, 0, 0, 0, 0, 0, 0],\n",
    "       [0, 0, 0, 0, 0, 1, 1, 0, 0, 1, 0, 0, 0, 0, 0, 0],\n",
    "       [0, 0, 0, 0, 0, 0, 1, 1, 0, 0, 1, 0, 0, 0, 0, 0],\n",
    "       [0, 0, 0, 0, 0, 0, 0, 1, 1, 0, 0, 1, 0, 0, 0, 0],\n",
    "       [0, 0, 0, 0, 0, 0, 0, 0, 1, 1, 0, 0, 1, 0, 0, 0],\n",
    "       [0, 0, 0, 0, 0, 0, 0, 0, 0, 1, 1, 0, 0, 1, 0, 0],\n",
    "       [0, 0, 0, 0, 0, 0, 0, 0, 0, 0, 1, 1, 0, 0, 1, 0],\n",
    "       [0, 0, 0, 0, 0, 0, 0, 0, 0, 0, 0, 1, 1, 0, 0, 1]])\n",
    "m, n = H.shape\n",
    "H = GF(H)\n",
    "print(H)\n"
   ]
  },
  {
   "cell_type": "code",
   "execution_count": 187,
   "metadata": {},
   "outputs": [],
   "source": [
    "def gaussian_reduction(H):\n",
    "    m, n = H.shape\n",
    "\n",
    "    H = GF(H)\n",
    "    Hhat = GF(H.copy())\n",
    "    K = GF(np.eye(n, dtype=int))\n",
    "    pik = set(np.arange(n))\n",
    "\n",
    "    for j in range(n):\n",
    "        i = 0\n",
    "        while ((i < m-1) and (Hhat[i][j] != 1)):\n",
    "            i += 1\n",
    "        if Hhat[i][j] == 1:\n",
    "            pik ^= {j}\n",
    "            for l in range(j+1, n):\n",
    "                if Hhat[i][l] == 1:\n",
    "                    Hhat[:,l] = Hhat[:,j] ^ Hhat[:,l]\n",
    "                    K[:,l] = K[:,j] ^ K[:,l]\n",
    "\n",
    "    return K, pik"
   ]
  },
  {
   "cell_type": "code",
   "execution_count": 188,
   "metadata": {},
   "outputs": [],
   "source": [
    "Lx = []\n",
    "Lz = []\n",
    "\n",
    "K, pik = gaussian_reduction(H)\n",
    "I = np.eye(n, dtype=int)\n",
    "\n",
    "for i in pik:\n",
    "    for j in pik:\n",
    "        tmp = np.kron(K[:,i], I[:,j])\n",
    "        Lz.append(np.concatenate([tmp, np.zeros(m**2, dtype=int)]))\n",
    "\n",
    "        tmp = np.kron(I[:,i], K[:,j])\n",
    "        Lx.append(np.concatenate([tmp, np.zeros(m**2, dtype=int)]))\n",
    "\n",
    "K, pik = gaussian_reduction(H.T)\n",
    "I = np.eye(H.T.shape[1], dtype=int)\n",
    "\n",
    "for i in pik:\n",
    "    for j in pik:\n",
    "        tmp = np.kron(K[:,i], I[:,j])\n",
    "        Lx.append(np.concatenate([np.zeros(n**2, dtype=int), tmp]))\n",
    "\n",
    "        tmp = np.kron(I[:,i], K[:,j])\n",
    "        Lz.append(np.concatenate([np.zeros(n**2, dtype=int), tmp]))\n",
    "\n",
    "Lx = np.array(Lx)\n",
    "Lz = np.array(Lz)"
   ]
  },
  {
   "cell_type": "code",
   "execution_count": 189,
   "metadata": {},
   "outputs": [
    {
     "name": "stdout",
     "output_type": "stream",
     "text": [
      "8\n",
      "8\n",
      "8\n",
      "9\n",
      "8\n",
      "8\n",
      "8\n",
      "9\n",
      "8\n",
      "8\n",
      "8\n",
      "9\n",
      "8\n",
      "8\n",
      "8\n",
      "9\n"
     ]
    }
   ],
   "source": [
    "for l in Lx:\n",
    "    print(np.count_nonzero(l))"
   ]
  },
  {
   "cell_type": "code",
   "execution_count": 190,
   "metadata": {},
   "outputs": [],
   "source": [
    "H = np.array(H)\n",
    "Hx = np.hstack([np.kron(H, np.eye(H.shape[1], dtype=int)), np.kron(np.eye(H.shape[0], dtype=int), H.T)])\n",
    "Hz = np.hstack([np.kron(np.eye(H.shape[1], dtype=int), H), np.kron(H.T, np.eye(H.shape[0], dtype=int))])\n",
    "cm, cn = Hx.shape\n",
    "\n",
    "Hx_inds = [np.where(Hx[i])[0] for i in range(Hx.shape[0])]\n",
    "Hz_inds = [np.where(Hz[i])[0] for i in range(Hz.shape[0])]\n",
    "\n",
    "xL_inds = [np.where(x)[0] for x in Lx]\n",
    "zL_inds = [np.where(z)[0] for z in Lz]\n",
    "k = len(xL_inds)\n",
    "\n",
    "qcode = QuantumCode(cn, k, Hz.shape[0], Hz.shape[0],\n",
    "                    0, 0,\n",
    "                    Hx_inds, Hz_inds, xL_inds, zL_inds, [])\n",
    "write_qcode(\"../codes/qcodes/\" + f\"/HGP_{cn}_{k}.qcode\", qcode)\n"
   ]
  },
  {
   "cell_type": "code",
   "execution_count": 191,
   "metadata": {},
   "outputs": [
    {
     "data": {
      "text/plain": [
       "<matplotlib.image.AxesImage at 0x1b06ca53af0>"
      ]
     },
     "execution_count": 191,
     "metadata": {},
     "output_type": "execute_result"
    },
    {
     "data": {
      "image/png": "[encoded data removed]",
      "text/plain": [
       "<Figure size 1000x480 with 1 Axes>"
      ]
     },
     "metadata": {},
     "output_type": "display_data"
    }
   ],
   "source": [
    "plt.matshow(np.array(Hz))"
   ]
  },
  {
   "cell_type": "code",
   "execution_count": 192,
   "metadata": {},
   "outputs": [
    {
     "data": {
      "text/plain": [
       "array([4, 5, 5, 5, 6, 6, 6, 6, 6, 6, 6, 6, 5, 4, 4, 4, 4, 5, 5, 5, 6, 6,\n",
       "       6, 6, 6, 6, 6, 6, 5, 4, 4, 4, 4, 5, 5, 5, 6, 6, 6, 6, 6, 6, 6, 6,\n",
       "       5, 4, 4, 4, 4, 5, 5, 5, 6, 6, 6, 6, 6, 6, 6, 6, 5, 4, 4, 4, 4, 5,\n",
       "       5, 5, 6, 6, 6, 6, 6, 6, 6, 6, 5, 4, 4, 4, 4, 5, 5, 5, 6, 6, 6, 6,\n",
       "       6, 6, 6, 6, 5, 4, 4, 4, 4, 5, 5, 5, 6, 6, 6, 6, 6, 6, 6, 6, 5, 4,\n",
       "       4, 4, 4, 5, 5, 5, 6, 6, 6, 6, 6, 6, 6, 6, 5, 4, 4, 4, 4, 5, 5, 5,\n",
       "       6, 6, 6, 6, 6, 6, 6, 6, 5, 4, 4, 4, 4, 5, 5, 5, 6, 6, 6, 6, 6, 6,\n",
       "       6, 6, 5, 4, 4, 4, 4, 5, 5, 5, 6, 6, 6, 6, 6, 6, 6, 6, 5, 4, 4, 4,\n",
       "       4, 5, 5, 5, 6, 6, 6, 6, 6, 6, 6, 6, 5, 4, 4, 4], dtype=int64)"
      ]
     },
     "execution_count": 192,
     "metadata": {},
     "output_type": "execute_result"
    }
   ],
   "source": [
    "np.count_nonzero(Hx, axis=1)"
   ]
  },
  {
   "cell_type": "code",
   "execution_count": 193,
   "metadata": {},
   "outputs": [],
   "source": [
    "xgens = []\n",
    "zgens = []\n",
    "\n",
    "for i in range(Hx.shape[0]):\n",
    "    xgens.append((Hx[i][:n**2].reshape(n,n), Hx[i][n**2:].reshape(m,m)))\n",
    "    zgens.append((Hz[i][:n**2].reshape(n,n), Hz[i][n**2:].reshape(m,m)))\n",
    "\n",
    "xlogs = []\n",
    "zlogs = []\n",
    "for i in range(Lx.shape[0]):\n",
    "    xlogs.append((Lx[i][:n**2].reshape(n,n), Lx[i][n**2:].reshape(m,m)))\n",
    "    zlogs.append((Lz[i][:n**2].reshape(n,n), Lz[i][n**2:].reshape(m,m)))"
   ]
  },
  {
   "cell_type": "code",
   "execution_count": 194,
   "metadata": {},
   "outputs": [
    {
     "data": {
      "text/plain": [
       "array([[1, 0, 0, 0, 0, 0, 0, 0, 0, 0, 0, 0],\n",
       "       [1, 1, 0, 0, 0, 0, 0, 0, 0, 0, 0, 0],\n",
       "       [0, 1, 1, 0, 0, 0, 0, 0, 0, 0, 0, 0],\n",
       "       [0, 0, 1, 1, 0, 0, 0, 0, 0, 0, 0, 0],\n",
       "       [1, 0, 0, 1, 1, 0, 0, 0, 0, 0, 0, 0],\n",
       "       [0, 1, 0, 0, 1, 1, 0, 0, 0, 0, 0, 0],\n",
       "       [0, 0, 1, 0, 0, 1, 1, 0, 0, 0, 0, 0],\n",
       "       [0, 0, 0, 1, 0, 0, 1, 1, 0, 0, 0, 0],\n",
       "       [0, 0, 0, 0, 1, 0, 0, 1, 1, 0, 0, 0],\n",
       "       [0, 0, 0, 0, 0, 1, 0, 0, 1, 1, 0, 0],\n",
       "       [0, 0, 0, 0, 0, 0, 1, 0, 0, 1, 1, 0],\n",
       "       [0, 0, 0, 0, 0, 0, 0, 1, 0, 0, 1, 1],\n",
       "       [0, 0, 0, 0, 0, 0, 0, 0, 1, 0, 0, 1],\n",
       "       [0, 0, 0, 0, 0, 0, 0, 0, 0, 1, 0, 0],\n",
       "       [0, 0, 0, 0, 0, 0, 0, 0, 0, 0, 1, 0],\n",
       "       [0, 0, 0, 0, 0, 0, 0, 0, 0, 0, 0, 1]], dtype=uint8)"
      ]
     },
     "execution_count": 194,
     "metadata": {},
     "output_type": "execute_result"
    }
   ],
   "source": [
    "H.T"
   ]
  },
  {
   "cell_type": "code",
   "execution_count": 195,
   "metadata": {},
   "outputs": [
    {
     "data": {
      "text/plain": [
       "<matplotlib.image.AxesImage at 0x1b06cdd4eb0>"
      ]
     },
     "execution_count": 195,
     "metadata": {},
     "output_type": "execute_result"
    },
    {
     "data": {
      "image/png": "[encoded data removed]",
      "text/plain": [
       "<Figure size 1000x500 with 2 Axes>"
      ]
     },
     "metadata": {},
     "output_type": "display_data"
    }
   ],
   "source": [
    "fig, axes = plt.subplots(1, 2, figsize=(10, 5), sharey=False)\n",
    "\n",
    "axes[0].matshow(xgens[0][0])\n",
    "axes[1].matshow(xgens[0][1])"
   ]
  },
  {
   "cell_type": "code",
   "execution_count": null,
   "metadata": {},
   "outputs": [],
   "source": []
  },
  {
   "cell_type": "code",
   "execution_count": 196,
   "metadata": {},
   "outputs": [
    {
     "data": {
      "text/plain": [
       "<matplotlib.image.AxesImage at 0x1b06cecf520>"
      ]
     },
     "execution_count": 196,
     "metadata": {},
     "output_type": "execute_result"
    },
    {
     "data": {
      "image/png": "[encoded data removed]",
      "text/plain": [
       "<Figure size 1000x500 with 2 Axes>"
      ]
     },
     "metadata": {},
     "output_type": "display_data"
    }
   ],
   "source": [
    "fig, axes = plt.subplots(1, 2, figsize=(10, 5), sharey=False)\n",
    "\n",
    "ind = 1\n",
    "axes[0].matshow(xlogs[ind][0])\n",
    "axes[1].matshow(zlogs[ind][0])"
   ]
  },
  {
   "cell_type": "code",
   "execution_count": 197,
   "metadata": {},
   "outputs": [
    {
     "name": "stdout",
     "output_type": "stream",
     "text": [
      "[[  0   1   2   3   4   5   6   7   8   9  10  11  12  13  14  15]\n",
      " [ 16  17  18  19  20  21  22  23  24  25  26  27  28  29  30  31]\n",
      " [ 32  33  34  35  36  37  38  39  40  41  42  43  44  45  46  47]\n",
      " [ 48  49  50  51  52  53  54  55  56  57  58  59  60  61  62  63]\n",
      " [ 64  65  66  67  68  69  70  71  72  73  74  75  76  77  78  79]\n",
      " [ 80  81  82  83  84  85  86  87  88  89  90  91  92  93  94  95]\n",
      " [ 96  97  98  99 100 101 102 103 104 105 106 107 108 109 110 111]\n",
      " [112 113 114 115 116 117 118 119 120 121 122 123 124 125 126 127]\n",
      " [128 129 130 131 132 133 134 135 136 137 138 139 140 141 142 143]\n",
      " [144 145 146 147 148 149 150 151 152 153 154 155 156 157 158 159]\n",
      " [160 161 162 163 164 165 166 167 168 169 170 171 172 173 174 175]\n",
      " [176 177 178 179 180 181 182 183 184 185 186 187 188 189 190 191]\n",
      " [192 193 194 195 196 197 198 199 200 201 202 203 204 205 206 207]\n",
      " [208 209 210 211 212 213 214 215 216 217 218 219 220 221 222 223]\n",
      " [224 225 226 227 228 229 230 231 232 233 234 235 236 237 238 239]\n",
      " [240 241 242 243 244 245 246 247 248 249 250 251 252 253 254 255]]\n",
      "[[256 257 258 259 260 261 262 263 264 265 266 267]\n",
      " [268 269 270 271 272 273 274 275 276 277 278 279]\n",
      " [280 281 282 283 284 285 286 287 288 289 290 291]\n",
      " [292 293 294 295 296 297 298 299 300 301 302 303]\n",
      " [304 305 306 307 308 309 310 311 312 313 314 315]\n",
      " [316 317 318 319 320 321 322 323 324 325 326 327]\n",
      " [328 329 330 331 332 333 334 335 336 337 338 339]\n",
      " [340 341 342 343 344 345 346 347 348 349 350 351]\n",
      " [352 353 354 355 356 357 358 359 360 361 362 363]\n",
      " [364 365 366 367 368 369 370 371 372 373 374 375]\n",
      " [376 377 378 379 380 381 382 383 384 385 386 387]\n",
      " [388 389 390 391 392 393 394 395 396 397 398 399]]\n"
     ]
    }
   ],
   "source": [
    "inds = np.arange(Hx.shape[1])\n",
    "left, right = (inds[:n**2].reshape(n,n), inds[n**2:].reshape(m,m))\n",
    "print(left)\n",
    "print(right)"
   ]
  },
  {
   "cell_type": "code",
   "execution_count": 198,
   "metadata": {},
   "outputs": [
    {
     "data": {
      "text/plain": [
       "array([[  0,  17],\n",
       "       [ 34,  51],\n",
       "       [ 68,  85],\n",
       "       [102, 119],\n",
       "       [136, 153],\n",
       "       [170, 187],\n",
       "       [204, 221],\n",
       "       [238, 255],\n",
       "       [256, 269],\n",
       "       [282, 295],\n",
       "       [308, 321],\n",
       "       [334, 347],\n",
       "       [360, 373],\n",
       "       [386, 399],\n",
       "       [  1,  16],\n",
       "       [  2,  32],\n",
       "       [  3,  48],\n",
       "       [  4,  64],\n",
       "       [  5,  80],\n",
       "       [  6,  96],\n",
       "       [  7, 112],\n",
       "       [  8, 128],\n",
       "       [  9, 144],\n",
       "       [ 10, 160],\n",
       "       [ 11, 176],\n",
       "       [ 12, 192],\n",
       "       [ 13, 208],\n",
       "       [ 14, 224],\n",
       "       [ 15, 240],\n",
       "       [ 18,  33],\n",
       "       [ 19,  49],\n",
       "       [ 20,  65],\n",
       "       [ 21,  81],\n",
       "       [ 22,  97],\n",
       "       [ 23, 113],\n",
       "       [ 24, 129],\n",
       "       [ 25, 145],\n",
       "       [ 26, 161],\n",
       "       [ 27, 177],\n",
       "       [ 28, 193],\n",
       "       [ 29, 209],\n",
       "       [ 30, 225],\n",
       "       [ 31, 241],\n",
       "       [ 35,  50],\n",
       "       [ 36,  66],\n",
       "       [ 37,  82],\n",
       "       [ 38,  98],\n",
       "       [ 39, 114],\n",
       "       [ 40, 130],\n",
       "       [ 41, 146],\n",
       "       [ 42, 162],\n",
       "       [ 43, 178],\n",
       "       [ 44, 194],\n",
       "       [ 45, 210],\n",
       "       [ 46, 226],\n",
       "       [ 47, 242],\n",
       "       [ 52,  67],\n",
       "       [ 53,  83],\n",
       "       [ 54,  99],\n",
       "       [ 55, 115],\n",
       "       [ 56, 131],\n",
       "       [ 57, 147],\n",
       "       [ 58, 163],\n",
       "       [ 59, 179],\n",
       "       [ 60, 195],\n",
       "       [ 61, 211],\n",
       "       [ 62, 227],\n",
       "       [ 63, 243],\n",
       "       [ 69,  84],\n",
       "       [ 70, 100],\n",
       "       [ 71, 116],\n",
       "       [ 72, 132],\n",
       "       [ 73, 148],\n",
       "       [ 74, 164],\n",
       "       [ 75, 180],\n",
       "       [ 76, 196],\n",
       "       [ 77, 212],\n",
       "       [ 78, 228],\n",
       "       [ 79, 244],\n",
       "       [ 86, 101],\n",
       "       [ 87, 117],\n",
       "       [ 88, 133],\n",
       "       [ 89, 149],\n",
       "       [ 90, 165],\n",
       "       [ 91, 181],\n",
       "       [ 92, 197],\n",
       "       [ 93, 213],\n",
       "       [ 94, 229],\n",
       "       [ 95, 245],\n",
       "       [103, 118],\n",
       "       [104, 134],\n",
       "       [105, 150],\n",
       "       [106, 166],\n",
       "       [107, 182],\n",
       "       [108, 198],\n",
       "       [109, 214],\n",
       "       [110, 230],\n",
       "       [111, 246],\n",
       "       [120, 135],\n",
       "       [121, 151],\n",
       "       [122, 167],\n",
       "       [123, 183],\n",
       "       [124, 199],\n",
       "       [125, 215],\n",
       "       [126, 231],\n",
       "       [127, 247],\n",
       "       [137, 152],\n",
       "       [138, 168],\n",
       "       [139, 184],\n",
       "       [140, 200],\n",
       "       [141, 216],\n",
       "       [142, 232],\n",
       "       [143, 248],\n",
       "       [154, 169],\n",
       "       [155, 185],\n",
       "       [156, 201],\n",
       "       [157, 217],\n",
       "       [158, 233],\n",
       "       [159, 249],\n",
       "       [171, 186],\n",
       "       [172, 202],\n",
       "       [173, 218],\n",
       "       [174, 234],\n",
       "       [175, 250],\n",
       "       [188, 203],\n",
       "       [189, 219],\n",
       "       [190, 235],\n",
       "       [191, 251],\n",
       "       [205, 220],\n",
       "       [206, 236],\n",
       "       [207, 252],\n",
       "       [222, 237],\n",
       "       [223, 253],\n",
       "       [239, 254],\n",
       "       [257, 268],\n",
       "       [258, 280],\n",
       "       [259, 292],\n",
       "       [260, 304],\n",
       "       [261, 316],\n",
       "       [262, 328],\n",
       "       [263, 340],\n",
       "       [264, 352],\n",
       "       [265, 364],\n",
       "       [266, 376],\n",
       "       [267, 388],\n",
       "       [270, 281],\n",
       "       [271, 293],\n",
       "       [272, 305],\n",
       "       [273, 317],\n",
       "       [274, 329],\n",
       "       [275, 341],\n",
       "       [276, 353],\n",
       "       [277, 365],\n",
       "       [278, 377],\n",
       "       [279, 389],\n",
       "       [283, 294],\n",
       "       [284, 306],\n",
       "       [285, 318],\n",
       "       [286, 330],\n",
       "       [287, 342],\n",
       "       [288, 354],\n",
       "       [289, 366],\n",
       "       [290, 378],\n",
       "       [291, 390],\n",
       "       [296, 307],\n",
       "       [297, 319],\n",
       "       [298, 331],\n",
       "       [299, 343],\n",
       "       [300, 355],\n",
       "       [301, 367],\n",
       "       [302, 379],\n",
       "       [303, 391],\n",
       "       [309, 320],\n",
       "       [310, 332],\n",
       "       [311, 344],\n",
       "       [312, 356],\n",
       "       [313, 368],\n",
       "       [314, 380],\n",
       "       [315, 392],\n",
       "       [322, 333],\n",
       "       [323, 345],\n",
       "       [324, 357],\n",
       "       [325, 369],\n",
       "       [326, 381],\n",
       "       [327, 393],\n",
       "       [335, 346],\n",
       "       [336, 358],\n",
       "       [337, 370],\n",
       "       [338, 382],\n",
       "       [339, 394],\n",
       "       [348, 359],\n",
       "       [349, 371],\n",
       "       [350, 383],\n",
       "       [351, 395],\n",
       "       [361, 372],\n",
       "       [362, 384],\n",
       "       [363, 396],\n",
       "       [374, 385],\n",
       "       [375, 397],\n",
       "       [387, 398]])"
      ]
     },
     "execution_count": 198,
     "metadata": {},
     "output_type": "execute_result"
    }
   ],
   "source": [
    "def assign_qubits(left, right):\n",
    "    pairs = np.concatenate([np.diagonal(left), np.diagonal(right)]).reshape(-1, 2)\n",
    "\n",
    "    upper_triangle_inds = np.triu_indices(left.shape[0], k=1)\n",
    "    for i, j in zip(*upper_triangle_inds):\n",
    "        tmp = np.array([left[i][j], left[j][i]])\n",
    "        pairs = np.vstack([pairs, tmp])\n",
    "\n",
    "    upper_triangle_inds = np.triu_indices(right.shape[0], k=1)\n",
    "    for i, j in zip(*upper_triangle_inds):\n",
    "        tmp = np.array([right[i][j], right[j][i]])\n",
    "        pairs = np.vstack([pairs, tmp])\n",
    "\n",
    "    return pairs\n",
    "\n",
    "pairs = assign_qubits(left, right)\n",
    "pairs"
   ]
  },
  {
   "cell_type": "code",
   "execution_count": 199,
   "metadata": {},
   "outputs": [
    {
     "name": "stdout",
     "output_type": "stream",
     "text": [
      "[[0 1]\n",
      " [0 2]]\n",
      "[[1 3]\n",
      " [2 3]]\n"
     ]
    }
   ],
   "source": [
    "def iceberglogicals(n):\n",
    "    icebergX = np.zeros(shape=(n-2,2), dtype=int)\n",
    "    icebergZ = np.zeros(shape=(n-2,2), dtype=int)\n",
    "\n",
    "    for i in range(n-2):\n",
    "        icebergX[i] = np.array([0,i+1])\n",
    "        icebergZ[i] = np.array([i+1,n-1])\n",
    "\n",
    "    return icebergX, icebergZ\n",
    "\n",
    "iceberg642Xlogicals = np.array([\n",
    "    [1,2],\n",
    "    [0,1],\n",
    "    [4,5],\n",
    "    [3,4],\n",
    "])\n",
    "\n",
    "iceberg642Zlogicals = np.array([\n",
    "    [0,1],\n",
    "    [1,2],\n",
    "    [3,4],\n",
    "    [4,5]\n",
    "])\n",
    "\n",
    "ibn = 4\n",
    "ibk = ibn-2\n",
    "icebergX = np.ones(ibn, dtype=int)\n",
    "# icebergZ = np.ones(ibn, dtype=int)\n",
    "\n",
    "# if (ibn == 6):\n",
    "#     icebergXlogicals, icebergZlogicals = iceberg642Xlogicals, iceberg642Zlogicals\n",
    "# else:\n",
    "icebergXlogicals, icebergZlogicals = iceberglogicals(ibn)\n",
    "print(icebergXlogicals)\n",
    "print(icebergZlogicals)"
   ]
  },
  {
   "cell_type": "code",
   "execution_count": 200,
   "metadata": {},
   "outputs": [],
   "source": [
    "# Hx, Hz, Lx, Lz = qcode.to_numpy()\n",
    "concatenatedStabilizersQED = np.kron(np.eye(Hx.shape[1]//ibk, dtype=int), icebergX) # ibk | Hx.shape[1] required\n",
    "\n",
    "concatenatedStabilizersXQEC = np.zeros(shape=(Hx.shape[0], concatenatedStabilizersQED.shape[1]), dtype=int)\n",
    "concatenatedStabilizersZQEC = np.zeros(shape=(Hz.shape[0], concatenatedStabilizersQED.shape[1]), dtype=int)\n",
    "\n",
    "for i, r in enumerate(Hx):\n",
    "    # print(np.where(r))\n",
    "    for x in np.where(r)[0]:\n",
    "        iceberg_block = np.where(pairs == x)[0][0]\n",
    "        iceberg_log = np.where(pairs == x)[1][0]\n",
    "        # print(iceberg_block, iceberg_log)\n",
    "        concatenatedStabilizersXQEC[i][icebergXlogicals[iceberg_log]+(ibn*iceberg_block)] ^= 1\n",
    "\n",
    "for i, r in enumerate(Hz):\n",
    "    for z in np.where(r)[0]:\n",
    "        iceberg_block = np.where(pairs == z)[0][0]\n",
    "        iceberg_log = np.where(pairs == z)[1][0]\n",
    "        concatenatedStabilizersZQEC[i][icebergZlogicals[iceberg_log]+(ibn*iceberg_block)] ^= 1\n",
    "\n",
    "concatenatedHx = np.vstack([concatenatedStabilizersXQEC, concatenatedStabilizersQED][::-1])\n",
    "concatenatedHz = np.vstack([concatenatedStabilizersZQEC, concatenatedStabilizersQED][::-1])"
   ]
  },
  {
   "cell_type": "code",
   "execution_count": 201,
   "metadata": {},
   "outputs": [
    {
     "data": {
      "text/plain": [
       "<matplotlib.image.AxesImage at 0x1b06d162460>"
      ]
     },
     "execution_count": 201,
     "metadata": {},
     "output_type": "execute_result"
    },
    {
     "data": {
      "image/png": "[encoded data removed]",
      "text/plain": [
       "<Figure size 979.592x480 with 1 Axes>"
      ]
     },
     "metadata": {},
     "output_type": "display_data"
    }
   ],
   "source": [
    "plt.matshow(concatenatedHz)"
   ]
  },
  {
   "cell_type": "code",
   "execution_count": 202,
   "metadata": {},
   "outputs": [],
   "source": [
    "concatenatedxL = np.zeros(shape=(Lx.shape[0], concatenatedStabilizersQED.shape[1]), dtype=int)\n",
    "concatenatedzL = np.zeros(shape=(Lz.shape[0], concatenatedStabilizersQED.shape[1]), dtype=int)\n",
    "\n",
    "for i, r in enumerate(Lx):\n",
    "    for x in np.where(r)[0]:\n",
    "        iceberg_block = np.where(pairs == x)[0][0]\n",
    "        iceberg_log = np.where(pairs == x)[1][0]\n",
    "        # print(iceberg_block, iceberg_log)\n",
    "        concatenatedxL[i][icebergXlogicals[iceberg_log]+(ibn*iceberg_block)] ^= 1\n",
    "\n",
    "for i, r in enumerate(Lz):\n",
    "    for z in np.where(r)[0]:\n",
    "        iceberg_block = np.where(pairs == z)[0][0]\n",
    "        iceberg_log = np.where(pairs == z)[1][0]\n",
    "        concatenatedzL[i][icebergZlogicals[iceberg_log]+(ibn*iceberg_block)] ^= 1\n",
    "\n",
    "xL_inds = [np.where(x)[0] for x in concatenatedxL]\n",
    "zL_inds = [np.where(z)[0] for z in concatenatedzL]\n",
    "\n",
    "m, n = concatenatedHx.shape\n",
    "k = len(xL_inds)\n",
    "\n",
    "Hx_inds = [np.where(concatenatedHx[i])[0] for i in range(concatenatedHx.shape[0])]\n",
    "Hz_inds = [np.where(concatenatedHz[i])[0] for i in range(concatenatedHz.shape[0])]\n",
    "\n",
    "qcode = QuantumCode(n, k, concatenatedHx.shape[0], concatenatedHz.shape[0],\n",
    "                    concatenatedStabilizersQED.shape[0], concatenatedStabilizersQED.shape[0],\n",
    "                    Hx_inds, Hz_inds, xL_inds, zL_inds, list(pairs))\n",
    "write_qcode(\"../codes/qcodes/\" + f\"/HGP_C{ibn}{ibk}2_{n}_{k}.qcode\", qcode)"
   ]
  },
  {
   "cell_type": "code",
   "execution_count": 203,
   "metadata": {},
   "outputs": [
    {
     "data": {
      "text/plain": [
       "[array([ 25,  27, 157, 159, 301, 303, 341, 343, 409, 411, 461, 463, 481,\n",
       "        483, 497, 499], dtype=int64),\n",
       " array([161, 163, 305, 307, 345, 347, 413, 415, 465, 467, 485, 487, 501,\n",
       "        503, 513, 515], dtype=int64),\n",
       " array([165, 167, 309, 311, 349, 351, 417, 419, 469, 471, 489, 491, 505,\n",
       "        507, 517, 519], dtype=int64),\n",
       " array([169, 171, 313, 315, 353, 355, 421, 423, 473, 475, 493, 495, 509,\n",
       "        511, 521, 523], dtype=int64),\n",
       " array([157, 159, 209, 211, 301, 303, 377, 379, 409, 411, 437, 439, 461,\n",
       "        463, 514, 515], dtype=int64),\n",
       " array([ 26,  27, 161, 163, 213, 215, 305, 307, 381, 383, 413, 415, 441,\n",
       "        443, 465, 467], dtype=int64),\n",
       " array([165, 167, 217, 219, 309, 311, 385, 387, 417, 419, 445, 447, 469,\n",
       "        471, 525, 527], dtype=int64),\n",
       " array([169, 171, 221, 223, 313, 315, 389, 391, 421, 423, 449, 451, 473,\n",
       "        475, 529, 531], dtype=int64),\n",
       " array([209, 211, 257, 259, 341, 343, 409, 411, 437, 439, 461, 463, 481,\n",
       "        483, 518, 519], dtype=int64),\n",
       " array([213, 215, 261, 263, 345, 347, 413, 415, 441, 443, 465, 467, 485,\n",
       "        487, 526, 527], dtype=int64),\n",
       " array([ 29,  31, 217, 219, 265, 267, 349, 351, 417, 419, 445, 447, 469,\n",
       "        471, 489, 491], dtype=int64),\n",
       " array([221, 223, 269, 271, 353, 355, 421, 423, 449, 451, 473, 475, 493,\n",
       "        495, 533, 535], dtype=int64),\n",
       " array([101, 103, 257, 259, 301, 303, 377, 379, 437, 439, 461, 463, 481,\n",
       "        483, 497, 499, 522, 523], dtype=int64),\n",
       " array([105, 107, 261, 263, 305, 307, 381, 383, 441, 443, 465, 467, 485,\n",
       "        487, 501, 503, 530, 531], dtype=int64),\n",
       " array([109, 111, 265, 267, 309, 311, 385, 387, 445, 447, 469, 471, 489,\n",
       "        491, 505, 507, 534, 535], dtype=int64),\n",
       " array([ 30,  31, 113, 115, 269, 271, 313, 315, 389, 391, 449, 451, 473,\n",
       "        475, 493, 495, 509, 511], dtype=int64)]"
      ]
     },
     "execution_count": 203,
     "metadata": {},
     "output_type": "execute_result"
    }
   ],
   "source": [
    "zL_inds"
   ]
  },
  {
   "cell_type": "code",
   "execution_count": 204,
   "metadata": {},
   "outputs": [
    {
     "data": {
      "text/plain": [
       "[array([ 24,  25, 156, 158, 300, 302, 340, 342, 408, 410, 460, 462, 480,\n",
       "        482, 496, 498], dtype=int64),\n",
       " array([156, 158, 208, 210, 300, 302, 376, 378, 408, 410, 436, 438, 460,\n",
       "        462, 512, 513], dtype=int64),\n",
       " array([208, 210, 256, 258, 340, 342, 408, 410, 436, 438, 460, 462, 480,\n",
       "        482, 516, 517], dtype=int64),\n",
       " array([100, 102, 256, 258, 300, 302, 376, 378, 436, 438, 460, 462, 480,\n",
       "        482, 496, 498, 520, 521], dtype=int64),\n",
       " array([160, 162, 304, 306, 344, 346, 412, 414, 464, 466, 484, 486, 500,\n",
       "        502, 512, 514], dtype=int64),\n",
       " array([ 24,  26, 160, 162, 212, 214, 304, 306, 380, 382, 412, 414, 440,\n",
       "        442, 464, 466], dtype=int64),\n",
       " array([212, 214, 260, 262, 344, 346, 412, 414, 440, 442, 464, 466, 484,\n",
       "        486, 524, 525], dtype=int64),\n",
       " array([104, 106, 260, 262, 304, 306, 380, 382, 440, 442, 464, 466, 484,\n",
       "        486, 500, 502, 528, 529], dtype=int64),\n",
       " array([164, 166, 308, 310, 348, 350, 416, 418, 468, 470, 488, 490, 504,\n",
       "        506, 516, 518], dtype=int64),\n",
       " array([164, 166, 216, 218, 308, 310, 384, 386, 416, 418, 444, 446, 468,\n",
       "        470, 524, 526], dtype=int64),\n",
       " array([ 28,  29, 216, 218, 264, 266, 348, 350, 416, 418, 444, 446, 468,\n",
       "        470, 488, 490], dtype=int64),\n",
       " array([108, 110, 264, 266, 308, 310, 384, 386, 444, 446, 468, 470, 488,\n",
       "        490, 504, 506, 532, 533], dtype=int64),\n",
       " array([168, 170, 312, 314, 352, 354, 420, 422, 472, 474, 492, 494, 508,\n",
       "        510, 520, 522], dtype=int64),\n",
       " array([168, 170, 220, 222, 312, 314, 388, 390, 420, 422, 448, 450, 472,\n",
       "        474, 528, 530], dtype=int64),\n",
       " array([220, 222, 268, 270, 352, 354, 420, 422, 448, 450, 472, 474, 492,\n",
       "        494, 532, 534], dtype=int64),\n",
       " array([ 28,  30, 112, 114, 268, 270, 312, 314, 388, 390, 448, 450, 472,\n",
       "        474, 492, 494, 508, 510], dtype=int64)]"
      ]
     },
     "execution_count": 204,
     "metadata": {},
     "output_type": "execute_result"
    }
   ],
   "source": [
    "xL_inds"
   ]
  },
  {
   "cell_type": "code",
   "execution_count": null,
   "metadata": {},
   "outputs": [],
   "source": []
  }
 ],
 "metadata": {
  "kernelspec": {
   "display_name": "qc",
   "language": "python",
   "name": "python3"
  },
  "language_info": {
   "codemirror_mode": {
    "name": "ipython",
    "version": 3
   },
   "file_extension": ".py",
   "mimetype": "text/x-python",
   "name": "python",
   "nbconvert_exporter": "python",
   "pygments_lexer": "ipython3",
   "version": "3.8.18"
  }
 },
 "nbformat": 4,
 "nbformat_minor": 2
}
