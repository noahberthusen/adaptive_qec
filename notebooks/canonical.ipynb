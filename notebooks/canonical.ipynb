{
 "cells": [
  {
   "cell_type": "code",
   "execution_count": 276,
   "metadata": {},
   "outputs": [],
   "source": [
    "import numpy as np\n",
    "import matplotlib.pyplot as plt\n",
    "import galois\n",
    "from classical_code import *\n",
    "from quantum_code import *"
   ]
  },
  {
   "cell_type": "code",
   "execution_count": 103,
   "metadata": {},
   "outputs": [],
   "source": [
    "H = np.array([\n",
    "    [1,1,0,1,1,0,0],\n",
    "    [1,0,1,1,0,1,0],\n",
    "    [0,1,1,1,0,0,1],\n",
    "    [1,0,1,0,1,0,1]\n",
    "])\n",
    "\n",
    "GF = galois.GF(2)\n",
    "m,n = H.shape"
   ]
  },
  {
   "cell_type": "code",
   "execution_count": 278,
   "metadata": {},
   "outputs": [
    {
     "name": "stdout",
     "output_type": "stream",
     "text": [
      "[[0 0 1 0 1 0 0 0 0 1 0 0 0 0 0 1]\n",
      " [0 0 0 1 0 0 0 0 1 0 0 0 1 1 0 0]\n",
      " [0 0 0 0 0 1 1 0 0 1 0 1 0 0 0 0]\n",
      " [0 0 1 1 0 0 0 0 0 0 1 0 0 0 1 0]\n",
      " [0 0 0 0 1 0 0 1 0 1 0 0 1 0 0 0]\n",
      " [0 0 0 0 0 0 1 1 1 0 0 0 0 0 1 0]\n",
      " [1 0 0 0 1 0 0 0 0 0 0 0 0 1 0 1]\n",
      " [1 0 0 0 0 0 0 0 0 0 0 1 1 0 1 0]\n",
      " [0 1 0 1 0 0 1 0 0 0 1 0 0 0 0 0]\n",
      " [0 1 1 0 0 0 0 0 0 0 0 1 0 0 0 1]\n",
      " [1 0 0 0 0 1 0 0 0 0 1 0 0 1 0 0]\n",
      " [0 1 0 0 0 1 0 1 1 0 0 0 0 0 0 0]]\n"
     ]
    }
   ],
   "source": [
    "GF = galois.GF(2)\n",
    "ccode = read_code(\"../codes/ccodes/16_12_3_4.code\")\n",
    "H = np.zeros((ccode.m, ccode.n), dtype=int)\n",
    "for i in range(ccode.m):\n",
    "    for j in range(ccode.n):\n",
    "        if (j in ccode.check_nbhd[i]):\n",
    "            H[i][j] = 1\n",
    "H = GF(H)\n",
    "m, n = H.shape\n",
    "print(H)"
   ]
  },
  {
   "cell_type": "code",
   "execution_count": 279,
   "metadata": {},
   "outputs": [],
   "source": [
    "def gaussian_reduction(H):\n",
    "    m, n = H.shape\n",
    "\n",
    "    H = GF(H)\n",
    "    Hhat = GF(H.copy())\n",
    "    K = GF(np.eye(n, dtype=int))\n",
    "    pik = set(np.arange(n))\n",
    "\n",
    "    for j in range(n):\n",
    "        i = 0\n",
    "        while ((i < m-1) and (Hhat[i][j] != 1)):\n",
    "            i += 1\n",
    "        if Hhat[i][j] == 1:\n",
    "            pik ^= {j}\n",
    "            for l in range(j+1, n):\n",
    "                if Hhat[i][l] == 1:\n",
    "                    Hhat[:,l] = Hhat[:,j] ^ Hhat[:,l]\n",
    "                    K[:,l] = K[:,j] ^ K[:,l]\n",
    "\n",
    "    return K, pik"
   ]
  },
  {
   "cell_type": "code",
   "execution_count": 280,
   "metadata": {},
   "outputs": [
    {
     "data": {
      "text/plain": [
       "{12, 13, 14, 15}"
      ]
     },
     "execution_count": 280,
     "metadata": {},
     "output_type": "execute_result"
    }
   ],
   "source": [
    "K, pik = gaussian_reduction(H)\n",
    "I = np.eye(n, dtype=int)\n",
    "pik"
   ]
  },
  {
   "cell_type": "code",
   "execution_count": 281,
   "metadata": {},
   "outputs": [],
   "source": [
    "Lx = []\n",
    "Lz = []\n",
    "\n",
    "for i in pik:\n",
    "    for j in pik:\n",
    "        tmp = np.kron(K[:,i], I[:,j])\n",
    "        # tmp = tmp.reshape(n,n)\n",
    "        Lz.append(tmp)\n",
    "\n",
    "        tmp = np.kron(I[:,i], K[:,j])\n",
    "        # tmp = tmp.reshape(n,n)\n",
    "        Lx.append(tmp)\n",
    "\n",
    "Lx = np.array(Lx)\n",
    "Lz = np.array(Lz)"
   ]
  },
  {
   "cell_type": "code",
   "execution_count": 207,
   "metadata": {},
   "outputs": [
    {
     "data": {
      "text/plain": [
       "set()"
      ]
     },
     "execution_count": 207,
     "metadata": {},
     "output_type": "execute_result"
    }
   ],
   "source": [
    "K, pik = gaussian_reduction(H.T)\n",
    "I = np.eye(H.T.shape[1], dtype=int)\n",
    "pik"
   ]
  },
  {
   "cell_type": "code",
   "execution_count": 282,
   "metadata": {},
   "outputs": [],
   "source": [
    "H = np.array(H)\n",
    "Hx = np.hstack([np.kron(H, np.eye(H.shape[1], dtype=int)), np.kron(np.eye(H.shape[0], dtype=int), H.T)])\n",
    "Hz = np.hstack([np.kron(np.eye(H.shape[1], dtype=int), H), np.kron(H.T, np.eye(H.shape[0], dtype=int))])\n"
   ]
  },
  {
   "cell_type": "code",
   "execution_count": 283,
   "metadata": {},
   "outputs": [
    {
     "data": {
      "text/plain": [
       "<matplotlib.image.AxesImage at 0x18017262df0>"
      ]
     },
     "execution_count": 283,
     "metadata": {},
     "output_type": "execute_result"
    },
    {
     "data": {
      "image/png": "[encoded data removed]",
      "text/plain": [
       "<Figure size 1000x480 with 1 Axes>"
      ]
     },
     "metadata": {},
     "output_type": "display_data"
    }
   ],
   "source": [
    "plt.matshow(np.array(Hz))"
   ]
  },
  {
   "cell_type": "code",
   "execution_count": 284,
   "metadata": {},
   "outputs": [],
   "source": [
    "xgens = []\n",
    "zgens = []\n",
    "\n",
    "for i in range(Hx.shape[0]):\n",
    "    xgens.append((Hx[i][:n**2].reshape(n,n), Hx[i][n**2:].reshape(m,m)))\n",
    "    zgens.append((Hz[i][:n**2].reshape(n,n), Hz[i][n**2:].reshape(m,m)))"
   ]
  },
  {
   "cell_type": "code",
   "execution_count": 285,
   "metadata": {},
   "outputs": [
    {
     "data": {
      "text/plain": [
       "<matplotlib.image.AxesImage at 0x1801f9feeb0>"
      ]
     },
     "execution_count": 285,
     "metadata": {},
     "output_type": "execute_result"
    },
    {
     "data": {
      "image/png": "[encoded data removed]",
      "text/plain": [
       "<Figure size 1000x500 with 2 Axes>"
      ]
     },
     "metadata": {},
     "output_type": "display_data"
    }
   ],
   "source": [
    "fig, axes = plt.subplots(1, 2, figsize=(10, 5), sharey=False)\n",
    "\n",
    "axes[0].matshow(xgens[0][0])\n",
    "axes[1].matshow(xgens[0][1])"
   ]
  },
  {
   "cell_type": "code",
   "execution_count": 286,
   "metadata": {},
   "outputs": [
    {
     "data": {
      "text/plain": [
       "<matplotlib.image.AxesImage at 0x18020109d60>"
      ]
     },
     "execution_count": 286,
     "metadata": {},
     "output_type": "execute_result"
    },
    {
     "data": {
      "image/png": "[encoded data removed]",
      "text/plain": [
       "<Figure size 1000x500 with 2 Axes>"
      ]
     },
     "metadata": {},
     "output_type": "display_data"
    }
   ],
   "source": [
    "fig, axes = plt.subplots(1, 2, figsize=(10, 5), sharey=False)\n",
    "\n",
    "ind = 0\n",
    "axes[0].matshow(zgens[ind][0])\n",
    "axes[1].matshow(zgens[ind][1])"
   ]
  },
  {
   "cell_type": "code",
   "execution_count": 287,
   "metadata": {},
   "outputs": [
    {
     "name": "stdout",
     "output_type": "stream",
     "text": [
      "[[  0   1   2   3   4   5   6   7   8   9  10  11  12  13  14  15]\n",
      " [ 16  17  18  19  20  21  22  23  24  25  26  27  28  29  30  31]\n",
      " [ 32  33  34  35  36  37  38  39  40  41  42  43  44  45  46  47]\n",
      " [ 48  49  50  51  52  53  54  55  56  57  58  59  60  61  62  63]\n",
      " [ 64  65  66  67  68  69  70  71  72  73  74  75  76  77  78  79]\n",
      " [ 80  81  82  83  84  85  86  87  88  89  90  91  92  93  94  95]\n",
      " [ 96  97  98  99 100 101 102 103 104 105 106 107 108 109 110 111]\n",
      " [112 113 114 115 116 117 118 119 120 121 122 123 124 125 126 127]\n",
      " [128 129 130 131 132 133 134 135 136 137 138 139 140 141 142 143]\n",
      " [144 145 146 147 148 149 150 151 152 153 154 155 156 157 158 159]\n",
      " [160 161 162 163 164 165 166 167 168 169 170 171 172 173 174 175]\n",
      " [176 177 178 179 180 181 182 183 184 185 186 187 188 189 190 191]\n",
      " [192 193 194 195 196 197 198 199 200 201 202 203 204 205 206 207]\n",
      " [208 209 210 211 212 213 214 215 216 217 218 219 220 221 222 223]\n",
      " [224 225 226 227 228 229 230 231 232 233 234 235 236 237 238 239]\n",
      " [240 241 242 243 244 245 246 247 248 249 250 251 252 253 254 255]]\n",
      "[[256 257 258 259 260 261 262 263 264 265 266 267]\n",
      " [268 269 270 271 272 273 274 275 276 277 278 279]\n",
      " [280 281 282 283 284 285 286 287 288 289 290 291]\n",
      " [292 293 294 295 296 297 298 299 300 301 302 303]\n",
      " [304 305 306 307 308 309 310 311 312 313 314 315]\n",
      " [316 317 318 319 320 321 322 323 324 325 326 327]\n",
      " [328 329 330 331 332 333 334 335 336 337 338 339]\n",
      " [340 341 342 343 344 345 346 347 348 349 350 351]\n",
      " [352 353 354 355 356 357 358 359 360 361 362 363]\n",
      " [364 365 366 367 368 369 370 371 372 373 374 375]\n",
      " [376 377 378 379 380 381 382 383 384 385 386 387]\n",
      " [388 389 390 391 392 393 394 395 396 397 398 399]]\n"
     ]
    }
   ],
   "source": [
    "inds = np.arange(Hx.shape[1])\n",
    "left, right = (inds[:n**2].reshape(n,n), inds[n**2:].reshape(m,m))\n",
    "print(left)\n",
    "print(right)"
   ]
  },
  {
   "cell_type": "code",
   "execution_count": 288,
   "metadata": {},
   "outputs": [],
   "source": [
    "def assign_qubits(left, right):\n",
    "    pairs = np.concatenate([np.diagonal(left), np.diagonal(right)]).reshape(-1, 2)\n",
    "\n",
    "    upper_triangle_inds = np.triu_indices(left.shape[0], k=1)\n",
    "    for i, j in zip(*upper_triangle_inds):\n",
    "        tmp = np.array([left[i][j], left[j][i]])\n",
    "        pairs = np.vstack([pairs, tmp])\n",
    "\n",
    "    upper_triangle_inds = np.triu_indices(right.shape[0], k=1)\n",
    "    for i, j in zip(*upper_triangle_inds):\n",
    "        tmp = np.array([right[i][j], right[j][i]])\n",
    "        pairs = np.vstack([pairs, tmp])\n",
    "\n",
    "    return pairs\n",
    "\n",
    "pairs = assign_qubits(left, right)\n",
    "# pairs"
   ]
  },
  {
   "cell_type": "code",
   "execution_count": 289,
   "metadata": {},
   "outputs": [],
   "source": [
    "def iceberglogicals(n):\n",
    "    icebergX = np.zeros(shape=(n-2,2), dtype=int)\n",
    "    icebergZ = np.zeros(shape=(n-2,2), dtype=int)\n",
    "\n",
    "    for i in range(n-2):\n",
    "        icebergX[i] = np.array([0,i+1])\n",
    "        icebergZ[i] = np.array([i+1,n-1])\n",
    "\n",
    "    return icebergX, icebergZ\n",
    "\n",
    "iceberg642Xlogicals = np.array([\n",
    "    [1,2],\n",
    "    [0,1],\n",
    "    [4,5],\n",
    "    [3,4],\n",
    "])\n",
    "\n",
    "iceberg642Zlogicals = np.array([\n",
    "    [0,1],\n",
    "    [1,2],\n",
    "    [3,4],\n",
    "    [4,5]\n",
    "])\n",
    "\n",
    "ibn = 4\n",
    "ibk = ibn-2\n",
    "icebergX = np.ones(ibn, dtype=int)\n",
    "# icebergZ = np.ones(ibn, dtype=int)\n",
    "\n",
    "if (ibn == 6):\n",
    "    icebergXlogicals, icebergZlogicals = iceberg642Xlogicals, iceberg642Zlogicals\n",
    "else:\n",
    "    icebergXlogicals, icebergZlogicals = iceberglogicals(ibn)"
   ]
  },
  {
   "cell_type": "code",
   "execution_count": 290,
   "metadata": {},
   "outputs": [],
   "source": [
    "# Hx, Hz, Lx, Lz = qcode.to_numpy()\n",
    "concatenatedStabilizersQED = np.kron(np.eye(Hx.shape[1]//ibk, dtype=int), icebergX) # ibk | Hx.shape[1] required\n",
    "\n",
    "concatenatedStabilizersXQEC = np.zeros(shape=(Hx.shape[0], concatenatedStabilizersQED.shape[1]), dtype=int)\n",
    "concatenatedStabilizersZQEC = np.zeros(shape=(Hz.shape[0], concatenatedStabilizersQED.shape[1]), dtype=int)\n",
    "\n",
    "for i, r in enumerate(Hx):\n",
    "    # print(np.where(r))\n",
    "    for x in np.where(r)[0]:\n",
    "        iceberg_block = np.where(pairs == x)[0][0]\n",
    "        iceberg_log = np.where(pairs == x)[1][0]\n",
    "        # print(iceberg_block, iceberg_log)\n",
    "        concatenatedStabilizersXQEC[i][icebergXlogicals[iceberg_log]+(ibn*iceberg_block)] ^= 1\n",
    "\n",
    "for i, r in enumerate(Hz):\n",
    "    for z in np.where(r)[0]:\n",
    "        iceberg_block = np.where(pairs == z)[0][0]\n",
    "        iceberg_log = np.where(pairs == z)[1][0]\n",
    "        concatenatedStabilizersZQEC[i][icebergZlogicals[iceberg_log]+(ibn*iceberg_block)] ^= 1\n",
    "\n",
    "concatenatedHx = np.vstack([concatenatedStabilizersXQEC, concatenatedStabilizersQED][::-1])\n",
    "concatenatedHz = np.vstack([concatenatedStabilizersZQEC, concatenatedStabilizersQED][::-1])"
   ]
  },
  {
   "cell_type": "code",
   "execution_count": 291,
   "metadata": {},
   "outputs": [
    {
     "data": {
      "text/plain": [
       "<matplotlib.image.AxesImage at 0x180204e4310>"
      ]
     },
     "execution_count": 291,
     "metadata": {},
     "output_type": "execute_result"
    },
    {
     "data": {
      "image/png": "[encoded data removed]",
      "text/plain": [
       "<Figure size 979.592x480 with 1 Axes>"
      ]
     },
     "metadata": {},
     "output_type": "display_data"
    }
   ],
   "source": [
    "plt.matshow(concatenatedHz)"
   ]
  },
  {
   "cell_type": "code",
   "execution_count": 292,
   "metadata": {},
   "outputs": [
    {
     "data": {
      "text/plain": [
       "array([ 4,  4,  4,  4,  4,  4,  4,  4,  4,  4,  4,  4,  4,  4,  4,  4,  4,\n",
       "        4,  4,  4,  4,  4,  4,  4,  4,  4,  4,  4,  4,  4,  4,  4,  4,  4,\n",
       "        4,  4,  4,  4,  4,  4,  4,  4,  4,  4,  4,  4,  4,  4,  4,  4,  4,\n",
       "        4,  4,  4,  4,  4,  4,  4,  4,  4,  4,  4,  4,  4,  4,  4,  4,  4,\n",
       "        4,  4,  4,  4,  4,  4,  4,  4,  4,  4,  4,  4,  4,  4,  4,  4,  4,\n",
       "        4,  4,  4,  4,  4,  4,  4,  4,  4,  4,  4,  4,  4,  4,  4,  4,  4,\n",
       "        4,  4,  4,  4,  4,  4,  4,  4,  4,  4,  4,  4,  4,  4,  4,  4,  4,\n",
       "        4,  4,  4,  4,  4,  4,  4,  4,  4,  4,  4,  4,  4,  4,  4,  4,  4,\n",
       "        4,  4,  4,  4,  4,  4,  4,  4,  4,  4,  4,  4,  4,  4,  4,  4,  4,\n",
       "        4,  4,  4,  4,  4,  4,  4,  4,  4,  4,  4,  4,  4,  4,  4,  4,  4,\n",
       "        4,  4,  4,  4,  4,  4,  4,  4,  4,  4,  4,  4,  4,  4,  4,  4,  4,\n",
       "        4,  4,  4,  4,  4,  4,  4,  4,  4,  4,  4,  4,  4, 14, 14, 14, 14,\n",
       "       14, 14, 14, 14, 14, 14, 14, 14, 14, 14, 14, 14, 14, 14, 14, 14, 14,\n",
       "       14, 14, 14, 14, 14, 14, 14, 14, 14, 14, 14, 14, 14, 14, 14, 14, 14,\n",
       "       14, 14, 14, 14, 14, 14, 14, 14, 14, 14, 14, 14, 14, 14, 14, 14, 14,\n",
       "       14, 14, 14, 14, 14, 14, 14, 14, 14, 14, 14, 14, 14, 14, 14, 14, 14,\n",
       "       14, 14, 14, 14, 14, 14, 14, 14, 14, 14, 14, 14, 14, 14, 14, 14, 14,\n",
       "       14, 14, 14, 14, 14, 14, 14, 14, 14, 14, 14, 14, 14, 14, 14, 14, 14,\n",
       "       14, 14, 14, 14, 14, 14, 14, 14, 14, 14, 14, 14, 14, 14, 14, 14, 14,\n",
       "       14, 14, 14, 14, 14, 14, 14, 14, 14, 14, 14, 14, 14, 14, 14, 14, 14,\n",
       "       14, 14, 14, 14, 14, 14, 14, 14, 14, 14, 14, 14, 14, 14, 14, 14, 14,\n",
       "       14, 14, 14, 14, 14, 14, 14, 14, 14, 14, 14, 14, 14, 14, 14, 14, 14,\n",
       "       14, 14, 14, 14, 14, 14, 14, 14, 14, 14, 14, 14, 14, 14, 14, 14, 14,\n",
       "       14], dtype=int64)"
      ]
     },
     "execution_count": 292,
     "metadata": {},
     "output_type": "execute_result"
    }
   ],
   "source": [
    "np.count_nonzero(concatenatedHz, axis=1)"
   ]
  },
  {
   "cell_type": "code",
   "execution_count": 293,
   "metadata": {},
   "outputs": [],
   "source": [
    "concatenatedxL = np.zeros(shape=(Lx.shape[0], concatenatedStabilizersQED.shape[1]), dtype=int)\n",
    "concatenatedzL = np.zeros(shape=(Lz.shape[0], concatenatedStabilizersQED.shape[1]), dtype=int)\n",
    "\n",
    "for i, r in enumerate(Lx):\n",
    "    for x in np.where(r)[0]:\n",
    "        iceberg_block = np.where(pairs == x)[0][0]\n",
    "        iceberg_log = np.where(pairs == x)[1][0]\n",
    "        # print(iceberg_block, iceberg_log)\n",
    "        concatenatedxL[i][icebergXlogicals[iceberg_log]+(ibn*iceberg_block)] ^= 1\n",
    "\n",
    "for i, r in enumerate(Lz):\n",
    "    for z in np.where(r)[0]:\n",
    "        iceberg_block = np.where(pairs == z)[0][0]\n",
    "        iceberg_log = np.where(pairs == z)[1][0]\n",
    "        concatenatedzL[i][icebergZlogicals[iceberg_log]+(ibn*iceberg_block)] ^= 1\n",
    "\n",
    "xL_inds = [np.where(x)[0] for x in concatenatedxL]\n",
    "zL_inds = [np.where(z)[0] for z in concatenatedzL]\n",
    "\n",
    "m, n = concatenatedHx.shape\n",
    "k = len(xL_inds)\n",
    "\n",
    "Hx_inds = [np.where(concatenatedHx[i])[0] for i in range(concatenatedHx.shape[0])]\n",
    "Hz_inds = [np.where(concatenatedHz[i])[0] for i in range(concatenatedHz.shape[0])]\n",
    "\n",
    "qcode = QuantumCode(n, k, concatenatedHx.shape[0], concatenatedHz.shape[0],\n",
    "                    concatenatedStabilizersQED.shape[0], concatenatedStabilizersQED.shape[0],\n",
    "                    Hx_inds, Hz_inds, xL_inds, zL_inds)\n",
    "write_qcode(\"../codes/qcodes/\" + f\"/HGP_C{ibn}{ibk}2_{n}_{k}.qcode\", qcode)"
   ]
  },
  {
   "cell_type": "code",
   "execution_count": 274,
   "metadata": {},
   "outputs": [
    {
     "data": {
      "text/plain": [
       "[array([13, 15, 49, 51, 73, 75, 93, 95], dtype=int64),\n",
       " array([ 53,  55,  77,  79,  97,  99, 137, 139], dtype=int64),\n",
       " array([109, 111, 121, 123, 129, 131, 138, 139], dtype=int64),\n",
       " array([ 14,  15, 113, 115, 125, 127, 133, 135], dtype=int64)]"
      ]
     },
     "execution_count": 274,
     "metadata": {},
     "output_type": "execute_result"
    }
   ],
   "source": [
    "zL_inds"
   ]
  },
  {
   "cell_type": "code",
   "execution_count": 275,
   "metadata": {},
   "outputs": [
    {
     "data": {
      "text/plain": [
       "[array([12, 13, 48, 50, 72, 74, 92, 94], dtype=int64),\n",
       " array([108, 110, 120, 122, 128, 130, 136, 137], dtype=int64),\n",
       " array([ 52,  54,  76,  78,  96,  98, 136, 138], dtype=int64),\n",
       " array([ 12,  14, 112, 114, 124, 126, 132, 134], dtype=int64)]"
      ]
     },
     "execution_count": 275,
     "metadata": {},
     "output_type": "execute_result"
    }
   ],
   "source": [
    "xL_inds"
   ]
  },
  {
   "cell_type": "code",
   "execution_count": null,
   "metadata": {},
   "outputs": [],
   "source": []
  }
 ],
 "metadata": {
  "kernelspec": {
   "display_name": "qc",
   "language": "python",
   "name": "python3"
  },
  "language_info": {
   "codemirror_mode": {
    "name": "ipython",
    "version": 3
   },
   "file_extension": ".py",
   "mimetype": "text/x-python",
   "name": "python",
   "nbconvert_exporter": "python",
   "pygments_lexer": "ipython3",
   "version": "3.8.18"
  }
 },
 "nbformat": 4,
 "nbformat_minor": 2
}
