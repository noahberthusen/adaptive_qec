{
 "cells": [
  {
   "cell_type": "code",
   "execution_count": 35,
   "metadata": {},
   "outputs": [],
   "source": [
    "import numpy as np\n",
    "from bposd.hgp import hgp\n",
    "from bposd.css_decode_sim import css_decode_sim\n",
    "from quantum_code import *\n",
    "import matplotlib.pyplot as plt\n",
    "from classical_code import *\n",
    "from ldpc import bposd_decoder, bp_decoder\n",
    "import galois\n",
    "from numpy.linalg import matrix_power, matrix_rank\n",
    "from bposd.css import css_code"
   ]
  },
  {
   "cell_type": "code",
   "execution_count": 32,
   "metadata": {},
   "outputs": [],
   "source": [
    "codes = [\n",
    "    [6,6,3,1,2,3,1,2],\n",
    "    [15,3,9,1,2,0,2,7],\n",
    "    [6,9,3,1,2,3,1,2],\n",
    "    [12,6,3,1,2,3,1,2],\n",
    "    [12,12,3,2,7,3,1,2],\n",
    "    [30,6,9,1,2,3,25,26],\n",
    "    [21,18,3,10,17,5,3,19]\n",
    "]\n",
    "code = codes[0]\n",
    "\n",
    "def cyclic_shift_matrix(l):\n",
    "    arr = np.eye(l, dtype=int)\n",
    "    return np.roll(arr, axis=1, shift=1)\n",
    "\n",
    "ell = code[0]\n",
    "m = code[1]\n",
    "\n",
    "x = np.kron(cyclic_shift_matrix(ell), np.eye(m))\n",
    "y = np.kron(np.eye(ell), cyclic_shift_matrix(m))\n",
    "\n",
    "A1 = matrix_power(x, code[2])\n",
    "A2 = matrix_power(y, code[3])\n",
    "A3 = matrix_power(y, code[4])\n",
    "A = ( A1 + A2 + A3 ) % 2\n",
    "\n",
    "B1 = matrix_power(y, code[5])\n",
    "B2 = matrix_power(x, code[6])\n",
    "B3 = matrix_power(x, code[7])\n",
    "B = ( B1 + B2 + B3 ) % 2\n",
    "\n",
    "Hx = np.hstack([A, B]).astype(int)\n",
    "Hz = np.hstack([B.T, A.T]).astype(int)\n",
    "# H = np.vstack([Hx, Hz])\n",
    "\n",
    "qcode = css_code(Hx, Hz)\n",
    "# xL, zL = qcode.compute_logicals()\n",
    "# k = xL.shape[0]\n",
    "\n",
    "# for l in xL:\n",
    "#     print(np.where(l)[0])\n",
    "\n",
    "# n = Hx.shape[1]\n",
    "# Hx_inds = [np.where(Hx[i])[0] for i in range(Hx.shape[0])]\n",
    "# Hz_inds = [np.where(Hz[i])[0] for i in range(Hz.shape[0])]\n",
    "\n",
    "# k, Hx_inds, Hz_inds, xL_inds, zL_inds = format_qcode(Hx, Hz)\n",
    "\n",
    "# qcode = QuantumCode(n, k, Hx.shape[0], Hz.shape[0],\n",
    "#                     0, 0,\n",
    "#                     Hx_inds, Hz_inds, xL_inds, zL_inds)\n",
    "# write_qcode(\"../codes/qcodes\" + f\"/BB_{n}_{k}.qcode\", qcode)"
   ]
  },
  {
   "cell_type": "code",
   "execution_count": 34,
   "metadata": {},
   "outputs": [
    {
     "name": "stdout",
     "output_type": "stream",
     "text": [
      "RNG Seed: 42\n",
      "Constructing CSS code from hx and hz matrices...\n",
      "Checking the CSS code is valid...\n",
      "<Unnamed CSS code>, (3,6)-[[72,12,nan]]\n",
      " -Block dimensions: Pass\n",
      " -PCMs commute hz@hx.T==0: Pass\n",
      " -PCMs commute hx@hz.T==0: Pass\n",
      " -lx \\in ker{hz} AND lz \\in ker{hx}: Pass\n",
      " -lx and lz anticommute: Pass\n",
      " -<Unnamed CSS code> is a valid CSS code w/ params (3,6)-[[72,12,nan]]\n"
     ]
    },
    {
     "name": "stderr",
     "output_type": "stream",
     "text": [
      "d_max: 6; OSDW_WER: 0.313±0.016%; OSDW: 3.69±0.19%; OSD0: 3.69±0.19%;: 100% 10000/10000 [00:07<00:00, 1395.02it/s]\n"
     ]
    }
   ],
   "source": [
    "osd_options={\n",
    "'error_rate': 0.03,\n",
    "'target_runs': 10000,\n",
    "'xyz_error_bias': [0, 0, 1],\n",
    "'output_file': 'test.json',\n",
    "'max_iter': qcode.hx.shape[1],\n",
    "'bp_method': \"msl\",\n",
    "'ms_scaling_factor': 0,\n",
    "'osd_method': \"osd0\",\n",
    "'osd_order': 0,\n",
    "'channel_update': None,\n",
    "'seed': 42,\n",
    "'max_iter': 0,\n",
    "'output_file': \"test.json\"\n",
    "}\n",
    "\n",
    "lk = css_decode_sim(hx=Hx, hz=Hz, **osd_options)"
   ]
  },
  {
   "cell_type": "code",
   "execution_count": 109,
   "metadata": {},
   "outputs": [],
   "source": [
    "qubit_error_rate = 0.01\n",
    "qcode_hgp = read_qcode(\"../codes/qcodes/HGP_100_4.qcode\")\n",
    "Hx, Hz, Lx, Lz = qcode_hgp.to_numpy()\n",
    "\n",
    "bposd_qec_dec = bposd_decoder(\n",
    "    Hx[qcode_hgp.qedxm:],\n",
    "    error_rate=qubit_error_rate,\n",
    "    bp_method=\"msl\",\n",
    "    max_iter=Hx.shape[1],\n",
    "    ms_scaling_factor=0,\n",
    "    osd_method=\"osd0\",\n",
    "    # osd_order=40\n",
    ")"
   ]
  },
  {
   "cell_type": "code",
   "execution_count": 117,
   "metadata": {},
   "outputs": [
    {
     "name": "stdout",
     "output_type": "stream",
     "text": [
      "[[1 1 0 0 0 1 0 0 0 1 0 0 0 0 0 0]\n",
      " [1 0 1 1 0 0 0 0 0 0 0 1 0 0 0 0]\n",
      " [1 1 0 0 0 0 0 0 0 0 1 0 0 1 0 0]\n",
      " [0 0 0 0 0 0 1 0 1 0 1 0 0 1 0 0]\n",
      " [0 0 0 1 0 0 1 0 0 1 0 0 1 0 0 0]\n",
      " [0 0 1 1 0 0 0 1 0 0 0 1 0 0 0 0]\n",
      " [0 0 0 0 1 0 0 1 0 0 1 0 0 0 0 1]\n",
      " [0 0 0 0 0 1 0 1 0 0 0 0 0 0 1 1]\n",
      " [0 0 0 0 1 0 0 0 1 0 0 0 0 0 1 1]\n",
      " [0 0 0 0 0 0 1 0 1 0 0 0 1 1 0 0]\n",
      " [0 0 0 0 1 0 0 0 0 1 0 1 1 0 0 0]\n",
      " [0 1 1 0 0 1 0 0 0 0 0 0 0 0 1 0]]\n",
      "4\n"
     ]
    }
   ],
   "source": [
    "GF = galois.GF(2)\n",
    "ccode = read_code(\"../codes/ccodes/16_12_3_4.code\")\n",
    "H = np.zeros((ccode.m, ccode.n), dtype=int)\n",
    "for i in range(ccode.m):\n",
    "    for j in range(ccode.n):\n",
    "        if (j in ccode.check_nbhd[i]):\n",
    "            H[i][j] = 1\n",
    "dim0, dim1 = H.shape\n",
    "print(H)\n",
    "print(dim1 - np.linalg.matrix_rank(GF(H)))"
   ]
  },
  {
   "cell_type": "code",
   "execution_count": 118,
   "metadata": {},
   "outputs": [
    {
     "name": "stdout",
     "output_type": "stream",
     "text": [
      "[[400,16,6]]\n",
      "[ 16  32  64 128 144 160 176 192]\n",
      "[ 17  33  65 129 145 161 177 193]\n",
      "[ 18  34  66 130 146 162 178 194]\n",
      "[ 20  36  68 132 148 164 180 196]\n",
      "[ 16  32  96 144 176 208]\n",
      "[ 17  33  97 145 177 209]\n",
      "[ 18  34  98 146 178 210]\n",
      "[ 20  36 100 148 180 212]\n",
      "[  0  16  64 112 176 224]\n",
      "[  1  17  65 113 177 225]\n",
      "[  2  18  66 114 178 226]\n",
      "[  4  20  68 116 180 228]\n",
      "[ 32  48  64  80 144 240]\n",
      "[ 33  49  65  81 145 241]\n",
      "[ 34  50  66  82 146 242]\n",
      "[ 36  52  68  84 148 244]\n"
     ]
    }
   ],
   "source": [
    "qcode=hgp(H, compute_distance=True)\n",
    "qcode.print_code_parameters()\n",
    "qcode.compute_ldpc_params()\n",
    "for l in qcode.lz:\n",
    "    print(np.where(l)[0])"
   ]
  },
  {
   "cell_type": "code",
   "execution_count": 112,
   "metadata": {},
   "outputs": [
    {
     "name": "stdout",
     "output_type": "stream",
     "text": [
      "[ 8 10 11 12]\n",
      "[32 34 35 36]\n",
      "[33 37 38 39]\n",
      "[49 53 54 55]\n"
     ]
    }
   ],
   "source": [
    "for l in qcode.lx:\n",
    "    print(np.where(l)[0])"
   ]
  },
  {
   "cell_type": "code",
   "execution_count": 76,
   "metadata": {},
   "outputs": [
    {
     "name": "stdout",
     "output_type": "stream",
     "text": [
      "RNG Seed: 42\n",
      "Constructing CSS code from hx and hz matrices...\n",
      "Checking the CSS code is valid...\n",
      "<Unnamed CSS code>, (4,7)-[[100,4,nan]]\n",
      " -Block dimensions: Pass\n",
      " -PCMs commute hz@hx.T==0: Pass\n",
      " -PCMs commute hx@hz.T==0: Pass\n",
      " -lx \\in ker{hz} AND lz \\in ker{hx}: Pass\n",
      " -lx and lz anticommute: Pass\n",
      " -<Unnamed CSS code> is a valid CSS code w/ params (4,7)-[[100,4,nan]]\n"
     ]
    },
    {
     "name": "stderr",
     "output_type": "stream",
     "text": [
      "d_max: 4; OSDW_WER: 0.253±0.025%; OSDW: 1.01±0.1%; OSD0: 1.01±0.1%;: 100% 10000/10000 [00:07<00:00, 1337.86it/s]   \n"
     ]
    }
   ],
   "source": [
    "\n",
    "osd_options={\n",
    "'error_rate': 0.01,\n",
    "'target_runs': 10000,\n",
    "'xyz_error_bias': [0, 0, 1],\n",
    "'output_file': 'test.json',\n",
    "'max_iter': qcode.hx.shape[1],\n",
    "'bp_method': \"msl\",\n",
    "'ms_scaling_factor': 0,\n",
    "'osd_method': \"osd0\",\n",
    "'osd_order': 0,\n",
    "'channel_update': None,\n",
    "'seed': 42,\n",
    "'max_iter': 0,\n",
    "'output_file': \"test.json\"\n",
    "}\n",
    "\n",
    "lk = css_decode_sim(hx=Hx, hz=Hz, **osd_options)"
   ]
  },
  {
   "cell_type": "code",
   "execution_count": null,
   "metadata": {},
   "outputs": [],
   "source": []
  },
  {
   "cell_type": "code",
   "execution_count": 42,
   "metadata": {},
   "outputs": [
    {
     "data": {
      "text/plain": [
       "0.015762225509632473"
      ]
     },
     "execution_count": 42,
     "metadata": {},
     "output_type": "execute_result"
    }
   ],
   "source": [
    "from math import comb\n",
    "\n",
    "def prob(n, p):\n",
    "    p_sum = 0\n",
    "    for k in range(n//2):\n",
    "        p_sum += comb(n, 2*k+1) * p**(2*k+1) * (1-p)**(n-(2*k+1))\n",
    "    return p_sum\n",
    "\n",
    "prob(16, 1e-3)"
   ]
  },
  {
   "cell_type": "code",
   "execution_count": 85,
   "metadata": {},
   "outputs": [],
   "source": [
    "deltaV = 12\n",
    "deltaC = 14\n",
    "\n",
    "n = 4\n",
    "p = 0.001\n",
    "\n",
    "num_non_adaptive_CNOTs = []\n",
    "num_adaptive_CNOTs = []\n",
    "iss = []\n",
    "\n",
    "for i in range(100, 10000):\n",
    "    if (i % (n-2) == 0):\n",
    "        iss.append(i)\n",
    "        num_non_adaptive_CNOTs.append(i * deltaV)\n",
    "\n",
    "        expected_CNOTs = (i // (n-2)) * prob(n, p) * (n * deltaV) * deltaC\n",
    "        expected_CNOTs += (i // (n-2)) * n\n",
    "        num_adaptive_CNOTs.append(expected_CNOTs)"
   ]
  },
  {
   "cell_type": "code",
   "execution_count": 86,
   "metadata": {},
   "outputs": [
    {
     "data": {
      "text/plain": [
       "[<matplotlib.lines.Line2D at 0x2668edf1b80>]"
      ]
     },
     "execution_count": 86,
     "metadata": {},
     "output_type": "execute_result"
    },
    {
     "data": {
      "image/png": "[encoded data removed]",
      "text/plain": [
       "<Figure size 640x480 with 1 Axes>"
      ]
     },
     "metadata": {},
     "output_type": "display_data"
    }
   ],
   "source": [
    "plt.plot(iss, num_non_adaptive_CNOTs)\n",
    "plt.plot(iss, num_adaptive_CNOTs)\n"
   ]
  },
  {
   "cell_type": "code",
   "execution_count": null,
   "metadata": {},
   "outputs": [],
   "source": []
  }
 ],
 "metadata": {
  "kernelspec": {
   "display_name": "qc",
   "language": "python",
   "name": "python3"
  },
  "language_info": {
   "codemirror_mode": {
    "name": "ipython",
    "version": 3
   },
   "file_extension": ".py",
   "mimetype": "text/x-python",
   "name": "python",
   "nbconvert_exporter": "python",
   "pygments_lexer": "ipython3",
   "version": "3.8.18"
  }
 },
 "nbformat": 4,
 "nbformat_minor": 2
}
