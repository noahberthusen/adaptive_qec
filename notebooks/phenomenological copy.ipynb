{
 "cells": [
  {
   "cell_type": "code",
   "execution_count": 1,
   "metadata": {},
   "outputs": [],
   "source": [
    "import numpy as np\n",
    "import matplotlib.pyplot as plt\n",
    "import galois\n",
    "import itertools\n",
    "from classical_code import *\n",
    "from quantum_code import *\n",
    "import stim\n",
    "from scipy.sparse import lil_matrix\n",
    "import scipy as sp\n",
    "from ldpc import BpDecoder, BpOsdDecoder\n",
    "from ldpc.bplsd_decoder import BpLsdDecoder\n",
    "from tqdm import tqdm\n",
    "from result_lifetime import Result, save_new_res\n",
    "# %load_ext snakeviz"
   ]
  },
  {
   "cell_type": "code",
   "execution_count": 235,
   "metadata": {},
   "outputs": [
    {
     "data": {
      "text/plain": [
       "<matplotlib.image.AxesImage at 0x19ad748d400>"
      ]
     },
     "execution_count": 235,
     "metadata": {},
     "output_type": "execute_result"
    },
    {
     "data": {
      "image/png": "[encoded data removed]",
      "text/plain": [
       "<Figure size 1000x480 with 1 Axes>"
      ]
     },
     "metadata": {},
     "output_type": "display_data"
    }
   ],
   "source": [
    "hgp_qcode = read_qcode(\"../codes/qcodes/HGP_100_4/HGP_100_4.qcode\")\n",
    "qcode = hgp_qcode\n",
    "# qcode = read_qcode(\"../codes/qcodes/HGP_100_4/HGP_C422_200_4.qcode\")\n",
    "\n",
    "\n",
    "# hgp_qcode = read_qcode(\"../codes/qcodes/HGP_400_16/HGP_400_16.qcode\")\n",
    "# qcode = hgp_qcode\n",
    "# qcode = read_qcode(\"../codes/qcodes/HGP_400_16/HGP_C422_800_16.qcode\")\n",
    "\n",
    "\n",
    "# hgp_qcode = read_qcode(\"../codes/qcodes/HGP_900_36/HGP_900_36.qcode\")\n",
    "# qcode = hgp_qcode\n",
    "# qcode = read_qcode(\"../codes/qcodes/HGP_900_36/HGP_C422_1800_36.qcode\")\n",
    "\n",
    "# hgp_qcode = read_qcode(\"../codes/qcodes/HGP_1600_64/HGP_1600_64.qcode\")\n",
    "# qcode = hgp_qcode\n",
    "\n",
    "# qcode = read_qcode(\"../codes/qcodes/HGP_C642_2400_64.qcode\")\n",
    "# qcode = read_qcode(\"../codes/qcodes/HGP_C422_3200_64.qcode\")\n",
    "\n",
    "# qcode = read_qcode(\"../codes/qcodes/HGP_STEANE_700_4.qcode\")\n",
    "# qcode = read_qcode(\"../codes/qcodes/HGP_STEANE_2800_16.qcode\")\n",
    "\n",
    "\n",
    "# concatenate_iceberg(qcode, 6, \"../codes/qcodes/\")\n",
    "# concatenate_iceberg(qcode, 4, \"../codes/qcodes/\")\n",
    "# concatenate_steane(qcode, \"../codes/qcodes/\")\n",
    "\n",
    "\n",
    "hgp_Hx, hgp_Hz, hgp_Lx, hgp_Lz, _ = hgp_qcode.to_numpy()\n",
    "Hx, Hz, Lx, Lz, mapping = qcode.to_numpy()\n",
    "\n",
    "\n",
    "qubit_error_rate = 0.04\n",
    "meas_error_rate = 0.0\n",
    "\n",
    "stab_type = False\n",
    "tanner = True if meas_error_rate else False\n",
    "\n",
    "H = Hx if stab_type else Hz\n",
    "hgp_H = hgp_Hx if stab_type else hgp_Hz\n",
    "\n",
    "qed_dec_H = H[:qcode.qedxm]\n",
    "qed_channel_probs = [qubit_error_rate]*H.shape[1]\n",
    "\n",
    "qec_aug_dec_H = np.hstack([hgp_H, np.eye(hgp_H.shape[0], dtype=int)])\n",
    "qec_aug_channel_probs = [qubit_error_rate]*hgp_H.shape[1] + [meas_error_rate]*(hgp_H.shape[0])\n",
    "\n",
    "qec_dec_H = hgp_H\n",
    "qec_channel_probs = [qubit_error_rate]*hgp_H.shape[1]\n",
    "L = Lx if stab_type else Lz\n",
    "\n",
    "plt.matshow(qec_dec_H)\n",
    "# print(np.count_nonzero(Hx, axis=1))"
   ]
  },
  {
   "cell_type": "code",
   "execution_count": 236,
   "metadata": {},
   "outputs": [],
   "source": [
    "overlapping_x_generators = np.empty(qcode.qedxm, dtype=object)\n",
    "for i in range(qcode.qedxm):\n",
    "    tmp = np.array([], dtype=int)\n",
    "    for j in range(qcode.qedxm,qcode.xm):\n",
    "        if np.any(Hx[i] & Hx[j]): tmp = np.append(tmp, j)\n",
    "    overlapping_x_generators[i] = tmp\n",
    "\n",
    "overlapping_z_generators = np.empty(qcode.qedxm, dtype=object)\n",
    "for i in range(qcode.qedzm):\n",
    "    tmp = np.array([], dtype=int)\n",
    "    for j in range(qcode.qedzm,qcode.zm):\n",
    "        if np.any(Hz[i] & Hz[j]): tmp = np.append(tmp, j)\n",
    "    overlapping_z_generators[i] = tmp\n",
    "\n",
    "def get_overlapping(measurements, gen_type=False, not_overlapping=False):\n",
    "    overlapping_generators = overlapping_x_generators if gen_type else overlapping_z_generators\n",
    "    gens_to_measure = set()\n",
    "    for g in np.where(measurements)[0]:\n",
    "        gens_to_measure |= set(overlapping_generators[g])\n",
    "\n",
    "    if not_overlapping:\n",
    "        return np.array(list(set(np.arange(qcode.qedxm,qcode.xm)) ^ gens_to_measure), dtype=int)\n",
    "    else:\n",
    "        return np.array(list(gens_to_measure), dtype=int)\n",
    "\n",
    "def iceberglogicals(n):\n",
    "    icebergX = np.zeros(shape=(n-2,2), dtype=int)\n",
    "    icebergZ = np.zeros(shape=(n-2,2), dtype=int)\n",
    "\n",
    "    for i in range(n-2):\n",
    "        icebergX[i] = np.array([0,i+1])\n",
    "        icebergZ[i] = np.array([i+1,n-1])\n",
    "\n",
    "    return icebergX, icebergZ\n",
    "icebergX, icebergZ = iceberglogicals(4)"
   ]
  },
  {
   "cell_type": "code",
   "execution_count": 237,
   "metadata": {},
   "outputs": [],
   "source": [
    "qec_aug_dec = BpLsdDecoder(\n",
    "    qec_aug_dec_H,\n",
    "    channel_probs=qec_aug_channel_probs,\n",
    "    bp_method=\"ms\",\n",
    "    max_iter=30,\n",
    "    osd_method=\"osd0\",\n",
    "    # osd_order=4 #the osd search depth\n",
    ")\n",
    "\n",
    "qec_dec = BpLsdDecoder(\n",
    "    qec_dec_H,\n",
    "    channel_probs=qec_channel_probs,\n",
    "    bp_method=\"ms\",\n",
    "    max_iter=30,\n",
    "    osd_method=\"osd_cs\",\n",
    "    osd_order=4 #the osd search depth\n",
    ")\n",
    "\n",
    "def decode(curr_synd, augment, concat):\n",
    "    guessed_error = np.zeros(H.shape[1], dtype=int)\n",
    "\n",
    "    if (concat == 0):\n",
    "        # QEC only\n",
    "        if augment:\n",
    "            guessed_error ^= qec_aug_dec.decode(curr_synd[qcode.qedzm:])[:hgp_H.shape[1]]\n",
    "        else:\n",
    "            guessed_error ^= qec_dec.decode(curr_synd[qcode.qedzm:])\n",
    "    elif (concat == 1):\n",
    "        # QED + QEC\n",
    "        curr_qed_synd = curr_synd[:qcode.qedxm]\n",
    "        curr_hgp_synd = curr_synd[qcode.qedxm:]\n",
    "\n",
    "        block_correction = np.array([0,0,0,1], dtype=int) if stab_type else np.array([1,0,0,0], dtype=int)\n",
    "        corrections = np.concatenate([block_correction if x == 1 else np.zeros(4, dtype=int) for x in curr_qed_synd])\n",
    "        guessed_error ^= corrections\n",
    "\n",
    "        #######################\n",
    "        new_channel_probs = 0.0003 * np.ones(hgp_H.shape[1])\n",
    "        new_channel_probs[mapping[curr_qed_synd == 1].flatten()] = 0.25\n",
    "        if augment:\n",
    "            new_channel_probs = np.concatenate([new_channel_probs, [meas_error_rate]*hgp_H.shape[0]])\n",
    "            qec_aug_dec.update_channel_probs(new_channel_probs)\n",
    "        else:\n",
    "            qec_dec.update_channel_probs(new_channel_probs)\n",
    "        ########################\n",
    "\n",
    "        if augment:\n",
    "            logical_correction = qec_aug_dec.decode(curr_hgp_synd)[:hgp_H.shape[1]]\n",
    "        else:\n",
    "            logical_correction = qec_dec.decode(curr_hgp_synd)[:hgp_H.shape[1]]\n",
    "\n",
    "        physical_correction = np.zeros(Hx.shape[1], dtype=int)\n",
    "\n",
    "        for c in np.where(logical_correction)[0]:\n",
    "                iceberg_block = np.where(mapping == c)[0][0]\n",
    "                iceberg_log = np.where(mapping == c)[1][0]\n",
    "                if stab_type:\n",
    "                        physical_correction[icebergZ[iceberg_log]+(4*iceberg_block)] ^= 1\n",
    "                else:\n",
    "                        physical_correction[icebergX[iceberg_log]+(4*iceberg_block)] ^= 1\n",
    "\n",
    "        guessed_error ^= physical_correction\n",
    "    return guessed_error"
   ]
  },
  {
   "cell_type": "code",
   "execution_count": 238,
   "metadata": {},
   "outputs": [
    {
     "name": "stderr",
     "output_type": "stream",
     "text": [
      "100%|██████████| 1000/1000 [00:01<00:00, 737.58it/s]"
     ]
    },
    {
     "name": "stdout",
     "output_type": "stream",
     "text": [
      "0.165\n",
      "\n"
     ]
    },
    {
     "name": "stderr",
     "output_type": "stream",
     "text": [
      "\n"
     ]
    }
   ],
   "source": [
    "# np.random.seed(0)\n",
    "\n",
    "num_iters = 1000\n",
    "num_rounds = 10\n",
    "concat = 1 if qcode.qedxm else 0\n",
    "adaptive = 0\n",
    "successes = 0\n",
    "\n",
    "for ii in tqdm(range(1,num_iters+1)):\n",
    "    curr_qubit_error = np.zeros(H.shape[1], dtype=int)\n",
    "\n",
    "    success = 1\n",
    "    for jj in range(num_rounds):\n",
    "        new_qubit_error = np.random.choice([0, 1], size=H.shape[1], p=[1-qubit_error_rate, qubit_error_rate])\n",
    "        new_synd_error = np.random.choice([0, 1], size=H.shape[0], p=[1-meas_error_rate, meas_error_rate])\n",
    "        curr_qubit_error ^= new_qubit_error\n",
    "\n",
    "        curr_synd = ((H @ curr_qubit_error) % 2) ^ new_synd_error\n",
    "        curr_qubit_error ^= decode(curr_synd, tanner, concat)\n",
    "\n",
    "    curr_synd = ((H @ curr_qubit_error) % 2)\n",
    "    curr_qubit_error ^= decode(curr_synd, 0, concat)\n",
    "\n",
    "    obs = (L @ curr_qubit_error) % 2\n",
    "\n",
    "    if np.any(obs):\n",
    "        success = 0\n",
    "\n",
    "    successes += success\n",
    "\n",
    "print(successes/num_iters)\n",
    "print()"
   ]
  },
  {
   "cell_type": "code",
   "execution_count": 31,
   "metadata": {},
   "outputs": [
    {
     "data": {
      "text/plain": [
       "1"
      ]
     },
     "execution_count": 31,
     "metadata": {},
     "output_type": "execute_result"
    }
   ],
   "source": [
    "successes"
   ]
  },
  {
   "cell_type": "code",
   "execution_count": null,
   "metadata": {},
   "outputs": [],
   "source": []
  }
 ],
 "metadata": {
  "kernelspec": {
   "display_name": "qc",
   "language": "python",
   "name": "python3"
  },
  "language_info": {
   "codemirror_mode": {
    "name": "ipython",
    "version": 3
   },
   "file_extension": ".py",
   "mimetype": "text/x-python",
   "name": "python",
   "nbconvert_exporter": "python",
   "pygments_lexer": "ipython3",
   "version": "3.8.18"
  }
 },
 "nbformat": 4,
 "nbformat_minor": 2
}
