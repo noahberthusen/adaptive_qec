{
 "cells": [
  {
   "cell_type": "code",
   "execution_count": 3,
   "metadata": {},
   "outputs": [],
   "source": [
    "import numpy as np\n",
    "import matplotlib.pyplot as plt\n",
    "import galois\n",
    "import itertools\n",
    "from classical_code import *\n",
    "from quantum_code import *\n",
    "import stim\n",
    "from scipy.sparse import lil_matrix\n",
    "import scipy as sp\n",
    "from ldpc import BpDecoder, BpOsdDecoder\n",
    "from ldpc.bplsd_decoder import BpLsdDecoder\n",
    "from tqdm import tqdm\n",
    "from result_lifetime import Result, save_new_res\n",
    "# %load_ext snakeviz"
   ]
  },
  {
   "cell_type": "code",
   "execution_count": 265,
   "metadata": {},
   "outputs": [
    {
     "data": {
      "text/plain": [
       "<matplotlib.image.AxesImage at 0x1326c770fa0>"
      ]
     },
     "execution_count": 265,
     "metadata": {},
     "output_type": "execute_result"
    },
    {
     "data": {
      "image/png": "[encoded data removed]",
      "text/plain": [
       "<Figure size 1000x480 with 1 Axes>"
      ]
     },
     "metadata": {},
     "output_type": "display_data"
    }
   ],
   "source": [
    "hgp_qcode = read_qcode(\"../codes/qcodes/HGP_100_4/HGP_100_4.qcode\")\n",
    "qcode = read_qcode(\"../codes/qcodes/HGP_100_4/HGP_C422_200_4.qcode\")\n",
    "\n",
    "\n",
    "# hgp_qcode = read_qcode(\"../codes/qcodes/HGP_400_16/HGP_400_16.qcode\")\n",
    "# qcode = read_qcode(\"../codes/qcodes/HGP_400_16/HGP_C422_800_16.qcode\")\n",
    "\n",
    "\n",
    "# qcode = read_qcode(\"../codes/qcodes/HGP_900_36/HGP_900_36.qcode\")\n",
    "# qcode = read_qcode(\"../codes/qcodes/HGP_900_36/HGP_C642_1350_36.qcode\")\n",
    "# qcode = read_qcode(\"../codes/qcodes/HGP_900_36/HGP_C422_1800_36.qcode\")\n",
    "\n",
    "# qcode = read_qcode(\"../codes/qcodes/HGP_1600_64/HGP_1600_64.qcode\")\n",
    "# qcode = read_qcode(\"../codes/qcodes/HGP_C642_2400_64.qcode\")\n",
    "# qcode = read_qcode(\"../codes/qcodes/HGP_C422_3200_64.qcode\")\n",
    "\n",
    "# qcode = read_qcode(\"../codes/qcodes/HGP_STEANE_700_4.qcode\")\n",
    "# qcode = read_qcode(\"../codes/qcodes/HGP_STEANE_2800_16.qcode\")\n",
    "\n",
    "\n",
    "# concatenate_iceberg(qcode, 6, \"../codes/qcodes/\")\n",
    "# concatenate_iceberg(qcode, 4, \"../codes/qcodes/\")\n",
    "# concatenate_steane(qcode, \"../codes/qcodes/\")\n",
    "\n",
    "\n",
    "hgp_Hx, hgp_Hz, hgp_Lx, hgp_Lz, _ = hgp_qcode.to_numpy()\n",
    "Hx, Hz, Lx, Lz, mapping = qcode.to_numpy()\n",
    "\n",
    "\n",
    "qubit_error_rate = 0.05\n",
    "meas_error_rate = 0.0\n",
    "\n",
    "stab_type = True\n",
    "tanner = True if meas_error_rate else False\n",
    "\n",
    "H = Hx if stab_type else Hz\n",
    "hgp_H = hgp_Hx if stab_type else hgp_Hz\n",
    "\n",
    "qed_dec_H = H[:qcode.qedxm]\n",
    "qed_channel_probs = [qubit_error_rate]*H.shape[1]\n",
    "\n",
    "if tanner:\n",
    "    qec_dec_H = np.hstack([hgp_H, np.eye(hgp_H.shape[0], dtype=int)])\n",
    "    qec_channel_probs = [qubit_error_rate]*hgp_H.shape[1] + [meas_error_rate]*(hgp_H.shape[0])\n",
    "else:\n",
    "    qec_dec_H = hgp_H\n",
    "    qec_channel_probs = [qubit_error_rate]*hgp_H.shape[1]\n",
    "L = Lx if stab_type else Lz\n",
    "\n",
    "plt.matshow(qec_dec_H)\n",
    "# print(np.count_nonzero(Hx, axis=1))"
   ]
  },
  {
   "cell_type": "code",
   "execution_count": 266,
   "metadata": {},
   "outputs": [],
   "source": [
    "overlapping_x_generators = np.empty(qcode.qedxm, dtype=object)\n",
    "for i in range(qcode.qedxm):\n",
    "    tmp = np.array([], dtype=int)\n",
    "    for j in range(qcode.qedxm,qcode.xm):\n",
    "        if np.any(Hx[i] & Hx[j]): tmp = np.append(tmp, j)\n",
    "    overlapping_x_generators[i] = tmp\n",
    "\n",
    "overlapping_z_generators = np.empty(qcode.qedxm, dtype=object)\n",
    "for i in range(qcode.qedzm):\n",
    "    tmp = np.array([], dtype=int)\n",
    "    for j in range(qcode.qedzm,qcode.zm):\n",
    "        if np.any(Hz[i] & Hz[j]): tmp = np.append(tmp, j)\n",
    "    overlapping_z_generators[i] = tmp\n",
    "\n",
    "def get_overlapping(measurements, gen_type=False, not_overlapping=False):\n",
    "    overlapping_generators = overlapping_x_generators if gen_type else overlapping_z_generators\n",
    "    gens_to_measure = set()\n",
    "    for g in np.where(measurements)[0]:\n",
    "        gens_to_measure |= set(overlapping_generators[g])\n",
    "\n",
    "    if not_overlapping:\n",
    "        return np.array(list(set(np.arange(qcode.qedxm,qcode.xm)) ^ gens_to_measure), dtype=int)\n",
    "    else:\n",
    "        return np.array(list(gens_to_measure), dtype=int)\n",
    "\n",
    "def iceberglogicals(n):\n",
    "    icebergX = np.zeros(shape=(n-2,2), dtype=int)\n",
    "    icebergZ = np.zeros(shape=(n-2,2), dtype=int)\n",
    "\n",
    "    for i in range(n-2):\n",
    "        icebergX[i] = np.array([0,i+1])\n",
    "        icebergZ[i] = np.array([i+1,n-1])\n",
    "\n",
    "    return icebergX, icebergZ\n",
    "icebergX, icebergZ = iceberglogicals(4)"
   ]
  },
  {
   "cell_type": "code",
   "execution_count": 267,
   "metadata": {},
   "outputs": [],
   "source": [
    "if (qcode.qedzm):\n",
    "    bp_qed_dec = BpDecoder(\n",
    "        qed_dec_H,\n",
    "        channel_probs=qed_channel_probs,\n",
    "        max_iter=10,\n",
    "        bp_method=\"ps\",\n",
    "        # schedule=\"serial\"\n",
    "    )\n",
    "\n",
    "bposd_qec_dec = BpDecoder(\n",
    "    qec_dec_H,\n",
    "    channel_probs=qec_channel_probs,\n",
    "    bp_method=\"ms\",\n",
    "    max_iter=100,\n",
    "    # osd_method=\"osd0\",\n",
    "    # osd_order=4 #the osd search depth\n",
    ")\n",
    "\n",
    "def decode(curr_qubit_error, curr_synd_error, concat, adaptive):\n",
    "    # guessed_error = np.zeros(H.shape[1], dtype=int)\n",
    "    curr_synd = ((H @ curr_qubit_error) % 2) ^ curr_synd_error\n",
    "    updated_synd = curr_synd.copy()\n",
    "    # non_overlapping_gens = get_overlapping(curr_synd[:qcode.qedzm], True, True)\n",
    "    # if (len(non_overlapping_gens)):\n",
    "    #     updated_synd[non_overlapping_gens] = 0\n",
    "\n",
    "    if (concat == 0):\n",
    "        # QEC only\n",
    "        if (adaptive == 1):\n",
    "            curr_qubit_error ^= bposd_qec_dec.decode(updated_synd[qcode.qedzm:])\n",
    "        else:\n",
    "            curr_qubit_error ^= bposd_qec_dec.decode(curr_synd[qcode.qedzm:])\n",
    "    elif (concat == 1):\n",
    "        # QED + QEC\n",
    "        curr_qed_synd = curr_synd[:qcode.qedxm]\n",
    "        curr_hgp_synd = curr_synd[qcode.qedxm:]\n",
    "\n",
    "        block_correction = np.array([0,0,0,1], dtype=int) if stab_type else np.array([1,0,0,0], dtype=int)\n",
    "        corrections = np.concatenate([block_correction if x == 1 else np.zeros(4, dtype=int) for x in curr_qed_synd])\n",
    "        curr_qubit_error ^= corrections\n",
    "\n",
    "        #######################\n",
    "        new_channel_probs = 0.0003 * np.ones(hgp_H.shape[1])\n",
    "        new_channel_probs[mapping[curr_qed_synd == 1].flatten()] = 0.25\n",
    "        if tanner: new_channel_probs = np.concatenate([new_channel_probs, [meas_error_rate]*hgp_H.shape[0]])\n",
    "        bposd_qec_dec.update_channel_probs(new_channel_probs)\n",
    "        ########################\n",
    "\n",
    "        logical_correction = bposd_qec_dec.decode(curr_hgp_synd)[:hgp_H.shape[1]]\n",
    "        physical_correction = np.zeros(Hx.shape[1], dtype=int)\n",
    "\n",
    "        for c in np.where(logical_correction)[0]:\n",
    "                iceberg_block = np.where(mapping == c)[0][0]\n",
    "                iceberg_log = np.where(mapping == c)[1][0]\n",
    "                if stab_type:\n",
    "                        physical_correction[icebergZ[iceberg_log]+(4*iceberg_block)] ^= 1\n",
    "                else:\n",
    "                        physical_correction[icebergX[iceberg_log]+(4*iceberg_block)] ^= 1\n",
    "\n",
    "        curr_qubit_error ^= physical_correction\n",
    "        # if (adaptive == 1):\n",
    "        #     guessed_error = bposd_qed_qec_dec.decode(updated_synd[qcode.qedzm:])\n",
    "        # else:\n",
    "        #     guessed_error = bposd_qed_qec_dec.decode(curr_synd[qcode.qedzm:])\n",
    "\n",
    "    return curr_qubit_error.astype(int)"
   ]
  },
  {
   "cell_type": "code",
   "execution_count": 268,
   "metadata": {},
   "outputs": [
    {
     "name": "stderr",
     "output_type": "stream",
     "text": [
      "100%|██████████| 1000/1000 [00:03<00:00, 325.35it/s]"
     ]
    },
    {
     "name": "stdout",
     "output_type": "stream",
     "text": [
      "\n",
      "0.6639999999999999\n"
     ]
    },
    {
     "name": "stderr",
     "output_type": "stream",
     "text": [
      "\n"
     ]
    }
   ],
   "source": [
    "# np.random.seed(0)\n",
    "\n",
    "num_iters = 1000\n",
    "concat = 1 if qcode.qedxm else 0\n",
    "adaptive = 0\n",
    "successes = 0\n",
    "\n",
    "synd = []\n",
    "errors = []\n",
    "\n",
    "for ii in tqdm(range(1,num_iters+1)):\n",
    "    curr_qubit_error = np.zeros(H.shape[1], dtype=int)\n",
    "\n",
    "    success = 1\n",
    "    for jj in range(10):\n",
    "        new_qubit_error = np.random.choice([0, 1], size=H.shape[1], p=[1-qubit_error_rate, qubit_error_rate])\n",
    "        new_synd_error = np.random.choice([0, 1], size=H.shape[0], p=[1-meas_error_rate, meas_error_rate])\n",
    "        curr_qubit_error ^= new_qubit_error\n",
    "\n",
    "        # curr_synd = ((H @ curr_qubit_error) % 2) ^ new_synd_error\n",
    "        curr_qubit_error = decode(curr_qubit_error, new_synd_error, concat, adaptive)\n",
    "        # curr_qubit_error ^= guessed_error[:H.shape[1]]\n",
    "\n",
    "\n",
    "    curr_qubit_error = decode(curr_qubit_error, np.zeros(H.shape[0], dtype=int), concat, 0)\n",
    "    # curr_qubit_error ^= guessed_error[:H.shape[1]]\n",
    "    # curr_synd = ((H @ curr_qubit_error) % 2)\n",
    "\n",
    "    obs = (L @ curr_qubit_error) % 2\n",
    "\n",
    "    if np.any(obs): # or np.any(curr_synd):\n",
    "        success = 0\n",
    "        errors.append(new_qubit_error)\n",
    "\n",
    "    successes += success\n",
    "\n",
    "print()\n",
    "print(1-successes/num_iters)"
   ]
  },
  {
   "cell_type": "code",
   "execution_count": 198,
   "metadata": {},
   "outputs": [
    {
     "name": "stdout",
     "output_type": "stream",
     "text": [
      "(array([ 11,  12,  15,  17,  23,  77,  87, 159], dtype=int64),)\n",
      "(array([ 12,  13,  86, 173], dtype=int64),)\n"
     ]
    }
   ],
   "source": [
    "for e in errors:\n",
    "    print(np.where(e))"
   ]
  },
  {
   "cell_type": "code",
   "execution_count": 7,
   "metadata": {},
   "outputs": [
    {
     "name": "stdout",
     "output_type": "stream",
     "text": [
      "[[0 1]\n",
      " [0 2]]\n",
      "\n",
      "[[1 3]\n",
      " [2 3]]\n",
      "\n",
      "[[  0  17]\n",
      " [ 34  51]\n",
      " [ 68  85]\n",
      " [102 119]\n",
      " [136 153]\n",
      " [170 187]\n",
      " [204 221]\n",
      " [238 255]\n",
      " [256 269]\n",
      " [282 295]\n",
      " [308 321]\n",
      " [334 347]\n",
      " [360 373]\n",
      " [386 399]\n",
      " [  1  16]\n",
      " [  2  32]\n",
      " [  3  48]\n",
      " [  4  64]\n",
      " [  5  80]\n",
      " [  6  96]\n",
      " [  7 112]\n",
      " [  8 128]\n",
      " [  9 144]\n",
      " [ 10 160]\n",
      " [ 11 176]\n",
      " [ 12 192]\n",
      " [ 13 208]\n",
      " [ 14 224]\n",
      " [ 15 240]\n",
      " [ 18  33]\n",
      " [ 19  49]\n",
      " [ 20  65]\n",
      " [ 21  81]\n",
      " [ 22  97]\n",
      " [ 23 113]\n",
      " [ 24 129]\n",
      " [ 25 145]\n",
      " [ 26 161]\n",
      " [ 27 177]\n",
      " [ 28 193]\n",
      " [ 29 209]\n",
      " [ 30 225]\n",
      " [ 31 241]\n",
      " [ 35  50]\n",
      " [ 36  66]\n",
      " [ 37  82]\n",
      " [ 38  98]\n",
      " [ 39 114]\n",
      " [ 40 130]\n",
      " [ 41 146]\n",
      " [ 42 162]\n",
      " [ 43 178]\n",
      " [ 44 194]\n",
      " [ 45 210]\n",
      " [ 46 226]\n",
      " [ 47 242]\n",
      " [ 52  67]\n",
      " [ 53  83]\n",
      " [ 54  99]\n",
      " [ 55 115]\n",
      " [ 56 131]\n",
      " [ 57 147]\n",
      " [ 58 163]\n",
      " [ 59 179]\n",
      " [ 60 195]\n",
      " [ 61 211]\n",
      " [ 62 227]\n",
      " [ 63 243]\n",
      " [ 69  84]\n",
      " [ 70 100]\n",
      " [ 71 116]\n",
      " [ 72 132]\n",
      " [ 73 148]\n",
      " [ 74 164]\n",
      " [ 75 180]\n",
      " [ 76 196]\n",
      " [ 77 212]\n",
      " [ 78 228]\n",
      " [ 79 244]\n",
      " [ 86 101]\n",
      " [ 87 117]\n",
      " [ 88 133]\n",
      " [ 89 149]\n",
      " [ 90 165]\n",
      " [ 91 181]\n",
      " [ 92 197]\n",
      " [ 93 213]\n",
      " [ 94 229]\n",
      " [ 95 245]\n",
      " [103 118]\n",
      " [104 134]\n",
      " [105 150]\n",
      " [106 166]\n",
      " [107 182]\n",
      " [108 198]\n",
      " [109 214]\n",
      " [110 230]\n",
      " [111 246]\n",
      " [120 135]\n",
      " [121 151]\n",
      " [122 167]\n",
      " [123 183]\n",
      " [124 199]\n",
      " [125 215]\n",
      " [126 231]\n",
      " [127 247]\n",
      " [137 152]\n",
      " [138 168]\n",
      " [139 184]\n",
      " [140 200]\n",
      " [141 216]\n",
      " [142 232]\n",
      " [143 248]\n",
      " [154 169]\n",
      " [155 185]\n",
      " [156 201]\n",
      " [157 217]\n",
      " [158 233]\n",
      " [159 249]\n",
      " [171 186]\n",
      " [172 202]\n",
      " [173 218]\n",
      " [174 234]\n",
      " [175 250]\n",
      " [188 203]\n",
      " [189 219]\n",
      " [190 235]\n",
      " [191 251]\n",
      " [205 220]\n",
      " [206 236]\n",
      " [207 252]\n",
      " [222 237]\n",
      " [223 253]\n",
      " [239 254]\n",
      " [257 268]\n",
      " [258 280]\n",
      " [259 292]\n",
      " [260 304]\n",
      " [261 316]\n",
      " [262 328]\n",
      " [263 340]\n",
      " [264 352]\n",
      " [265 364]\n",
      " [266 376]\n",
      " [267 388]\n",
      " [270 281]\n",
      " [271 293]\n",
      " [272 305]\n",
      " [273 317]\n",
      " [274 329]\n",
      " [275 341]\n",
      " [276 353]\n",
      " [277 365]\n",
      " [278 377]\n",
      " [279 389]\n",
      " [283 294]\n",
      " [284 306]\n",
      " [285 318]\n",
      " [286 330]\n",
      " [287 342]\n",
      " [288 354]\n",
      " [289 366]\n",
      " [290 378]\n",
      " [291 390]\n",
      " [296 307]\n",
      " [297 319]\n",
      " [298 331]\n",
      " [299 343]\n",
      " [300 355]\n",
      " [301 367]\n",
      " [302 379]\n",
      " [303 391]\n",
      " [309 320]\n",
      " [310 332]\n",
      " [311 344]\n",
      " [312 356]\n",
      " [313 368]\n",
      " [314 380]\n",
      " [315 392]\n",
      " [322 333]\n",
      " [323 345]\n",
      " [324 357]\n",
      " [325 369]\n",
      " [326 381]\n",
      " [327 393]\n",
      " [335 346]\n",
      " [336 358]\n",
      " [337 370]\n",
      " [338 382]\n",
      " [339 394]\n",
      " [348 359]\n",
      " [349 371]\n",
      " [350 383]\n",
      " [351 395]\n",
      " [361 372]\n",
      " [362 384]\n",
      " [363 396]\n",
      " [374 385]\n",
      " [375 397]\n",
      " [387 398]]\n"
     ]
    }
   ],
   "source": [
    "def iceberglogicals(n):\n",
    "    icebergX = np.zeros(shape=(n-2,2), dtype=int)\n",
    "    icebergZ = np.zeros(shape=(n-2,2), dtype=int)\n",
    "\n",
    "    for i in range(n-2):\n",
    "        icebergX[i] = np.array([0,i+1])\n",
    "        icebergZ[i] = np.array([i+1,n-1])\n",
    "\n",
    "    return icebergX, icebergZ\n",
    "\n",
    "icebergx, icebergz = iceberglogicals(4)\n",
    "print(icebergx)\n",
    "print()\n",
    "print(icebergz)\n",
    "print()\n",
    "print(mapping)"
   ]
  },
  {
   "cell_type": "code",
   "execution_count": 177,
   "metadata": {},
   "outputs": [
    {
     "name": "stdout",
     "output_type": "stream",
     "text": [
      "[1] [ 2  3 10 11 34 43]\n",
      "[4 7]\n"
     ]
    }
   ],
   "source": [
    "curr_qubit_error = np.zeros(H.shape[1], dtype=int)\n",
    "new_qubit_error = np.zeros(H.shape[1], dtype=int)\n",
    "new_qubit_error[np.array([ 4], dtype=int)] = 1\n",
    "new_synd_error = np.zeros(H.shape[0], dtype=int)\n",
    "# new_synd_error[np.array([  1, 114, 325, 326, 346])] = 1\n",
    "curr_qubit_error ^= new_qubit_error\n",
    "\n",
    "curr_synd = ((H[:qcode.qedxm] @ curr_qubit_error) % 2)# ^ new_synd_error\n",
    "curr_hgp_synd = ((H[qcode.qedxm:] @ curr_qubit_error) % 2)\n",
    "print(np.where(curr_synd)[0], np.where(curr_hgp_synd)[0])\n",
    "\n",
    "block_correction = np.array([0,0,0,1], dtype=int) if stab_type else np.array([1,0,0,0], dtype=int)\n",
    "corrections = np.concatenate([block_correction if x == 1 else np.zeros(4, dtype=int) for x in curr_synd])\n",
    "curr_qubit_error ^= corrections\n",
    "\n",
    "_ = bp_qed_dec.decode(curr_synd[:qcode.qedzm])\n",
    "new_channel_probs = 1 / (np.exp(bp_qed_dec.log_prob_ratios) + 1)\n",
    "# bposd_qec_dec.update_channel_probs(new_channel_probs)\n",
    "\n",
    "# new_channel_probs = np.zeros(hgp_H.shape[1])\n",
    "# new_channel_probs[mapping[curr_synd == 1].flatten()] = 0.25\n",
    "# bposd_qec_dec.update_channel_probs(new_channel_probs)\n",
    "\n",
    "print(np.where(curr_qubit_error)[0])"
   ]
  },
  {
   "cell_type": "code",
   "execution_count": 178,
   "metadata": {},
   "outputs": [
    {
     "data": {
      "text/plain": [
       "array([0.00030591, 0.00030591, 0.00030591, 0.00030591, 0.25005101,\n",
       "       0.25005101, 0.25005101, 0.25005101, 0.00030591, 0.00030591,\n",
       "       0.00030591, 0.00030591, 0.00030591, 0.00030591, 0.00030591,\n",
       "       0.00030591, 0.00030591, 0.00030591, 0.00030591, 0.00030591,\n",
       "       0.00030591, 0.00030591, 0.00030591, 0.00030591, 0.00030591,\n",
       "       0.00030591, 0.00030591, 0.00030591, 0.00030591, 0.00030591,\n",
       "       0.00030591, 0.00030591, 0.00030591, 0.00030591, 0.00030591,\n",
       "       0.00030591, 0.00030591, 0.00030591, 0.00030591, 0.00030591,\n",
       "       0.00030591, 0.00030591, 0.00030591, 0.00030591, 0.00030591,\n",
       "       0.00030591, 0.00030591, 0.00030591, 0.00030591, 0.00030591,\n",
       "       0.00030591, 0.00030591, 0.00030591, 0.00030591, 0.00030591,\n",
       "       0.00030591, 0.00030591, 0.00030591, 0.00030591, 0.00030591,\n",
       "       0.00030591, 0.00030591, 0.00030591, 0.00030591, 0.00030591,\n",
       "       0.00030591, 0.00030591, 0.00030591, 0.00030591, 0.00030591,\n",
       "       0.00030591, 0.00030591, 0.00030591, 0.00030591, 0.00030591,\n",
       "       0.00030591, 0.00030591, 0.00030591, 0.00030591, 0.00030591,\n",
       "       0.00030591, 0.00030591, 0.00030591, 0.00030591, 0.00030591,\n",
       "       0.00030591, 0.00030591, 0.00030591, 0.00030591, 0.00030591,\n",
       "       0.00030591, 0.00030591, 0.00030591, 0.00030591, 0.00030591,\n",
       "       0.00030591, 0.00030591, 0.00030591, 0.00030591, 0.00030591,\n",
       "       0.00030591, 0.00030591, 0.00030591, 0.00030591, 0.00030591,\n",
       "       0.00030591, 0.00030591, 0.00030591, 0.00030591, 0.00030591,\n",
       "       0.00030591, 0.00030591, 0.00030591, 0.00030591, 0.00030591,\n",
       "       0.00030591, 0.00030591, 0.00030591, 0.00030591, 0.00030591,\n",
       "       0.00030591, 0.00030591, 0.00030591, 0.00030591, 0.00030591,\n",
       "       0.00030591, 0.00030591, 0.00030591, 0.00030591, 0.00030591,\n",
       "       0.00030591, 0.00030591, 0.00030591, 0.00030591, 0.00030591,\n",
       "       0.00030591, 0.00030591, 0.00030591, 0.00030591, 0.00030591,\n",
       "       0.00030591, 0.00030591, 0.00030591, 0.00030591, 0.00030591,\n",
       "       0.00030591, 0.00030591, 0.00030591, 0.00030591, 0.00030591,\n",
       "       0.00030591, 0.00030591, 0.00030591, 0.00030591, 0.00030591,\n",
       "       0.00030591, 0.00030591, 0.00030591, 0.00030591, 0.00030591,\n",
       "       0.00030591, 0.00030591, 0.00030591, 0.00030591, 0.00030591,\n",
       "       0.00030591, 0.00030591, 0.00030591, 0.00030591, 0.00030591,\n",
       "       0.00030591, 0.00030591, 0.00030591, 0.00030591, 0.00030591,\n",
       "       0.00030591, 0.00030591, 0.00030591, 0.00030591, 0.00030591,\n",
       "       0.00030591, 0.00030591, 0.00030591, 0.00030591, 0.00030591,\n",
       "       0.00030591, 0.00030591, 0.00030591, 0.00030591, 0.00030591,\n",
       "       0.00030591, 0.00030591, 0.00030591, 0.00030591, 0.00030591,\n",
       "       0.00030591, 0.00030591, 0.00030591, 0.00030591, 0.00030591])"
      ]
     },
     "execution_count": 178,
     "metadata": {},
     "output_type": "execute_result"
    }
   ],
   "source": [
    "new_channel_probs"
   ]
  },
  {
   "cell_type": "code",
   "execution_count": 10,
   "metadata": {},
   "outputs": [
    {
     "name": "stdout",
     "output_type": "stream",
     "text": [
      "[0 0 0 0 0 0 0 0 0 0 0 0 0 0 0 0 0 0 0 0 0 0 0 0 0 0 0 0 0 0 0 0 0 0 1 0 0\n",
      " 0 0 0 0 0 0 0 0 0 0 0 0 0 0 1 0 0 0 0 0 0 0 0 0 0 0 0 0 0 0 0 0 0 0 0 0 0\n",
      " 0 0 0 0 0 0 0 0 0 0 0 0 0 0 0 0 0 0 0 0 0 0 0 0 0 0 0 0 0 0 0 0 0 0 0 0 0\n",
      " 0 0 0 0 0 0 0 0 0 0 0 0 0 0 0 0 0 0 0 0 0 0 0 0 0 0 0 0 0 0 0 0 0 0 0 0 0\n",
      " 0 0 0 0 0 0 0 0 0 0 0 0 0 0 0 0 0 0 0 0 0 0 0 0 0 0 0 0 0 0 0 0 0 0 0 0 0\n",
      " 0 0 0 0 0 0 0 0 0 0 0 0 0 0 0 0 0 0 0 0 0 0 0 0 0 0 0 0 0 0 0 0 0 0 0 0 0\n",
      " 0 0 0 0 0 0 0 0 0 0 0 0 0 0 0 0 0 0 0 0 0 0 0 0 0 0 0 0 0 0 0 0 0 0 0 0 0\n",
      " 0 0 0 0 0 0 0 0 0 0 0 0 0 0 0 0 0 0 0 0 0 0 0 0 0 0 0 0 0 0 0 0 0 0 0 0 0\n",
      " 0 0 0 0 0 0 0 0 0 0 0 0 0 0 0 0 0 0 0 0 0 0 0 0 0 0 0 0 0 0 0 0 0 0 0 0 0\n",
      " 0 0 0 0 0 0 0 0 0 0 0 0 0 0 0 0 0 0 0 0 0 0 0 0 0 0 0 0 0 0 0 0 0 0 0 0 0\n",
      " 0 0 0 0 0 0 0 0 0 0 0 0 0 0 0 0 0 0 0 0 0 0 0 0 0 0 0 0 0 0]\n",
      "True\n"
     ]
    }
   ],
   "source": [
    "logical_correction = bposd_qec_dec.decode(hgp_synd)\n",
    "print(logical_correction)\n",
    "print(bposd_qec_dec.converge)"
   ]
  },
  {
   "cell_type": "code",
   "execution_count": 265,
   "metadata": {},
   "outputs": [
    {
     "name": "stdout",
     "output_type": "stream",
     "text": [
      "[5 6]\n"
     ]
    }
   ],
   "source": [
    "physical_correction = np.zeros(Hx.shape[1], dtype=int)\n",
    "\n",
    "for c in np.where(logical_correction)[0]:\n",
    "        iceberg_block = np.where(mapping == c)[0][0]\n",
    "        iceberg_log = np.where(mapping == c)[1][0]\n",
    "        if stab_type:\n",
    "                physical_correction[icebergz[iceberg_log]+(4*iceberg_block)] ^= 1\n",
    "        else:\n",
    "                physical_correction[icebergx[iceberg_log]+(4*iceberg_block)] ^= 1\n",
    "\n",
    "print(np.where(physical_correction)[0])"
   ]
  },
  {
   "cell_type": "code",
   "execution_count": 84,
   "metadata": {},
   "outputs": [
    {
     "name": "stdout",
     "output_type": "stream",
     "text": [
      "(array([ 8, 16, 24], dtype=int64),)\n"
     ]
    }
   ],
   "source": [
    "err = np.zeros(hgp_H.shape[1])\n",
    "err[0] = 1\n",
    "synd = (hgp_H @ err) % 2\n",
    "\n",
    "# np.where(bposd_qec_dec.decode(synd))\n",
    "print(np.where((hgp_H @ err) % 2))"
   ]
  },
  {
   "cell_type": "code",
   "execution_count": 262,
   "metadata": {},
   "outputs": [
    {
     "data": {
      "text/plain": [
       "(array([11, 19, 27, 35, 64, 65, 69], dtype=int64),)"
      ]
     },
     "execution_count": 262,
     "metadata": {},
     "output_type": "execute_result"
    }
   ],
   "source": [
    "np.where(hgp_H[3])"
   ]
  },
  {
   "cell_type": "code",
   "execution_count": 263,
   "metadata": {},
   "outputs": [
    {
     "data": {
      "text/plain": [
       "(array([  4,   6,  16,  17,  60,  61,  80,  81, 100, 102, 140, 141, 156,\n",
       "        157], dtype=int64),)"
      ]
     },
     "execution_count": 263,
     "metadata": {},
     "output_type": "execute_result"
    }
   ],
   "source": [
    "np.where(H[qcode.qedxm:][3])"
   ]
  },
  {
   "cell_type": "code",
   "execution_count": 146,
   "metadata": {},
   "outputs": [
    {
     "name": "stdout",
     "output_type": "stream",
     "text": [
      "15 0\n"
     ]
    }
   ],
   "source": [
    "x = 11\n",
    "iceberg_block = np.where(mapping == x)[0][0]\n",
    "iceberg_log = np.where(mapping == x)[1][0]\n",
    "# print(iceberg_block, iceberg_log)\n",
    "print(iceberg_block, iceberg_log)"
   ]
  }
 ],
 "metadata": {
  "kernelspec": {
   "display_name": "qc",
   "language": "python",
   "name": "python3"
  },
  "language_info": {
   "codemirror_mode": {
    "name": "ipython",
    "version": 3
   },
   "file_extension": ".py",
   "mimetype": "text/x-python",
   "name": "python",
   "nbconvert_exporter": "python",
   "pygments_lexer": "ipython3",
   "version": "3.8.18"
  }
 },
 "nbformat": 4,
 "nbformat_minor": 2
}
