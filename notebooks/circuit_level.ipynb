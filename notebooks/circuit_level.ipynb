{
 "cells": [
  {
   "cell_type": "code",
   "execution_count": 1,
   "metadata": {},
   "outputs": [],
   "source": [
    "import numpy as np\n",
    "import matplotlib.pyplot as plt\n",
    "import galois\n",
    "import itertools\n",
    "from quantum_code import *\n",
    "from classical_code import *\n",
    "import stim\n",
    "from scipy.sparse import lil_matrix\n",
    "from tqdm import tqdm\n",
    "# from ldpc import bposd_decoder, bp_decoder\n",
    "from ldpc.bplsd_decoder import BpLsdDecoder\n",
    "# %load_ext snakeviz"
   ]
  },
  {
   "cell_type": "code",
   "execution_count": 170,
   "metadata": {},
   "outputs": [
    {
     "data": {
      "text/plain": [
       "<matplotlib.image.AxesImage at 0x216f24dbf70>"
      ]
     },
     "execution_count": 170,
     "metadata": {},
     "output_type": "execute_result"
    },
    {
     "data": {
      "image/png": "[encoded data removed]",
      "text/plain": [
       "<Figure size 979.592x480 with 1 Axes>"
      ]
     },
     "metadata": {},
     "output_type": "display_data"
    }
   ],
   "source": [
    "qcode = read_qcode(\"../codes/qcodes/HGP_100_4/HGP_100_4.qcode\")\n",
    "qcode = read_qcode(\"../codes/qcodes/HGP_100_4/HGP_C642_150_4.qcode\")\n",
    "qcode = read_qcode(\"../codes/qcodes/HGP_100_4/HGP_C422_200_4.qcode\")\n",
    "# qcode = read_qcode(\"../codes/qcodes/HGP_100_4/HGP_C422_400_8.qcode\")\n",
    "# qcode = read_qcode(\"../codes/qcodes/HGP_100_4/HGP_C642_600_16.qcode\")\n",
    "\n",
    "# qcode = read_qcode(\"../codes/qcodes/HGP_400_16/HGP_400_16.qcode\")\n",
    "# qcode = read_qcode(\"../codes/qcodes/HGP_400_16/HGP_C642_600_16.qcode\")\n",
    "# qcode = read_qcode(\"../codes/qcodes/HGP_400_16/HGP_C422_800_16.qcode\")\n",
    "# qcode = read_qcode(\"../codes/qcodes/HGP_400_16/HGP_C422_1600_32.qcode\")\n",
    "# qcode = read_qcode(\"../codes/qcodes/HGP_100_4/HGP_C642_2400_64.qcode\")\n",
    "\n",
    "# qcode = read_qcode(\"../codes/qcodes/HGP_900_36/HGP_900_36.qcode\")\n",
    "# qcode = read_qcode(\"../codes/qcodes/HGP_900_36/HGP_C642_1350_36.qcode\")\n",
    "# qcode = read_qcode(\"../codes/qcodes/HGP_900_36/HGP_C422_1800_36.qcode\")\n",
    "\n",
    "# qcode = read_qcode(\"../codes/qcodes/HGP_1600_64/HGP_1600_64.qcode\")\n",
    "# qcode = read_qcode(\"../codes/qcodes/HGP_C642_2400_64.qcode\")\n",
    "# qcode = read_qcode(\"../codes/qcodes/HGP_C422_3200_64.qcode\")\n",
    "\n",
    "\n",
    "\n",
    "# qcode = read_qcode(\"../codes/qcodes/BB_72_12.qcode\")\n",
    "# qcode = read_qcode(\"../codes/qcodes/BB_C422_144_12.qcode\")\n",
    "# qcode = read_qcode(\"../codes/qcodes/BB_C642_108_12.qcode\")\n",
    "\n",
    "\n",
    "# qcode = read_qcode(\"../codes/qcodes/BB_108_8.qcode\")\n",
    "# qcode = read_qcode(\"../codes/qcodes/BB_C642_162_8.qcode\")\n",
    "\n",
    "# qcode = read_qcode(\"../codes/qcodes/BB_144_12.qcode\")\n",
    "# qcode = read_qcode(\"../codes/qcodes/BB_C422_288_12.qcode\")\n",
    "\n",
    "# qcode = read_qcode(\"../codes/qcodes/BB_C422_576_24.qcode\")\n",
    "\n",
    "\n",
    "# concatenate_iceberg(qcode, 6, \"../codes/qcodes/\")\n",
    "# concatenate_iceberg(qcode, 4, \"../codes/qcodes/\")\n",
    "# concatenate_iceberg2(qcode, 6, \"../codes/qcodes/\")\n",
    "# concatenate_iceberg2(qcode, 4, \"../codes/qcodes/\")\n",
    "\n",
    "\n",
    "Hx, Hz, Lx, Lz = qcode.to_numpy()\n",
    "\n",
    "qubit_error_rate = 0.002\n",
    "meas_error_rate = 0.002\n",
    "\n",
    "plt.matshow(Hx)"
   ]
  },
  {
   "cell_type": "code",
   "execution_count": 171,
   "metadata": {},
   "outputs": [],
   "source": [
    "overlapping_x_generators = np.empty(qcode.qedxm, dtype=object)\n",
    "for i in range(qcode.qedxm):\n",
    "    tmp = np.array([], dtype=int)\n",
    "    for j in range(qcode.qedxm,qcode.xm):\n",
    "        if np.any(Hx[i] & Hx[j]): tmp = np.append(tmp, j)\n",
    "    overlapping_x_generators[i] = tmp\n",
    "\n",
    "overlapping_z_generators = np.empty(qcode.qedxm, dtype=object)\n",
    "for i in range(qcode.qedzm):\n",
    "    tmp = np.array([], dtype=int)\n",
    "    for j in range(qcode.qedzm,qcode.zm):\n",
    "        if np.any(Hz[i] & Hz[j]): tmp = np.append(tmp, j)\n",
    "    overlapping_z_generators[i] = tmp\n",
    "\n",
    "def get_overlapping(measurements, gen_type=False, not_overlapping=False):\n",
    "    overlapping_generators = overlapping_x_generators if gen_type else overlapping_z_generators\n",
    "    gens_to_measure = set()\n",
    "    for g in np.where(measurements)[0]:\n",
    "        gens_to_measure |= set(overlapping_generators[g])\n",
    "\n",
    "    if not_overlapping:\n",
    "        return np.array(list(set(np.arange(qcode.qedxm,qcode.xm)) ^ gens_to_measure))\n",
    "    else:\n",
    "        return np.array(list(gens_to_measure))"
   ]
  },
  {
   "cell_type": "code",
   "execution_count": 172,
   "metadata": {},
   "outputs": [],
   "source": [
    "cn = qcode.n\n",
    "cmx = qcode.xm\n",
    "cmz = qcode.zm\n",
    "# qedm, qedn = concatenatedStabilizersQED.shape\n",
    "# qecm, qecn = concatenatedStabilizersXQEC.shape\n",
    "data_qbts = np.arange(cn)\n",
    "x_checks = np.arange(cn,cn+cmx)\n",
    "z_checks = np.arange(cn+cmx,cn+cmx+cmz)\n",
    "all_qbts = np.arange(cn+cmx+cmz)\n",
    "\n",
    "precomputed_x_checks_circuits = np.empty(cmx, dtype=object)\n",
    "for x in np.arange(qcode.xm):\n",
    "    c = stim.Circuit()\n",
    "    gen_qbts = data_qbts[np.where(Hx[x])[0]]\n",
    "    for qbt in gen_qbts:\n",
    "        path_qbts = [x_checks[x], qbt]\n",
    "        c.append(\"CNOT\", path_qbts)\n",
    "        c.append(\"DEPOLARIZE2\", path_qbts, qubit_error_rate)\n",
    "    precomputed_x_checks_circuits[x] = c\n",
    "\n",
    "def prepare_x_checks(checks):\n",
    "    c = stim.Circuit()\n",
    "    if len(checks) == 0: return c\n",
    "    c.append(\"H\", [x_checks[x_check] for x_check in checks])\n",
    "    c.append(\"DEPOLARIZE1\", [x_checks[x_check] for x_check in checks], qubit_error_rate)\n",
    "    for x in checks:\n",
    "        c += precomputed_x_checks_circuits[x]\n",
    "    c.append(\"H\", [x_checks[x_check] for x_check in checks])\n",
    "    c.append(\"DEPOLARIZE1\", [x_checks[x_check] for x_check in checks], qubit_error_rate)\n",
    "    return c\n",
    "\n",
    "precomputed_z_checks_circuits = np.empty(cmz, dtype=object)\n",
    "for z in np.arange(qcode.zm):\n",
    "    c = stim.Circuit()\n",
    "    gen_qbts = data_qbts[np.where(Hz[z])[0]]\n",
    "    for qbt in gen_qbts:\n",
    "        path_qbts = [qbt, z_checks[z]]\n",
    "        c.append(\"CNOT\", path_qbts)\n",
    "        c.append(\"DEPOLARIZE2\", path_qbts, qubit_error_rate)\n",
    "    precomputed_z_checks_circuits[z] = c\n",
    "\n",
    "def prepare_z_checks(checks):\n",
    "    c = stim.Circuit()\n",
    "    if len(checks) == 0: return c\n",
    "    for z in checks:\n",
    "        c += precomputed_z_checks_circuits[z]\n",
    "    return c"
   ]
  },
  {
   "cell_type": "code",
   "execution_count": 173,
   "metadata": {},
   "outputs": [],
   "source": [
    "class Simulation:\n",
    "    def __init__(self, num_rounds, stab_type, adaptive=True):\n",
    "        self.num_rounds = num_rounds\n",
    "        self.stab_type = stab_type\n",
    "        self.curr_round = 1\n",
    "        self.adaptive = adaptive\n",
    "\n",
    "        self.prev_meas_z = np.zeros(cmz, dtype=int)\n",
    "        self.prev_meas_x = np.zeros(cmx, dtype=int)\n",
    "        self.curr_meas_z = np.zeros(cmz, dtype=int)\n",
    "        self.curr_meas_x = np.zeros(cmx, dtype=int)\n",
    "\n",
    "        self.z_check_history = np.ones(cmz, dtype=int)\n",
    "        self.x_check_history = np.ones(cmx, dtype=int)\n",
    "        self.z_syndrome_history = np.zeros(shape=(num_rounds+2, cmz), dtype=int)\n",
    "        self.x_syndrome_history = np.zeros(shape=(num_rounds+2, cmx), dtype=int)\n",
    "        self.z_observables = np.zeros(qcode.k, dtype=int)\n",
    "        self.x_observables = np.zeros(qcode.k, dtype=int)\n",
    "\n",
    "        self.c = stim.Circuit()\n",
    "        self.c.append(\"M\", 0) # hacky way to make detectors that aren't affected by anything\n",
    "        self.s = stim.TableauSimulator()\n",
    "\n",
    "        if self.stab_type:\n",
    "            self.c.append(\"H\", [qbt for qbt in data_qbts])\n",
    "            self.c += prepare_z_checks(np.arange(cmz)).without_noise()\n",
    "            # self.c.append(\"X_ERROR\", z_checks, meas_error_rate)\n",
    "            for i, z_check in enumerate(np.arange(cmz)):\n",
    "                self.c.append(\"MR\", z_checks[z_check])\n",
    "                self.prev_meas_z[z_check] = self.c.num_measurements\n",
    "            # self.c.append(\"X_ERROR\", z_checks, meas_error_rate)\n",
    "        else:\n",
    "            self.c += prepare_x_checks(np.arange(cmx)).without_noise()\n",
    "            # self.c.append(\"X_ERROR\", x_checks, meas_error_rate)\n",
    "            for i, x_check in enumerate(np.arange(cmx)):\n",
    "                self.c.append(\"MR\", x_checks[x_check])\n",
    "                self.prev_meas_x[x_check] = self.c.num_measurements\n",
    "            # self.c.append(\"X_ERROR\", x_checks, meas_error_rate)\n",
    "\n",
    "        self.s.do_circuit(self.c)\n",
    "        if self.stab_type:\n",
    "            self.z_syndrome_history[0] = self.s.current_measurement_record()[1:]\n",
    "        else:\n",
    "            self.x_syndrome_history[0] = self.s.current_measurement_record()[1:]\n",
    "\n",
    "\n",
    "    def detectors(self):\n",
    "        num_meas = self.c.num_measurements\n",
    "        prev_meas = self.prev_meas_x if self.stab_type else self.prev_meas_z\n",
    "        curr_meas = self.curr_meas_x if self.stab_type else self.curr_meas_z\n",
    "\n",
    "        for i, check in enumerate(np.arange(cmz)):\n",
    "            if not prev_meas[i]:\n",
    "                self.c.append(\"DETECTOR\", [stim.target_rec(curr_meas[i]-num_meas-1)] if curr_meas[i] else [stim.target_rec(-num_meas)], (i,self.curr_round))\n",
    "            else:\n",
    "                self.c.append(\"DETECTOR\", [stim.target_rec(curr_meas[i]-num_meas-1), stim.target_rec(prev_meas[i]-num_meas-1)] if curr_meas[i] else [stim.target_rec(-num_meas)], (i,self.curr_round))\n",
    "            if curr_meas[i]:\n",
    "                prev_meas[i] = curr_meas[i]\n",
    "                curr_meas[i] = 0\n",
    "\n",
    "        if self.stab_type:\n",
    "            self.prev_meas_x = prev_meas\n",
    "            self.curr_meas_x = curr_meas\n",
    "        else:\n",
    "            self.prev_meas_z = prev_meas\n",
    "            self.curr_meas_z = curr_meas\n",
    "\n",
    "    def final_detectors_and_observables(self):\n",
    "        c = stim.Circuit()\n",
    "\n",
    "        if self.stab_type: c.append(\"H\", [qbt for qbt in data_qbts])\n",
    "        c.append(\"M\", [qbt for qbt in data_qbts])\n",
    "\n",
    "        self.s.do_circuit(c)\n",
    "\n",
    "        meas = self.s.current_measurement_record()\n",
    "        num_meas = self.c.num_measurements + c.num_measurements\n",
    "        H = Hx if self.stab_type else Hz\n",
    "        prev_meas = self.prev_meas_x if self.stab_type else self.prev_meas_z\n",
    "        for i in range(H.shape[0]):\n",
    "            incl_qbts = np.where(H[i])[0]\n",
    "            incl_qbts = [j-cn for j in incl_qbts]\n",
    "            target_recs = [stim.target_rec(j) for j in incl_qbts]\n",
    "\n",
    "            if prev_meas[i]:\n",
    "                target_recs.append(stim.target_rec(prev_meas[i]-num_meas-1))\n",
    "            c.append(\"DETECTOR\", target_recs, (i, self.curr_round))\n",
    "\n",
    "            if self.stab_type:\n",
    "                self.x_syndrome_history[-1][i] = np.sum(np.take(meas, incl_qbts)) % 2\n",
    "            else:\n",
    "                self.z_syndrome_history[-1][i] = np.sum(np.take(meas, incl_qbts)) % 2\n",
    "\n",
    "        for i, logical in enumerate(Lx if self.stab_type else Lz):\n",
    "            incl_qbts = np.where(logical)[0]\n",
    "            incl_qbts = [j-cn for j in incl_qbts]\n",
    "            c.append(\"OBSERVABLE_INCLUDE\", [stim.target_rec(j) for j in incl_qbts], i)\n",
    "\n",
    "            if self.stab_type:\n",
    "                self.x_observables[i] = np.sum(np.take(meas, incl_qbts)) % 2\n",
    "            else:\n",
    "                self.z_observables[i] = np.sum(np.take(meas, incl_qbts)) % 2\n",
    "        return c\n",
    "\n",
    "    def QED(self):\n",
    "        def measure_z_qed_checks(c):\n",
    "            c += prepare_z_checks(np.arange(qcode.qedzm))\n",
    "            # c.append(\"X_ERROR\", [z_checks[z_check] for z_check in np.arange(qcode.qedzm)], meas_error_rate)\n",
    "            for i, z_check in enumerate(np.arange(qcode.qedzm)):\n",
    "                c.append(\"MR\", z_checks[z_check])\n",
    "                self.curr_meas_z[z_check] = self.c.num_measurements + c.num_measurements\n",
    "            return c\n",
    "\n",
    "        def measure_x_qed_checks(c):\n",
    "            c += prepare_x_checks(np.arange(qcode.qedxm))\n",
    "            # c.append(\"X_ERROR\", [x_checks[x_check] for x_check in np.arange(qcode.qedxm)], meas_error_rate)\n",
    "            for i, x_check in enumerate(np.arange(qcode.qedxm)):\n",
    "                c.append(\"MR\", x_checks[x_check])\n",
    "                self.curr_meas_x[x_check] = self.c.num_measurements + c.num_measurements\n",
    "            return c\n",
    "\n",
    "        c = stim.Circuit()\n",
    "        if self.stab_type:\n",
    "            c = measure_x_qed_checks(c)\n",
    "            c = measure_z_qed_checks(c)\n",
    "        else:\n",
    "            c = measure_z_qed_checks(c)\n",
    "            c = measure_x_qed_checks(c)\n",
    "        return c\n",
    "\n",
    "    def QEC(self):\n",
    "        def measure_z_qec_checks(c, curr_z_checks):\n",
    "            c += prepare_z_checks(curr_z_checks)\n",
    "            c.append(\"X_ERROR\", [z_checks[z_check] for z_check in curr_z_checks], meas_error_rate)\n",
    "            for i, z_check in enumerate(curr_z_checks):\n",
    "                c.append(\"MR\", z_checks[z_check])\n",
    "                self.curr_meas_z[z_check] = self.c.num_measurements + c.num_measurements\n",
    "            return c\n",
    "\n",
    "        def measure_x_qec_checks(c, curr_x_checks):\n",
    "            c += prepare_x_checks(curr_x_checks)\n",
    "            c.append(\"X_ERROR\", [x_checks[x_check] for x_check in curr_x_checks], meas_error_rate)\n",
    "            for i, x_check in enumerate(curr_x_checks):\n",
    "                c.append(\"MR\", x_checks[x_check])\n",
    "                self.curr_meas_x[x_check] = self.c.num_measurements + c.num_measurements\n",
    "            return c\n",
    "\n",
    "        c = stim.Circuit()\n",
    "        if self.stab_type:\n",
    "            c = measure_x_qec_checks(c, self.curr_x_checks)\n",
    "            c = measure_z_qec_checks(c, self.curr_z_checks)\n",
    "        else:\n",
    "            c = measure_z_qec_checks(c, self.curr_z_checks)\n",
    "            c = measure_x_qec_checks(c, self.curr_x_checks)\n",
    "        return c\n",
    "\n",
    "    def simulate(self):\n",
    "        for i in range(1, self.num_rounds+1):\n",
    "            # if self.stab_type:\n",
    "            #     self.c.append(\"Z_ERROR\", data_qbts, qubit_error_rate)\n",
    "            #     self.s.z_error(*data_qbts, p=qubit_error_rate)\n",
    "            # else:\n",
    "            #     self.c.append(\"X_ERROR\", data_qbts, qubit_error_rate)\n",
    "            #     self.s.x_error(*data_qbts, p=qubit_error_rate)\n",
    "\n",
    "            self.z_syndrome_history[self.curr_round] = self.z_syndrome_history[self.curr_round-1]\n",
    "            self.x_syndrome_history[self.curr_round] = self.x_syndrome_history[self.curr_round-1]\n",
    "            self.curr_z_checks = np.zeros(cmz)\n",
    "            self.curr_x_checks = np.zeros(cmx)\n",
    "\n",
    "            if not self.adaptive:\n",
    "                self.curr_z_checks = np.arange(cmz)\n",
    "                self.curr_x_checks = np.arange(cmx)\n",
    "            else:\n",
    "                QED_circuit = self.QED()#.without_noise()\n",
    "                self.s.do_circuit(QED_circuit)\n",
    "                self.c += QED_circuit\n",
    "\n",
    "                # determining which of the QEC stabilizers to measure\n",
    "                meas = self.s.current_measurement_record()\n",
    "                if self.stab_type:\n",
    "                    self.x_syndrome_history[self.curr_round][:qcode.qedxm] = meas[-(qcode.qedxm+qcode.qedzm):-qcode.qedxm]\n",
    "                    self.z_syndrome_history[self.curr_round][:qcode.qedzm] = meas[-qcode.qedzm:]\n",
    "                else:\n",
    "                    self.z_syndrome_history[self.curr_round][:qcode.qedzm] = meas[-(qcode.qedzm+qcode.qedxm):-qcode.qedzm]\n",
    "                    self.x_syndrome_history[self.curr_round][:qcode.qedxm] = meas[-qcode.qedxm:]\n",
    "\n",
    "                z_qed_synd_diff = self.z_syndrome_history[self.curr_round-1][:qcode.qedzm] ^ self.z_syndrome_history[self.curr_round][:qcode.qedzm]\n",
    "                x_qed_synd_diff = self.x_syndrome_history[self.curr_round-1][:qcode.qedxm] ^ self.x_syndrome_history[self.curr_round][:qcode.qedxm]\n",
    "\n",
    "                self.curr_z_checks = sorted(get_overlapping(z_qed_synd_diff, False))\n",
    "                self.curr_x_checks = sorted(get_overlapping(x_qed_synd_diff, True))\n",
    "\n",
    "\n",
    "            confirmation_z = np.concatenate([np.ones(qcode.qedzm, dtype=int), np.zeros(cmz-qcode.qedzm, dtype=int)])\n",
    "            confirmation_z[self.curr_z_checks] = 1\n",
    "            confirmation_x = np.concatenate([np.ones(qcode.qedxm, dtype=int), np.zeros(cmx-qcode.qedxm, dtype=int)])\n",
    "            confirmation_x[self.curr_x_checks] = 1\n",
    "            self.z_check_history = np.vstack([self.z_check_history, confirmation_z])\n",
    "            self.x_check_history = np.vstack([self.x_check_history, confirmation_x])\n",
    "\n",
    "            QEC_circuit = self.QEC()#.without_noise()\n",
    "            self.s.do_circuit(QEC_circuit)\n",
    "            self.c += QEC_circuit\n",
    "\n",
    "            meas = self.s.current_measurement_record()\n",
    "            lookback = lambda x: -len(x) if len(x) else None\n",
    "            if self.stab_type:\n",
    "                if len(self.curr_x_checks):\n",
    "                    self.x_syndrome_history[self.curr_round][self.curr_x_checks] = meas[lookback(np.concatenate([self.curr_x_checks, self.curr_z_checks])):\n",
    "                                                                          lookback(self.curr_z_checks)]\n",
    "                if len(self.curr_z_checks):\n",
    "                    self.z_syndrome_history[self.curr_round][self.curr_z_checks] = meas[lookback(self.curr_z_checks):]\n",
    "            else:\n",
    "                if len(self.curr_z_checks):\n",
    "                    self.z_syndrome_history[self.curr_round][self.curr_z_checks] = meas[lookback(np.concatenate([self.curr_z_checks, self.curr_x_checks])):\n",
    "                                                                          lookback(self.curr_x_checks)]\n",
    "                if len(self.curr_x_checks):\n",
    "                    self.x_syndrome_history[self.curr_round][self.curr_x_checks] = meas[lookback(self.curr_x_checks):]\n",
    "\n",
    "            self.detectors()\n",
    "            self.curr_round += 1\n",
    "\n",
    "        obs_circuit = self.final_detectors_and_observables()\n",
    "        self.c += obs_circuit"
   ]
  },
  {
   "cell_type": "code",
   "execution_count": 174,
   "metadata": {},
   "outputs": [],
   "source": [
    "class WindowBPOSD:\n",
    "    def __init__(self, pcm, channel_probs, num_rounds, window_size, commit_size):\n",
    "        self.pcm = pcm\n",
    "        self.channel_probs = channel_probs\n",
    "        self.num_rounds = num_rounds\n",
    "        self.num_errors = pcm.shape[1]\n",
    "        self.window_size = window_size\n",
    "        self.commit_size = commit_size\n",
    "\n",
    "        self.round_synd_size = pcm.shape[0] // num_rounds\n",
    "        self.decoders = []\n",
    "        self.error_indices = []\n",
    "        self.window_pcms = []\n",
    "        self.GF = galois.GF(2)\n",
    "\n",
    "        for r in range(0, self.num_rounds, self.commit_size):\n",
    "            start_error = max(self.pcm[self.round_synd_size*(r-1):self.round_synd_size*r].nonzero()[1])+1 if r else 0\n",
    "            next_start_error = max(self.pcm[self.round_synd_size*r:self.round_synd_size*(r+self.commit_size)].nonzero()[1])\n",
    "            end_error = max(self.pcm[self.round_synd_size*r:self.round_synd_size*(r+self.window_size)].nonzero()[1])+1\n",
    "\n",
    "            # print(start_error, next_start_error, end_error)\n",
    "\n",
    "            window_pcm = self.pcm[self.round_synd_size*r:self.round_synd_size*(r+self.window_size)][:,start_error:end_error]\n",
    "            self.window_pcms.append(window_pcm)\n",
    "\n",
    "            bposd_dec_partial = BpLsdDecoder(\n",
    "                window_pcm.A,\n",
    "                channel_probs=self.channel_probs[start_error:end_error],\n",
    "                max_iter=30,\n",
    "                bp_method=\"minimum_sum\",\n",
    "                # ms_scaling_factor=0,\n",
    "                osd_method=\"osd0\",\n",
    "                # osd_order=2\n",
    "            )\n",
    "            self.decoders.append(bposd_dec_partial)\n",
    "            self.error_indices.append((start_error, next_start_error))\n",
    "\n",
    "    def decode(self, synd):\n",
    "        guessed_error = np.zeros(self.num_errors, dtype=np.uint8)\n",
    "        synd = synd.copy()\n",
    "\n",
    "        for i, r in enumerate(range(0, self.num_rounds, self.commit_size)):\n",
    "            window_synd = synd[self.round_synd_size*r:self.round_synd_size*(r+self.window_size)]\n",
    "            corr = self.decoders[i].decode(window_synd)\n",
    "            corr_inds = np.array([e + self.error_indices[i][0] for e in np.where(corr)[0]])\n",
    "\n",
    "            if len(corr_inds):\n",
    "                guessed_error[corr_inds[corr_inds <= self.error_indices[i][1]]] = 1\n",
    "            synd ^= ((self.pcm @ guessed_error) % 2).astype(np.bool_)\n",
    "\n",
    "        return guessed_error"
   ]
  },
  {
   "cell_type": "code",
   "execution_count": 175,
   "metadata": {},
   "outputs": [],
   "source": [
    "stab_type = True\n",
    "adaptive = True if qcode.qedxm else False\n",
    "# adaptive = False\n",
    "\n",
    "num_rounds = 10\n",
    "s = Simulation(num_rounds, stab_type, adaptive=adaptive)\n",
    "s.simulate()\n",
    "c = s.c"
   ]
  },
  {
   "cell_type": "code",
   "execution_count": 176,
   "metadata": {},
   "outputs": [
    {
     "name": "stdout",
     "output_type": "stream",
     "text": [
      "(1078, 4679)\n",
      "(4, 4679)\n"
     ]
    },
    {
     "name": "stderr",
     "output_type": "stream",
     "text": [
      "100%|██████████| 100/100 [00:00<00:00, 156.29it/s]\n"
     ]
    },
    {
     "data": {
      "text/plain": [
       "33"
      ]
     },
     "execution_count": 176,
     "metadata": {},
     "output_type": "execute_result"
    }
   ],
   "source": [
    "sampler = c.compile_detector_sampler()\n",
    "dem = c.detector_error_model()\n",
    "pcm = lil_matrix((dem.num_detectors, dem.num_errors), dtype=int)\n",
    "lcm = lil_matrix((dem.num_observables, dem.num_errors), dtype=int)\n",
    "\n",
    "errors = []\n",
    "channel_probs = [e.args_copy()[0] for e in dem if e.type==\"error\"]\n",
    "for i, error_event in enumerate(c.explain_detector_error_model_errors()):\n",
    "    dets = [det.dem_target.val for det in error_event.dem_error_terms if det.dem_target.is_relative_detector_id()]\n",
    "    obs = [ob.dem_target.val for ob in error_event.dem_error_terms if ob.dem_target.is_logical_observable_id()]\n",
    "    pcm[[dets],i] = 1\n",
    "    lcm[[obs],i] = 1\n",
    "\n",
    "print(pcm.shape)\n",
    "print(lcm.shape)\n",
    "\n",
    "bposd_dec = BpLsdDecoder(\n",
    "    pcm.A,\n",
    "    channel_probs=channel_probs,\n",
    "    max_iter=30,\n",
    "    bp_method=\"minimum_sum\",\n",
    "    # ms_scaling_factor=0,\n",
    "    osd_method=\"osd0\",\n",
    "    # osd_order=2\n",
    ")\n",
    "\n",
    "\n",
    "window = WindowBPOSD(pcm, channel_probs, num_rounds+1, window_size=3, commit_size=3)\n",
    "\n",
    "\n",
    "\n",
    "successes = 0\n",
    "for ii in tqdm(range(100)):\n",
    "    detection_events, observable_flips = sampler.sample(1, separate_observables=True)\n",
    "    # guessed_errors = bposd_dec.decode(detection_events[0])\n",
    "    guessed_errors = window.decode(detection_events[0])\n",
    "\n",
    "    guessed_obs = (lcm @ guessed_errors) % 2\n",
    "    success = np.all(observable_flips[0].astype(int) == guessed_obs)\n",
    "    successes += success\n",
    "\n",
    "successes"
   ]
  },
  {
   "cell_type": "code",
   "execution_count": 178,
   "metadata": {},
   "outputs": [
    {
     "name": "stderr",
     "output_type": "stream",
     "text": [
      "100%|██████████| 100/100 [00:38<00:00,  2.58it/s]\n"
     ]
    },
    {
     "data": {
      "text/plain": [
       "97"
      ]
     },
     "execution_count": 178,
     "metadata": {},
     "output_type": "execute_result"
    }
   ],
   "source": [
    "stab_type = True\n",
    "adaptive = True if qcode.qedxm else False\n",
    "num_rounds = 8\n",
    "\n",
    "no_gens = []\n",
    "\n",
    "np.random.seed(4)\n",
    "\n",
    "successes = 0\n",
    "for ii in tqdm(range(100)):\n",
    "    s = Simulation(num_rounds, stab_type, adaptive=adaptive)\n",
    "    s.simulate()\n",
    "    c = s.c\n",
    "\n",
    "    z_detection_events = np.array([s.z_syndrome_history[i] ^ s.z_syndrome_history[i+1] for i in range(num_rounds+1)]).flatten()\n",
    "    x_detection_events = np.array([s.x_syndrome_history[i] ^ s.x_syndrome_history[i+1] for i in range(num_rounds+1)]).flatten()\n",
    "    detection_events = x_detection_events if stab_type else z_detection_events\n",
    "    observable_flips = s.x_observables if stab_type else s.z_observables\n",
    "\n",
    "    sampler = c.compile_detector_sampler()\n",
    "    dem = c.detector_error_model()\n",
    "    pcm = lil_matrix((dem.num_detectors, dem.num_errors), dtype=int)\n",
    "    lcm = lil_matrix((dem.num_observables, dem.num_errors), dtype=int)\n",
    "\n",
    "    errors = []\n",
    "    channel_probs = [e.args_copy()[0] for e in dem if e.type==\"error\"]\n",
    "    for i, error_event in enumerate(c.explain_detector_error_model_errors()):\n",
    "        dets = [det.dem_target.val for det in error_event.dem_error_terms if det.dem_target.is_relative_detector_id()]\n",
    "        obs = [ob.dem_target.val for ob in error_event.dem_error_terms if ob.dem_target.is_logical_observable_id()]\n",
    "        pcm[[dets],i] = 1\n",
    "        lcm[[obs],i] = 1\n",
    "\n",
    "\n",
    "    bposd_dec = BpLsdDecoder(\n",
    "        pcm.A,\n",
    "        channel_probs=channel_probs,\n",
    "        max_iter=30,\n",
    "        bp_method=\"minimum_sum\",\n",
    "        # ms_scaling_factor=0,\n",
    "        osd_method=\"osd0\",\n",
    "        # osd_order=2\n",
    "    )\n",
    "\n",
    "\n",
    "    window = WindowBPOSD(pcm, channel_probs, num_rounds+1, window_size=3, commit_size=3)\n",
    "\n",
    "\n",
    "    guessed_errors = bposd_dec.decode(detection_events)\n",
    "    # guessed_errors = window.decode(detection_events)\n",
    "    guessed_obs = (lcm @ guessed_errors) % 2\n",
    "    success = np.all(observable_flips.astype(int) == guessed_obs)\n",
    "    successes += success\n",
    "\n",
    "successes"
   ]
  },
  {
   "cell_type": "code",
   "execution_count": 125,
   "metadata": {},
   "outputs": [
    {
     "data": {
      "text/plain": [
       "array([ 174,  296,  371,  566,  647,  650,  721, 1242, 1243, 1511, 1512,\n",
       "       1537, 1538, 1554, 1556, 1592, 1690, 1760, 2022, 2024, 2031, 2032,\n",
       "       2034, 2036, 2046, 2063], dtype=int64)"
      ]
     },
     "execution_count": 125,
     "metadata": {},
     "output_type": "execute_result"
    }
   ],
   "source": [
    "np.where(guessed_errors)[0]"
   ]
  },
  {
   "cell_type": "code",
   "execution_count": 126,
   "metadata": {},
   "outputs": [
    {
     "data": {
      "text/plain": [
       "array([ 174,  296,  371,  566,  757, 1597, 2049], dtype=int64)"
      ]
     },
     "execution_count": 126,
     "metadata": {},
     "output_type": "execute_result"
    }
   ],
   "source": [
    "np.where(guessed_errors2)[0]"
   ]
  },
  {
   "cell_type": "code",
   "execution_count": 104,
   "metadata": {},
   "outputs": [
    {
     "data": {
      "text/plain": [
       "array([1, 1, 1, 1], dtype=int32)"
      ]
     },
     "execution_count": 104,
     "metadata": {},
     "output_type": "execute_result"
    }
   ],
   "source": [
    "(lcm @ guessed_errors2) % 2"
   ]
  },
  {
   "cell_type": "code",
   "execution_count": 103,
   "metadata": {},
   "outputs": [
    {
     "data": {
      "text/plain": [
       "array([0, 0, 0, 1])"
      ]
     },
     "execution_count": 103,
     "metadata": {},
     "output_type": "execute_result"
    }
   ],
   "source": [
    "observable_flips"
   ]
  },
  {
   "cell_type": "code",
   "execution_count": 128,
   "metadata": {},
   "outputs": [
    {
     "name": "stdout",
     "output_type": "stream",
     "text": [
      "0 1129 1130\n",
      "1130 2080 2081\n"
     ]
    }
   ],
   "source": [
    "window = WindowBPOSD(pcm, channel_probs, num_rounds+1, window_size=3, commit_size=3)\n",
    "\n",
    "\n",
    "# guessed_errors2 = bposd_dec.decode(detection_events)\n",
    "guessed_errors = window.decode(detection_events)"
   ]
  },
  {
   "cell_type": "code",
   "execution_count": 138,
   "metadata": {},
   "outputs": [
    {
     "data": {
      "text/plain": [
       "array([174, 296, 371, 566, 647, 650, 721], dtype=int64)"
      ]
     },
     "execution_count": 138,
     "metadata": {},
     "output_type": "execute_result"
    }
   ],
   "source": [
    "r = 0\n",
    "window_size=3\n",
    "round_synd_size = 73\n",
    "window_pcm = window.window_pcms[r]\n",
    "window_synd = detection_events[round_synd_size*r:round_synd_size*(r+window_size)]\n",
    "corr = window.decoders[r].decode(window_synd)\n",
    "np.where(corr)[0]"
   ]
  },
  {
   "cell_type": "code",
   "execution_count": 130,
   "metadata": {},
   "outputs": [
    {
     "data": {
      "text/plain": [
       "73"
      ]
     },
     "execution_count": 130,
     "metadata": {},
     "output_type": "execute_result"
    }
   ],
   "source": [
    "Hx.shape[0]"
   ]
  },
  {
   "cell_type": "code",
   "execution_count": 134,
   "metadata": {},
   "outputs": [
    {
     "data": {
      "text/plain": [
       "True"
      ]
     },
     "execution_count": 134,
     "metadata": {},
     "output_type": "execute_result"
    }
   ],
   "source": [
    "bposd_dec.converge"
   ]
  },
  {
   "cell_type": "code",
   "execution_count": 137,
   "metadata": {},
   "outputs": [
    {
     "data": {
      "text/plain": [
       "1130"
      ]
     },
     "execution_count": 137,
     "metadata": {},
     "output_type": "execute_result"
    }
   ],
   "source": [
    "len(corr)"
   ]
  },
  {
   "cell_type": "code",
   "execution_count": 139,
   "metadata": {},
   "outputs": [
    {
     "data": {
      "text/plain": [
       "array([0, 0, 0, 0, 0, 0, 0, 0, 0, 0, 0, 0, 0, 0, 0, 0, 0, 0, 0, 0, 0, 0,\n",
       "       0, 0, 0, 0, 0, 0, 0, 0, 0, 0, 0, 0, 0, 0, 0, 0, 0, 0, 0, 0, 0, 0,\n",
       "       0, 0, 0, 0, 0, 0, 0, 0, 0, 0, 0, 0, 0, 0, 0, 0, 0, 0, 0, 0, 0, 0,\n",
       "       0, 0, 0, 0, 0, 0, 0, 0, 0, 0, 0, 0, 0, 0, 0, 0, 0, 0, 0, 0, 0, 0,\n",
       "       0, 0, 0, 0, 0, 0, 0, 0, 0, 0, 0, 0, 0, 0, 0, 0, 0, 0, 0, 0, 0, 0,\n",
       "       0, 0, 0, 0, 0, 0, 0, 0, 0, 0, 0, 0, 0, 0, 0, 0, 0, 0, 0, 0, 0, 0,\n",
       "       0, 0, 0, 0, 0, 0, 0, 0, 0, 0, 0, 0, 0, 0, 0, 0, 0, 0, 0, 0, 0, 0,\n",
       "       0, 0, 0, 0, 0, 0, 0, 0, 0, 0, 0, 0, 0, 0, 0, 0, 0, 0, 0, 0, 0, 0,\n",
       "       0, 0, 0, 0, 0, 0, 0, 0, 0, 0, 0, 0, 0, 0, 0, 0, 0, 0, 0, 0, 0, 0,\n",
       "       0, 0, 0, 0, 0, 0, 0, 0, 0, 0, 0, 0, 0, 0, 0, 0, 0, 0, 0, 0, 0],\n",
       "      dtype=int32)"
      ]
     },
     "execution_count": 139,
     "metadata": {},
     "output_type": "execute_result"
    }
   ],
   "source": [
    "(window_pcm @ corr) % 2 ^ window_synd"
   ]
  },
  {
   "cell_type": "code",
   "execution_count": null,
   "metadata": {},
   "outputs": [],
   "source": []
  }
 ],
 "metadata": {
  "kernelspec": {
   "display_name": "Python 3 (ipykernel)",
   "language": "python",
   "name": "python3"
  },
  "language_info": {
   "codemirror_mode": {
    "name": "ipython",
    "version": 3
   },
   "file_extension": ".py",
   "mimetype": "text/x-python",
   "name": "python",
   "nbconvert_exporter": "python",
   "pygments_lexer": "ipython3",
   "version": "3.8.18"
  }
 },
 "nbformat": 4,
 "nbformat_minor": 2
}
