{
 "cells": [
  {
   "cell_type": "code",
   "execution_count": 1,
   "metadata": {},
   "outputs": [],
   "source": [
    "import numpy as np\n",
    "import matplotlib.pyplot as plt\n",
    "import galois\n",
    "import itertools\n",
    "from classical_code import *\n",
    "from quantum_code import *\n",
    "import stim\n",
    "from scipy.sparse import lil_matrix\n",
    "import scipy as sp\n",
    "from ldpc import bposd_decoder, bp_decoder\n",
    "from tqdm import tqdm\n",
    "from result_lifetime import Result, save_new_res\n",
    "# %load_ext snakeviz"
   ]
  },
  {
   "cell_type": "code",
   "execution_count": 2,
   "metadata": {},
   "outputs": [
    {
     "data": {
      "text/plain": [
       "<matplotlib.image.AxesImage at 0x20b1acbe670>"
      ]
     },
     "execution_count": 2,
     "metadata": {},
     "output_type": "execute_result"
    },
    {
     "data": {
      "image/png": "[encoded data removed]",
      "text/plain": [
       "<Figure size 1466.3x480 with 1 Axes>"
      ]
     },
     "metadata": {},
     "output_type": "display_data"
    }
   ],
   "source": [
    "qcode = read_qcode(\"../codes/qcodes/HGP_100_4/HGP_100_4.qcode\")\n",
    "\n",
    "qcode = read_qcode(\"../codes/qcodes/HGP_100_4/HGP_C642_150_4.qcode\")\n",
    "# qcode = read_qcode(\"../codes/qcodes/HGP_C422_200_4.qcode\")\n",
    "# qcode = read_qcode(\"../codes/qcodes/HGP_C422_400_8.qcode\")\n",
    "\n",
    "\n",
    "# qcode = read_qcode(\"../codes/qcodes/HGP_C422_200_4.qcode\")\n",
    "# qcode = read_qcode(\"./codes/qcodes/HGP_C752_140_4.qcode\")\n",
    "\n",
    "# concatenate_iceberg(qcode, 4, \"../codes/qcodes/\")\n",
    "# qcode = read_qcode(\"../codes/qcodes/HGP_400_16.qcode\")\n",
    "# qcode = read_qcode(\"../codes/qcodes/HGP_900_36.qcode\")\n",
    "# qcode = read_qcode(\"../codes/qcodes/HGP_C642_1350_36.qcode\")\n",
    "\n",
    "# qcode = read_qcode(\"../codes/qcodes/HGP_1600_64.qcode\")\n",
    "\n",
    "\n",
    "# concatenate_iceberg2(qcode, 4, \"../codes/qcodes\")\n",
    "\n",
    "\n",
    "Hx, Hz, Lx, Lz = qcode.to_numpy()\n",
    "\n",
    "Hx = np.hstack([Hx, np.eye(Hx.shape[0], dtype=int)])\n",
    "Hz = np.hstack([Hz, np.eye(Hz.shape[0], dtype=int)])\n",
    "\n",
    "\n",
    "plt.matshow(Hz)"
   ]
  },
  {
   "cell_type": "code",
   "execution_count": 3,
   "metadata": {},
   "outputs": [],
   "source": [
    "overlapping_x_generators = np.empty(qcode.qedxm, dtype=object)\n",
    "for i in range(qcode.qedxm):\n",
    "    tmp = np.array([], dtype=int)\n",
    "    for j in range(qcode.qedxm,qcode.xm):\n",
    "        if np.any(Hx[i] & Hx[j]): tmp = np.append(tmp, j)\n",
    "    overlapping_x_generators[i] = tmp\n",
    "\n",
    "overlapping_z_generators = np.empty(qcode.qedxm, dtype=object)\n",
    "for i in range(qcode.qedzm):\n",
    "    tmp = np.array([], dtype=int)\n",
    "    for j in range(qcode.qedzm,qcode.zm):\n",
    "        if np.any(Hz[i] & Hz[j]): tmp = np.append(tmp, j)\n",
    "    overlapping_z_generators[i] = tmp\n",
    "\n",
    "def get_overlapping(measurements, gen_type=False, not_overlapping=False):\n",
    "    overlapping_generators = overlapping_x_generators if gen_type else overlapping_z_generators\n",
    "    gens_to_measure = set()\n",
    "    for g in np.where(measurements)[0]:\n",
    "        gens_to_measure |= set(overlapping_generators[g])\n",
    "\n",
    "    if not_overlapping:\n",
    "        return np.array(list(set(np.arange(qcode.qedxm,qcode.xm)) ^ gens_to_measure))\n",
    "    else:\n",
    "        return np.array(list(gens_to_measure))"
   ]
  },
  {
   "cell_type": "code",
   "execution_count": 6,
   "metadata": {},
   "outputs": [],
   "source": [
    "qubit_error_rate = 0.02\n",
    "meas_error_rate = 0.00\n",
    "\n",
    "if (qcode.qedzm):\n",
    "    bp_qed_dec = bp_decoder(\n",
    "        Hz[:qcode.qedzm], # the parity check matrix\n",
    "        # error_rate=qubit_error_rate,\n",
    "        channel_probs=[qubit_error_rate]*(Hz.shape[1]-Hz.shape[0])+[meas_error_rate]*Hx.shape[0],\n",
    "        max_iter=100,\n",
    "        bp_method=\"msl\",\n",
    "        ms_scaling_factor=0,\n",
    "    )\n",
    "\n",
    "bposd_qed_qec_dec = bposd_decoder(\n",
    "    Hz[qcode.qedzm:],\n",
    "    # error_rate=qubit_error_rate,\n",
    "    channel_probs=[qubit_error_rate]*(Hz.shape[1]-Hz.shape[0])+[meas_error_rate]*Hz.shape[0],\n",
    "    bp_method=\"msl\",\n",
    "    max_iter=Hz.shape[1],\n",
    "    ms_scaling_factor=0,\n",
    "    osd_method=\"osd0\",\n",
    ")\n",
    "\n",
    "bposd_qec_dec = bposd_decoder(\n",
    "    Hz,\n",
    "    # error_rate=qubit_error_rate,\n",
    "    channel_probs=[qubit_error_rate]*(Hz.shape[1]-Hz.shape[0])+[meas_error_rate]*Hz.shape[0],\n",
    "    bp_method=\"msl\",\n",
    "    max_iter=Hz.shape[1],\n",
    "    ms_scaling_factor=0,\n",
    "    osd_method=\"osd0\",\n",
    ")"
   ]
  },
  {
   "cell_type": "code",
   "execution_count": 10,
   "metadata": {},
   "outputs": [
    {
     "name": "stderr",
     "output_type": "stream",
     "text": [
      "100%|██████████| 10000/10000 [00:07<00:00, 1367.72it/s]"
     ]
    },
    {
     "name": "stdout",
     "output_type": "stream",
     "text": [
      "\n",
      "6635\n"
     ]
    },
    {
     "name": "stderr",
     "output_type": "stream",
     "text": [
      "\n"
     ]
    }
   ],
   "source": [
    "# np.random.seed(0)\n",
    "\n",
    "concat = 1\n",
    "adaptive = 0\n",
    "successes = 0\n",
    "\n",
    "qubit_errors = []\n",
    "synd_errors = []\n",
    "synds = []\n",
    "guesses = []\n",
    "\n",
    "def decode(curr_synd, concat, adaptive):\n",
    "    guessed_error = np.zeros(Hz.shape[1], dtype=int)\n",
    "    updated_synd = curr_synd.copy()\n",
    "    non_overlapping_gens = get_overlapping(curr_synd[:qcode.qedzm], True, True)\n",
    "    if (len(non_overlapping_gens)):\n",
    "        updated_synd[non_overlapping_gens] = 0\n",
    "\n",
    "    if (concat == 0):\n",
    "        # QEC only\n",
    "        if (adaptive == 1):\n",
    "            guessed_error = bposd_qec_dec.decode(updated_synd)\n",
    "        else:\n",
    "            guessed_error = bposd_qec_dec.decode(curr_synd)\n",
    "    elif (concat == 1):\n",
    "        # QED + QEC\n",
    "        _ = bp_qed_dec.decode(curr_synd[:qcode.qedzm])\n",
    "\n",
    "        ######################## # THIS MIGHT NEED TO CHANGE SLIGHTLY, SOFT INFORMATION DECODING\n",
    "        # new_channel_probs = np.exp(-bp_qed_dec.log_prob_ratios)\n",
    "        new_channel_probs = 1 / (np.exp(bp_qed_dec.log_prob_ratios) + 1)\n",
    "        new_channel_probs = new_channel_probs / np.sum(new_channel_probs) / 2\n",
    "        bposd_qed_qec_dec.update_channel_probs(new_channel_probs)\n",
    "        ########################\n",
    "\n",
    "        if (adaptive == 1):\n",
    "            guessed_error = bposd_qed_qec_dec.decode(updated_synd[qcode.qedzm:]) # bposd_qed_qec_dec or bposd_qec_dec\n",
    "        else:\n",
    "            guessed_error = bposd_qed_qec_dec.decode(curr_synd[qcode.qedzm:])\n",
    "\n",
    "    return guessed_error\n",
    "\n",
    "for ii in tqdm(range(1,10001)):\n",
    "    curr_qubit_error = np.zeros(Hz.shape[1], dtype=int)\n",
    "\n",
    "    success = 1\n",
    "    for jj in range(1):\n",
    "        curr_qubit_error[Hz.shape[1]-Hz.shape[0]:] = 0\n",
    "        new_qubit_error = np.random.choice([0, 1], size=Hz.shape[1]-Hz.shape[0], p=[1-qubit_error_rate, qubit_error_rate])\n",
    "        new_synd_error = np.random.choice([0, 1], size=Hz.shape[0], p=[1-meas_error_rate, meas_error_rate])\n",
    "        new_error = np.hstack([new_qubit_error, np.array([0] * Hz.shape[0])])\n",
    "        curr_qubit_error ^= new_error\n",
    "\n",
    "        curr_synd = ((Hz @ curr_qubit_error) % 2) ^ new_synd_error\n",
    "        guessed_error = decode(curr_synd, concat, adaptive)\n",
    "        curr_qubit_error ^= guessed_error\n",
    "\n",
    "    curr_qubit_error[Hz.shape[1]-Hz.shape[0]:] = 0\n",
    "    curr_synd = ((Hz @ curr_qubit_error) % 2)\n",
    "    guessed_error = decode(curr_synd, concat, 0)\n",
    "    curr_qubit_error ^= guessed_error\n",
    "    curr_synd = ((Hz @ curr_qubit_error) % 2)\n",
    "\n",
    "    obs = (Lz @ curr_qubit_error[:Hz.shape[1]-Hz.shape[0]]) % 2\n",
    "\n",
    "    if np.any(obs) or np.any(curr_synd):\n",
    "        success = 0\n",
    "\n",
    "    successes += success\n",
    "\n",
    "print()\n",
    "print(successes)"
   ]
  },
  {
   "cell_type": "code",
   "execution_count": null,
   "metadata": {},
   "outputs": [],
   "source": []
  },
  {
   "cell_type": "code",
   "execution_count": null,
   "metadata": {},
   "outputs": [],
   "source": []
  }
 ],
 "metadata": {
  "kernelspec": {
   "display_name": "qc",
   "language": "python",
   "name": "python3"
  },
  "language_info": {
   "codemirror_mode": {
    "name": "ipython",
    "version": 3
   },
   "file_extension": ".py",
   "mimetype": "text/x-python",
   "name": "python",
   "nbconvert_exporter": "python",
   "pygments_lexer": "ipython3",
   "version": "3.8.18"
  }
 },
 "nbformat": 4,
 "nbformat_minor": 2
}
