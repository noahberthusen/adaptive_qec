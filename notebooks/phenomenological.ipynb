{
 "cells": [
  {
   "cell_type": "code",
   "execution_count": 1,
   "metadata": {},
   "outputs": [],
   "source": [
    "import numpy as np\n",
    "import matplotlib.pyplot as plt\n",
    "import galois\n",
    "import itertools\n",
    "from classical_code import *\n",
    "from quantum_code import *\n",
    "import stim\n",
    "from scipy.sparse import lil_matrix\n",
    "import scipy as sp\n",
    "from ldpc import bposd_decoder, bp_decoder\n",
    "from tqdm import tqdm\n",
    "from result_lifetime import Result, save_new_res\n",
    "# %load_ext snakeviz"
   ]
  },
  {
   "cell_type": "code",
   "execution_count": 20,
   "metadata": {},
   "outputs": [
    {
     "data": {
      "text/plain": [
       "<matplotlib.image.AxesImage at 0x1925146e580>"
      ]
     },
     "execution_count": 20,
     "metadata": {},
     "output_type": "execute_result"
    },
    {
     "data": {
      "image/png": "[encoded data removed]",
      "text/plain": [
       "<Figure size 1466.3x480 with 1 Axes>"
      ]
     },
     "metadata": {},
     "output_type": "display_data"
    }
   ],
   "source": [
    "qcode = read_qcode(\"../codes/qcodes/HGP_100_4.qcode\")\n",
    "qcode = read_qcode(\"../codes/qcodes/HGP_C642_150_4.qcode\")\n",
    "# qcode = read_qcode(\"../codes/qcodes/HGP_C422_200_4.qcode\")\n",
    "# qcode = read_qcode(\"./codes/qcodes/HGP_C752_140_4.qcode\")\n",
    "\n",
    "\n",
    "# qcode = read_qcode(\"../codes/qcodes/HGP_400_16.qcode\")\n",
    "# qcode = read_qcode(\"../codes/qcodes/HGP_900_36.qcode\")\n",
    "# qcode = read_qcode(\"../codes/qcodes/HGP_C642_1350_36.qcode\")\n",
    "\n",
    "# qcode = read_qcode(\"../codes/qcodes/HGP_1600_64.qcode\")\n",
    "\n",
    "\n",
    "# qcode = read_qcode(\"./codes/qcodes/HGP_C642_600_16.qcode\")\n",
    "# qcode = read_qcode(\"./codes/qcodes/HGP_C422_800_16.qcode\")\n",
    "\n",
    "# qcode = read_qcode(\"./codes/qcodes/HGP_Surface_1300_4.qcode\")\n",
    "\n",
    "Hx, Hz, Lx, Lz = qcode.to_numpy()\n",
    "\n",
    "Hx = np.hstack([Hx, np.eye(Hx.shape[0], dtype=int)])\n",
    "\n",
    "plt.matshow(Hx)"
   ]
  },
  {
   "cell_type": "code",
   "execution_count": 34,
   "metadata": {},
   "outputs": [],
   "source": [
    "overlapping_x_generators = np.empty(qcode.qedxm, dtype=object)\n",
    "for i in range(qcode.qedxm):\n",
    "    tmp = np.array([], dtype=int)\n",
    "    for j in range(qcode.qedxm,qcode.xm):\n",
    "        if np.any(Hx[i] & Hx[j]): tmp = np.append(tmp, j)\n",
    "    overlapping_x_generators[i] = tmp\n",
    "\n",
    "overlapping_z_generators = np.empty(qcode.qedxm, dtype=object)\n",
    "for i in range(qcode.qedzm):\n",
    "    tmp = np.array([], dtype=int)\n",
    "    for j in range(qcode.qedzm,qcode.zm):\n",
    "        if np.any(Hz[i] & Hz[j]): tmp = np.append(tmp, j)\n",
    "    overlapping_z_generators[i] = tmp\n",
    "\n",
    "def get_overlapping(measurements, gen_type=False, not_overlapping=False):\n",
    "    overlapping_generators = overlapping_x_generators if gen_type else overlapping_z_generators\n",
    "    gens_to_measure = set()\n",
    "    for g in np.where(measurements)[0]:\n",
    "        gens_to_measure |= set(overlapping_generators[g])\n",
    "\n",
    "    if not_overlapping:\n",
    "        return np.array(list(set(np.arange(qcode.qedxm,qcode.xm)) ^ gens_to_measure))\n",
    "    else:\n",
    "        return np.array(list(gens_to_measure))"
   ]
  },
  {
   "cell_type": "code",
   "execution_count": 40,
   "metadata": {},
   "outputs": [],
   "source": [
    "qubit_error_rate = 0.01\n",
    "meas_error_rate = 0.01\n",
    "\n",
    "if (qcode.qedxm):\n",
    "    bp_qed_dec = bp_decoder(\n",
    "        Hx[:qcode.qedxm], # the parity check matrix\n",
    "        error_rate=qubit_error_rate,\n",
    "        # channel_probs=new_channel_probs, #assign error_rate to each qubit. This will override \"error_rate\" input variable\n",
    "        max_iter=100, #pcm.shape[1], #the maximum number of iterations for BP)\n",
    "        bp_method=\"msl\",\n",
    "        ms_scaling_factor=0, #min sum scaling factor. If set to zero the variable scaling factor method is used\n",
    "        # osd_method=\"osd0\", #the OSD method. Choose from:  1) \"osd_e\", \"osd_cs\", \"osd0\"\n",
    "        # osd_order=40 #the osd search depth\n",
    "    )\n",
    "\n",
    "bposd_qed_qec_dec = bposd_decoder(\n",
    "    Hx,\n",
    "    error_rate=qubit_error_rate,\n",
    "    bp_method=\"msl\",\n",
    "    max_iter=Hx.shape[1],\n",
    "    ms_scaling_factor=0, #min sum scaling factor. If set to zero the variable scaling factor method is used\n",
    "    osd_method=\"osd0\", #the OSD method. Choose from:  1) \"osd_e\", \"osd_cs\", \"osd0\"\n",
    "    # osd_order=40 #the osd search depth\n",
    ")\n",
    "\n",
    "bposd_qec_dec = bposd_decoder(\n",
    "    Hx,\n",
    "    error_rate=qubit_error_rate,\n",
    "    # channel_probs=Hx.shape[1]*[qubit_error_rate],\n",
    "    bp_method=\"msl\",\n",
    "    max_iter=Hx.shape[1],\n",
    "    ms_scaling_factor=0, #min sum scaling factor. If set to zero the variable scaling factor method is used\n",
    "    osd_method=\"osd0\", #the OSD method. Choose from:  1) \"osd_e\", \"osd_cs\", \"osd0\"\n",
    "    # osd_order=4 #the osd search depth\n",
    ")"
   ]
  },
  {
   "cell_type": "code",
   "execution_count": 147,
   "metadata": {},
   "outputs": [
    {
     "name": "stderr",
     "output_type": "stream",
     "text": [
      "  0%|          | 0/1000 [00:00<?, ?it/s]"
     ]
    },
    {
     "name": "stderr",
     "output_type": "stream",
     "text": [
      "100%|██████████| 1000/1000 [00:00<00:00, 2069.78it/s]"
     ]
    },
    {
     "name": "stdout",
     "output_type": "stream",
     "text": [
      "1.419\n"
     ]
    },
    {
     "name": "stderr",
     "output_type": "stream",
     "text": [
      "\n"
     ]
    }
   ],
   "source": [
    "concat = 0\n",
    "adaptive = 1\n",
    "\n",
    "# num_gens_measured = []\n",
    "\n",
    "rs = []\n",
    "tmp = []\n",
    "for ii in tqdm(range(1,1001)):\n",
    "    num_rounds = 0\n",
    "    residual_error = np.zeros(Hx.shape[1], dtype=int)\n",
    "\n",
    "    while True:\n",
    "        num_rounds += 1\n",
    "        new_qubit_error = np.random.choice([0, 1], size=Hx.shape[1], p=[1-qubit_error_rate, qubit_error_rate])\n",
    "        new_synd_error = np.random.choice([0, 1], size=Hx.shape[0], p=[1-meas_error_rate, meas_error_rate])\n",
    "        curr_qubit_error = residual_error ^ new_qubit_error\n",
    "        curr_synd = ((Hx @ curr_qubit_error) % 2) ^ new_synd_error\n",
    "\n",
    "        updated_synd = curr_synd.copy()\n",
    "        non_overlapping_gens = get_overlapping(curr_synd[:qcode.qedxm], True, True)\n",
    "        # num_gens_measured.append(qcode.xm - len(non_overlapping_gens))\n",
    "        if (len(non_overlapping_gens)):\n",
    "            updated_synd[non_overlapping_gens] = 0\n",
    "\n",
    "        # QEC\n",
    "        if (concat == 0):\n",
    "            if (adaptive == 1):\n",
    "                guessed_error = bposd_qec_dec.decode(updated_synd[qcode.qedxm:])\n",
    "            else:\n",
    "                guessed_error = bposd_qec_dec.decode(curr_synd[qcode.qedxm:])\n",
    "        elif (concat == 1):\n",
    "            # QED + QEC\n",
    "            _ = bp_qed_dec.decode(curr_synd[:qcode.qedxm])\n",
    "\n",
    "            ######################## # THIS MIGHT NEED TO CHANGE SLIGHTLY, SOFT INFORMATION DECODING\n",
    "            # new_channel_probs = np.exp(-bp_qed_dec.log_prob_ratios)\n",
    "            new_channel_probs = 1 / (np.exp(bp_qed_dec.log_prob_ratios) + 1)\n",
    "            new_channel_probs = new_channel_probs / np.sum(new_channel_probs) / num_rounds # DIVIDED BY NUM_ROUNDS IMPROVES IT FOR SOME REASON !!!!!!!!!!!!\n",
    "            bposd_qed_qec_dec.update_channel_probs(new_channel_probs)\n",
    "            ########################\n",
    "\n",
    "            if (adaptive == 1):\n",
    "                guessed_error = bposd_qed_qec_dec.decode(updated_synd[qcode.qedxm:])\n",
    "            else:\n",
    "                guessed_error = bposd_qed_qec_dec.decode(curr_synd[qcode.qedxm:])\n",
    "\n",
    "\n",
    "        residual_error = curr_qubit_error ^ guessed_error\n",
    "        # residual_synd = (Hx @ residual_error) % 2\n",
    "        # ideal_correction = bposd_qec_dec.decode(residual_synd[qcode.qedxm:])\n",
    "\n",
    "        obs = [np.count_nonzero(residual_error[l]) % 2 for l in qcode.Lz]\n",
    "        # obs = [np.count_nonzero((ideal_correction ^ residual_error)[l]) % 2 for l in qcode.Lz]\n",
    "\n",
    "        if np.any(obs):\n",
    "            break\n",
    "\n",
    "    res = Result(concat, adaptive, qcode.n, qcode.k, qubit_error_rate, meas_error_rate, 1, num_rounds, 0)\n",
    "    rs.append(res)\n",
    "    tmp.append(num_rounds)\n",
    "\n",
    "    if (ii%100==0):\n",
    "        save_new_res('tmp.res', rs)\n",
    "        rs = []\n",
    "print(np.mean(tmp))"
   ]
  },
  {
   "cell_type": "code",
   "execution_count": 53,
   "metadata": {},
   "outputs": [
    {
     "name": "stdout",
     "output_type": "stream",
     "text": [
      "**********\n",
      "9900\n"
     ]
    }
   ],
   "source": [
    "concat = 1\n",
    "adaptive = 0\n",
    "successes = 0\n",
    "\n",
    "def decode(curr_synd, concat, adaptive):\n",
    "    guessed_error = np.zeros(Hx.shape[1], dtype=int)\n",
    "    updated_synd = curr_synd.copy()\n",
    "    non_overlapping_gens = get_overlapping(curr_synd[:qcode.qedxm], True, True)\n",
    "    if (len(non_overlapping_gens)):\n",
    "        updated_synd[non_overlapping_gens] = 0\n",
    "\n",
    "    if (concat == 0):\n",
    "        # QEC only\n",
    "        if (adaptive == 1):\n",
    "            guessed_error = bposd_qec_dec.decode(updated_synd)\n",
    "        else:\n",
    "            guessed_error = bposd_qec_dec.decode(curr_synd)\n",
    "    elif (concat == 1):\n",
    "        # QED + QEC\n",
    "        _ = bp_qed_dec.decode(curr_synd[:qcode.qedxm])\n",
    "\n",
    "        ######################## # THIS MIGHT NEED TO CHANGE SLIGHTLY, SOFT INFORMATION DECODING\n",
    "        # new_channel_probs = np.exp(-bp_qed_dec.log_prob_ratios)\n",
    "        new_channel_probs = 1 / (np.exp(bp_qed_dec.log_prob_ratios) + 1)\n",
    "        new_channel_probs = new_channel_probs / np.sum(new_channel_probs)\n",
    "        bposd_qed_qec_dec.update_channel_probs(new_channel_probs)\n",
    "        ########################\n",
    "\n",
    "        if (adaptive == 1):\n",
    "            guessed_error = bposd_qed_qec_dec.decode(updated_synd) # bposd_qed_qec_dec or bposd_qec_dec\n",
    "        else:\n",
    "            guessed_error = bposd_qed_qec_dec.decode(curr_synd)\n",
    "\n",
    "    return guessed_error\n",
    "\n",
    "for ii in range(1,10001):\n",
    "    if (ii % 1000 == 0): print('*', end='')\n",
    "    curr_qubit_error = np.zeros(Hx.shape[1], dtype=int)\n",
    "\n",
    "    success = 1\n",
    "    success2 = 1\n",
    "    for jj in range(1):\n",
    "        curr_qubit_error[Hx.shape[1]-Hx.shape[0]:] = 0\n",
    "        new_qubit_error = np.random.choice([0, 1], size=Hx.shape[1]-Hx.shape[0], p=[1-qubit_error_rate, qubit_error_rate])\n",
    "        new_synd_error = np.random.choice([0, 1], size=Hx.shape[0], p=[1-meas_error_rate, meas_error_rate])\n",
    "        curr_qubit_error ^= np.hstack([new_qubit_error, np.array([0] * Hx.shape[0])])\n",
    "        curr_synd = ((Hx @ curr_qubit_error) % 2) ^ new_synd_error\n",
    "\n",
    "        guessed_error = decode(curr_synd, concat, adaptive)\n",
    "\n",
    "        curr_qubit_error ^= guessed_error\n",
    "\n",
    "    curr_qubit_error[Hx.shape[1]-Hx.shape[0]:] = 0\n",
    "    curr_synd = ((Hx @ curr_qubit_error) % 2)\n",
    "\n",
    "    # guessed_error = bposd_qec_dec.decode(curr_synd)\n",
    "    guessed_error = decode(curr_synd, concat, 0)\n",
    "\n",
    "    curr_qubit_error ^= guessed_error\n",
    "    curr_synd = ((Hx @ curr_qubit_error) % 2)\n",
    "\n",
    "    # print()\n",
    "    obs = (Lx @ curr_qubit_error[:Hx.shape[1]-Hx.shape[0]]) % 2\n",
    "\n",
    "    if np.any(obs) or np.any(curr_synd):\n",
    "        success = 0\n",
    "\n",
    "    successes += success\n",
    "\n",
    "print()\n",
    "print(successes)"
   ]
  },
  {
   "cell_type": "code",
   "execution_count": null,
   "metadata": {},
   "outputs": [],
   "source": []
  }
 ],
 "metadata": {
  "kernelspec": {
   "display_name": "qc",
   "language": "python",
   "name": "python3"
  },
  "language_info": {
   "codemirror_mode": {
    "name": "ipython",
    "version": 3
   },
   "file_extension": ".py",
   "mimetype": "text/x-python",
   "name": "python",
   "nbconvert_exporter": "python",
   "pygments_lexer": "ipython3",
   "version": "3.8.18"
  }
 },
 "nbformat": 4,
 "nbformat_minor": 2
}
