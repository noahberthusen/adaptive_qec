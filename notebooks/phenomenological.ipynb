{
 "cells": [
  {
   "cell_type": "code",
   "execution_count": 116,
   "metadata": {},
   "outputs": [],
   "source": [
    "import numpy as np\n",
    "import matplotlib.pyplot as plt\n",
    "import galois\n",
    "import itertools\n",
    "from classical_code import *\n",
    "from quantum_code import *\n",
    "import stim\n",
    "from scipy.sparse import lil_matrix\n",
    "import scipy as sp\n",
    "from ldpc import BpDecoder, BpOsdDecoder\n",
    "from ldpc.bplsd_decoder import BpLsdDecoder\n",
    "from tqdm import tqdm\n",
    "from result_lifetime import Result, save_new_res\n",
    "# %load_ext snakeviz"
   ]
  },
  {
   "cell_type": "code",
   "execution_count": 307,
   "metadata": {},
   "outputs": [
    {
     "data": {
      "text/plain": [
       "<matplotlib.image.AxesImage at 0x13aa32a4c40>"
      ]
     },
     "execution_count": 307,
     "metadata": {},
     "output_type": "execute_result"
    },
    {
     "data": {
      "image/png": "[encoded data removed]",
      "text/plain": [
       "<Figure size 1459.59x480 with 1 Axes>"
      ]
     },
     "metadata": {},
     "output_type": "display_data"
    }
   ],
   "source": [
    "qcode = read_qcode(\"../codes/qcodes/HGP_100_4/HGP_100_4.qcode\")\n",
    "# qcode = read_qcode(\"../codes/qcodes/HGP_100_4/HGP_C642_150_4.qcode\")\n",
    "# qcode = read_qcode(\"../codes/qcodes/HGP_100_4/HGP_C422_200_4.qcode\")\n",
    "# qcode = read_qcode(\"../codes/qcodes/HGP_100_4/HGP_C422_200_4_2.qcode\")\n",
    "\n",
    "# qcode = read_qcode(\"../codes/qcodes/HGP_100_4/HGP_C422_400_8.qcode\")\n",
    "# qcode = read_qcode(\"../codes/qcodes/HGP_100_4/HGP_C642_600_16.qcode\")\n",
    "\n",
    "# qcode = read_qcode(\"../codes/qcodes/HGP_400_16/HGP_400_16.qcode\")\n",
    "# qcode = read_qcode(\"../codes/qcodes/HGP_400_16/HGP_C642_600_16.qcode\")\n",
    "qcode = read_qcode(\"../codes/qcodes/HGP_400_16/HGP_C422_800_16.qcode\")\n",
    "# qcode = read_qcode(\"../codes/qcodes/HGP_400_16/HGP_C422_1600_32.qcode\")\n",
    "# qcode = read_qcode(\"../codes/qcodes/HGP_100_4/HGP_C642_2400_64.qcode\")\n",
    "\n",
    "# qcode = read_qcode(\"../codes/qcodes/HGP_900_36/HGP_900_36.qcode\")\n",
    "# qcode = read_qcode(\"../codes/qcodes/HGP_900_36/HGP_C642_1350_36.qcode\")\n",
    "# qcode = read_qcode(\"../codes/qcodes/HGP_900_36/HGP_C422_1800_36.qcode\")\n",
    "\n",
    "# qcode = read_qcode(\"../codes/qcodes/HGP_1600_64/HGP_1600_64.qcode\")\n",
    "# qcode = read_qcode(\"../codes/qcodes/HGP_C642_2400_64.qcode\")\n",
    "# qcode = read_qcode(\"../codes/qcodes/HGP_C422_3200_64.qcode\")\n",
    "\n",
    "# qcode = read_qcode(\"../codes/qcodes/BB_72_12.qcode\")\n",
    "# qcode = read_qcode(\"../codes/qcodes/BB_C422_288_24.qcode\")\n",
    "# qcode = read_qcode(\"../codes/qcodes/BB_C422_144_12.qcode\")\n",
    "\n",
    "\n",
    "# qcode = read_qcode(\"../codes/qcodes/BB_108_8.qcode\")\n",
    "# qcode = read_qcode(\"../codes/qcodes/BB_C642_162_8.qcode\")\n",
    "\n",
    "# qcode = read_qcode(\"../codes/qcodes/BB_144_12.qcode\")\n",
    "# qcode = read_qcode(\"../codes/qcodes/BB_C422_288_12.qcode\")\n",
    "\n",
    "# qcode = read_qcode(\"../codes/qcodes/BB_C422_576_24.qcode\")\n",
    "\n",
    "\n",
    "# concatenate_iceberg(qcode, 6, \"../codes/qcodes/\")\n",
    "# concatenate_iceberg(qcode, 4, \"../codes/qcodes/\")\n",
    "# concatenate_iceberg2(qcode, 6, \"../codes/qcodes/\")\n",
    "# concatenate_iceberg2(qcode, 4, \"../codes/qcodes/\")\n",
    "\n",
    "\n",
    "\n",
    "Hx, Hz, Lx, Lz = qcode.to_numpy()\n",
    "\n",
    "aug_Hx = np.hstack([Hx, np.eye(Hx.shape[0], dtype=int)])\n",
    "aug_Hz = np.hstack([Hz, np.eye(Hz.shape[0], dtype=int)])\n",
    "\n",
    "\n",
    "qubit_error_rate = 0.01\n",
    "meas_error_rate = 0.01\n",
    "\n",
    "stab_type = False\n",
    "tanner = True if meas_error_rate else False\n",
    "\n",
    "H = Hx if stab_type else Hz\n",
    "if tanner:\n",
    "    dec_H = aug_Hx if stab_type else aug_Hz\n",
    "    channel_probs = [qubit_error_rate]*H.shape[1] + [meas_error_rate]*H.shape[0]\n",
    "else:\n",
    "    dec_H = H\n",
    "    channel_probs = [qubit_error_rate]*H.shape[1]\n",
    "L = Lx if stab_type else Lz\n",
    "\n",
    "plt.matshow(dec_H)\n"
   ]
  },
  {
   "cell_type": "code",
   "execution_count": 308,
   "metadata": {},
   "outputs": [],
   "source": [
    "overlapping_x_generators = np.empty(qcode.qedxm, dtype=object)\n",
    "for i in range(qcode.qedxm):\n",
    "    tmp = np.array([], dtype=int)\n",
    "    for j in range(qcode.qedxm,qcode.xm):\n",
    "        if np.any(Hx[i] & Hx[j]): tmp = np.append(tmp, j)\n",
    "    overlapping_x_generators[i] = tmp\n",
    "\n",
    "overlapping_z_generators = np.empty(qcode.qedxm, dtype=object)\n",
    "for i in range(qcode.qedzm):\n",
    "    tmp = np.array([], dtype=int)\n",
    "    for j in range(qcode.qedzm,qcode.zm):\n",
    "        if np.any(Hz[i] & Hz[j]): tmp = np.append(tmp, j)\n",
    "    overlapping_z_generators[i] = tmp\n",
    "\n",
    "def get_overlapping(measurements, gen_type=False, not_overlapping=False):\n",
    "    overlapping_generators = overlapping_x_generators if gen_type else overlapping_z_generators\n",
    "    gens_to_measure = set()\n",
    "    for g in np.where(measurements)[0]:\n",
    "        gens_to_measure |= set(overlapping_generators[g])\n",
    "\n",
    "    if not_overlapping:\n",
    "        return np.array(list(set(np.arange(qcode.qedxm,qcode.xm)) ^ gens_to_measure))\n",
    "    else:\n",
    "        return np.array(list(gens_to_measure))"
   ]
  },
  {
   "cell_type": "code",
   "execution_count": 320,
   "metadata": {},
   "outputs": [],
   "source": [
    "if (qcode.qedzm):\n",
    "    bp_qed_dec = BpDecoder(\n",
    "        dec_H[:qcode.qedzm], # the parity check matrix\n",
    "        # error_rate=qubit_error_rate,\n",
    "        channel_probs=channel_probs,\n",
    "        max_iter=10,\n",
    "        bp_method=\"ms\",\n",
    "        # schedule=\"serial\"\n",
    "        # ms_scaling_factor=0,\n",
    "        # osd_method=\"osd0\",\n",
    "        # osd_order=40\n",
    "    )\n",
    "\n",
    "bposd_qed_qec_dec = BpLsdDecoder(\n",
    "    dec_H,\n",
    "    # error_rate=qubit_error_rate,\n",
    "    channel_probs=channel_probs,\n",
    "    bp_method=\"ms\",\n",
    "    max_iter=30,\n",
    "    # ms_scaling_factor=0,\n",
    "    osd_method=\"osd0\",\n",
    "    # osd_order=40 #the osd search depth\n",
    ")\n",
    "\n",
    "bposd_qec_dec = BpLsdDecoder(\n",
    "    dec_H,\n",
    "    # error_rate=qubit_error_rate,\n",
    "    channel_probs=channel_probs,\n",
    "    bp_method=\"ms\",\n",
    "    max_iter=30,\n",
    "    # ms_scaling_factor=0,\n",
    "    osd_method=\"osd0\",\n",
    "    # osd_order=4 #the osd search depth\n",
    ")\n",
    "\n",
    "def decode(curr_synd, concat, adaptive):\n",
    "    guessed_error = np.zeros(H.shape[1], dtype=int)\n",
    "    updated_synd = curr_synd.copy()\n",
    "    non_overlapping_gens = get_overlapping(curr_synd[:qcode.qedzm], True, True)\n",
    "    if (len(non_overlapping_gens)):\n",
    "        updated_synd[non_overlapping_gens] = 0\n",
    "\n",
    "    if (concat == 0):\n",
    "        # QEC only\n",
    "        if (adaptive == 1):\n",
    "            guessed_error = bposd_qec_dec.decode(updated_synd)\n",
    "        else:\n",
    "            guessed_error = bposd_qec_dec.decode(curr_synd)\n",
    "    elif (concat == 1):\n",
    "        # QED + QEC\n",
    "        _ = bp_qed_dec.decode(curr_synd[:qcode.qedzm])\n",
    "\n",
    "        ######################## # THIS MIGHT NEED TO CHANGE SLIGHTLY, SOFT INFORMATION DECODING\n",
    "        # new_channel_probs = np.exp(-bp_qed_dec.log_prob_ratios)\n",
    "        new_channel_probs = 1 / (np.exp(bp_qed_dec.log_prob_ratios) + 1)\n",
    "        new_channel_probs[H.shape[1]:] = meas_error_rate\n",
    "        new_channel_probs = new_channel_probs / np.sum(new_channel_probs)\n",
    "\n",
    "        bposd_qed_qec_dec.update_channel_probs(new_channel_probs)\n",
    "        ########################\n",
    "\n",
    "        if (adaptive == 1):\n",
    "            guessed_error = bposd_qed_qec_dec.decode(updated_synd)\n",
    "        else:\n",
    "            guessed_error = bposd_qed_qec_dec.decode(curr_synd)\n",
    "\n",
    "    return guessed_error"
   ]
  },
  {
   "cell_type": "code",
   "execution_count": 322,
   "metadata": {},
   "outputs": [
    {
     "name": "stderr",
     "output_type": "stream",
     "text": [
      "100%|██████████| 100/100 [00:01<00:00, 80.03it/s]"
     ]
    },
    {
     "name": "stdout",
     "output_type": "stream",
     "text": [
      "\n",
      "0.48\n"
     ]
    },
    {
     "name": "stderr",
     "output_type": "stream",
     "text": [
      "\n"
     ]
    }
   ],
   "source": [
    "# np.random.seed(0)\n",
    "\n",
    "num_iters = 100\n",
    "concat = 1 if qcode.qedxm else 0\n",
    "concat = 0\n",
    "adaptive = 0\n",
    "successes = 0\n",
    "\n",
    "qubit_errors = []\n",
    "synd_errors = []\n",
    "synd = []\n",
    "\n",
    "for ii in tqdm(range(1,num_iters+1)):\n",
    "    curr_qubit_error = np.zeros(H.shape[1], dtype=int)\n",
    "\n",
    "    success = 1\n",
    "    for jj in range(5):\n",
    "        new_qubit_error = np.random.choice([0, 1], size=H.shape[1], p=[1-qubit_error_rate, qubit_error_rate])\n",
    "        new_synd_error = np.random.choice([0, 1], size=H.shape[0], p=[1-meas_error_rate, meas_error_rate])\n",
    "        curr_qubit_error ^= new_qubit_error\n",
    "\n",
    "        curr_synd = ((H @ curr_qubit_error) % 2) ^ new_synd_error\n",
    "        guessed_error = decode(curr_synd, concat, adaptive)\n",
    "        curr_qubit_error ^= guessed_error[:H.shape[1]]\n",
    "\n",
    "    curr_synd = ((H @ curr_qubit_error) % 2)\n",
    "    guessed_error = decode(curr_synd, concat, 0)\n",
    "    curr_qubit_error ^= guessed_error[:H.shape[1]]\n",
    "    # curr_synd = ((H @ curr_qubit_error) % 2)\n",
    "\n",
    "    obs = (L @ curr_qubit_error) % 2\n",
    "\n",
    "    if np.any(obs):\n",
    "        success = 0\n",
    "        qubit_errors.append(np.where(new_qubit_error)[0])\n",
    "        synd_errors.append(np.where(new_synd_error)[0])\n",
    "\n",
    "\n",
    "    successes += success\n",
    "\n",
    "print()\n",
    "print(1-successes/num_iters)"
   ]
  },
  {
   "cell_type": "code",
   "execution_count": null,
   "metadata": {},
   "outputs": [],
   "source": []
  },
  {
   "cell_type": "code",
   "execution_count": 222,
   "metadata": {},
   "outputs": [
    {
     "name": "stdout",
     "output_type": "stream",
     "text": [
      "[  4 130 212 224 231 279 288 308 327 356 384]\n",
      "[ 17 520]\n"
     ]
    },
    {
     "data": {
      "image/png": "[encoded data removed]",
      "text/plain": [
       "<Figure size 640x480 with 1 Axes>"
      ]
     },
     "metadata": {},
     "output_type": "display_data"
    }
   ],
   "source": [
    "curr_qubit_error = np.zeros(H.shape[1], dtype=int)\n",
    "new_qubit_error = np.zeros(H.shape[1], dtype=int)\n",
    "new_qubit_error[np.array([17,  520])] = 1\n",
    "new_synd_error = np.zeros(H.shape[0], dtype=int)\n",
    "# new_synd_error[np.array([35])] = 1\n",
    "curr_qubit_error ^= new_qubit_error\n",
    "\n",
    "curr_synd = ((H @ curr_qubit_error) % 2)# ^ new_synd_error\n",
    "print(np.where(curr_synd)[0])\n",
    "\n",
    "_ = bp_qed_dec.decode(curr_synd[:qcode.qedzm])\n",
    "\n",
    "######################## # THIS MIGHT NEED TO CHANGE SLIGHTLY, SOFT INFORMATION DECODING\n",
    "# new_channel_probs = np.exp(-bp_qed_dec.log_prob_ratios)\n",
    "new_channel_probs = 1 / (np.exp(bp_qed_dec.log_prob_ratios) + 1)\n",
    "# new_channel_probs[H.shape[1]:] = meas_error_rate\n",
    "# new_channel_probs = new_channel_probs / np.sum(new_channel_probs)\n",
    "\n",
    "plt.plot(new_channel_probs)\n",
    "bposd_qed_qec_dec.update_channel_probs(new_channel_probs)\n",
    "########################\n",
    "\n",
    "guessed_error = bposd_qed_qec_dec.decode(curr_synd)\n",
    "print(np.where(guessed_error)[0])\n"
   ]
  },
  {
   "cell_type": "code",
   "execution_count": null,
   "metadata": {},
   "outputs": [],
   "source": []
  }
 ],
 "metadata": {
  "kernelspec": {
   "display_name": "qc",
   "language": "python",
   "name": "python3"
  },
  "language_info": {
   "codemirror_mode": {
    "name": "ipython",
    "version": 3
   },
   "file_extension": ".py",
   "mimetype": "text/x-python",
   "name": "python",
   "nbconvert_exporter": "python",
   "pygments_lexer": "ipython3",
   "version": "3.8.18"
  }
 },
 "nbformat": 4,
 "nbformat_minor": 2
}
