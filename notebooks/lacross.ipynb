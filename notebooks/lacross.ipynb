{
 "cells": [
  {
   "cell_type": "code",
   "execution_count": 1,
   "metadata": {},
   "outputs": [],
   "source": [
    "import numpy as np\n",
    "import matplotlib.pyplot as plt\n",
    "import galois"
   ]
  },
  {
   "cell_type": "code",
   "execution_count": 4,
   "metadata": {},
   "outputs": [
    {
     "name": "stdout",
     "output_type": "stream",
     "text": [
      "(3, 5)\n"
     ]
    },
    {
     "data": {
      "text/plain": [
       "array([[1, 1, 1, 0, 0],\n",
       "       [0, 1, 1, 1, 0],\n",
       "       [0, 0, 1, 1, 1]])"
      ]
     },
     "execution_count": 4,
     "metadata": {},
     "output_type": "execute_result"
    }
   ],
   "source": [
    "def circulant_matrix(row, k, open=True):\n",
    "    return np.array([np.roll(row, i) for i in range(len(row)-k)])\n",
    "\n",
    "def pcm(n, k):\n",
    "    seed = np.zeros(n, dtype=int)\n",
    "    seed[0] = seed[1] = seed[k] = 1\n",
    "    return circulant_matrix(seed, k)\n",
    "\n",
    "H = pcm(5,2)\n",
    "m, n = H.shape\n",
    "print(H.shape)\n",
    "H"
   ]
  },
  {
   "cell_type": "code",
   "execution_count": 163,
   "metadata": {},
   "outputs": [],
   "source": [
    "H = np.array(H)\n",
    "Hx = np.hstack([np.kron(H, np.eye(H.shape[1], dtype=int)), np.kron(np.eye(H.shape[0], dtype=int), H.T)])\n",
    "Hz = np.hstack([np.kron(np.eye(H.shape[1], dtype=int), H), np.kron(H.T, np.eye(H.shape[0], dtype=int))])\n",
    "cm, cn = Hx.shape"
   ]
  },
  {
   "cell_type": "code",
   "execution_count": 164,
   "metadata": {},
   "outputs": [
    {
     "name": "stdout",
     "output_type": "stream",
     "text": [
      "(224, 452)\n"
     ]
    },
    {
     "data": {
      "image/png": "[encoded data removed]",
      "text/plain": [
       "<Figure size 968.571x480 with 1 Axes>"
      ]
     },
     "metadata": {},
     "output_type": "display_data"
    }
   ],
   "source": [
    "plt.matshow(Hx)\n",
    "print(Hx.shape)"
   ]
  },
  {
   "cell_type": "code",
   "execution_count": 165,
   "metadata": {},
   "outputs": [],
   "source": [
    "latticeL = np.arange(n**2).reshape(n,n)\n",
    "latticeR = np.arange(n**2, cn).reshape(m,m)\n",
    "latticeZ = np.arange(cn, cn+cm).reshape(m,n)\n",
    "latticeX = np.arange(cn+cm, cn+cm+cm).reshape(n,m)"
   ]
  },
  {
   "cell_type": "code",
   "execution_count": 166,
   "metadata": {},
   "outputs": [],
   "source": [
    "tmp1 = np.zeros((n, n+m), dtype=int)\n",
    "for i in range(2*m):\n",
    "    tmp1[:,i] = latticeL[:, i//2] if (i % 2 == 0) else latticeX[:, i//2]\n",
    "if (m < n):\n",
    "    tmp1[:, 2*m:] = latticeL[:, m:]\n",
    "\n",
    "tmp2 = np.zeros((m, n+m), dtype=int)\n",
    "for i in range(2*m):\n",
    "    tmp2[:,i] = latticeZ[:, i//2] if (i % 2 == 0) else latticeR[:, i//2]\n",
    "if (m < n):\n",
    "    tmp2[:, 2*m:] = latticeZ[:, m:]\n",
    "\n",
    "lattice = np.zeros((m+n, m+n), dtype=int)\n",
    "for i in range(2*m):\n",
    "    lattice[i] = tmp1[i//2] if (i % 2 == 0) else tmp2[i//2]\n",
    "if (m < n):\n",
    "    lattice[2*m:] = tmp1[m:]"
   ]
  },
  {
   "cell_type": "code",
   "execution_count": 167,
   "metadata": {},
   "outputs": [
    {
     "data": {
      "text/plain": [
       "array([[  0, 676,   1, 677,   2, 678,   3, 679,   4, 680,   5, 681,   6,\n",
       "        682,   7, 683,   8, 684,   9, 685,  10, 686,  11, 687,  12, 688,\n",
       "         13, 689,  14,  15],\n",
       "       [ 16, 690,  17, 691,  18, 692,  19, 693,  20, 694,  21, 695,  22,\n",
       "        696,  23, 697,  24, 698,  25, 699,  26, 700,  27, 701,  28, 702,\n",
       "         29, 703,  30,  31],\n",
       "       [ 32, 704,  33, 705,  34, 706,  35, 707,  36, 708,  37, 709,  38,\n",
       "        710,  39, 711,  40, 712,  41, 713,  42, 714,  43, 715,  44, 716,\n",
       "         45, 717,  46,  47],\n",
       "       [ 48, 718,  49, 719,  50, 720,  51, 721,  52, 722,  53, 723,  54,\n",
       "        724,  55, 725,  56, 726,  57, 727,  58, 728,  59, 729,  60, 730,\n",
       "         61, 731,  62,  63],\n",
       "       [ 64, 732,  65, 733,  66, 734,  67, 735,  68, 736,  69, 737,  70,\n",
       "        738,  71, 739,  72, 740,  73, 741,  74, 742,  75, 743,  76, 744,\n",
       "         77, 745,  78,  79],\n",
       "       [ 80, 746,  81, 747,  82, 748,  83, 749,  84, 750,  85, 751,  86,\n",
       "        752,  87, 753,  88, 754,  89, 755,  90, 756,  91, 757,  92, 758,\n",
       "         93, 759,  94,  95],\n",
       "       [ 96, 760,  97, 761,  98, 762,  99, 763, 100, 764, 101, 765, 102,\n",
       "        766, 103, 767, 104, 768, 105, 769, 106, 770, 107, 771, 108, 772,\n",
       "        109, 773, 110, 111],\n",
       "       [112, 774, 113, 775, 114, 776, 115, 777, 116, 778, 117, 779, 118,\n",
       "        780, 119, 781, 120, 782, 121, 783, 122, 784, 123, 785, 124, 786,\n",
       "        125, 787, 126, 127],\n",
       "       [128, 788, 129, 789, 130, 790, 131, 791, 132, 792, 133, 793, 134,\n",
       "        794, 135, 795, 136, 796, 137, 797, 138, 798, 139, 799, 140, 800,\n",
       "        141, 801, 142, 143],\n",
       "       [144, 802, 145, 803, 146, 804, 147, 805, 148, 806, 149, 807, 150,\n",
       "        808, 151, 809, 152, 810, 153, 811, 154, 812, 155, 813, 156, 814,\n",
       "        157, 815, 158, 159],\n",
       "       [160, 816, 161, 817, 162, 818, 163, 819, 164, 820, 165, 821, 166,\n",
       "        822, 167, 823, 168, 824, 169, 825, 170, 826, 171, 827, 172, 828,\n",
       "        173, 829, 174, 175],\n",
       "       [176, 830, 177, 831, 178, 832, 179, 833, 180, 834, 181, 835, 182,\n",
       "        836, 183, 837, 184, 838, 185, 839, 186, 840, 187, 841, 188, 842,\n",
       "        189, 843, 190, 191],\n",
       "       [192, 844, 193, 845, 194, 846, 195, 847, 196, 848, 197, 849, 198,\n",
       "        850, 199, 851, 200, 852, 201, 853, 202, 854, 203, 855, 204, 856,\n",
       "        205, 857, 206, 207],\n",
       "       [208, 858, 209, 859, 210, 860, 211, 861, 212, 862, 213, 863, 214,\n",
       "        864, 215, 865, 216, 866, 217, 867, 218, 868, 219, 869, 220, 870,\n",
       "        221, 871, 222, 223],\n",
       "       [224, 872, 225, 873, 226, 874, 227, 875, 228, 876, 229, 877, 230,\n",
       "        878, 231, 879, 232, 880, 233, 881, 234, 882, 235, 883, 236, 884,\n",
       "        237, 885, 238, 239],\n",
       "       [240, 886, 241, 887, 242, 888, 243, 889, 244, 890, 245, 891, 246,\n",
       "        892, 247, 893, 248, 894, 249, 895, 250, 896, 251, 897, 252, 898,\n",
       "        253, 899, 254, 255]])"
      ]
     },
     "execution_count": 167,
     "metadata": {},
     "output_type": "execute_result"
    }
   ],
   "source": [
    "tmp1"
   ]
  },
  {
   "cell_type": "code",
   "execution_count": 168,
   "metadata": {},
   "outputs": [
    {
     "data": {
      "text/plain": [
       "array([[452, 256, 453, 257, 454, 258, 455, 259, 456, 260, 457, 261, 458,\n",
       "        262, 459, 263, 460, 264, 461, 265, 462, 266, 463, 267, 464, 268,\n",
       "        465, 269, 466, 467],\n",
       "       [468, 270, 469, 271, 470, 272, 471, 273, 472, 274, 473, 275, 474,\n",
       "        276, 475, 277, 476, 278, 477, 279, 478, 280, 479, 281, 480, 282,\n",
       "        481, 283, 482, 483],\n",
       "       [484, 284, 485, 285, 486, 286, 487, 287, 488, 288, 489, 289, 490,\n",
       "        290, 491, 291, 492, 292, 493, 293, 494, 294, 495, 295, 496, 296,\n",
       "        497, 297, 498, 499],\n",
       "       [500, 298, 501, 299, 502, 300, 503, 301, 504, 302, 505, 303, 506,\n",
       "        304, 507, 305, 508, 306, 509, 307, 510, 308, 511, 309, 512, 310,\n",
       "        513, 311, 514, 515],\n",
       "       [516, 312, 517, 313, 518, 314, 519, 315, 520, 316, 521, 317, 522,\n",
       "        318, 523, 319, 524, 320, 525, 321, 526, 322, 527, 323, 528, 324,\n",
       "        529, 325, 530, 531],\n",
       "       [532, 326, 533, 327, 534, 328, 535, 329, 536, 330, 537, 331, 538,\n",
       "        332, 539, 333, 540, 334, 541, 335, 542, 336, 543, 337, 544, 338,\n",
       "        545, 339, 546, 547],\n",
       "       [548, 340, 549, 341, 550, 342, 551, 343, 552, 344, 553, 345, 554,\n",
       "        346, 555, 347, 556, 348, 557, 349, 558, 350, 559, 351, 560, 352,\n",
       "        561, 353, 562, 563],\n",
       "       [564, 354, 565, 355, 566, 356, 567, 357, 568, 358, 569, 359, 570,\n",
       "        360, 571, 361, 572, 362, 573, 363, 574, 364, 575, 365, 576, 366,\n",
       "        577, 367, 578, 579],\n",
       "       [580, 368, 581, 369, 582, 370, 583, 371, 584, 372, 585, 373, 586,\n",
       "        374, 587, 375, 588, 376, 589, 377, 590, 378, 591, 379, 592, 380,\n",
       "        593, 381, 594, 595],\n",
       "       [596, 382, 597, 383, 598, 384, 599, 385, 600, 386, 601, 387, 602,\n",
       "        388, 603, 389, 604, 390, 605, 391, 606, 392, 607, 393, 608, 394,\n",
       "        609, 395, 610, 611],\n",
       "       [612, 396, 613, 397, 614, 398, 615, 399, 616, 400, 617, 401, 618,\n",
       "        402, 619, 403, 620, 404, 621, 405, 622, 406, 623, 407, 624, 408,\n",
       "        625, 409, 626, 627],\n",
       "       [628, 410, 629, 411, 630, 412, 631, 413, 632, 414, 633, 415, 634,\n",
       "        416, 635, 417, 636, 418, 637, 419, 638, 420, 639, 421, 640, 422,\n",
       "        641, 423, 642, 643],\n",
       "       [644, 424, 645, 425, 646, 426, 647, 427, 648, 428, 649, 429, 650,\n",
       "        430, 651, 431, 652, 432, 653, 433, 654, 434, 655, 435, 656, 436,\n",
       "        657, 437, 658, 659],\n",
       "       [660, 438, 661, 439, 662, 440, 663, 441, 664, 442, 665, 443, 666,\n",
       "        444, 667, 445, 668, 446, 669, 447, 670, 448, 671, 449, 672, 450,\n",
       "        673, 451, 674, 675]])"
      ]
     },
     "execution_count": 168,
     "metadata": {},
     "output_type": "execute_result"
    }
   ],
   "source": [
    "tmp2"
   ]
  },
  {
   "cell_type": "code",
   "execution_count": 169,
   "metadata": {},
   "outputs": [
    {
     "data": {
      "text/plain": [
       "array([[  0, 676,   1, 677,   2, 678,   3, 679,   4, 680,   5, 681,   6,\n",
       "        682,   7, 683,   8, 684,   9, 685,  10, 686,  11, 687,  12, 688,\n",
       "         13, 689,  14,  15],\n",
       "       [452, 256, 453, 257, 454, 258, 455, 259, 456, 260, 457, 261, 458,\n",
       "        262, 459, 263, 460, 264, 461, 265, 462, 266, 463, 267, 464, 268,\n",
       "        465, 269, 466, 467],\n",
       "       [ 16, 690,  17, 691,  18, 692,  19, 693,  20, 694,  21, 695,  22,\n",
       "        696,  23, 697,  24, 698,  25, 699,  26, 700,  27, 701,  28, 702,\n",
       "         29, 703,  30,  31],\n",
       "       [468, 270, 469, 271, 470, 272, 471, 273, 472, 274, 473, 275, 474,\n",
       "        276, 475, 277, 476, 278, 477, 279, 478, 280, 479, 281, 480, 282,\n",
       "        481, 283, 482, 483],\n",
       "       [ 32, 704,  33, 705,  34, 706,  35, 707,  36, 708,  37, 709,  38,\n",
       "        710,  39, 711,  40, 712,  41, 713,  42, 714,  43, 715,  44, 716,\n",
       "         45, 717,  46,  47],\n",
       "       [484, 284, 485, 285, 486, 286, 487, 287, 488, 288, 489, 289, 490,\n",
       "        290, 491, 291, 492, 292, 493, 293, 494, 294, 495, 295, 496, 296,\n",
       "        497, 297, 498, 499],\n",
       "       [ 48, 718,  49, 719,  50, 720,  51, 721,  52, 722,  53, 723,  54,\n",
       "        724,  55, 725,  56, 726,  57, 727,  58, 728,  59, 729,  60, 730,\n",
       "         61, 731,  62,  63],\n",
       "       [500, 298, 501, 299, 502, 300, 503, 301, 504, 302, 505, 303, 506,\n",
       "        304, 507, 305, 508, 306, 509, 307, 510, 308, 511, 309, 512, 310,\n",
       "        513, 311, 514, 515],\n",
       "       [ 64, 732,  65, 733,  66, 734,  67, 735,  68, 736,  69, 737,  70,\n",
       "        738,  71, 739,  72, 740,  73, 741,  74, 742,  75, 743,  76, 744,\n",
       "         77, 745,  78,  79],\n",
       "       [516, 312, 517, 313, 518, 314, 519, 315, 520, 316, 521, 317, 522,\n",
       "        318, 523, 319, 524, 320, 525, 321, 526, 322, 527, 323, 528, 324,\n",
       "        529, 325, 530, 531],\n",
       "       [ 80, 746,  81, 747,  82, 748,  83, 749,  84, 750,  85, 751,  86,\n",
       "        752,  87, 753,  88, 754,  89, 755,  90, 756,  91, 757,  92, 758,\n",
       "         93, 759,  94,  95],\n",
       "       [532, 326, 533, 327, 534, 328, 535, 329, 536, 330, 537, 331, 538,\n",
       "        332, 539, 333, 540, 334, 541, 335, 542, 336, 543, 337, 544, 338,\n",
       "        545, 339, 546, 547],\n",
       "       [ 96, 760,  97, 761,  98, 762,  99, 763, 100, 764, 101, 765, 102,\n",
       "        766, 103, 767, 104, 768, 105, 769, 106, 770, 107, 771, 108, 772,\n",
       "        109, 773, 110, 111],\n",
       "       [548, 340, 549, 341, 550, 342, 551, 343, 552, 344, 553, 345, 554,\n",
       "        346, 555, 347, 556, 348, 557, 349, 558, 350, 559, 351, 560, 352,\n",
       "        561, 353, 562, 563],\n",
       "       [112, 774, 113, 775, 114, 776, 115, 777, 116, 778, 117, 779, 118,\n",
       "        780, 119, 781, 120, 782, 121, 783, 122, 784, 123, 785, 124, 786,\n",
       "        125, 787, 126, 127],\n",
       "       [564, 354, 565, 355, 566, 356, 567, 357, 568, 358, 569, 359, 570,\n",
       "        360, 571, 361, 572, 362, 573, 363, 574, 364, 575, 365, 576, 366,\n",
       "        577, 367, 578, 579],\n",
       "       [128, 788, 129, 789, 130, 790, 131, 791, 132, 792, 133, 793, 134,\n",
       "        794, 135, 795, 136, 796, 137, 797, 138, 798, 139, 799, 140, 800,\n",
       "        141, 801, 142, 143],\n",
       "       [580, 368, 581, 369, 582, 370, 583, 371, 584, 372, 585, 373, 586,\n",
       "        374, 587, 375, 588, 376, 589, 377, 590, 378, 591, 379, 592, 380,\n",
       "        593, 381, 594, 595],\n",
       "       [144, 802, 145, 803, 146, 804, 147, 805, 148, 806, 149, 807, 150,\n",
       "        808, 151, 809, 152, 810, 153, 811, 154, 812, 155, 813, 156, 814,\n",
       "        157, 815, 158, 159],\n",
       "       [596, 382, 597, 383, 598, 384, 599, 385, 600, 386, 601, 387, 602,\n",
       "        388, 603, 389, 604, 390, 605, 391, 606, 392, 607, 393, 608, 394,\n",
       "        609, 395, 610, 611],\n",
       "       [160, 816, 161, 817, 162, 818, 163, 819, 164, 820, 165, 821, 166,\n",
       "        822, 167, 823, 168, 824, 169, 825, 170, 826, 171, 827, 172, 828,\n",
       "        173, 829, 174, 175],\n",
       "       [612, 396, 613, 397, 614, 398, 615, 399, 616, 400, 617, 401, 618,\n",
       "        402, 619, 403, 620, 404, 621, 405, 622, 406, 623, 407, 624, 408,\n",
       "        625, 409, 626, 627],\n",
       "       [176, 830, 177, 831, 178, 832, 179, 833, 180, 834, 181, 835, 182,\n",
       "        836, 183, 837, 184, 838, 185, 839, 186, 840, 187, 841, 188, 842,\n",
       "        189, 843, 190, 191],\n",
       "       [628, 410, 629, 411, 630, 412, 631, 413, 632, 414, 633, 415, 634,\n",
       "        416, 635, 417, 636, 418, 637, 419, 638, 420, 639, 421, 640, 422,\n",
       "        641, 423, 642, 643],\n",
       "       [192, 844, 193, 845, 194, 846, 195, 847, 196, 848, 197, 849, 198,\n",
       "        850, 199, 851, 200, 852, 201, 853, 202, 854, 203, 855, 204, 856,\n",
       "        205, 857, 206, 207],\n",
       "       [644, 424, 645, 425, 646, 426, 647, 427, 648, 428, 649, 429, 650,\n",
       "        430, 651, 431, 652, 432, 653, 433, 654, 434, 655, 435, 656, 436,\n",
       "        657, 437, 658, 659],\n",
       "       [208, 858, 209, 859, 210, 860, 211, 861, 212, 862, 213, 863, 214,\n",
       "        864, 215, 865, 216, 866, 217, 867, 218, 868, 219, 869, 220, 870,\n",
       "        221, 871, 222, 223],\n",
       "       [660, 438, 661, 439, 662, 440, 663, 441, 664, 442, 665, 443, 666,\n",
       "        444, 667, 445, 668, 446, 669, 447, 670, 448, 671, 449, 672, 450,\n",
       "        673, 451, 674, 675],\n",
       "       [224, 872, 225, 873, 226, 874, 227, 875, 228, 876, 229, 877, 230,\n",
       "        878, 231, 879, 232, 880, 233, 881, 234, 882, 235, 883, 236, 884,\n",
       "        237, 885, 238, 239],\n",
       "       [240, 886, 241, 887, 242, 888, 243, 889, 244, 890, 245, 891, 246,\n",
       "        892, 247, 893, 248, 894, 249, 895, 250, 896, 251, 897, 252, 898,\n",
       "        253, 899, 254, 255]])"
      ]
     },
     "execution_count": 169,
     "metadata": {},
     "output_type": "execute_result"
    }
   ],
   "source": [
    "lattice"
   ]
  },
  {
   "cell_type": "code",
   "execution_count": null,
   "metadata": {},
   "outputs": [],
   "source": []
  }
 ],
 "metadata": {
  "kernelspec": {
   "display_name": "qc",
   "language": "python",
   "name": "python3"
  },
  "language_info": {
   "codemirror_mode": {
    "name": "ipython",
    "version": 3
   },
   "file_extension": ".py",
   "mimetype": "text/x-python",
   "name": "python",
   "nbconvert_exporter": "python",
   "pygments_lexer": "ipython3",
   "version": "3.8.18"
  }
 },
 "nbformat": 4,
 "nbformat_minor": 2
}
