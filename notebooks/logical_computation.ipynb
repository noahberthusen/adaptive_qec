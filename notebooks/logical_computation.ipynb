{
 "cells": [
  {
   "cell_type": "code",
   "execution_count": 2,
   "metadata": {},
   "outputs": [],
   "source": [
    "import numpy as np\n",
    "import matplotlib.pyplot as plt\n",
    "import galois\n",
    "import itertools\n",
    "from classical_code import *\n",
    "from quantum_code import *\n",
    "import stim\n",
    "from scipy.sparse import lil_matrix\n",
    "import scipy as sp\n",
    "from ldpc import BpDecoder, BpOsdDecoder\n",
    "from ldpc.bplsd_decoder import BpLsdDecoder\n",
    "from tqdm import tqdm\n",
    "from result_lifetime import Result, save_new_res"
   ]
  },
  {
   "cell_type": "code",
   "execution_count": 126,
   "metadata": {},
   "outputs": [
    {
     "data": {
      "text/plain": [
       "<matplotlib.image.AxesImage at 0x23ce1146250>"
      ]
     },
     "execution_count": 126,
     "metadata": {},
     "output_type": "execute_result"
    },
    {
     "data": {
      "image/png": "[encoded data removed]",
      "text/plain": [
       "<Figure size 1088x480 with 1 Axes>"
      ]
     },
     "metadata": {},
     "output_type": "display_data"
    }
   ],
   "source": [
    "hgp_qcode = read_qcode(\"../codes/qcodes/lacross/HGP_34_4/HGP_34_4.qcode\")\n",
    "qcode = hgp_qcode\n",
    "# qcode = read_qcode(\"../codes/qcodes/lacross/HGP_34_4/HGP_C422_68_4.qcode\")\n",
    "\n",
    "\n",
    "# hgp_qcode = read_qcode(\"../codes/qcodes/HGP_400_16/HGP_400_16.qcode\")\n",
    "# qcode = hgp_qcode\n",
    "# qcode = read_qcode(\"../codes/qcodes/HGP_400_16/HGP_C422_800_16.qcode\")\n",
    "\n",
    "\n",
    "# hgp_qcode = read_qcode(\"../codes/qcodes/HGP_900_36/HGP_900_36.qcode\")\n",
    "# qcode = hgp_qcode\n",
    "# qcode = read_qcode(\"../codes/qcodes/HGP_900_36/HGP_C422_1800_36.qcode\")\n",
    "\n",
    "\n",
    "\n",
    "hgp_Hx, hgp_Hz, hgp_Lx, hgp_Lz, _ = hgp_qcode.to_numpy()\n",
    "Hx, Hz, Lx, Lz, mapping = qcode.to_numpy()\n",
    "\n",
    "cn = qcode.n\n",
    "cmx = qcode.xm\n",
    "cmz = qcode.zm\n",
    "\n",
    "tot_qbts = cn+cmx+cmz\n",
    "\n",
    "\n",
    "qubit_error_rate = 0.01\n",
    "meas_error_rate = 0.01\n",
    "\n",
    "stab_type = False\n",
    "tanner = True if meas_error_rate else False\n",
    "\n",
    "H = Hx if stab_type else Hz\n",
    "hgp_H = hgp_Hx if stab_type else hgp_Hz\n",
    "\n",
    "# qed_dec_H = H[:qcode.qedxm]\n",
    "# qed_channel_probs = [qubit_error_rate]*H.shape[1]\n",
    "\n",
    "qec_aug_dec_H = np.hstack([hgp_H, np.eye(hgp_H.shape[0], dtype=int)])\n",
    "qec_aug_channel_probs = [qubit_error_rate]*hgp_H.shape[1] + [meas_error_rate]*(hgp_H.shape[0])\n",
    "\n",
    "qec_dec_H = hgp_H\n",
    "qec_channel_probs = [qubit_error_rate]*hgp_H.shape[1]\n",
    "L = Lx if stab_type else Lz\n",
    "\n",
    "plt.matshow(qec_dec_H)\n",
    "# print(np.count_nonzero(Hx, axis=1))"
   ]
  },
  {
   "cell_type": "code",
   "execution_count": 127,
   "metadata": {},
   "outputs": [
    {
     "name": "stdout",
     "output_type": "stream",
     "text": [
      "[[ 0  1  2  3  4]\n",
      " [ 5  6  7  8  9]\n",
      " [10 11 12 13 14]\n",
      " [15 16 17 18 19]\n",
      " [20 21 22 23 24]]\n",
      "[(3, 3) (3, 4) (4, 3) (4, 4)]\n"
     ]
    }
   ],
   "source": [
    "def find_pivots(N, Lx, Lz):\n",
    "    # assuming full rank classical codes ...\n",
    "    k = int(np.sqrt(len(Lx)))\n",
    "    coeff = [2, -2*k, (k**2-N)]\n",
    "    m, n = sorted(abs(np.roots(coeff).astype(int)))\n",
    "\n",
    "    grid = np.arange(n**2).reshape(n,n)\n",
    "    loc = np.empty(len(Lx), dtype=object)\n",
    "    for i in range(len(Lx)):\n",
    "        tmp = np.intersect1d(np.where(Lx[i])[0], np.where(Lz[i])[0])[0]\n",
    "        loc[i] = (tmp//n, tmp%n)\n",
    "\n",
    "    return grid, loc\n",
    "grid, loc = find_pivots(qcode.n, Lx, Lz)\n",
    "print(grid)\n",
    "print(loc)"
   ]
  },
  {
   "cell_type": "code",
   "execution_count": 128,
   "metadata": {},
   "outputs": [],
   "source": [
    "pivot_rows = set([ind[0] for ind in loc])\n",
    "pivot_columns = set([ind[1] for ind in loc])\n",
    "\n",
    "def Qp(Hx, Hz, cols):\n",
    "    punctured_cols = pivot_columns - cols\n",
    "    punctured_qbts = grid[:, list(punctured_cols)].flatten()\n",
    "\n",
    "    mask = ~np.any(Hx[:, punctured_qbts] == 1, axis=1)\n",
    "    # punc_Hx = Hx[mask]\n",
    "    punc_Hx = Hx.copy()\n",
    "    punc_Hx[~mask] = 0\n",
    "    punc_Hz = Hz.copy()\n",
    "\n",
    "    punc_Hx[:, punctured_qbts] = 0\n",
    "    punc_Hz[:, punctured_qbts] = 0\n",
    "\n",
    "    return punc_Hx, punc_Hz\n",
    "\n",
    "def Qpp(Hx, Hz, rows):\n",
    "    punctured_rows = rows\n",
    "    punctured_qbts = grid[list(punctured_rows)].flatten()\n",
    "\n",
    "    mask = ~np.any(Hz[:, punctured_qbts] == 1, axis=1)\n",
    "    # punc_Hz = Hz[mask]\n",
    "    punc_Hz = Hz.copy()\n",
    "    punc_Hz[~mask] = 0\n",
    "    punc_Hx = Hx.copy()\n",
    "\n",
    "    punc_Hx[:, punctured_qbts] = 0\n",
    "    punc_Hz[:, punctured_qbts] = 0\n",
    "\n",
    "    return punc_Hx, punc_Hz"
   ]
  },
  {
   "cell_type": "code",
   "execution_count": 258,
   "metadata": {},
   "outputs": [
    {
     "data": {
      "text/plain": [
       "stim.Circuit('''\n",
       "    H 34 35 36 37 38 39 40 41 42 43 44 45 46 47 48\n",
       "    CX 34 0 34 5 34 10 34 25 35 1 35 6 35 11 35 25 35 26 36 2 36 7 36 12 36 25 36 26 36 27 37 3 37 8 37 13 37 26 37 27 38 4 38 9 38 14 38 27 39 5 39 10 39 15 39 28 40 6 40 11 40 16 40 28 40 29 41 7 41 12 41 17 41 28 41 29 41 30 42 8 42 13 42 18 42 29 42 30 43 9 43 14 43 19 43 30 44 10 44 15 44 20 44 31 45 11 45 16 45 21 45 31 45 32 46 12 46 17 46 22 46 31 46 32 46 33 47 13 47 18 47 23 47 32 47 33 48 14 48 19 48 24 48 33\n",
       "    H 34 35 36 37 38 39 40 41 42 43 44 45 46 47 48\n",
       "    MR 34 35 36 37 38 39 40 41 42 43 44 45 46 47 48\n",
       "    TICK\n",
       "    X 3 13 18\n",
       "    H 98 99 100 101 102 103 104 105 106 107 108 109 110 111 112\n",
       "    CX 98 64 98 69 98 74 98 89 99 65 99 70 99 75 99 89 99 90 100 66 100 71 100 76 100 89 100 90 100 91 101 67 101 72 101 77 101 90 101 91 102 68 102 73 102 78 102 91 103 69 103 74 103 79 103 92 104 70 104 75 104 80 104 92 104 93 105 71 105 76 105 81 105 92 105 93 105 94 106 72 106 77 106 82 106 93 106 94 107 73 107 78 107 83 107 94 108 74 108 79 108 84 108 95 109 75 109 80 109 85 109 95 109 96 110 76 110 81 110 86 110 95 110 96 110 97 111 77 111 82 111 87 111 96 111 97 112 78 112 83 112 88 112 97\n",
       "    H 98 99 100 101 102 103 104 105 106 107 108 109 110 111 112\n",
       "    MR 98 99 100 101 102 103 104 105 106 107 108 109 110 111 112\n",
       "    TICK\n",
       "    H 128 129 130 131 132 133 134 135 136 137 138 139 140 141 142 143 144 145 146 147 148 149 150 151 152 153 154 155 156 157 158 159 160 161\n",
       "    CX 128 177 129 177 130 177 153 177 129 178 130 178 131 178 154 178 130 179 131 179 155 179 133 180 134 180 135 180 153 180 156 180 134 181 135 181 136 181 154 181 157 181 135 182 136 182 155 182 158 182 138 183 139 183 140 183 153 183 156 183 159 183 139 184 140 184 141 184 154 184 157 184 160 184 140 185 141 185 155 185 158 185 161 185 148 189 149 189 150 189 159 189 149 190 150 190 151 190 160 190 150 191 151 191 161 191\n",
       "    MR 177 178 179 180 181 182 183 184 185 186 187 188 189 190 191\n",
       "    TICK\n",
       "    CX 0 64 1 65 2 66 3 67 5 69 6 70 7 71 8 72 10 74 11 75 12 76 13 77 15 79 16 80 17 81 18 82 20 84 21 85 22 86 23 87 25 89 26 90 27 91 28 92 29 93 30 94 31 95 32 96 33 97\n",
       "    M 64 65 66 67 68 69 70 71 72 73 74 75 76 77 78 79 80 81 82 83 84 85 86 87 88 89 90 91 92 93 94 95 96 97\n",
       "''')"
      ]
     },
     "execution_count": 258,
     "metadata": {},
     "output_type": "execute_result"
    }
   ],
   "source": [
    "def prepare_code(Hx, Hz, qbts, stab_type):\n",
    "    c = stim.Circuit()\n",
    "    data_qbts, x_checks, z_checks = qbts\n",
    "\n",
    "    if stab_type:\n",
    "        c.append(\"H\", [qbt for qbt in data_qbts])\n",
    "        for z in np.arange(qcode.zm):\n",
    "            gen_qbts = data_qbts[np.where(Hz[z])[0]]\n",
    "            for qbt in gen_qbts:\n",
    "                path_qbts = [qbt, z_checks[z]]\n",
    "                c.append(\"CNOT\", path_qbts)\n",
    "        for i, z_check in enumerate(np.arange(Hz.shape[0])):\n",
    "            c.append(\"MR\", z_checks[z_check])\n",
    "    else:\n",
    "        c.append(\"H\", x_checks)\n",
    "        for x in np.arange(qcode.xm):\n",
    "            gen_qbts = data_qbts[np.where(Hx[x])[0]]\n",
    "            for qbt in gen_qbts:\n",
    "                path_qbts = [x_checks[x], qbt]\n",
    "                c.append(\"CNOT\", path_qbts)\n",
    "        c.append(\"H\", x_checks)\n",
    "        for i, x_check in enumerate(np.arange(Hx.shape[0])):\n",
    "            c.append(\"MR\", x_checks[x_check])\n",
    "\n",
    "    return c\n",
    "\n",
    "def get_qubits(cb):\n",
    "    data_qbts = np.arange((cb*tot_qbts), cn+(cb*tot_qbts))\n",
    "    x_checks = np.arange((cb*tot_qbts)+cn,(cb*tot_qbts)+(cn+cmx))\n",
    "    z_checks = np.arange((cb*tot_qbts)+(cn+cmx),(cb*tot_qbts)+(cn+cmx+cmz))\n",
    "    return (data_qbts, x_checks, z_checks)\n",
    "\n",
    "def GPPM(log_qbts):\n",
    "    c = stim.Circuit()\n",
    "\n",
    "    rows = loc[log_qbts][0]\n",
    "    cols = loc[log_qbts][1]\n",
    "\n",
    "    Qp_Hx, Qp_Hz = Qp(Hx, Hz, {cols})\n",
    "    Qpp_Hx, Qpp_Hz = Qpp(Qp_Hx, Qp_Hz, {rows})\n",
    "\n",
    "    data_qbts1, _, _ = get_qubits(0)\n",
    "    data_qbts2, _, _ = get_qubits(1)\n",
    "    data_qbts3, _, _ = get_qubits(2)\n",
    "\n",
    "    c += prepare_code(Hx, Hz, get_qubits(0), False)\n",
    "    c.append(\"TICK\")\n",
    "    c.append(\"X\", [3,13,18])\n",
    "    # change logicals ...\n",
    "    # c += prepare_code(Qp_Hx, Qp_Hz, get_qubits(1), False)\n",
    "    c += prepare_code(Hx, Hz, get_qubits(1), False)\n",
    "    c.append(\"TICK\")\n",
    "    c += prepare_code(Qpp_Hx, Qpp_Hz, get_qubits(2), True)\n",
    "    c.append(\"TICK\")\n",
    "\n",
    "    nonzero1 = np.count_nonzero(Hx, axis=0)\n",
    "    nonzero2 = np.count_nonzero(Qp_Hx, axis=0)\n",
    "    nonzero3 = np.count_nonzero(Qpp_Hx, axis=0)\n",
    "\n",
    "    # for i in range(Hx.shape[1]):\n",
    "    #     if (nonzero2[i] and nonzero3[i]):\n",
    "    #         c.append(\"CNOT\", [data_qbts3[i], data_qbts2[i]])\n",
    "    for i in range(Hx.shape[1]):\n",
    "        if (nonzero1[i] and nonzero2[i]):\n",
    "            c.append(\"CNOT\", [data_qbts1[i], data_qbts2[i]])\n",
    "\n",
    "    # measure Q' in the Z basis\n",
    "    c.append(\"M\", data_qbts2)\n",
    "\n",
    "    return c\n",
    "\n",
    "# def final_synd_and_observables():\n",
    "    # c = stim.Circuit()\n",
    "\n",
    "    # if stab_type: c.append(\"H\", [qbt for qbt in data_qbts])\n",
    "    # c.append(\"M\", data_qbts)\n",
    "\n",
    "#     s.do_circuit(c)\n",
    "\n",
    "#     meas = s.current_measurement_record()\n",
    "#     H = Hx if stab_type else Hz\n",
    "#     for i in range(H.shape[0]):\n",
    "#         incl_qbts = np.where(H[i])[0]\n",
    "#         incl_qbts = np.array([j-cn for j in incl_qbts])\n",
    "\n",
    "#         if stab_type:\n",
    "#             x_syndrome_history[-1][i] = np.sum(np.take(meas, incl_qbts)) % 2\n",
    "#         else:\n",
    "#             z_syndrome_history[-1][i] = np.sum(np.take(meas, incl_qbts)) % 2\n",
    "\n",
    "#     for i, logical in enumerate(Lx if stab_type else Lz):\n",
    "#         incl_qbts = np.where(logical)[0]\n",
    "#         incl_qbts = [j-cn for j in incl_qbts]\n",
    "\n",
    "#         if stab_type:\n",
    "#             x_observables[i] = (np.sum(np.take(meas, incl_qbts)) % 2)\n",
    "#         else:\n",
    "#             z_observables[i] = (np.sum(np.take(meas, incl_qbts)) % 2)\n",
    "\n",
    "GPPM(0)\n"
   ]
  },
  {
   "cell_type": "code",
   "execution_count": 269,
   "metadata": {},
   "outputs": [
    {
     "data": {
      "text/plain": [
       "array([1, 0, 1, 0])"
      ]
     },
     "execution_count": 269,
     "metadata": {},
     "output_type": "execute_result"
    }
   ],
   "source": [
    "s = stim.TableauSimulator()\n",
    "\n",
    "c = GPPM(0)\n",
    "s.do_circuit(c)\n",
    "\n",
    "z_observables = np.zeros(qcode.k, dtype=int)\n",
    "x_observables = np.zeros(qcode.k, dtype=int)\n",
    "\n",
    "stab_type = False\n",
    "\n",
    "meas = s.current_measurement_record()\n",
    "for i, logical in enumerate(Lx if stab_type else Lz):\n",
    "    incl_qbts = np.where(logical)[0]\n",
    "    incl_qbts = [j-cn for j in incl_qbts]\n",
    "\n",
    "    # if stab_type:\n",
    "    #     x_observables[i] = (np.sum(np.take(meas, incl_qbts)) % 2)\n",
    "    # else:\n",
    "    z_observables[i] = (np.sum(np.take(meas, incl_qbts)) % 2)\n",
    "\n",
    "z_observables"
   ]
  },
  {
   "cell_type": "code",
   "execution_count": 257,
   "metadata": {},
   "outputs": [
    {
     "name": "stdout",
     "output_type": "stream",
     "text": [
      "0\n"
     ]
    }
   ],
   "source": [
    "qbt_meas = meas[-34:]\n",
    "print(np.array(qbt_meas).astype(int)[18])"
   ]
  },
  {
   "cell_type": "code",
   "execution_count": 203,
   "metadata": {},
   "outputs": [
    {
     "name": "stdout",
     "output_type": "stream",
     "text": [
      "[1 1 1 1 0 2 2 2 2 0 3 3 3 3 0 2 2 2 2 0 1 1 1 1 0 3 3 2 3 3 2 3 3 2]\n",
      "[1 2 3 2 0 1 2 3 2 0 1 2 3 2 0 1 2 3 2 0 1 2 3 2 0 3 3 3 3 3 3 3 3 3]\n",
      "[ 4  9 14 19 24]\n"
     ]
    }
   ],
   "source": [
    "log_qbts = 0\n",
    "rows = loc[log_qbts][0]\n",
    "cols = loc[log_qbts][1]\n",
    "\n",
    "Qp_Hx, Qp_Hz = Qp(Hx, Hz, {cols})\n",
    "Qpp_Hx, Qpp_Hz = Qpp(Qp_Hx, Qp_Hz, {rows})\n",
    "\n",
    "print(np.count_nonzero(Qp_Hx, axis=0))\n",
    "print(np.count_nonzero(Qp_Hz, axis=0))\n",
    "print(np.where(np.count_nonzero(Qp_Hx, axis=0) == 0)[0])"
   ]
  },
  {
   "cell_type": "code",
   "execution_count": 202,
   "metadata": {},
   "outputs": [
    {
     "data": {
      "text/plain": [
       "array([ 3, 13, 18], dtype=int64)"
      ]
     },
     "execution_count": 202,
     "metadata": {},
     "output_type": "execute_result"
    }
   ],
   "source": [
    "np.where(Lz[0])[0]"
   ]
  },
  {
   "cell_type": "code",
   "execution_count": null,
   "metadata": {},
   "outputs": [
    {
     "data": {
      "text/plain": [
       "array([[0, 0, 0, 0, 0, 0, 0, 0, 0, 0, 0, 0, 0, 0, 0],\n",
       "       [0, 0, 0, 0, 0, 0, 0, 0, 0, 0, 0, 0, 0, 0, 0]])"
      ]
     },
     "execution_count": 122,
     "metadata": {},
     "output_type": "execute_result"
    }
   ],
   "source": [
    "\n",
    "\n",
    "\n",
    "z_syndrome_history = np.zeros(shape=(2, cmz), dtype=int)\n",
    "x_syndrome_history = np.zeros(shape=(2, cmx), dtype=int)\n",
    "z_observables = np.zeros(qcode.k, dtype=int)\n",
    "x_observables = np.zeros(qcode.k, dtype=int)\n",
    "\n",
    "stab_type = True\n",
    "c = prepare_code(Hx, Hz, get_qubits(1), stab_type)\n",
    "s = stim.TableauSimulator()\n",
    "\n",
    "s.do_circuit(c)\n",
    "if stab_type:\n",
    "    z_syndrome_history[0] = s.current_measurement_record()\n",
    "else:\n",
    "    x_syndrome_history[0] = s.current_measurement_record()\n"
   ]
  },
  {
   "cell_type": "code",
   "execution_count": null,
   "metadata": {},
   "outputs": [],
   "source": []
  }
 ],
 "metadata": {
  "kernelspec": {
   "display_name": "qc",
   "language": "python",
   "name": "python3"
  },
  "language_info": {
   "codemirror_mode": {
    "name": "ipython",
    "version": 3
   },
   "file_extension": ".py",
   "mimetype": "text/x-python",
   "name": "python",
   "nbconvert_exporter": "python",
   "pygments_lexer": "ipython3",
   "version": "3.8.18"
  }
 },
 "nbformat": 4,
 "nbformat_minor": 2
}
