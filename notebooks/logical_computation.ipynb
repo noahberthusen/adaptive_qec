{
 "cells": [
  {
   "cell_type": "code",
   "execution_count": 1,
   "metadata": {},
   "outputs": [],
   "source": [
    "import numpy as np\n",
    "import matplotlib.pyplot as plt\n",
    "import galois\n",
    "import itertools\n",
    "from classical_code import *\n",
    "from quantum_code import *\n",
    "import stim\n",
    "from scipy.sparse import lil_matrix\n",
    "import scipy as sp\n",
    "from ldpc import BpDecoder, BpOsdDecoder\n",
    "from ldpc.bplsd_decoder import BpLsdDecoder\n",
    "from tqdm import tqdm\n",
    "from result_lifetime import Result, save_new_res"
   ]
  },
  {
   "cell_type": "code",
   "execution_count": 23,
   "metadata": {},
   "outputs": [
    {
     "data": {
      "text/plain": [
       "<matplotlib.image.AxesImage at 0x14dce1d9430>"
      ]
     },
     "execution_count": 23,
     "metadata": {},
     "output_type": "execute_result"
    },
    {
     "data": {
      "image/png": "[encoded data removed]",
      "text/plain": [
       "<Figure size 990.476x480 with 1 Axes>"
      ]
     },
     "metadata": {},
     "output_type": "display_data"
    }
   ],
   "source": [
    "hgp_qcode = read_qcode(\"../codes/qcodes/lacross/HGP_130_4/HGP_130_4.qcode\")\n",
    "qcode = hgp_qcode\n",
    "# qcode = read_qcode(\"../codes/qcodes/lacross/HGP_34_4/HGP_C422_68_4.qcode\")\n",
    "\n",
    "\n",
    "# hgp_qcode = read_qcode(\"../codes/qcodes/expander/HGP_100_4/HGP_100_4.qcode\")\n",
    "# qcode = hgp_qcode\n",
    "# qcode = read_qcode(\"../codes/qcodes/HGP_400_16/HGP_C422_800_16.qcode\")\n",
    "\n",
    "\n",
    "# hgp_qcode = read_qcode(\"../codes/qcodes/HGP_900_36/HGP_900_36.qcode\")\n",
    "# qcode = hgp_qcode\n",
    "# qcode = read_qcode(\"../codes/qcodes/HGP_900_36/HGP_C422_1800_36.qcode\")\n",
    "\n",
    "\n",
    "\n",
    "hgp_Hx, hgp_Hz, hgp_Lx, hgp_Lz, _ = hgp_qcode.to_numpy()\n",
    "Hx, Hz, Lx, Lz, mapping = qcode.to_numpy()\n",
    "\n",
    "cn = qcode.n\n",
    "cmx = qcode.xm\n",
    "cmz = qcode.zm\n",
    "\n",
    "tot_qbts = cn+cmx+cmz\n",
    "\n",
    "\n",
    "qubit_error_rate = 0.01\n",
    "meas_error_rate = 0.01\n",
    "\n",
    "stab_type = False\n",
    "tanner = True if meas_error_rate else False\n",
    "\n",
    "H = Hx if stab_type else Hz\n",
    "hgp_H = hgp_Hx if stab_type else hgp_Hz\n",
    "\n",
    "# qed_dec_H = H[:qcode.qedxm]\n",
    "# qed_channel_probs = [qubit_error_rate]*H.shape[1]\n",
    "\n",
    "qec_aug_dec_H = np.hstack([hgp_H, np.eye(hgp_H.shape[0], dtype=int)])\n",
    "qec_aug_channel_probs = [qubit_error_rate]*hgp_H.shape[1] + [meas_error_rate]*(hgp_H.shape[0])\n",
    "\n",
    "qec_dec_H = hgp_H\n",
    "qec_channel_probs = [qubit_error_rate]*hgp_H.shape[1]\n",
    "L = Lx if stab_type else Lz\n",
    "\n",
    "plt.matshow(qec_dec_H)\n",
    "# print(np.count_nonzero(Hx, axis=1))"
   ]
  },
  {
   "cell_type": "code",
   "execution_count": 24,
   "metadata": {},
   "outputs": [
    {
     "name": "stdout",
     "output_type": "stream",
     "text": [
      "[[63, 64, 66, 67, 69, 70], [63, 65, 66, 68, 69, 71], [72, 73, 75, 76, 78, 79], [72, 74, 75, 77, 78, 80]]\n",
      "[[7, 16, 34, 43, 61, 70], [8, 17, 35, 44, 62, 71], [7, 25, 34, 52, 61, 79], [8, 26, 35, 53, 62, 80]]\n"
     ]
    }
   ],
   "source": [
    "print(qcode.Lx)\n",
    "print(qcode.Lz)"
   ]
  },
  {
   "cell_type": "code",
   "execution_count": 25,
   "metadata": {},
   "outputs": [
    {
     "name": "stdout",
     "output_type": "stream",
     "text": [
      "[[ 0  1  2  3  4  5  6  7  8]\n",
      " [ 9 10 11 12 13 14 15 16 17]\n",
      " [18 19 20 21 22 23 24 25 26]\n",
      " [27 28 29 30 31 32 33 34 35]\n",
      " [36 37 38 39 40 41 42 43 44]\n",
      " [45 46 47 48 49 50 51 52 53]\n",
      " [54 55 56 57 58 59 60 61 62]\n",
      " [63 64 65 66 67 68 69 70 71]\n",
      " [72 73 74 75 76 77 78 79 80]]\n",
      "[(7, 7) (7, 8) (8, 7) (8, 8)]\n"
     ]
    }
   ],
   "source": [
    "def find_pivots(N, Lx, Lz):\n",
    "    # assuming full rank classical codes ...\n",
    "    k = int(np.sqrt(len(Lx)))\n",
    "    coeff = [2, -2*k, (k**2-N)]\n",
    "    m, n = sorted(abs(np.roots(coeff).astype(int)))\n",
    "\n",
    "    grid = np.arange(n**2).reshape(n,n)\n",
    "    loc = np.empty(len(Lx), dtype=object)\n",
    "    for i in range(len(Lx)):\n",
    "        tmp = np.intersect1d(np.where(Lx[i])[0], np.where(Lz[i])[0])[0]\n",
    "        loc[i] = (tmp//n, tmp%n)\n",
    "\n",
    "    return grid, loc\n",
    "grid, loc = find_pivots(qcode.n, Lx, Lz)\n",
    "print(grid)\n",
    "print(loc)"
   ]
  },
  {
   "cell_type": "code",
   "execution_count": 5,
   "metadata": {},
   "outputs": [],
   "source": [
    "pivot_rows = set([ind[0] for ind in loc])\n",
    "pivot_columns = set([ind[1] for ind in loc])\n",
    "\n",
    "def Qp(Hx, Hz, cols):\n",
    "    punctured_cols = pivot_columns - cols\n",
    "    punctured_qbts = grid[:, list(punctured_cols)].flatten()\n",
    "    print(punctured_qbts)\n",
    "\n",
    "    mask = ~np.any(Hx[:, punctured_qbts] == 1, axis=1)\n",
    "    # punc_Hx = Hx[mask]\n",
    "    punc_Hx = Hx.copy()\n",
    "    punc_Hx[~mask] = 0\n",
    "    punc_Hz = Hz.copy()\n",
    "\n",
    "    punc_Hx[:, punctured_qbts] = 0\n",
    "    punc_Hz[:, punctured_qbts] = 0\n",
    "\n",
    "    return punc_Hx, punc_Hz\n",
    "\n",
    "def Qpp(Hx, Hz, rows):\n",
    "    punctured_rows = rows\n",
    "    punctured_qbts = grid[list(punctured_rows)].flatten()\n",
    "    print(punctured_qbts)\n",
    "\n",
    "    mask = ~np.any(Hz[:, punctured_qbts] == 1, axis=1)\n",
    "    # punc_Hz = Hz[mask]\n",
    "    punc_Hz = Hz.copy()\n",
    "    punc_Hz[~mask] = 0\n",
    "    punc_Hx = Hx.copy()\n",
    "\n",
    "    punc_Hx[:, punctured_qbts] = 0\n",
    "    punc_Hz[:, punctured_qbts] = 0\n",
    "\n",
    "    return punc_Hx, punc_Hz"
   ]
  },
  {
   "cell_type": "code",
   "execution_count": 6,
   "metadata": {},
   "outputs": [
    {
     "name": "stdout",
     "output_type": "stream",
     "text": [
      "[ 4  9 14 19 24]\n",
      "[15 16 17 18 19]\n"
     ]
    }
   ],
   "source": [
    "log_qbts = 0\n",
    "rows = loc[log_qbts][0]\n",
    "cols = loc[log_qbts][1]\n",
    "\n",
    "Qp_Hx, Qp_Hz = Qp(Hx, Hz, {cols})\n",
    "Qpp_Hx, Qpp_Hz = Qpp(Qp_Hx, Qp_Hz, {rows})"
   ]
  },
  {
   "cell_type": "code",
   "execution_count": null,
   "metadata": {},
   "outputs": [],
   "source": [
    "def prepare_code(Hx, Hz, qbts, stab_type):\n",
    "    c = stim.Circuit()\n",
    "    data_qbts, x_checks, z_checks = qbts\n",
    "\n",
    "    if stab_type:\n",
    "        c.append(\"H\", [qbt for qbt in data_qbts])\n",
    "        for z in np.arange(qcode.zm):\n",
    "            gen_qbts = data_qbts[np.where(Hz[z])[0]]\n",
    "            for qbt in gen_qbts:\n",
    "                path_qbts = [qbt, z_checks[z]]\n",
    "                c.append(\"CNOT\", path_qbts)\n",
    "        for i, z_check in enumerate(np.arange(Hz.shape[0])):\n",
    "            c.append(\"MR\", z_checks[z_check])\n",
    "    else:\n",
    "        c.append(\"H\", x_checks)\n",
    "        for x in np.arange(qcode.xm):\n",
    "            gen_qbts = data_qbts[np.where(Hx[x])[0]]\n",
    "            for qbt in gen_qbts:\n",
    "                path_qbts = [x_checks[x], qbt]\n",
    "                c.append(\"CNOT\", path_qbts)\n",
    "        c.append(\"H\", x_checks)\n",
    "        for i, x_check in enumerate(np.arange(Hx.shape[0])):\n",
    "            c.append(\"MR\", x_checks[x_check])\n",
    "\n",
    "    return c\n",
    "\n",
    "def get_qubits(cb):\n",
    "    data_qbts = np.arange((cb*tot_qbts), cn+(cb*tot_qbts))\n",
    "    x_checks = np.arange((cb*tot_qbts)+cn,(cb*tot_qbts)+(cn+cmx))\n",
    "    z_checks = np.arange((cb*tot_qbts)+(cn+cmx),(cb*tot_qbts)+(cn+cmx+cmz))\n",
    "    return (data_qbts, x_checks, z_checks)\n",
    "\n",
    "def GPPM(log_qbts):\n",
    "    c = stim.Circuit()\n",
    "\n",
    "    rows = loc[log_qbts][0]\n",
    "    cols = loc[log_qbts][1]\n",
    "\n",
    "    Qp_Hx, Qp_Hz = Qp(Hx, Hz, {cols})\n",
    "    Qpp_Hx, Qpp_Hz = Qpp(Qp_Hx, Qp_Hz, {rows})\n",
    "\n",
    "    data_qbts1, _, _ = get_qubits(0)\n",
    "    data_qbts2, _, _ = get_qubits(1)\n",
    "    data_qbts3, _, _ = get_qubits(2)\n",
    "\n",
    "    c += prepare_code(Hx, Hz, get_qubits(0), False)\n",
    "    c.append(\"TICK\")\n",
    "    # change logicals\n",
    "    c.append(\"X\", [15,17,18])\n",
    "    # c.append(\"X\", [21,22,24])\n",
    "    c += prepare_code(Qp_Hx, Qp_Hz, get_qubits(1), False)\n",
    "    c.append(\"TICK\")\n",
    "    c += prepare_code(Qpp_Hx, Qpp_Hz, get_qubits(2), True)\n",
    "    c.append(\"TICK\")\n",
    "\n",
    "    nonzero1 = np.count_nonzero(Hx, axis=0)\n",
    "    nonzero2 = np.count_nonzero(Qp_Hx, axis=0)\n",
    "    nonzero3 = np.count_nonzero(Qpp_Hx, axis=0)\n",
    "\n",
    "    for i in range(Hx.shape[1]):\n",
    "        if (nonzero3[i] and nonzero2[i]):\n",
    "            c.append(\"CNOT\", [data_qbts3[i], data_qbts2[i]])\n",
    "    c.append(\"MX\", data_qbts3)\n",
    "\n",
    "    for i in range(Hx.shape[1]):\n",
    "        if (nonzero1[i] and nonzero2[i]):\n",
    "            c.append(\"CNOT\", [data_qbts1[i], data_qbts2[i]])\n",
    "\n",
    "    # measure Q' in the Z basis\n",
    "    c.append(\"M\", data_qbts2)\n",
    "\n",
    "    return c\n",
    "\n",
    "\n",
    "def test():\n",
    "    c = stim.Circuit()\n",
    "\n",
    "    data_qbts1, _, _ = get_qubits(0)\n",
    "\n",
    "    c += prepare_code(Hx, Hz, get_qubits(0), False)\n",
    "    c.append(\"TICK\")\n",
    "    c.append(\"X\", [15,17,18])\n",
    "    c.append(\"M\", data_qbts1)\n",
    "\n",
    "    return c\n"
   ]
  },
  {
   "cell_type": "code",
   "execution_count": 14,
   "metadata": {},
   "outputs": [
    {
     "name": "stdout",
     "output_type": "stream",
     "text": [
      "[ 4  9 14 19 24]\n",
      "[15 16 17 18 19]\n",
      "[0 0 1 0]\n",
      "[0 0 0 0]\n"
     ]
    }
   ],
   "source": [
    "s = stim.TableauSimulator()\n",
    "\n",
    "c = GPPM(0)\n",
    "s.do_circuit(c)\n",
    "\n",
    "z_observables = np.zeros(qcode.k, dtype=int)\n",
    "x_observables = np.zeros(qcode.k, dtype=int)\n",
    "\n",
    "stab_type = False\n",
    "\n",
    "meas = s.current_measurement_record()\n",
    "for i, logical in enumerate(Lx if stab_type else Lz):\n",
    "    incl_qbts = np.where(logical)[0]\n",
    "    incl_qbts = [j-cn for j in incl_qbts]\n",
    "\n",
    "    if stab_type:\n",
    "        x_observables[i] = (np.sum(np.take(meas, incl_qbts)) % 2)\n",
    "    else:\n",
    "        z_observables[i] = (np.sum(np.take(meas, incl_qbts)) % 2)\n",
    "\n",
    "print(z_observables)\n",
    "print(x_observables)"
   ]
  },
  {
   "cell_type": "code",
   "execution_count": null,
   "metadata": {},
   "outputs": [],
   "source": []
  },
  {
   "cell_type": "code",
   "execution_count": 361,
   "metadata": {},
   "outputs": [
    {
     "name": "stdout",
     "output_type": "stream",
     "text": [
      "[1 0 0 0]\n",
      "[0 0 0 0]\n"
     ]
    }
   ],
   "source": [
    "s = stim.TableauSimulator()\n",
    "\n",
    "c = test()\n",
    "s.do_circuit(c)\n",
    "\n",
    "def compute_logicals(meas):\n",
    "    H = Hx if stab_type else Hz\n",
    "    for i in range(H.shape[0]):\n",
    "        incl_qbts = np.where(H[i])[0]\n",
    "        incl_qbts = np.array([j-cn for j in incl_qbts])\n",
    "\n",
    "        # if stab_type:\n",
    "        #     x_syndrome_history[-1][i] = np.sum(np.take(meas, incl_qbts)) % 2\n",
    "        # else:\n",
    "        #     z_syndrome_history[-1][i] = np.sum(np.take(meas, incl_qbts)) % 2\n",
    "\n",
    "    x_observables = np.zeros(qcode.k, dtype=int)\n",
    "    z_observables = np.zeros(qcode.k, dtype=int)\n",
    "\n",
    "    for i, logical in enumerate(Lx if stab_type else Lz):\n",
    "        incl_qbts = np.where(logical)[0]\n",
    "        incl_qbts = [j-cn for j in incl_qbts]\n",
    "\n",
    "        if stab_type:\n",
    "            x_observables[i] = (np.sum(np.take(meas, incl_qbts)) % 2)\n",
    "        else:\n",
    "            z_observables[i] = (np.sum(np.take(meas, incl_qbts)) % 2)\n",
    "\n",
    "    return z_observables, x_observables\n",
    "\n",
    "z_observables, x_observables = compute_logicals(s.current_measurement_record())\n",
    "\n",
    "print(z_observables)\n",
    "print(x_observables)"
   ]
  },
  {
   "cell_type": "code",
   "execution_count": 257,
   "metadata": {},
   "outputs": [
    {
     "name": "stdout",
     "output_type": "stream",
     "text": [
      "0\n"
     ]
    }
   ],
   "source": [
    "qbt_meas = meas[-34:]\n",
    "print(np.array(qbt_meas).astype(int)[18])"
   ]
  },
  {
   "cell_type": "code",
   "execution_count": 188,
   "metadata": {},
   "outputs": [
    {
     "name": "stdout",
     "output_type": "stream",
     "text": [
      "[ 4  9 14 19 24]\n",
      "[15 16 17 18 19]\n",
      "[1 2 3 2 0 1 2 3 2 0 1 2 3 2 0 1 2 3 2 0 1 2 3 2 0 3 3 3 3 3 3 3 3 3]\n",
      "[1 1 1 1 0 2 2 2 2 0 3 3 3 3 0 2 2 2 2 0 1 1 1 1 0 3 3 2 3 3 2 3 3 2]\n",
      "[1 2 3 2 0 1 2 3 2 0 1 2 3 2 0 0 0 0 0 0 1 2 3 2 0 3 3 3 2 2 2 2 2 2]\n",
      "[1 1 1 1 0 2 2 2 2 0 3 3 3 3 0 0 0 0 0 0 1 1 1 1 0 3 3 2 3 3 2 3 3 2]\n"
     ]
    }
   ],
   "source": [
    "log_qbts = 0\n",
    "rows = loc[log_qbts][0]\n",
    "cols = loc[log_qbts][1]\n",
    "\n",
    "Qp_Hx, Qp_Hz = Qp(Hx, Hz, {cols})\n",
    "Qpp_Hx, Qpp_Hz = Qpp(Qp_Hx, Qp_Hz, {rows})\n",
    "\n",
    "print(np.count_nonzero(Qp_Hz, axis=0))\n",
    "print(np.count_nonzero(Qp_Hx, axis=0))\n",
    "print(np.count_nonzero(Qpp_Hz, axis=0))\n",
    "print(np.count_nonzero(Qpp_Hx, axis=0))"
   ]
  },
  {
   "cell_type": "code",
   "execution_count": 202,
   "metadata": {},
   "outputs": [
    {
     "data": {
      "text/plain": [
       "array([ 3, 13, 18], dtype=int64)"
      ]
     },
     "execution_count": 202,
     "metadata": {},
     "output_type": "execute_result"
    }
   ],
   "source": [
    "np.where(Lz[0])[0]"
   ]
  },
  {
   "cell_type": "code",
   "execution_count": null,
   "metadata": {},
   "outputs": [
    {
     "data": {
      "text/plain": [
       "array([[0, 0, 0, 0, 0, 0, 0, 0, 0, 0, 0, 0, 0, 0, 0],\n",
       "       [0, 0, 0, 0, 0, 0, 0, 0, 0, 0, 0, 0, 0, 0, 0]])"
      ]
     },
     "execution_count": 122,
     "metadata": {},
     "output_type": "execute_result"
    }
   ],
   "source": [
    "\n",
    "\n",
    "\n",
    "z_syndrome_history = np.zeros(shape=(2, cmz), dtype=int)\n",
    "x_syndrome_history = np.zeros(shape=(2, cmx), dtype=int)\n",
    "z_observables = np.zeros(qcode.k, dtype=int)\n",
    "x_observables = np.zeros(qcode.k, dtype=int)\n",
    "\n",
    "stab_type = True\n",
    "c = prepare_code(Hx, Hz, get_qubits(1), stab_type)\n",
    "s = stim.TableauSimulator()\n",
    "\n",
    "s.do_circuit(c)\n",
    "if stab_type:\n",
    "    z_syndrome_history[0] = s.current_measurement_record()\n",
    "else:\n",
    "    x_syndrome_history[0] = s.current_measurement_record()\n"
   ]
  },
  {
   "cell_type": "code",
   "execution_count": null,
   "metadata": {},
   "outputs": [
    {
     "data": {
      "text/plain": [
       "[True, True, True, True]"
      ]
     },
     "execution_count": 61,
     "metadata": {},
     "output_type": "execute_result"
    }
   ],
   "source": [
    "s = stim.TableauSimulator()\n",
    "\n",
    "c = stim.Circuit()\n",
    "c.append(\"H\", 2)\n",
    "c.append(\"CNOT\", [2,1,1,0,2,3])\n",
    "c.append(\"MXX\", [1,3])\n",
    "\n",
    "s.do_circuit(c)\n",
    "\n",
    "meas = s.current_measurement_record()\n",
    "if (meas[0]):\n",
    "    s.do(stim.PauliString(\"IIZI\"))\n",
    "\n",
    "c = stim.Circuit()\n",
    "c.append(\"M\", [0,1,2,3])\n",
    "s.do_circuit(c)\n",
    "\n",
    "s.current_measurement_record()[-4:]"
   ]
  },
  {
   "cell_type": "code",
   "execution_count": 374,
   "metadata": {},
   "outputs": [
    {
     "name": "stdout",
     "output_type": "stream",
     "text": [
      "[0 1 0 0]\n",
      "[0 0 0 0]\n"
     ]
    }
   ],
   "source": [
    "s = stim.TableauSimulator()\n",
    "\n",
    "data_qbts1, _, _ = get_qubits(0)\n",
    "\n",
    "c = stim.Circuit()\n",
    "c += prepare_code(Hx, Hz, get_qubits(0), False)\n",
    "c.append(\"X\", [16,17,19])\n",
    "\n",
    "c.append(\"H\", data_qbts1)\n",
    "c.append(\"MX\", data_qbts1)\n",
    "\n",
    "s.do_circuit(c)\n",
    "\n",
    "z_observables, x_observables = compute_logicals(s.current_measurement_record())\n",
    "\n",
    "print(z_observables)\n",
    "print(x_observables)"
   ]
  },
  {
   "cell_type": "code",
   "execution_count": null,
   "metadata": {},
   "outputs": [],
   "source": []
  }
 ],
 "metadata": {
  "kernelspec": {
   "display_name": "qc",
   "language": "python",
   "name": "python3"
  },
  "language_info": {
   "codemirror_mode": {
    "name": "ipython",
    "version": 3
   },
   "file_extension": ".py",
   "mimetype": "text/x-python",
   "name": "python",
   "nbconvert_exporter": "python",
   "pygments_lexer": "ipython3",
   "version": "3.8.18"
  }
 },
 "nbformat": 4,
 "nbformat_minor": 2
}
