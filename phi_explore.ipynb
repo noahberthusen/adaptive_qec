{
 "cells": [
  {
   "cell_type": "code",
   "execution_count": 8,
   "metadata": {},
   "outputs": [],
   "source": [
    "import numpy as np\n",
    "import os"
   ]
  },
  {
   "cell_type": "code",
   "execution_count": 11,
   "metadata": {},
   "outputs": [],
   "source": [
    "def get_phidistr():\n",
    "    phi_distr = {\"0.026329865130580478\": 9959337, \"0.4819798898197637\": 5115618, \"0.0002674496582196048\": 2269586, \"0.006509886088047918\": 11759960, \"0.16579656021009886\": 16115461, \"0.0002592815506078018\": 2881038}\n",
    "    keys = np.array([float(x) for x in iter(phi_distr.keys())])\n",
    "    frequencies = np.array(list(phi_distr.values()), dtype=np.float64)\n",
    "\n",
    "    # Normalize the frequencies to ensure they sum up to 1\n",
    "    total_frequency = np.sum(frequencies)\n",
    "    normalized_frequencies = frequencies / total_frequency\n",
    "\n",
    "    return keys, normalized_frequencies\n",
    "\n",
    "def sample_error_prior(rng, size, phi_distr):\n",
    "    # I hope 0 is no error, and 1 is error\n",
    "    q_values, phi_freq = phi_distr\n",
    "\n",
    "    # Sample from the distribution\n",
    "    prior = rng.choice(q_values, p=phi_freq, size=size)\n",
    "    np.random.seed(os.getpid())\n",
    "    error = np.random.uniform(0.0, 1.0, size=prior.shape[0]) <= prior\n",
    "\n",
    "    return error, prior"
   ]
  },
  {
   "cell_type": "code",
   "execution_count": 31,
   "metadata": {},
   "outputs": [
    {
     "name": "stdout",
     "output_type": "stream",
     "text": [
      "[2.63298651e-02 4.81979890e-01 2.67449658e-04 6.50988609e-03\n",
      " 1.65796560e-01 2.59281551e-04]\n",
      "[0.20705052 0.10635159 0.04718376 0.24448473 0.3350338  0.05989559]\n"
     ]
    }
   ],
   "source": [
    "phi_distr = get_phidistr()\n",
    "print(phi_distr[0])\n",
    "print(phi_distr[1])"
   ]
  },
  {
   "cell_type": "code",
   "execution_count": 32,
   "metadata": {},
   "outputs": [
    {
     "name": "stdout",
     "output_type": "stream",
     "text": [
      "[ True False False False False False  True False False False]\n",
      "[0.16579656 0.16579656 0.02632987 0.16579656 0.00650989 0.02632987\n",
      " 0.48197989 0.02632987 0.16579656 0.48197989]\n"
     ]
    }
   ],
   "source": [
    "error, prior = sample_error_prior(np.random.default_rng(), 10, phi_distr)\n",
    "print(error)\n",
    "print(prior)"
   ]
  },
  {
   "cell_type": "code",
   "execution_count": 33,
   "metadata": {},
   "outputs": [
    {
     "name": "stdout",
     "output_type": "stream",
     "text": [
      "[0.11387811064219039, 0.11387811064219039, 0.11387811064219039, 0.11387811064219039, 0.11387811064219039, 0.11387811064219039, 0.11387811064219039, 0.11387811064219039, 0.11387811064219039, 0.11387811064219039]\n"
     ]
    }
   ],
   "source": [
    "keys, normalized_freq = phi_distr\n",
    "prior_val = np.sum([keys[i]*normalized_freq[i] for i in range(len(keys))])\n",
    "prior2 = [prior_val] * len(prior)\n",
    "print(prior2)"
   ]
  },
  {
   "cell_type": "code",
   "execution_count": null,
   "metadata": {},
   "outputs": [],
   "source": []
  }
 ],
 "metadata": {
  "kernelspec": {
   "display_name": "qc",
   "language": "python",
   "name": "python3"
  },
  "language_info": {
   "codemirror_mode": {
    "name": "ipython",
    "version": 3
   },
   "file_extension": ".py",
   "mimetype": "text/x-python",
   "name": "python",
   "nbconvert_exporter": "python",
   "pygments_lexer": "ipython3",
   "version": "3.8.18"
  }
 },
 "nbformat": 4,
 "nbformat_minor": 2
}
