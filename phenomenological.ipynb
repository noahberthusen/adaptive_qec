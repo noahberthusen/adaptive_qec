{
 "cells": [
  {
   "cell_type": "code",
   "execution_count": 34,
   "metadata": {},
   "outputs": [],
   "source": [
    "import numpy as np\n",
    "import matplotlib.pyplot as plt\n",
    "import galois\n",
    "import itertools\n",
    "from classical_code import *\n",
    "from quantum_code import *\n",
    "from utils import get_logicals\n",
    "import stim\n",
    "from scipy.sparse import lil_matrix\n",
    "import scipy as sp\n",
    "from ldpc import bposd_decoder, bp_decoder\n",
    "from tqdm import tqdm\n",
    "from result_lifetime import Result, save_new_res\n",
    "# %load_ext snakeviz"
   ]
  },
  {
   "cell_type": "code",
   "execution_count": 46,
   "metadata": {},
   "outputs": [
    {
     "name": "stdout",
     "output_type": "stream",
     "text": [
      "[[1 0 0 1 0 0 0 0 0 1 0 1]\n",
      " [0 0 0 0 0 1 1 1 1 0 0 0]\n",
      " [0 0 1 1 1 0 0 0 0 0 1 0]\n",
      " [1 0 0 1 0 0 0 0 1 0 1 0]\n",
      " [0 0 1 0 0 0 1 0 1 0 0 1]\n",
      " [0 1 1 0 0 1 0 0 0 1 0 0]\n",
      " [0 1 0 0 0 1 0 1 0 0 0 1]\n",
      " [0 1 0 0 1 0 0 1 0 1 0 0]\n",
      " [1 0 0 0 1 0 1 0 0 0 1 0]]\n",
      "3\n"
     ]
    }
   ],
   "source": [
    "GF = galois.GF(2)\n",
    "ccode = read_code(\"./codes/ccodes/12_9_3_4.code\")\n",
    "H = np.zeros((ccode.m, ccode.n), dtype=int)\n",
    "for i in range(ccode.m):\n",
    "    for j in range(ccode.n):\n",
    "        if (j in ccode.check_nbhd[i]):\n",
    "            H[i][j] = 1\n",
    "dim0, dim1 = H.shape\n",
    "print(H)\n",
    "print(dim1 - np.linalg.matrix_rank(GF(H)))"
   ]
  },
  {
   "cell_type": "code",
   "execution_count": 47,
   "metadata": {},
   "outputs": [],
   "source": [
    "I1 = np.eye(dim1, dtype=int)\n",
    "I0 = np.eye(dim0, dtype=int)\n",
    "\n",
    "dE21 = np.kron(H, I0)\n",
    "dE22 = np.kron(I1, H.T)\n",
    "dE2 = np.vstack([dE21, dE22])\n",
    "Hz = dE2.T\n",
    "\n",
    "dE11 = np.kron(I0, H.T)\n",
    "dE12 = np.kron(H, I1)\n",
    "dE1 = np.hstack([dE11, dE12])\n",
    "Hx = dE1\n",
    "\n",
    "m, n = Hx.shape\n",
    "\n",
    "k, Hx_inds, Hz_inds, xL_inds, zL_inds = format_qcode(Hx, Hz)\n",
    "qcode = QuantumCode(n, k, Hx.shape[0], Hz.shape[0], 0, 0, Hx_inds, Hz_inds, xL_inds, zL_inds)\n",
    "write_qcode(f\"./codes/qcodes/HGP_{n}_{k}.qcode\", qcode)"
   ]
  },
  {
   "cell_type": "code",
   "execution_count": 12,
   "metadata": {},
   "outputs": [
    {
     "name": "stdout",
     "output_type": "stream",
     "text": [
      "(441, 900)\n"
     ]
    },
    {
     "data": {
      "text/plain": [
       "<matplotlib.image.AxesImage at 0x2723acddee0>"
      ]
     },
     "execution_count": 12,
     "metadata": {},
     "output_type": "execute_result"
    },
    {
     "data": {
      "image/png": "[encoded data removed]",
      "text/plain": [
       "<Figure size 979.592x480 with 1 Axes>"
      ]
     },
     "metadata": {},
     "output_type": "display_data"
    }
   ],
   "source": [
    "Hx = np.loadtxt(\"codes/Hx.txt\", dtype=int)\n",
    "Hz = np.loadtxt(\"codes/Hz.txt\", dtype=int)\n",
    "m, n = Hx.shape\n",
    "\n",
    "k, Hx_inds, Hz_inds, xL_inds, zL_inds = format_qcode(Hx, Hz)\n",
    "\n",
    "# Hx = np.hstack([Hx, np.eye(Hx.shape[0], dtype=int)])\n",
    "\n",
    "# qcode = QuantumCode(n, k, Hx.shape[0], Hz.shape[0], 225, 225, Hx_inds, Hz_inds, xL_inds, zL_inds)\n",
    "# write_qcode(f\"./codes/qcodes/HGP_C422_{n}_{k}.qcode\", qcode)\n",
    "\n",
    "\n",
    "print(Hz.shape)\n",
    "plt.matshow(Hx)"
   ]
  },
  {
   "cell_type": "code",
   "execution_count": 296,
   "metadata": {},
   "outputs": [],
   "source": [
    "overlapping_x_generators = np.empty(100, dtype=object)\n",
    "for i in range(100):\n",
    "    tmp = np.array([], dtype=int)\n",
    "    for j in range(100,196):\n",
    "        if np.any(Hx[i] & Hx[j]): tmp = np.append(tmp, j)\n",
    "    overlapping_x_generators[i] = tmp\n",
    "\n",
    "overlapping_z_generators = np.empty(100, dtype=object)\n",
    "# for i in range(concatenatedStabilizersQED.shape[0]):\n",
    "#     tmp = np.array([], dtype=int)\n",
    "#     for j in range(concatenatedStabilizersZQEC.shape[0]):\n",
    "#         if np.any(concatenatedStabilizersQED[i] & concatenatedStabilizersZQEC[j]): tmp = np.append(tmp, j+concatenatedStabilizersQED.shape[0])\n",
    "#     overlapping_z_generators[i] = tmp\n",
    "\n",
    "def get_overlapping(measurements, gen_type=False, not_overlapping=False):\n",
    "    overlapping_generators = overlapping_x_generators if gen_type else overlapping_z_generators\n",
    "    gens_to_measure = set()\n",
    "    for g in np.where(measurements)[0]:\n",
    "        gens_to_measure |= set(overlapping_generators[g])\n",
    "\n",
    "    if not_overlapping:\n",
    "        return np.array(list(set(np.arange(100,196)) ^ gens_to_measure))\n",
    "    else:\n",
    "        return np.array(list(gens_to_measure))"
   ]
  },
  {
   "cell_type": "code",
   "execution_count": 88,
   "metadata": {},
   "outputs": [
    {
     "name": "stdout",
     "output_type": "stream",
     "text": [
      "8\n",
      "8\n"
     ]
    }
   ],
   "source": [
    "zL = get_logicals(Hx, Hz, False)\n",
    "xL = get_logicals(Hx, Hz, True)\n",
    "k = len(xL)\n",
    "\n",
    "xL_inds = [np.where(x)[0] for x in xL]\n",
    "zL_inds = [np.where(z)[0] for z in zL]\n",
    "\n",
    "print(len(xL))\n",
    "print(Hx.shape[1] - np.linalg.matrix_rank(Hx) - np.linalg.matrix_rank(Hz))"
   ]
  },
  {
   "cell_type": "code",
   "execution_count": 48,
   "metadata": {},
   "outputs": [],
   "source": [
    "qubit_error_rate = 0.001\n",
    "meas_error_rate = 0.001\n",
    "\n",
    "bp_qed_dec = bp_decoder(\n",
    "    Hx[:100], # the parity check matrix\n",
    "    error_rate=qubit_error_rate,\n",
    "    # channel_probs=new_channel_probs, #assign error_rate to each qubit. This will override \"error_rate\" input variable\n",
    "    max_iter=100, #pcm.shape[1], #the maximum number of iterations for BP)\n",
    "    bp_method=\"msl\",\n",
    "    ms_scaling_factor=0, #min sum scaling factor. If set to zero the variable scaling factor method is used\n",
    "    # osd_method=\"osd0\", #the OSD method. Choose from:  1) \"osd_e\", \"osd_cs\", \"osd0\"\n",
    "    # osd_order=40 #the osd search depth\n",
    ")\n",
    "\n",
    "bposd_qed_qec_dec = bposd_decoder(\n",
    "    Hx,\n",
    "    error_rate=qubit_error_rate,\n",
    "    bp_method=\"msl\",\n",
    "    max_iter=100,\n",
    "    ms_scaling_factor=0, #min sum scaling factor. If set to zero the variable scaling factor method is used\n",
    "    osd_method=\"osd0\", #the OSD method. Choose from:  1) \"osd_e\", \"osd_cs\", \"osd0\"\n",
    "    # osd_order=40 #the osd search depth\n",
    ")\n",
    "\n",
    "bposd_qec_dec = bposd_decoder(\n",
    "    Hx,\n",
    "    error_rate=qubit_error_rate,\n",
    "    # channel_probs=Hx.shape[1]*[qubit_error_rate],\n",
    "    bp_method=\"msl\",\n",
    "    max_iter=100,\n",
    "    ms_scaling_factor=0, #min sum scaling factor. If set to zero the variable scaling factor method is used\n",
    "    osd_method=\"osd0\", #the OSD method. Choose from:  1) \"osd_e\", \"osd_cs\", \"osd0\"\n",
    "    # osd_order=4 #the osd search depth\n",
    ")"
   ]
  },
  {
   "cell_type": "code",
   "execution_count": 49,
   "metadata": {},
   "outputs": [
    {
     "name": "stderr",
     "output_type": "stream",
     "text": [
      " 20%|█▉        | 198/1000 [00:11<00:47, 17.01it/s]\n"
     ]
    },
    {
     "ename": "KeyboardInterrupt",
     "evalue": "",
     "output_type": "error",
     "traceback": [
      "\u001b[1;31m---------------------------------------------------------------------------\u001b[0m",
      "\u001b[1;31mKeyboardInterrupt\u001b[0m                         Traceback (most recent call last)",
      "Cell \u001b[1;32mIn[49], line 19\u001b[0m\n\u001b[0;32m     17\u001b[0m \u001b[38;5;66;03m# QEC\u001b[39;00m\n\u001b[0;32m     18\u001b[0m \u001b[38;5;28;01mif\u001b[39;00m (concat \u001b[38;5;241m==\u001b[39m \u001b[38;5;241m0\u001b[39m \u001b[38;5;129;01mand\u001b[39;00m adaptive \u001b[38;5;241m==\u001b[39m \u001b[38;5;241m0\u001b[39m):\n\u001b[1;32m---> 19\u001b[0m     guessed_error \u001b[38;5;241m=\u001b[39m \u001b[43mbposd_qec_dec\u001b[49m\u001b[38;5;241;43m.\u001b[39;49m\u001b[43mdecode\u001b[49m\u001b[43m(\u001b[49m\u001b[43mcurr_synd\u001b[49m\u001b[43m)\u001b[49m\n\u001b[0;32m     20\u001b[0m \u001b[38;5;28;01melif\u001b[39;00m (concat \u001b[38;5;241m==\u001b[39m \u001b[38;5;241m1\u001b[39m):\n\u001b[0;32m     21\u001b[0m     \u001b[38;5;66;03m# QED + QEC\u001b[39;00m\n\u001b[0;32m     22\u001b[0m     _ \u001b[38;5;241m=\u001b[39m bp_qed_dec\u001b[38;5;241m.\u001b[39mdecode(curr_synd[:\u001b[38;5;241m100\u001b[39m])\n",
      "\u001b[1;31mKeyboardInterrupt\u001b[0m: "
     ]
    }
   ],
   "source": [
    "concat = 0\n",
    "adaptive = 0\n",
    "\n",
    "rs = []\n",
    "tmp = []\n",
    "for ii in tqdm(range(1,1001)):\n",
    "    num_rounds = 0\n",
    "    residual_error = np.zeros(Hx.shape[1], dtype=int)\n",
    "\n",
    "    while True:\n",
    "        num_rounds += 1\n",
    "        new_qubit_error = np.random.choice([0, 1], size=Hx.shape[1], p=[1-qubit_error_rate, qubit_error_rate])\n",
    "        new_synd_error = np.random.choice([0, 1], size=Hx.shape[0], p=[1-meas_error_rate, meas_error_rate])\n",
    "        curr_qubit_error = residual_error ^ new_qubit_error\n",
    "        curr_synd = ((Hx @ curr_qubit_error) % 2) ^ new_synd_error\n",
    "\n",
    "        # QEC\n",
    "        if (concat == 0 and adaptive == 0):\n",
    "            guessed_error = bposd_qec_dec.decode(curr_synd)\n",
    "        elif (concat == 1):\n",
    "            # QED + QEC\n",
    "            _ = bp_qed_dec.decode(curr_synd[:100])\n",
    "\n",
    "            ######################## # THIS MIGHT NEED TO CHANGE SLIGHTLY, SOFT INFORMATION DECODING\n",
    "            # new_channel_probs = np.exp(-bp_qed_dec.log_prob_ratios)\n",
    "            # new_channel_probs = new_channel_probs / np.sum(new_channel_probs)\n",
    "            new_channel_probs = 1 / (np.exp(bp_qed_dec.log_prob_ratios) + 1)\n",
    "            new_channel_probs = new_channel_probs / np.sum(new_channel_probs)\n",
    "            # new_channel_probs[400:] = meas_error_rate\n",
    "            bposd_qed_qec_dec.update_channel_probs(new_channel_probs)\n",
    "            ########################\n",
    "\n",
    "            updated_synd = curr_synd.copy()\n",
    "            if (adaptive == 1):\n",
    "                updated_synd[get_overlapping(curr_synd[:100], True, True)] = 0\n",
    "\n",
    "            guessed_error = bposd_qed_qec_dec.decode(updated_synd)\n",
    "\n",
    "        residual_error = curr_qubit_error ^ guessed_error\n",
    "        ideal_correction = bposd_qec_dec.decode((Hx @ residual_error) % 2)\n",
    "\n",
    "        # obs = [np.count_nonzero(residual_error[l]) % 2 for l in zL_inds]\n",
    "        obs = [np.count_nonzero((ideal_correction ^ residual_error)[l]) % 2 for l in zL_inds]\n",
    "\n",
    "        if np.any(obs):\n",
    "            break\n",
    "\n",
    "    res = Result(concat, adaptive, n, k, qubit_error_rate, meas_error_rate, 1, num_rounds, 0)\n",
    "    rs.append(res)\n",
    "    tmp.append(num_rounds)\n",
    "\n",
    "    if (ii%10==0):\n",
    "        save_new_res('tmp.res', rs)\n",
    "        rs = []\n",
    "print(np.mean(tmp))"
   ]
  },
  {
   "cell_type": "code",
   "execution_count": 261,
   "metadata": {},
   "outputs": [
    {
     "data": {
      "image/png": "[encoded data removed]",
      "text/plain": [
       "<Figure size 640x480 with 1 Axes>"
      ]
     },
     "metadata": {},
     "output_type": "display_data"
    },
    {
     "name": "stdout",
     "output_type": "stream",
     "text": [
      "42.554\n"
     ]
    }
   ],
   "source": [
    "x = tmp\n",
    "_, best_lifetime = sp.stats.expon.fit(x, floc=0)\n",
    "\n",
    "x_interp = np.linspace(min(x), max(x), 100)\n",
    "plt.plot(np.sort(x), np.linspace(0, 1, len(x)), 'o', label='data')\n",
    "plt.plot(x_interp, sp.stats.expon.cdf(x_interp, scale=best_lifetime), 'r-', label='Best fit')\n",
    "plt.legend()\n",
    "plt.xlabel('Number of rounds survived')\n",
    "plt.ylabel('CDF')\n",
    "plt.show()\n",
    "\n",
    "print(best_lifetime)"
   ]
  },
  {
   "cell_type": "code",
   "execution_count": 85,
   "metadata": {},
   "outputs": [
    {
     "name": "stdout",
     "output_type": "stream",
     "text": [
      "1070.4119375 1189.01 1284.711375\n"
     ]
    }
   ],
   "source": [
    "# Seed the random number generator.\n",
    "rng = np.random.default_rng(0)\n",
    "\n",
    "# Number of boostrap resampling fits.\n",
    "n_bs = 100\n",
    "\n",
    "resampled_lifetimes = np.zeros(shape=n_bs)\n",
    "for i in range(n_bs):\n",
    "    x_resamp = rng.choice(x, size=len(x))\n",
    "    _, lifetime = sp.stats.expon.fit(x_resamp, floc=0)\n",
    "    resampled_lifetimes[i] = lifetime\n",
    "\n",
    "# 2-sigma confidence intervals\n",
    "lifetime_lower = np.quantile(resampled_lifetimes, 0.025)\n",
    "lifetime_upper = np.quantile(resampled_lifetimes, 0.975)\n",
    "\n",
    "print(lifetime_lower, best_lifetime, lifetime_upper)"
   ]
  },
  {
   "cell_type": "code",
   "execution_count": 42,
   "metadata": {},
   "outputs": [
    {
     "name": "stdout",
     "output_type": "stream",
     "text": [
      "**********\n",
      "9547 10000\n"
     ]
    }
   ],
   "source": [
    "successes = 0\n",
    "successes2 = 0\n",
    "\n",
    "for ii in range(1,10001):\n",
    "    if (ii % 1000 == 0): print('*', end='')\n",
    "    residual_error = np.zeros(Hx.shape[1], dtype=int)\n",
    "\n",
    "    success = 1\n",
    "    success2 = 1\n",
    "    for jj in range(1):\n",
    "        new_qubit_error = np.random.choice([0, 1], size=Hx.shape[1], p=[1-qubit_error_rate, qubit_error_rate])\n",
    "        new_synd_error = np.random.choice([0, 1], size=Hx.shape[0], p=[1-meas_error_rate, meas_error_rate])\n",
    "        curr_qubit_error = residual_error ^ new_qubit_error\n",
    "        curr_synd = ((Hx @ curr_qubit_error) % 2) ^ new_synd_error\n",
    "\n",
    "        # QEC\n",
    "        guessed_error = bposd_qec_dec.decode(curr_synd)\n",
    "\n",
    "        # QED + QEC\n",
    "        # initial_guess = bp_qed_dec.decode(curr_synd[:100])\n",
    "\n",
    "        # ########################\n",
    "        # # new_channel_probs = np.exp(-bp_qed_dec.log_prob_ratios) # THIS MIGHT NEED TO CHANGE SLIGHTLY\n",
    "        # # new_channel_probs = new_channel_probs / np.sum(new_channel_probs)\n",
    "        # new_channel_probs = 1 / (np.exp(bp_qed_dec.log_prob_ratios) + 1)\n",
    "        # # new_channel_probs = new_channel_probs / np.sum(new_channel_probs)\n",
    "        # # new_channel_probs[400:] = meas_error_rate\n",
    "        # bp_qed_qec_dec.update_channel_probs(new_channel_probs)\n",
    "        # ########################\n",
    "\n",
    "        # updated_synd = curr_synd.copy()\n",
    "        # # updated_synd[get_overlapping(curr_synd[:100], True, True)] = 0\n",
    "\n",
    "        # guessed_error2 = bp_qed_qec_dec.decode(updated_synd)\n",
    "\n",
    "        residual_error = curr_qubit_error ^ guessed_error\n",
    "        # residual_error2 = curr_qubit_error ^ guessed_error2\n",
    "\n",
    "\n",
    "    # print()\n",
    "    obs = [np.count_nonzero(residual_error[l]) % 2 for l in zL_inds]\n",
    "    # obs2 = [np.count_nonzero(residual_error2[l]) % 2 for l in zL_inds]\n",
    "\n",
    "    # if np.any(obs2):\n",
    "    #     success2 = 0\n",
    "    if np.any(obs):\n",
    "        success = 0\n",
    "\n",
    "    successes += success\n",
    "    successes2 += success2\n",
    "\n",
    "print()\n",
    "print(successes, successes2)"
   ]
  },
  {
   "cell_type": "code",
   "execution_count": 57,
   "metadata": {},
   "outputs": [],
   "source": [
    "H = np.array([[0,0,0,0,0,0,0,0,0,0,0,0,0,1,0,0,0,0,0,0,0,1,0,0,0,0,0,0,0,1,0,0,0,0,0,0,0,1,0,0],\n",
    "[1,0,0,1,0,0,0,0,0,0,0,0,0,0,0,0,0,0,0,0,0,0,0,1,0,0,0,0,0,0,0,0,0,0,0,0,0,0,0,1],\n",
    "[0,1,0,0,0,0,1,0,0,0,0,0,0,0,0,0,0,0,0,0,0,1,0,0,0,0,0,0,0,0,0,0,0,0,0,0,0,0,1,0],\n",
    "[0,0,0,0,1,0,0,0,0,0,0,0,0,0,0,0,0,0,0,0,0,0,0,0,0,0,1,1,0,0,0,0,0,0,1,0,0,0,0,0],\n",
    "[1,0,0,0,0,0,0,0,0,0,0,0,0,0,0,0,1,0,0,0,0,0,1,0,0,0,0,0,0,0,0,0,1,0,0,0,0,0,0,0],\n",
    "[0,0,0,0,0,0,0,0,0,0,0,0,0,1,0,0,0,0,0,0,0,0,0,1,0,0,0,0,0,0,1,0,0,0,0,1,0,0,0,0],\n",
    "[0,0,1,0,0,0,0,0,0,0,0,1,1,0,0,1,0,0,0,0,0,0,0,0,0,0,0,0,0,0,0,0,0,0,0,0,0,0,0,0],\n",
    "[0,0,0,0,0,0,0,1,0,0,0,1,0,0,0,0,1,0,0,1,0,0,0,0,0,0,0,0,0,0,0,0,0,0,0,0,0,0,0,0],\n",
    "[0,0,1,0,0,0,0,0,1,0,0,0,0,0,0,0,0,1,0,0,0,0,0,0,0,0,0,0,0,0,0,0,0,0,1,0,0,0,0,0],\n",
    "[0,0,0,0,0,0,0,0,1,0,1,0,0,0,0,0,0,0,0,0,0,0,0,0,0,0,0,0,0,1,0,1,0,0,0,0,0,0,0,0],\n",
    "[0,0,0,0,0,0,0,0,0,0,0,0,0,0,0,0,0,0,1,0,0,0,0,0,0,1,1,0,0,0,0,0,1,0,0,0,0,0,0,0],\n",
    "[0,0,0,1,0,0,0,0,0,0,0,0,0,0,0,0,0,0,1,0,0,0,0,0,0,0,0,0,0,0,0,0,0,0,0,0,1,1,0,0],\n",
    "[0,0,0,0,0,0,0,0,0,0,0,0,0,0,0,1,0,0,0,0,1,0,0,0,0,0,0,1,0,0,1,0,0,0,0,0,0,0,0,0],\n",
    "[0,0,0,0,0,1,0,0,0,0,1,0,0,0,1,0,0,0,0,0,0,0,0,0,0,0,0,0,0,0,0,0,0,0,0,1,0,0,0,0],\n",
    "[0,0,0,0,0,0,1,0,0,0,0,0,0,0,0,0,0,0,0,0,0,0,0,1,0,0,0,0,1,0,0,0,0,0,1,0,0,0,0,0],\n",
    "[0,0,0,0,0,0,0,0,0,0,0,0,1,1,0,0,0,0,0,0,0,0,0,0,1,0,0,0,0,0,0,0,1,0,0,0,0,0,0,0],\n",
    "[0,0,0,0,0,0,0,1,0,0,0,0,0,0,0,0,0,0,0,0,0,0,0,0,0,1,0,0,0,0,0,0,0,0,0,1,0,0,1,0],\n",
    "[0,0,1,0,0,0,0,0,0,0,0,0,0,0,0,0,0,0,0,0,0,0,0,0,0,1,0,0,0,0,0,0,0,1,0,0,0,0,0,1],\n",
    "[0,0,0,1,0,0,0,1,1,0,0,0,0,0,0,0,0,0,0,0,1,0,0,0,0,0,0,0,0,0,0,0,0,0,0,0,0,0,0,0],\n",
    "[0,1,0,0,1,0,0,0,0,0,0,0,0,0,0,0,0,0,0,1,0,0,0,0,0,0,0,0,0,0,0,0,0,0,0,0,0,0,0,1],\n",
    "[0,0,0,0,1,1,0,0,0,0,0,0,0,0,0,0,0,0,0,0,0,0,1,0,0,0,0,0,0,0,0,0,0,0,0,0,0,1,0,0],\n",
    "[0,0,0,0,0,0,0,0,0,0,0,0,0,0,1,0,1,1,0,0,0,1,0,0,0,0,0,0,0,0,0,0,0,0,0,0,0,0,0,0],\n",
    "[0,0,0,0,0,0,0,0,0,1,0,1,0,0,0,0,0,0,0,0,0,0,0,0,0,0,1,0,0,1,0,0,0,0,0,0,0,0,0,0],\n",
    "[1,0,0,0,0,0,0,0,0,0,0,0,0,0,0,0,0,0,0,0,0,0,0,0,0,0,0,1,0,0,0,1,0,0,0,0,0,0,1,0],\n",
    "[0,1,0,0,0,0,0,0,0,0,1,0,1,0,0,0,0,0,0,0,0,0,0,0,0,0,0,0,1,0,0,0,0,0,0,0,0,0,0,0],\n",
    "[0,0,0,0,0,1,1,0,0,0,0,0,0,0,0,1,0,0,1,0,0,0,0,0,0,0,0,0,0,0,0,0,0,0,0,0,0,0,0,0],\n",
    "[0,0,0,0,0,0,0,0,0,0,0,0,0,0,0,0,0,0,0,1,0,0,0,0,1,0,0,0,0,0,0,1,0,0,0,0,1,0,0,0],\n",
    "[0,0,0,0,0,0,0,0,0,1,0,0,0,0,0,0,0,0,0,0,0,0,1,0,0,0,0,0,1,0,0,0,0,1,0,0,0,0,0,0],\n",
    "[0,0,0,0,0,0,0,0,0,0,0,0,0,0,1,0,0,0,0,0,1,0,0,0,1,0,0,0,0,0,0,0,0,1,0,0,0,0,0,0],\n",
    "[0,0,0,0,0,0,0,0,0,1,0,0,0,0,0,0,0,1,0,0,0,0,0,0,0,0,0,0,0,0,1,0,0,0,0,0,1,0,0,0]])\n",
    "\n",
    "m,n = H.shape\n",
    "\n",
    "f_name = f'./codes/ccodes/{n}_{m}_{3}_{4}.code'\n",
    "\n",
    "bit_nbhd = []\n",
    "for bit in range(n):\n",
    "    checks = np.where(H[:, bit])[0]\n",
    "    bit_nbhd.append(checks)\n",
    "\n",
    "check_nbhd = []\n",
    "for check in range(m):\n",
    "    bits = np.where(H[check])[0]\n",
    "    check_nbhd.append(bits)\n",
    "\n",
    "ccode = ClassicalCode(n, m, 3, 4, bit_nbhd, check_nbhd)\n",
    "write_code(f_name, ccode)"
   ]
  },
  {
   "cell_type": "code",
   "execution_count": null,
   "metadata": {},
   "outputs": [],
   "source": []
  }
 ],
 "metadata": {
  "kernelspec": {
   "display_name": "qc",
   "language": "python",
   "name": "python3"
  },
  "language_info": {
   "codemirror_mode": {
    "name": "ipython",
    "version": 3
   },
   "file_extension": ".py",
   "mimetype": "text/x-python",
   "name": "python",
   "nbconvert_exporter": "python",
   "pygments_lexer": "ipython3",
   "version": "3.8.18"
  }
 },
 "nbformat": 4,
 "nbformat_minor": 2
}
