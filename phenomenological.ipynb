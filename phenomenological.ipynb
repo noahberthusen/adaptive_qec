{
 "cells": [
  {
   "cell_type": "code",
   "execution_count": 1,
   "metadata": {},
   "outputs": [],
   "source": [
    "import numpy as np\n",
    "import matplotlib.pyplot as plt\n",
    "import galois\n",
    "import itertools\n",
    "from classical_code import *\n",
    "from quantum_code import *\n",
    "from utils import get_logicals\n",
    "import stim\n",
    "from scipy.sparse import lil_matrix\n",
    "import scipy as sp\n",
    "from ldpc import bposd_decoder, bp_decoder\n",
    "from tqdm import tqdm\n",
    "from result_lifetime import Result, save_new_res\n",
    "# %load_ext snakeviz"
   ]
  },
  {
   "cell_type": "code",
   "execution_count": 51,
   "metadata": {},
   "outputs": [
    {
     "data": {
      "text/plain": [
       "<matplotlib.image.AxesImage at 0x27830d7beb0>"
      ]
     },
     "execution_count": 51,
     "metadata": {},
     "output_type": "execute_result"
    },
    {
     "data": {
      "image/png": "[encoded data removed]",
      "text/plain": [
       "<Figure size 986.301x480 with 1 Axes>"
      ]
     },
     "metadata": {},
     "output_type": "display_data"
    }
   ],
   "source": [
    "qcode = read_qcode(\"./codes/qcodes/HGP_C422_900_18.qcode\")\n",
    "qcode = read_qcode(\"./codes/qcodes/HGP_C642_600_16.qcode\")\n",
    "\n",
    "# qcode = read_qcode(\"./codes/qcodes/HGP_900_36.qcode\")\n",
    "\n",
    "# qcode = read_qcode(\"./codes/qcodes/HGP_Surface_1300_4.qcode\")\n",
    "\n",
    "Hx, Hz, Lx, Lz = qcode.to_numpy()\n",
    "\n",
    "plt.matshow(Hx)"
   ]
  },
  {
   "cell_type": "code",
   "execution_count": 52,
   "metadata": {},
   "outputs": [],
   "source": [
    "overlapping_x_generators = np.empty(qcode.qedxm, dtype=object)\n",
    "for i in range(qcode.qedxm):\n",
    "    tmp = np.array([], dtype=int)\n",
    "    for j in range(qcode.qedxm,qcode.xm):\n",
    "        if np.any(Hx[i] & Hx[j]): tmp = np.append(tmp, j)\n",
    "    overlapping_x_generators[i] = tmp\n",
    "\n",
    "overlapping_z_generators = np.empty(qcode.qedxm, dtype=object)\n",
    "# for i in range(concatenatedStabilizersQED.shape[0]):\n",
    "#     tmp = np.array([], dtype=int)\n",
    "#     for j in range(concatenatedStabilizersZQEC.shape[0]):\n",
    "#         if np.any(concatenatedStabilizersQED[i] & concatenatedStabilizersZQEC[j]): tmp = np.append(tmp, j+concatenatedStabilizersQED.shape[0])\n",
    "#     overlapping_z_generators[i] = tmp\n",
    "\n",
    "def get_overlapping(measurements, gen_type=False, not_overlapping=False):\n",
    "    overlapping_generators = overlapping_x_generators if gen_type else overlapping_z_generators\n",
    "    gens_to_measure = set()\n",
    "    for g in np.where(measurements)[0]:\n",
    "        gens_to_measure |= set(overlapping_generators[g])\n",
    "\n",
    "    if not_overlapping:\n",
    "        return np.array(list(set(np.arange(qcode.qedxm,qcode.xm)) ^ gens_to_measure))\n",
    "    else:\n",
    "        return np.array(list(gens_to_measure))"
   ]
  },
  {
   "cell_type": "code",
   "execution_count": 142,
   "metadata": {},
   "outputs": [],
   "source": [
    "qubit_error_rate = 0.001\n",
    "meas_error_rate = 0.001\n",
    "\n",
    "if (qcode.qedxm):\n",
    "    bp_qed_dec = bp_decoder(\n",
    "        Hx[:qcode.qedxm], # the parity check matrix\n",
    "        error_rate=qubit_error_rate,\n",
    "        # channel_probs=new_channel_probs, #assign error_rate to each qubit. This will override \"error_rate\" input variable\n",
    "        max_iter=100, #pcm.shape[1], #the maximum number of iterations for BP)\n",
    "        bp_method=\"msl\",\n",
    "        ms_scaling_factor=0, #min sum scaling factor. If set to zero the variable scaling factor method is used\n",
    "        # osd_method=\"osd0\", #the OSD method. Choose from:  1) \"osd_e\", \"osd_cs\", \"osd0\"\n",
    "        # osd_order=40 #the osd search depth\n",
    "    )\n",
    "\n",
    "bposd_qed_qec_dec = bposd_decoder(\n",
    "    Hx,\n",
    "    error_rate=qubit_error_rate,\n",
    "    bp_method=\"msl\",\n",
    "    max_iter=Hx.shape[1],\n",
    "    ms_scaling_factor=0, #min sum scaling factor. If set to zero the variable scaling factor method is used\n",
    "    osd_method=\"osd0\", #the OSD method. Choose from:  1) \"osd_e\", \"osd_cs\", \"osd0\"\n",
    "    # osd_order=40 #the osd search depth\n",
    ")\n",
    "\n",
    "bposd_qec_dec = bposd_decoder(\n",
    "    Hx,\n",
    "    error_rate=qubit_error_rate,\n",
    "    # channel_probs=Hx.shape[1]*[qubit_error_rate],\n",
    "    bp_method=\"msl\",\n",
    "    max_iter=Hx.shape[1],\n",
    "    ms_scaling_factor=0, #min sum scaling factor. If set to zero the variable scaling factor method is used\n",
    "    osd_method=\"osd0\", #the OSD method. Choose from:  1) \"osd_e\", \"osd_cs\", \"osd0\"\n",
    "    # osd_order=4 #the osd search depth\n",
    ")"
   ]
  },
  {
   "cell_type": "code",
   "execution_count": 145,
   "metadata": {},
   "outputs": [
    {
     "name": "stderr",
     "output_type": "stream",
     "text": [
      "  6%|▋         | 63/1000 [01:18<19:29,  1.25s/it]\n"
     ]
    },
    {
     "ename": "KeyboardInterrupt",
     "evalue": "",
     "output_type": "error",
     "traceback": [
      "\u001b[1;31m---------------------------------------------------------------------------\u001b[0m",
      "\u001b[1;31mKeyboardInterrupt\u001b[0m                         Traceback (most recent call last)",
      "Cell \u001b[1;32mIn[145], line 46\u001b[0m\n\u001b[0;32m     43\u001b[0m ideal_correction \u001b[38;5;241m=\u001b[39m bposd_qec_dec\u001b[38;5;241m.\u001b[39mdecode((Hx \u001b[38;5;241m@\u001b[39m residual_error) \u001b[38;5;241m%\u001b[39m \u001b[38;5;241m2\u001b[39m)\n\u001b[0;32m     45\u001b[0m \u001b[38;5;66;03m# obs = [np.count_nonzero(residual_error[l]) % 2 for l in zL_inds]\u001b[39;00m\n\u001b[1;32m---> 46\u001b[0m obs \u001b[38;5;241m=\u001b[39m [np\u001b[38;5;241m.\u001b[39mcount_nonzero((ideal_correction \u001b[38;5;241m^\u001b[39m residual_error)[l]) \u001b[38;5;241m%\u001b[39m \u001b[38;5;241m2\u001b[39m \u001b[38;5;28;01mfor\u001b[39;00m l \u001b[38;5;129;01min\u001b[39;00m qcode\u001b[38;5;241m.\u001b[39mLz]\n\u001b[0;32m     48\u001b[0m \u001b[38;5;28;01mif\u001b[39;00m np\u001b[38;5;241m.\u001b[39many(obs):\n\u001b[0;32m     49\u001b[0m     \u001b[38;5;28;01mbreak\u001b[39;00m\n",
      "Cell \u001b[1;32mIn[145], line 46\u001b[0m, in \u001b[0;36m<listcomp>\u001b[1;34m(.0)\u001b[0m\n\u001b[0;32m     43\u001b[0m ideal_correction \u001b[38;5;241m=\u001b[39m bposd_qec_dec\u001b[38;5;241m.\u001b[39mdecode((Hx \u001b[38;5;241m@\u001b[39m residual_error) \u001b[38;5;241m%\u001b[39m \u001b[38;5;241m2\u001b[39m)\n\u001b[0;32m     45\u001b[0m \u001b[38;5;66;03m# obs = [np.count_nonzero(residual_error[l]) % 2 for l in zL_inds]\u001b[39;00m\n\u001b[1;32m---> 46\u001b[0m obs \u001b[38;5;241m=\u001b[39m [np\u001b[38;5;241m.\u001b[39mcount_nonzero((\u001b[43mideal_correction\u001b[49m\u001b[43m \u001b[49m\u001b[38;5;241;43m^\u001b[39;49m\u001b[43m \u001b[49m\u001b[43mresidual_error\u001b[49m)[l]) \u001b[38;5;241m%\u001b[39m \u001b[38;5;241m2\u001b[39m \u001b[38;5;28;01mfor\u001b[39;00m l \u001b[38;5;129;01min\u001b[39;00m qcode\u001b[38;5;241m.\u001b[39mLz]\n\u001b[0;32m     48\u001b[0m \u001b[38;5;28;01mif\u001b[39;00m np\u001b[38;5;241m.\u001b[39many(obs):\n\u001b[0;32m     49\u001b[0m     \u001b[38;5;28;01mbreak\u001b[39;00m\n",
      "\u001b[1;31mKeyboardInterrupt\u001b[0m: "
     ]
    }
   ],
   "source": [
    "concat = 0\n",
    "adaptive = 0\n",
    "\n",
    "# num_gens_measured = []\n",
    "\n",
    "rs = []\n",
    "tmp = []\n",
    "for ii in tqdm(range(1,1001)):\n",
    "    num_rounds = 0\n",
    "    residual_error = np.zeros(Hx.shape[1], dtype=int)\n",
    "\n",
    "    while True:\n",
    "        num_rounds += 1\n",
    "        new_qubit_error = np.random.choice([0, 1], size=Hx.shape[1], p=[1-qubit_error_rate, qubit_error_rate])\n",
    "        new_synd_error = np.random.choice([0, 1], size=Hx.shape[0], p=[1-meas_error_rate, meas_error_rate])\n",
    "        curr_qubit_error = residual_error ^ new_qubit_error\n",
    "        curr_synd = ((Hx @ curr_qubit_error) % 2) ^ new_synd_error\n",
    "\n",
    "        # QEC\n",
    "        if (concat == 0 and adaptive == 0):\n",
    "            guessed_error = bposd_qec_dec.decode(curr_synd)\n",
    "        elif (concat == 1):\n",
    "            # QED + QEC\n",
    "            _ = bp_qed_dec.decode(curr_synd[:qcode.qedxm])\n",
    "\n",
    "            ######################## # THIS MIGHT NEED TO CHANGE SLIGHTLY, SOFT INFORMATION DECODING\n",
    "            # new_channel_probs = np.exp(-bp_qed_dec.log_prob_ratios)\n",
    "            new_channel_probs = 1 / (np.exp(bp_qed_dec.log_prob_ratios) + 1)\n",
    "            new_channel_probs = new_channel_probs / np.sum(new_channel_probs) / num_rounds\n",
    "            # new_channel_probs[400:] = meas_error_rate\n",
    "            bposd_qed_qec_dec.update_channel_probs(new_channel_probs)\n",
    "            ########################\n",
    "\n",
    "            updated_synd = curr_synd.copy()\n",
    "            if (adaptive == 1):\n",
    "                non_overlapping_gens = get_overlapping(curr_synd[:qcode.qedxm], True, True)\n",
    "                # num_gens_measured.append(qcode.xm - len(non_overlapping_gens))\n",
    "                updated_synd[non_overlapping_gens] = 0\n",
    "\n",
    "            guessed_error = bposd_qed_qec_dec.decode(updated_synd)\n",
    "\n",
    "        residual_error = curr_qubit_error ^ guessed_error\n",
    "        ideal_correction = bposd_qec_dec.decode((Hx @ residual_error) % 2)\n",
    "\n",
    "        # obs = [np.count_nonzero(residual_error[l]) % 2 for l in zL_inds]\n",
    "        obs = [np.count_nonzero((ideal_correction ^ residual_error)[l]) % 2 for l in qcode.Lz]\n",
    "\n",
    "        if np.any(obs):\n",
    "            break\n",
    "\n",
    "    res = Result(concat, adaptive, qcode.n, qcode.k, qubit_error_rate, meas_error_rate, 1, num_rounds, 0)\n",
    "    rs.append(res)\n",
    "    tmp.append(num_rounds)\n",
    "\n",
    "    if (ii%10==0):\n",
    "        save_new_res('tmp.res', rs)\n",
    "        rs = []\n",
    "print(np.mean(tmp))"
   ]
  },
  {
   "cell_type": "code",
   "execution_count": 141,
   "metadata": {},
   "outputs": [
    {
     "data": {
      "image/png": "[encoded data removed]",
      "text/plain": [
       "<Figure size 640x480 with 1 Axes>"
      ]
     },
     "metadata": {},
     "output_type": "display_data"
    },
    {
     "name": "stdout",
     "output_type": "stream",
     "text": [
      "105.15714285714286\n"
     ]
    }
   ],
   "source": [
    "x = tmp\n",
    "_, best_lifetime = sp.stats.expon.fit(x, floc=0)\n",
    "\n",
    "x_interp = np.linspace(min(x), max(x), 100)\n",
    "plt.plot(np.sort(x), np.linspace(0, 1, len(x)), 'o', label='data')\n",
    "plt.plot(x_interp, sp.stats.expon.cdf(x_interp, scale=best_lifetime), 'r-', label='Best fit')\n",
    "plt.legend()\n",
    "plt.xlabel('Number of rounds survived')\n",
    "plt.ylabel('CDF')\n",
    "plt.show()\n",
    "\n",
    "print(best_lifetime)"
   ]
  },
  {
   "cell_type": "code",
   "execution_count": 122,
   "metadata": {},
   "outputs": [
    {
     "name": "stdout",
     "output_type": "stream",
     "text": [
      "87.38493975903614 97.78313253012048 106.93092369477911\n"
     ]
    }
   ],
   "source": [
    "# Seed the random number generator.\n",
    "rng = np.random.default_rng(0)\n",
    "\n",
    "# Number of boostrap resampling fits.\n",
    "n_bs = 100\n",
    "\n",
    "resampled_lifetimes = np.zeros(shape=n_bs)\n",
    "for i in range(n_bs):\n",
    "    x_resamp = rng.choice(x, size=len(x))\n",
    "    _, lifetime = sp.stats.expon.fit(x_resamp, floc=0)\n",
    "    resampled_lifetimes[i] = lifetime\n",
    "\n",
    "# 2-sigma confidence intervals\n",
    "lifetime_lower = np.quantile(resampled_lifetimes, 0.025)\n",
    "lifetime_upper = np.quantile(resampled_lifetimes, 0.975)\n",
    "\n",
    "print(lifetime_lower, best_lifetime, lifetime_upper)"
   ]
  },
  {
   "cell_type": "code",
   "execution_count": 91,
   "metadata": {},
   "outputs": [
    {
     "name": "stdout",
     "output_type": "stream",
     "text": [
      "**********\n",
      "9215 9195\n"
     ]
    }
   ],
   "source": [
    "successes = 0\n",
    "successes2 = 0\n",
    "\n",
    "for ii in range(1,10001):\n",
    "    if (ii % 1000 == 0): print('*', end='')\n",
    "    residual_error = np.zeros(Hx.shape[1], dtype=int)\n",
    "\n",
    "    success = 1\n",
    "    success2 = 1\n",
    "    for jj in range(2):\n",
    "        new_qubit_error = np.random.choice([0, 1], size=Hx.shape[1], p=[1-qubit_error_rate, qubit_error_rate])\n",
    "        new_synd_error = np.random.choice([0, 1], size=Hx.shape[0], p=[1-meas_error_rate, meas_error_rate])\n",
    "        curr_qubit_error = residual_error ^ new_qubit_error\n",
    "        curr_synd = ((Hx @ curr_qubit_error) % 2) ^ new_synd_error\n",
    "\n",
    "        # QEC\n",
    "        guessed_error = bposd_qec_dec.decode(curr_synd)\n",
    "\n",
    "        # QED + QEC\n",
    "        initial_guess = bp_qed_dec.decode(curr_synd[:100])\n",
    "\n",
    "        # ########################\n",
    "        # new_channel_probs = np.exp(-bp_qed_dec.log_prob_ratios) # THIS MIGHT NEED TO CHANGE SLIGHTLY\n",
    "        # new_channel_probs = new_channel_probs / np.sum(new_channel_probs)\n",
    "        new_channel_probs = 1 / (np.exp(bp_qed_dec.log_prob_ratios) + 1)\n",
    "        new_channel_probs = new_channel_probs / np.sum(new_channel_probs)\n",
    "        # new_channel_probs[400:] = meas_error_rate\n",
    "        bposd_qed_qec_dec.update_channel_probs(new_channel_probs)\n",
    "        # ########################\n",
    "\n",
    "        updated_synd = curr_synd.copy()\n",
    "        updated_synd[get_overlapping(curr_synd[:qcode.qedxm], True, True)] = 0\n",
    "\n",
    "        guessed_error2 = bposd_qed_qec_dec.decode(updated_synd)\n",
    "\n",
    "        residual_error = curr_qubit_error ^ guessed_error\n",
    "        residual_error2 = curr_qubit_error ^ guessed_error2\n",
    "\n",
    "\n",
    "    # print()\n",
    "    obs = [np.count_nonzero(residual_error[l]) % 2 for l in qcode.Lz]\n",
    "    obs2 = [np.count_nonzero(residual_error2[l]) % 2 for l in qcode.Lz]\n",
    "\n",
    "    if np.any(obs2):\n",
    "        success2 = 0\n",
    "    if np.any(obs):\n",
    "        success = 0\n",
    "\n",
    "    successes += success\n",
    "    successes2 += success2\n",
    "\n",
    "print()\n",
    "print(successes, successes2)"
   ]
  },
  {
   "cell_type": "code",
   "execution_count": 74,
   "metadata": {},
   "outputs": [
    {
     "name": "stdout",
     "output_type": "stream",
     "text": [
      "(array([], dtype=int64),)\n"
     ]
    }
   ],
   "source": [
    "residual_error = np.zeros(Hx.shape[1], dtype=int)\n",
    "\n",
    "new_qubit_error = np.random.choice([0, 1], size=Hx.shape[1], p=[1-qubit_error_rate, qubit_error_rate])\n",
    "new_synd_error = np.random.choice([0, 1], size=Hx.shape[0], p=[1-meas_error_rate, meas_error_rate])\n",
    "curr_qubit_error = residual_error ^ new_qubit_error\n",
    "curr_synd = ((Hx @ curr_qubit_error) % 2) ^ new_synd_error\n",
    "\n",
    "print(np.where(curr_qubit_error))\n",
    "# QEC\n",
    "# guessed_error = bposd_qec_dec.decode(curr_synd)\n",
    "\n",
    "# QED + QEC\n",
    "initial_guess = bp_qed_dec.decode(curr_synd[:qcode.qedxm])\n",
    "\n",
    "# ########################\n",
    "# # new_channel_probs = np.exp(-bp_qed_dec.log_prob_ratios) # THIS MIGHT NEED TO CHANGE SLIGHTLY\n",
    "# # new_channel_probs = new_channel_probs / np.sum(new_channel_probs)\n",
    "# new_channel_probs = 1 / (np.exp(bp_qed_dec.log_prob_ratios) + 1)\n",
    "# # new_channel_probs = new_channel_probs / np.sum(new_channel_probs)\n",
    "# # new_channel_probs[400:] = meas_error_rate\n",
    "# bp_qed_qec_dec.update_channel_probs(new_channel_probs)"
   ]
  },
  {
   "cell_type": "code",
   "execution_count": 75,
   "metadata": {},
   "outputs": [
    {
     "data": {
      "text/plain": [
       "[<matplotlib.lines.Line2D at 0x278328861c0>]"
      ]
     },
     "execution_count": 75,
     "metadata": {},
     "output_type": "execute_result"
    },
    {
     "data": {
      "image/png": "[encoded data removed]",
      "text/plain": [
       "<Figure size 640x480 with 1 Axes>"
      ]
     },
     "metadata": {},
     "output_type": "display_data"
    }
   ],
   "source": [
    "new_channel_probs = 1 / (np.exp(bp_qed_dec.log_prob_ratios) + 1)\n",
    "new_channel_probs = new_channel_probs / np.sum(new_channel_probs)\n",
    "plt.plot(new_channel_probs)"
   ]
  },
  {
   "cell_type": "code",
   "execution_count": null,
   "metadata": {},
   "outputs": [],
   "source": []
  }
 ],
 "metadata": {
  "kernelspec": {
   "display_name": "qc",
   "language": "python",
   "name": "python3"
  },
  "language_info": {
   "codemirror_mode": {
    "name": "ipython",
    "version": 3
   },
   "file_extension": ".py",
   "mimetype": "text/x-python",
   "name": "python",
   "nbconvert_exporter": "python",
   "pygments_lexer": "ipython3",
   "version": "3.8.18"
  }
 },
 "nbformat": 4,
 "nbformat_minor": 2
}
