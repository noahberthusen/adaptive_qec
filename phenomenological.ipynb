{
 "cells": [
  {
   "cell_type": "code",
   "execution_count": 1,
   "metadata": {},
   "outputs": [],
   "source": [
    "import numpy as np\n",
    "import matplotlib.pyplot as plt\n",
    "import galois\n",
    "import itertools\n",
    "from classical_code import *\n",
    "from quantum_code import *\n",
    "from utils import get_logicals\n",
    "import stim\n",
    "from scipy.sparse import lil_matrix\n",
    "import scipy as sp\n",
    "from ldpc import bposd_decoder, bp_decoder\n",
    "from tqdm import tqdm\n",
    "from result_lifetime import Result, save_new_res\n",
    "# %load_ext snakeviz"
   ]
  },
  {
   "cell_type": "code",
   "execution_count": 2,
   "metadata": {},
   "outputs": [
    {
     "name": "stdout",
     "output_type": "stream",
     "text": [
      "[[0 0 1 0 0 0 0 1 1 0 0 0 0 0 0 1]\n",
      " [0 0 0 1 0 0 0 0 0 0 1 0 1 0 0 1]\n",
      " [1 0 0 1 0 1 0 0 0 0 0 0 1 0 0 0]\n",
      " [1 0 0 0 0 0 1 0 1 0 0 0 0 1 0 0]\n",
      " [0 1 0 0 0 1 0 0 0 1 0 0 0 1 0 0]\n",
      " [0 0 0 0 0 0 1 1 0 0 0 0 1 0 1 0]\n",
      " [0 1 0 0 0 1 0 0 0 1 0 0 0 0 0 1]\n",
      " [0 0 0 0 1 0 0 0 1 0 1 1 0 0 0 0]\n",
      " [0 0 1 1 0 0 1 0 0 1 0 0 0 0 0 0]\n",
      " [1 0 1 0 1 0 0 0 0 0 1 0 0 0 0 0]\n",
      " [0 1 0 0 0 0 0 1 0 0 0 1 0 0 1 0]\n",
      " [0 0 0 0 1 0 0 0 0 0 0 1 0 1 1 0]]\n",
      "4\n"
     ]
    }
   ],
   "source": [
    "GF = galois.GF(2)\n",
    "ccode = read_code(\"./codes/ccodes/16_12_3_4.code\")\n",
    "H = np.zeros((ccode.m, ccode.n), dtype=int)\n",
    "for i in range(ccode.m):\n",
    "    for j in range(ccode.n):\n",
    "        if (j in ccode.check_nbhd[i]):\n",
    "            H[i][j] = 1\n",
    "dim0, dim1 = H.shape\n",
    "print(H)\n",
    "print(dim1 - np.linalg.matrix_rank(GF(H)))"
   ]
  },
  {
   "cell_type": "code",
   "execution_count": 3,
   "metadata": {},
   "outputs": [],
   "source": [
    "I1 = np.eye(dim1, dtype=int)\n",
    "I0 = np.eye(dim0, dtype=int)\n",
    "\n",
    "dE21 = np.kron(H, I0)\n",
    "dE22 = np.kron(I1, H.T)\n",
    "dE2 = np.vstack([dE21, dE22])\n",
    "Hz = dE2.T\n",
    "\n",
    "dE11 = np.kron(I0, H.T)\n",
    "dE12 = np.kron(H, I1)\n",
    "dE1 = np.hstack([dE11, dE12])\n",
    "Hx = dE1\n",
    "\n",
    "m, n = Hx.shape\n",
    "\n",
    "k, Hx_inds, Hz_inds, xL_inds, zL_inds = format_qcode(Hx, Hz)\n",
    "qcode = QuantumCode(n, k, Hx.shape[0], Hz.shape[0], 0, 0, Hx_inds, Hz_inds, xL_inds, zL_inds)\n",
    "write_qcode(f\"./codes/qcodes/HGP_{n}_{k}.qcode\", qcode)"
   ]
  },
  {
   "cell_type": "code",
   "execution_count": 10,
   "metadata": {},
   "outputs": [
    {
     "name": "stdout",
     "output_type": "stream",
     "text": [
      "(196, 400)\n"
     ]
    },
    {
     "data": {
      "text/plain": [
       "<matplotlib.image.AxesImage at 0x214093230a0>"
      ]
     },
     "execution_count": 10,
     "metadata": {},
     "output_type": "execute_result"
    },
    {
     "data": {
      "image/png": "[encoded data removed]",
      "text/plain": [
       "<Figure size 979.592x480 with 1 Axes>"
      ]
     },
     "metadata": {},
     "output_type": "display_data"
    }
   ],
   "source": [
    "Hx = np.loadtxt(\"codes/Hx.txt\", dtype=int)\n",
    "Hz = np.loadtxt(\"codes/Hz.txt\", dtype=int)\n",
    "m, n = Hx.shape\n",
    "\n",
    "k, Hx_inds, Hz_inds, xL_inds, zL_inds = format_qcode(Hx, Hz)\n",
    "\n",
    "# Hx = np.hstack([Hx, np.eye(Hx.shape[0], dtype=int)])\n",
    "\n",
    "# qcode = QuantumCode(n, k, Hx.shape[0], Hz.shape[0], 100, 100, Hx_inds, Hz_inds, xL_inds, zL_inds)\n",
    "# write_qcode(f\"./codes/qcodes/HGP_C422_{n}_{k}.qcode\", qcode)\n",
    "\n",
    "\n",
    "print(Hz.shape)\n",
    "plt.matshow(Hx)"
   ]
  },
  {
   "cell_type": "code",
   "execution_count": 11,
   "metadata": {},
   "outputs": [],
   "source": [
    "overlapping_x_generators = np.empty(100, dtype=object)\n",
    "for i in range(100):\n",
    "    tmp = np.array([], dtype=int)\n",
    "    for j in range(100,196):\n",
    "        if np.any(Hx[i] & Hx[j]): tmp = np.append(tmp, j)\n",
    "    overlapping_x_generators[i] = tmp\n",
    "\n",
    "overlapping_z_generators = np.empty(100, dtype=object)\n",
    "# for i in range(concatenatedStabilizersQED.shape[0]):\n",
    "#     tmp = np.array([], dtype=int)\n",
    "#     for j in range(concatenatedStabilizersZQEC.shape[0]):\n",
    "#         if np.any(concatenatedStabilizersQED[i] & concatenatedStabilizersZQEC[j]): tmp = np.append(tmp, j+concatenatedStabilizersQED.shape[0])\n",
    "#     overlapping_z_generators[i] = tmp\n",
    "\n",
    "def get_overlapping(measurements, gen_type=False, not_overlapping=False):\n",
    "    overlapping_generators = overlapping_x_generators if gen_type else overlapping_z_generators\n",
    "    gens_to_measure = set()\n",
    "    for g in np.where(measurements)[0]:\n",
    "        gens_to_measure |= set(overlapping_generators[g])\n",
    "\n",
    "    if not_overlapping:\n",
    "        return np.array(list(set(np.arange(100,196)) ^ gens_to_measure))\n",
    "    else:\n",
    "        return np.array(list(gens_to_measure))"
   ]
  },
  {
   "cell_type": "code",
   "execution_count": 34,
   "metadata": {},
   "outputs": [
    {
     "name": "stdout",
     "output_type": "stream",
     "text": [
      "16\n",
      "16\n"
     ]
    }
   ],
   "source": [
    "zL = get_logicals(Hx, Hz, False)\n",
    "xL = get_logicals(Hx, Hz, True)\n",
    "k = len(xL)\n",
    "\n",
    "xL_inds = [np.where(x)[0] for x in xL]\n",
    "zL_inds = [np.where(z)[0] for z in zL]\n",
    "\n",
    "print(len(xL))\n",
    "print(Hx.shape[1] - np.linalg.matrix_rank(Hx) - np.linalg.matrix_rank(Hz))"
   ]
  },
  {
   "cell_type": "code",
   "execution_count": 74,
   "metadata": {},
   "outputs": [],
   "source": [
    "qubit_error_rate = 0.001\n",
    "meas_error_rate = 0.001\n",
    "\n",
    "bp_qed_dec = bp_decoder(\n",
    "    Hx[:100], # the parity check matrix\n",
    "    error_rate=qubit_error_rate,\n",
    "    # channel_probs=new_channel_probs, #assign error_rate to each qubit. This will override \"error_rate\" input variable\n",
    "    max_iter=100, #pcm.shape[1], #the maximum number of iterations for BP)\n",
    "    bp_method=\"ps\",\n",
    "    # ms_scaling_factor=0, #min sum scaling factor. If set to zero the variable scaling factor method is used\n",
    "    # osd_method=\"osd0\", #the OSD method. Choose from:  1) \"osd_e\", \"osd_cs\", \"osd0\"\n",
    "    # osd_order=40 #the osd search depth\n",
    ")\n",
    "\n",
    "bp_qed_qec_dec = bposd_decoder(\n",
    "    Hx,\n",
    "    error_rate=qubit_error_rate,\n",
    "    bp_method=\"ps\",\n",
    "    max_iter=100,\n",
    "    # ms_scaling_factor=0, #min sum scaling factor. If set to zero the variable scaling factor method is used\n",
    "    osd_method=\"osd0\", #the OSD method. Choose from:  1) \"osd_e\", \"osd_cs\", \"osd0\"\n",
    "    # osd_order=40 #the osd search depth\n",
    ")\n",
    "\n",
    "bp_qec_dec = bposd_decoder(\n",
    "    Hx,\n",
    "    error_rate=qubit_error_rate,\n",
    "    bp_method=\"ps\",\n",
    "    max_iter=100,\n",
    "    # ms_scaling_factor=0, #min sum scaling factor. If set to zero the variable scaling factor method is used\n",
    "    osd_method=\"osd0\", #the OSD method. Choose from:  1) \"osd_e\", \"osd_cs\", \"osd0\"\n",
    "    # osd_order=40 #the osd search depth\n",
    ")"
   ]
  },
  {
   "cell_type": "code",
   "execution_count": 8,
   "metadata": {},
   "outputs": [
    {
     "name": "stdout",
     "output_type": "stream",
     "text": [
      "22.688\n"
     ]
    }
   ],
   "source": [
    "rs = []\n",
    "tmp = []\n",
    "for ii in range(1,1001):\n",
    "    num_rounds = 0\n",
    "    residual_error = np.zeros(Hx.shape[1], dtype=int)\n",
    "\n",
    "    while True:\n",
    "        num_rounds += 1\n",
    "        new_qubit_error = np.random.choice([0, 1], size=Hx.shape[1], p=[1-qubit_error_rate, qubit_error_rate])\n",
    "        new_synd_error = np.random.choice([0, 1], size=Hx.shape[0], p=[1-meas_error_rate, meas_error_rate])\n",
    "        curr_qubit_error = residual_error ^ new_qubit_error\n",
    "        curr_synd = ((Hx @ curr_qubit_error) % 2) ^ new_synd_error\n",
    "\n",
    "        guessed_error = bp_qec_dec.decode(curr_synd)\n",
    "        residual_error = curr_qubit_error ^ guessed_error\n",
    "        # ideal_correction = bposd_dec.decode((Hx @ residual_error) % 2)\n",
    "\n",
    "        obs = [np.count_nonzero(residual_error[l]) % 2 for l in zL_inds]\n",
    "        # obs = [np.count_nonzero((ideal_correction ^ residual_error)[l]) % 2 for l in zL_inds]\n",
    "\n",
    "        if np.any(obs):\n",
    "            break\n",
    "\n",
    "    res = Result(0, 0, n, k, qubit_error_rate, meas_error_rate, 1, num_rounds, 0)\n",
    "    rs.append(res)\n",
    "    tmp.append(num_rounds)\n",
    "\n",
    "    if (ii%100==0):\n",
    "        save_new_res('results/tmp.res', rs)\n",
    "        rs = []\n",
    "print(np.mean(tmp))"
   ]
  },
  {
   "cell_type": "code",
   "execution_count": 9,
   "metadata": {},
   "outputs": [
    {
     "data": {
      "image/png": "[encoded data removed]",
      "text/plain": [
       "<Figure size 640x480 with 1 Axes>"
      ]
     },
     "metadata": {},
     "output_type": "display_data"
    },
    {
     "name": "stdout",
     "output_type": "stream",
     "text": [
      "22.688\n"
     ]
    }
   ],
   "source": [
    "x = tmp\n",
    "_, best_lifetime = sp.stats.expon.fit(x, floc=0)\n",
    "\n",
    "x_interp = np.linspace(min(x), max(x), 100)\n",
    "plt.plot(np.sort(x), np.linspace(0, 1, len(x)), 'o', label='data')\n",
    "plt.plot(x_interp, sp.stats.expon.cdf(x_interp, scale=best_lifetime), 'r-', label='Best fit')\n",
    "plt.legend()\n",
    "plt.xlabel('Number of rounds survived')\n",
    "plt.ylabel('CDF')\n",
    "plt.show()\n",
    "\n",
    "print(best_lifetime)"
   ]
  },
  {
   "cell_type": "code",
   "execution_count": 76,
   "metadata": {},
   "outputs": [
    {
     "name": "stdout",
     "output_type": "stream",
     "text": [
      "**********\n",
      "9614 9980\n"
     ]
    }
   ],
   "source": [
    "successes = 0\n",
    "successes2 = 0\n",
    "\n",
    "for ii in range(1,10001):\n",
    "    if (ii % 1000 == 0): print('*', end='')\n",
    "    residual_error = np.zeros(Hx.shape[1], dtype=int)\n",
    "\n",
    "    success = 1\n",
    "    success2 = 1\n",
    "    for jj in range(1):\n",
    "        new_qubit_error = np.random.choice([0, 1], size=Hx.shape[1], p=[1-qubit_error_rate, qubit_error_rate])\n",
    "        new_synd_error = np.random.choice([0, 1], size=Hx.shape[0], p=[1-meas_error_rate, meas_error_rate])\n",
    "        curr_qubit_error = residual_error ^ new_qubit_error\n",
    "        curr_synd = ((Hx @ curr_qubit_error) % 2) ^ new_synd_error\n",
    "\n",
    "        # QEC\n",
    "        guessed_error = bp_qec_dec.decode(curr_synd)\n",
    "\n",
    "        # QED + QEC\n",
    "        initial_guess = bp_qed_dec.decode(curr_synd[:100])\n",
    "\n",
    "        ########################\n",
    "        # new_channel_probs = np.exp(-bp_qed_dec.log_prob_ratios) # THIS MIGHT NEED TO CHANGE SLIGHTLY\n",
    "        # new_channel_probs = new_channel_probs / np.sum(new_channel_probs)\n",
    "        new_channel_probs = 1 / (np.exp(bp_qed_dec.log_prob_ratios) + 1)\n",
    "        # new_channel_probs = new_channel_probs / np.sum(new_channel_probs)\n",
    "        # new_channel_probs[400:] = meas_error_rate\n",
    "        bp_qed_qec_dec.update_channel_probs(new_channel_probs)\n",
    "        ########################\n",
    "\n",
    "        updated_synd = curr_synd.copy()\n",
    "        updated_synd[get_overlapping(curr_synd[:100], True, True)] = 0\n",
    "\n",
    "        guessed_error2 = bp_qed_qec_dec.decode(updated_synd)\n",
    "\n",
    "        residual_error = curr_qubit_error ^ guessed_error\n",
    "        residual_error2 = curr_qubit_error ^ guessed_error2\n",
    "\n",
    "\n",
    "    # print()\n",
    "    obs = [np.count_nonzero(residual_error[l]) % 2 for l in zL_inds]\n",
    "    obs2 = [np.count_nonzero(residual_error2[l]) % 2 for l in zL_inds]\n",
    "\n",
    "    # if np.any(obs2) and not np.any(obs):\n",
    "    #     print(np.where(curr_qubit_error)[0])\n",
    "    #     print(np.where(guessed_error)[0])\n",
    "    #     print(\"+++\", np.where(Hx[:100][curr_synd[:100] == 1])[1])\n",
    "    #     print(np.where(guessed_error2)[0])\n",
    "    #     print()\n",
    "    #     break\n",
    "    if np.any(obs2):\n",
    "        success2 = 0\n",
    "    if np.any(obs):\n",
    "        success = 0\n",
    "\n",
    "    successes += success\n",
    "    successes2 += success2\n",
    "\n",
    "print()\n",
    "print(successes, successes2)"
   ]
  },
  {
   "cell_type": "code",
   "execution_count": 136,
   "metadata": {},
   "outputs": [
    {
     "name": "stdout",
     "output_type": "stream",
     "text": [
      "(array([ 10,  21,  95, 137, 214, 353], dtype=int64),)\n",
      "(array([  8,   9,  10,  11,  20,  21,  22,  23,  92,  93,  94,  95, 136,\n",
      "       137, 138, 139, 212, 213, 214, 215, 352, 353, 354, 355], dtype=int64),)\n"
     ]
    }
   ],
   "source": [
    "residual_error = np.zeros(Hx.shape[1], dtype=int)\n",
    "\n",
    "new_qubit_error = np.random.choice([0, 1], size=Hx.shape[1], p=[1-qubit_error_rate, qubit_error_rate])\n",
    "new_synd_error = np.random.choice([0, 1], size=Hx.shape[0], p=[1-meas_error_rate, meas_error_rate])\n",
    "curr_qubit_error = residual_error ^ new_qubit_error\n",
    "curr_synd = ((Hx @ curr_qubit_error) % 2) #^ new_synd_error\n",
    "\n",
    "correction = bp_qed_dec.decode(curr_synd[:100])\n",
    "\n",
    "print(np.where(curr_qubit_error))\n",
    "print(np.where(bp_qed_dec.log_prob_ratios < 8))"
   ]
  },
  {
   "cell_type": "code",
   "execution_count": 137,
   "metadata": {},
   "outputs": [
    {
     "data": {
      "text/plain": [
       "[<matplotlib.lines.Line2D at 0x19f378652e0>]"
      ]
     },
     "execution_count": 137,
     "metadata": {},
     "output_type": "execute_result"
    },
    {
     "data": {
      "image/png": "[encoded data removed]",
      "text/plain": [
       "<Figure size 640x480 with 1 Axes>"
      ]
     },
     "metadata": {},
     "output_type": "display_data"
    }
   ],
   "source": [
    "lpr = bp_qed_dec.log_prob_ratios\n",
    "frequencies = 1 / (np.exp(lpr) + 1)\n",
    "frequencies = frequencies / np.sum(frequencies)\n",
    "# frequencies[400:] = meas_error_rate\n",
    "\n",
    "plt.plot(frequencies)"
   ]
  },
  {
   "cell_type": "code",
   "execution_count": 147,
   "metadata": {},
   "outputs": [
    {
     "data": {
      "text/plain": [
       "[128,\n",
       " 129,\n",
       " 194,\n",
       " 195,\n",
       " 191,\n",
       " 136,\n",
       " 140,\n",
       " 143,\n",
       " 146,\n",
       " 147,\n",
       " 148,\n",
       " 149,\n",
       " 151,\n",
       " 152,\n",
       " 153,\n",
       " 154,\n",
       " 157,\n",
       " 184,\n",
       " 100,\n",
       " 101,\n",
       " 103,\n",
       " 104,\n",
       " 105,\n",
       " 106,\n",
       " 168,\n",
       " 173,\n",
       " 109,\n",
       " 175,\n",
       " 176,\n",
       " 177,\n",
       " 120,\n",
       " 188,\n",
       " 125,\n",
       " 127]"
      ]
     },
     "execution_count": 147,
     "metadata": {},
     "output_type": "execute_result"
    }
   ],
   "source": [
    "get_overlapping(curr_synd[:100], True)"
   ]
  },
  {
   "cell_type": "code",
   "execution_count": 150,
   "metadata": {},
   "outputs": [
    {
     "data": {
      "text/plain": [
       "array({100, 104, 105, 108, 109, 110, 111, 112, 113, 114, 117, 118, 119, 120, 121, 122, 123, 125, 126, 127, 128, 129, 130, 132, 133, 134, 135, 136, 137, 138, 139, 141, 142, 143, 144, 145, 146, 147, 148, 152, 153, 156, 157, 158, 159, 160, 161, 162, 165, 166, 167, 168, 169, 170, 171, 173, 174, 175, 176, 177, 178, 180, 181, 182, 183, 184, 185, 186, 187, 189, 190, 191, 192, 193, 194, 195},\n",
       "      dtype=object)"
      ]
     },
     "execution_count": 150,
     "metadata": {},
     "output_type": "execute_result"
    }
   ],
   "source": [
    "get_overlapping(curr_synd[:100], True, True)"
   ]
  },
  {
   "cell_type": "code",
   "execution_count": 56,
   "metadata": {},
   "outputs": [
    {
     "name": "stdout",
     "output_type": "stream",
     "text": [
      "(array([ 37, 279, 379, 386, 399], dtype=int64),)\n",
      "1\n"
     ]
    }
   ],
   "source": [
    "bp_qec_dec.update_channel_probs(frequencies)\n",
    "correction = bp_qec_dec.decode(curr_synd)\n",
    "\n",
    "print(np.where(correction))\n",
    "print(bp_qec_dec.converge)"
   ]
  },
  {
   "cell_type": "code",
   "execution_count": null,
   "metadata": {},
   "outputs": [],
   "source": []
  }
 ],
 "metadata": {
  "kernelspec": {
   "display_name": "qc",
   "language": "python",
   "name": "python3"
  },
  "language_info": {
   "codemirror_mode": {
    "name": "ipython",
    "version": 3
   },
   "file_extension": ".py",
   "mimetype": "text/x-python",
   "name": "python",
   "nbconvert_exporter": "python",
   "pygments_lexer": "ipython3",
   "version": "3.8.18"
  }
 },
 "nbformat": 4,
 "nbformat_minor": 2
}
